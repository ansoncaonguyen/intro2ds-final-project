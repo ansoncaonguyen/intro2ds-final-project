{
 "cells": [
  {
   "cell_type": "markdown",
   "metadata": {
    "id": "MuQovCFx_fwn"
   },
   "source": [
    "# FINAL PROJECT - SONG'S WORTH TO LISTEN PREDICTION"
   ]
  },
  {
   "cell_type": "markdown",
   "metadata": {
    "id": "6-AsX8fkO4Vi"
   },
   "source": [
    "## Thư viện"
   ]
  },
  {
   "cell_type": "code",
   "execution_count": null,
   "metadata": {},
   "outputs": [],
   "source": [
    "#!conda install nltk\n",
    "#!pip install nltk"
   ]
  },
  {
   "cell_type": "code",
   "execution_count": 4,
   "metadata": {
    "id": "FehfcwlJ5i6q"
   },
   "outputs": [],
   "source": [
    "import pandas as pd\n",
    "import numpy as np\n",
    "import nltk\n",
    "import matplotlib.pyplot as plt\n",
    "import seaborn as sns"
   ]
  },
  {
   "cell_type": "code",
   "execution_count": 5,
   "metadata": {
    "colab": {
     "base_uri": "https://localhost:8080/"
    },
    "id": "K9BTdbfXKMOY",
    "outputId": "a17323c1-25a6-4398-a7d5-93dd5fea22f8"
   },
   "outputs": [
    {
     "name": "stdout",
     "output_type": "stream",
     "text": [
      "[nltk_data] Downloading package vader_lexicon to /root/nltk_data...\n",
      "[nltk_data] Downloading package punkt to /root/nltk_data...\n",
      "[nltk_data]   Unzipping tokenizers/punkt.zip.\n",
      "[nltk_data] Downloading package stopwords to /root/nltk_data...\n",
      "[nltk_data]   Unzipping corpora/stopwords.zip.\n"
     ]
    },
    {
     "name": "stderr",
     "output_type": "stream",
     "text": [
      "/usr/local/lib/python3.7/dist-packages/nltk/twitter/__init__.py:20: UserWarning: The twython library has not been installed. Some functionality from the twitter package will not be available.\n",
      "  warnings.warn(\"The twython library has not been installed. \"\n"
     ]
    }
   ],
   "source": [
    "nltk.download('vader_lexicon')\n",
    "nltk.download('punkt')\n",
    "nltk.download('stopwords')\n",
    "\n",
    "from nltk.sentiment.vader import SentimentIntensityAnalyzer\n",
    "from nltk.probability import FreqDist\n",
    "from nltk.corpus import stopwords\n",
    "from nltk.stem import PorterStemmer\n",
    "from nltk.tokenize import word_tokenize\n",
    "\n",
    "sid = SentimentIntensityAnalyzer()\n",
    "stop_words = set(stopwords.words(\"english\"))"
   ]
  },
  {
   "cell_type": "code",
   "execution_count": 6,
   "metadata": {
    "id": "ub3zkwnSbR6c"
   },
   "outputs": [],
   "source": [
    "from sklearn.model_selection import train_test_split, cross_val_score\n",
    "from sklearn import set_config\n",
    "from sklearn.preprocessing import FunctionTransformer, StandardScaler\n",
    "from sklearn.pipeline import Pipeline, make_pipeline\n",
    "from sklearn.compose import ColumnTransformer, make_column_transformer\n",
    "from sklearn.neural_network import MLPClassifier\n",
    "from sklearn.linear_model import LogisticRegression\n",
    "from sklearn.impute import SimpleImputer\n",
    "from sklearn.metrics import accuracy_score, classification_report\n",
    "from sklearn.ensemble import RandomForestClassifier\n",
    "from sklearn.naive_bayes import GaussianNB\n",
    "from sklearn.neighbors import KNeighborsClassifier\n",
    "from sklearn.base import BaseEstimator, TransformerMixin\n",
    "\n",
    "set_config(display='diagram') # Để trực quan hóa pipeline"
   ]
  },
  {
   "cell_type": "markdown",
   "metadata": {
    "id": "lDepMsNI3hbY"
   },
   "source": [
    "## Tải dữ liệu"
   ]
  },
  {
   "cell_type": "code",
   "execution_count": 8,
   "metadata": {
    "id": "67X65VKHerfQ"
   },
   "outputs": [],
   "source": [
    "data_df = pd.read_csv('data/data.csv')"
   ]
  },
  {
   "cell_type": "markdown",
   "metadata": {
    "id": "BZ1Mc-tOxV1s"
   },
   "source": [
    "## Khám phá dữ liệu"
   ]
  },
  {
   "cell_type": "markdown",
   "metadata": {
    "id": "FOAg5C9UVGna"
   },
   "source": [
    "### Dữ liệu có bao nhiêu dòng, bao nhiêu cột?"
   ]
  },
  {
   "cell_type": "code",
   "execution_count": 9,
   "metadata": {
    "colab": {
     "base_uri": "https://localhost:8080/"
    },
    "id": "Ty15kvqaVM9U",
    "outputId": "6b72912c-e2dd-4ca1-b4b1-a6d710c9e327"
   },
   "outputs": [
    {
     "data": {
      "text/plain": [
       "(1600, 20)"
      ]
     },
     "execution_count": 9,
     "metadata": {},
     "output_type": "execute_result"
    }
   ],
   "source": [
    "data_df.shape"
   ]
  },
  {
   "cell_type": "markdown",
   "metadata": {
    "id": "R37GEy69VnRI"
   },
   "source": [
    "### Mỗi dòng có ý nghĩa như thế nào?"
   ]
  },
  {
   "cell_type": "markdown",
   "metadata": {
    "id": "FA-r75ZGbQSn"
   },
   "source": [
    "Quan sát sơ bộ dữ liệu, ta thấy mỗi dòng dữ liệu sẽ có thông tin về một bài hát, và không có các dòng có ý nghĩa khác nhau."
   ]
  },
  {
   "cell_type": "markdown",
   "metadata": {
    "id": "EBVbcVjr-tQ9"
   },
   "source": [
    "### Kiểm tra xem có dòng dữ liệu nào bị lặp không (cùng tên bài hát - nghệ sĩ)?"
   ]
  },
  {
   "cell_type": "markdown",
   "metadata": {
    "id": "x9cBw17rVreg"
   },
   "source": [
    "Sở dĩ, ta chỉ kiểm tra xem các dòng dữ liệu có lặp 2 thuộc tính \"tên bài hát\" và \"tên nghệ sĩ\" hay không, mà không xét nguyên dòng dữ liệu là bởi vì trong dòng dữ liệu sẽ có thông tin về thứ hạng của bài hát cũng như năm tương ứng. \n",
    "\n",
    "Sẽ tồn tại những bài hát gặp trường hợp có mặt trên bảng xếp hạng của năm trước và vẫn tiếp tục xuất hiện trên bảng xếp hạng năm tiếp theo cùng với thứ hạng khác.\n",
    "\n",
    "Vậy nên khi kiểm tra dữ liệu lặp ta sẽ chỉ kiểm tra 2 thuộc tính \"tên bài hát\" và \"tên nghệ sĩ\"."
   ]
  },
  {
   "cell_type": "code",
   "execution_count": 10,
   "metadata": {
    "colab": {
     "base_uri": "https://localhost:8080/"
    },
    "id": "I52VPzESAFTt",
    "outputId": "8934ca6a-af7a-47d2-a256-885c1f8eb77a"
   },
   "outputs": [
    {
     "data": {
      "text/plain": [
       "161"
      ]
     },
     "execution_count": 10,
     "metadata": {},
     "output_type": "execute_result"
    }
   ],
   "source": [
    "#Check duplicated Song - Artist\n",
    "data_df['check'] = data_df['name'].str.lower() + data_df['artist'].str.lower()\n",
    "data_df['check'].duplicated().sum()"
   ]
  },
  {
   "cell_type": "code",
   "execution_count": 11,
   "metadata": {
    "id": "-Pxv-VViAQS6"
   },
   "outputs": [],
   "source": [
    "#Remove these duplicated songs\n",
    "data_df.drop_duplicates(['check'], inplace = True)"
   ]
  },
  {
   "cell_type": "code",
   "execution_count": 12,
   "metadata": {
    "colab": {
     "base_uri": "https://localhost:8080/"
    },
    "id": "QJYrTWjaD_U6",
    "outputId": "3a3a3351-a42a-4101-fb89-96406e63fd3f"
   },
   "outputs": [
    {
     "data": {
      "text/plain": [
       "0"
      ]
     },
     "execution_count": 12,
     "metadata": {},
     "output_type": "execute_result"
    }
   ],
   "source": [
    "#Re-check the dataframe\n",
    "data_df['check'].duplicated().sum()"
   ]
  },
  {
   "cell_type": "code",
   "execution_count": 13,
   "metadata": {
    "colab": {
     "base_uri": "https://localhost:8080/",
     "height": 1000
    },
    "id": "QB2Qx-vNMXxO",
    "outputId": "db573c42-d30a-4854-82fb-fba429e4a359"
   },
   "outputs": [
    {
     "data": {
      "text/html": [
       "<div>\n",
       "<style scoped>\n",
       "    .dataframe tbody tr th:only-of-type {\n",
       "        vertical-align: middle;\n",
       "    }\n",
       "\n",
       "    .dataframe tbody tr th {\n",
       "        vertical-align: top;\n",
       "    }\n",
       "\n",
       "    .dataframe thead th {\n",
       "        text-align: right;\n",
       "    }\n",
       "</style>\n",
       "<table border=\"1\" class=\"dataframe\">\n",
       "  <thead>\n",
       "    <tr style=\"text-align: right;\">\n",
       "      <th></th>\n",
       "      <th>rank</th>\n",
       "      <th>name</th>\n",
       "      <th>artist</th>\n",
       "      <th>year</th>\n",
       "      <th>pop_artist</th>\n",
       "      <th>artist_followers</th>\n",
       "      <th>available_market</th>\n",
       "      <th>pop_track</th>\n",
       "      <th>acousticness</th>\n",
       "      <th>danceability</th>\n",
       "      <th>duration_ms</th>\n",
       "      <th>energy</th>\n",
       "      <th>instrumentalness</th>\n",
       "      <th>liveness</th>\n",
       "      <th>loudness</th>\n",
       "      <th>speechiness</th>\n",
       "      <th>tempo</th>\n",
       "      <th>time_signature</th>\n",
       "      <th>valence</th>\n",
       "      <th>lyrics</th>\n",
       "    </tr>\n",
       "  </thead>\n",
       "  <tbody>\n",
       "    <tr>\n",
       "      <th>0</th>\n",
       "      <td>1</td>\n",
       "      <td>We Belong Together</td>\n",
       "      <td>Mariah Carey</td>\n",
       "      <td>2005</td>\n",
       "      <td>78.0</td>\n",
       "      <td>6995024.0</td>\n",
       "      <td>3.0</td>\n",
       "      <td>69.0</td>\n",
       "      <td>0.03390</td>\n",
       "      <td>0.837</td>\n",
       "      <td>201400.0</td>\n",
       "      <td>0.462</td>\n",
       "      <td>0.000000</td>\n",
       "      <td>0.0900</td>\n",
       "      <td>-7.890</td>\n",
       "      <td>0.0601</td>\n",
       "      <td>139.986</td>\n",
       "      <td>4.0</td>\n",
       "      <td>0.762</td>\n",
       "      <td>Sweet love, yeah  I didn't mean it when I said...</td>\n",
       "    </tr>\n",
       "    <tr>\n",
       "      <th>1</th>\n",
       "      <td>2</td>\n",
       "      <td>Hollaback Girl</td>\n",
       "      <td>Gwen Stefani</td>\n",
       "      <td>2005</td>\n",
       "      <td>75.0</td>\n",
       "      <td>4859586.0</td>\n",
       "      <td>165.0</td>\n",
       "      <td>68.0</td>\n",
       "      <td>0.35000</td>\n",
       "      <td>0.926</td>\n",
       "      <td>199853.0</td>\n",
       "      <td>0.916</td>\n",
       "      <td>0.000006</td>\n",
       "      <td>0.0234</td>\n",
       "      <td>-2.221</td>\n",
       "      <td>0.0929</td>\n",
       "      <td>110.007</td>\n",
       "      <td>4.0</td>\n",
       "      <td>0.904</td>\n",
       "      <td>Uh-huh, this my shit All the girls, stomp your...</td>\n",
       "    </tr>\n",
       "    <tr>\n",
       "      <th>2</th>\n",
       "      <td>3</td>\n",
       "      <td>Let Me Love You</td>\n",
       "      <td>Mario</td>\n",
       "      <td>2005</td>\n",
       "      <td>67.0</td>\n",
       "      <td>2367100.0</td>\n",
       "      <td>143.0</td>\n",
       "      <td>72.0</td>\n",
       "      <td>0.23500</td>\n",
       "      <td>0.656</td>\n",
       "      <td>256733.0</td>\n",
       "      <td>0.578</td>\n",
       "      <td>0.000000</td>\n",
       "      <td>0.1180</td>\n",
       "      <td>-8.970</td>\n",
       "      <td>0.0922</td>\n",
       "      <td>94.514</td>\n",
       "      <td>4.0</td>\n",
       "      <td>0.556</td>\n",
       "      <td>Mmmm, ah Mmmm, yeah Mmmm Yeah, yeah, yeah Mmmm...</td>\n",
       "    </tr>\n",
       "    <tr>\n",
       "      <th>3</th>\n",
       "      <td>4</td>\n",
       "      <td>Since U Been Gone</td>\n",
       "      <td>Kelly Clarkson</td>\n",
       "      <td>2005</td>\n",
       "      <td>75.0</td>\n",
       "      <td>7955803.0</td>\n",
       "      <td>178.0</td>\n",
       "      <td>70.0</td>\n",
       "      <td>0.00165</td>\n",
       "      <td>0.662</td>\n",
       "      <td>188960.0</td>\n",
       "      <td>0.741</td>\n",
       "      <td>0.030300</td>\n",
       "      <td>0.1140</td>\n",
       "      <td>-5.406</td>\n",
       "      <td>0.0334</td>\n",
       "      <td>131.000</td>\n",
       "      <td>4.0</td>\n",
       "      <td>0.404</td>\n",
       "      <td>Here's the thing, we started out friends It wa...</td>\n",
       "    </tr>\n",
       "    <tr>\n",
       "      <th>4</th>\n",
       "      <td>5</td>\n",
       "      <td>1, 2 Step</td>\n",
       "      <td>Ciara featuring Missy Elliott</td>\n",
       "      <td>2005</td>\n",
       "      <td>72.0</td>\n",
       "      <td>5209750.0</td>\n",
       "      <td>178.0</td>\n",
       "      <td>73.0</td>\n",
       "      <td>0.04200</td>\n",
       "      <td>0.944</td>\n",
       "      <td>203787.0</td>\n",
       "      <td>0.511</td>\n",
       "      <td>0.001070</td>\n",
       "      <td>0.0379</td>\n",
       "      <td>-10.960</td>\n",
       "      <td>0.1610</td>\n",
       "      <td>113.046</td>\n",
       "      <td>4.0</td>\n",
       "      <td>0.842</td>\n",
       "      <td>Ladies and Gentlemen Ladies and Gentlemen This...</td>\n",
       "    </tr>\n",
       "    <tr>\n",
       "      <th>...</th>\n",
       "      <td>...</td>\n",
       "      <td>...</td>\n",
       "      <td>...</td>\n",
       "      <td>...</td>\n",
       "      <td>...</td>\n",
       "      <td>...</td>\n",
       "      <td>...</td>\n",
       "      <td>...</td>\n",
       "      <td>...</td>\n",
       "      <td>...</td>\n",
       "      <td>...</td>\n",
       "      <td>...</td>\n",
       "      <td>...</td>\n",
       "      <td>...</td>\n",
       "      <td>...</td>\n",
       "      <td>...</td>\n",
       "      <td>...</td>\n",
       "      <td>...</td>\n",
       "      <td>...</td>\n",
       "      <td>...</td>\n",
       "    </tr>\n",
       "    <tr>\n",
       "      <th>1595</th>\n",
       "      <td>96</td>\n",
       "      <td>More Than My Hometown</td>\n",
       "      <td>Morgan Wallen</td>\n",
       "      <td>2020</td>\n",
       "      <td>83.0</td>\n",
       "      <td>2238350.0</td>\n",
       "      <td>178.0</td>\n",
       "      <td>74.0</td>\n",
       "      <td>0.61500</td>\n",
       "      <td>0.620</td>\n",
       "      <td>216573.0</td>\n",
       "      <td>0.869</td>\n",
       "      <td>0.000000</td>\n",
       "      <td>0.1310</td>\n",
       "      <td>-5.479</td>\n",
       "      <td>0.0462</td>\n",
       "      <td>126.019</td>\n",
       "      <td>4.0</td>\n",
       "      <td>0.597</td>\n",
       "      <td>Girl, our mamas are best friends and so are we...</td>\n",
       "    </tr>\n",
       "    <tr>\n",
       "      <th>1596</th>\n",
       "      <td>97</td>\n",
       "      <td>Lovin' on You</td>\n",
       "      <td>Luke Combs</td>\n",
       "      <td>2020</td>\n",
       "      <td>82.0</td>\n",
       "      <td>5474485.0</td>\n",
       "      <td>178.0</td>\n",
       "      <td>69.0</td>\n",
       "      <td>0.00165</td>\n",
       "      <td>0.572</td>\n",
       "      <td>194867.0</td>\n",
       "      <td>0.949</td>\n",
       "      <td>0.000195</td>\n",
       "      <td>0.1630</td>\n",
       "      <td>-4.865</td>\n",
       "      <td>0.0600</td>\n",
       "      <td>118.974</td>\n",
       "      <td>4.0</td>\n",
       "      <td>0.530</td>\n",
       "      <td>Don't get me wrong I like a bobber on the wate...</td>\n",
       "    </tr>\n",
       "    <tr>\n",
       "      <th>1597</th>\n",
       "      <td>98</td>\n",
       "      <td>Said Sum</td>\n",
       "      <td>Moneybagg Yo</td>\n",
       "      <td>2020</td>\n",
       "      <td>80.0</td>\n",
       "      <td>2307788.0</td>\n",
       "      <td>178.0</td>\n",
       "      <td>69.0</td>\n",
       "      <td>0.01850</td>\n",
       "      <td>0.929</td>\n",
       "      <td>155168.0</td>\n",
       "      <td>0.667</td>\n",
       "      <td>0.000000</td>\n",
       "      <td>0.1000</td>\n",
       "      <td>-6.789</td>\n",
       "      <td>0.3530</td>\n",
       "      <td>126.998</td>\n",
       "      <td>4.0</td>\n",
       "      <td>0.274</td>\n",
       "      <td>Turn me up, YC  Huh? What? Ah, I thought a bro...</td>\n",
       "    </tr>\n",
       "    <tr>\n",
       "      <th>1598</th>\n",
       "      <td>99</td>\n",
       "      <td>Slide</td>\n",
       "      <td>H.E.R. featuring YG</td>\n",
       "      <td>2020</td>\n",
       "      <td>79.0</td>\n",
       "      <td>4240318.0</td>\n",
       "      <td>177.0</td>\n",
       "      <td>67.0</td>\n",
       "      <td>0.08070</td>\n",
       "      <td>0.832</td>\n",
       "      <td>238321.0</td>\n",
       "      <td>0.469</td>\n",
       "      <td>0.000008</td>\n",
       "      <td>0.2070</td>\n",
       "      <td>-9.141</td>\n",
       "      <td>0.3390</td>\n",
       "      <td>97.023</td>\n",
       "      <td>4.0</td>\n",
       "      <td>0.197</td>\n",
       "      <td>You always wearin' them glasses You don't wann...</td>\n",
       "    </tr>\n",
       "    <tr>\n",
       "      <th>1599</th>\n",
       "      <td>100</td>\n",
       "      <td>Walk Em Down</td>\n",
       "      <td>NLE Choppa featuring Roddy Ricch</td>\n",
       "      <td>2020</td>\n",
       "      <td>84.0</td>\n",
       "      <td>6751879.0</td>\n",
       "      <td>178.0</td>\n",
       "      <td>72.0</td>\n",
       "      <td>0.26800</td>\n",
       "      <td>0.867</td>\n",
       "      <td>173288.0</td>\n",
       "      <td>0.744</td>\n",
       "      <td>0.000000</td>\n",
       "      <td>0.0713</td>\n",
       "      <td>-5.171</td>\n",
       "      <td>0.2270</td>\n",
       "      <td>84.005</td>\n",
       "      <td>4.0</td>\n",
       "      <td>0.645</td>\n",
       "      <td>CashMoneyAP Ooh, ooh, no, no NLE the Top Shott...</td>\n",
       "    </tr>\n",
       "  </tbody>\n",
       "</table>\n",
       "<p>1439 rows × 20 columns</p>\n",
       "</div>"
      ],
      "text/plain": [
       "      rank  ...                                             lyrics\n",
       "0        1  ...  Sweet love, yeah  I didn't mean it when I said...\n",
       "1        2  ...  Uh-huh, this my shit All the girls, stomp your...\n",
       "2        3  ...  Mmmm, ah Mmmm, yeah Mmmm Yeah, yeah, yeah Mmmm...\n",
       "3        4  ...  Here's the thing, we started out friends It wa...\n",
       "4        5  ...  Ladies and Gentlemen Ladies and Gentlemen This...\n",
       "...    ...  ...                                                ...\n",
       "1595    96  ...  Girl, our mamas are best friends and so are we...\n",
       "1596    97  ...  Don't get me wrong I like a bobber on the wate...\n",
       "1597    98  ...  Turn me up, YC  Huh? What? Ah, I thought a bro...\n",
       "1598    99  ...  You always wearin' them glasses You don't wann...\n",
       "1599   100  ...  CashMoneyAP Ooh, ooh, no, no NLE the Top Shott...\n",
       "\n",
       "[1439 rows x 20 columns]"
      ]
     },
     "execution_count": 13,
     "metadata": {},
     "output_type": "execute_result"
    }
   ],
   "source": [
    "data_df.drop('check', axis = 1, inplace = True)\n",
    "data_df"
   ]
  },
  {
   "cell_type": "markdown",
   "metadata": {
    "id": "pBB_59h9VNnd"
   },
   "source": [
    "### Mỗi cột có ý nghĩa gì?"
   ]
  },
  {
   "cell_type": "markdown",
   "metadata": {
    "id": "JQcopsobVXr4"
   },
   "source": [
    "Đọc từ file `summary.csv`"
   ]
  },
  {
   "cell_type": "code",
   "execution_count": 14,
   "metadata": {
    "id": "JXqeLJmbeQv0"
   },
   "outputs": [],
   "source": [
    "pd.set_option('display.max_colwidth', None)"
   ]
  },
  {
   "cell_type": "code",
   "execution_count": 15,
   "metadata": {
    "colab": {
     "base_uri": "https://localhost:8080/",
     "height": 754
    },
    "id": "WFc5RVFcVUCu",
    "outputId": "87768891-7e0a-4e44-e832-28a4b28eab86"
   },
   "outputs": [
    {
     "data": {
      "text/html": [
       "<div>\n",
       "<style scoped>\n",
       "    .dataframe tbody tr th:only-of-type {\n",
       "        vertical-align: middle;\n",
       "    }\n",
       "\n",
       "    .dataframe tbody tr th {\n",
       "        vertical-align: top;\n",
       "    }\n",
       "\n",
       "    .dataframe thead th {\n",
       "        text-align: right;\n",
       "    }\n",
       "</style>\n",
       "<table border=\"1\" class=\"dataframe\">\n",
       "  <thead>\n",
       "    <tr style=\"text-align: right;\">\n",
       "      <th></th>\n",
       "      <th>Properties</th>\n",
       "      <th>Meaning</th>\n",
       "    </tr>\n",
       "  </thead>\n",
       "  <tbody>\n",
       "    <tr>\n",
       "      <th>0</th>\n",
       "      <td>rank</td>\n",
       "      <td>Rank on the year chart</td>\n",
       "    </tr>\n",
       "    <tr>\n",
       "      <th>1</th>\n",
       "      <td>name</td>\n",
       "      <td>Name of track</td>\n",
       "    </tr>\n",
       "    <tr>\n",
       "      <th>2</th>\n",
       "      <td>artist</td>\n",
       "      <td>Name the performer of the song</td>\n",
       "    </tr>\n",
       "    <tr>\n",
       "      <th>3</th>\n",
       "      <td>year</td>\n",
       "      <td>Year of the song chart reached the rank</td>\n",
       "    </tr>\n",
       "    <tr>\n",
       "      <th>4</th>\n",
       "      <td>pop_artist</td>\n",
       "      <td>The popularity of the artist. The value will be between 0 and 100, with 100 being the most popular. The artist's popularity is calculated from the popularity of all the artist's tracks.</td>\n",
       "    </tr>\n",
       "    <tr>\n",
       "      <th>5</th>\n",
       "      <td>artist_followers</td>\n",
       "      <td>Number of followers</td>\n",
       "    </tr>\n",
       "    <tr>\n",
       "      <th>6</th>\n",
       "      <td>available_market</td>\n",
       "      <td>Number of countries that have released the track</td>\n",
       "    </tr>\n",
       "    <tr>\n",
       "      <th>7</th>\n",
       "      <td>pop_track</td>\n",
       "      <td>The popularity of the track. The value will be between 0 and 100, with 100 being the most popular.</td>\n",
       "    </tr>\n",
       "    <tr>\n",
       "      <th>8</th>\n",
       "      <td>acousticness</td>\n",
       "      <td>A measure from 0.0 to 1.0 of whether the track is acoustic.</td>\n",
       "    </tr>\n",
       "    <tr>\n",
       "      <th>9</th>\n",
       "      <td>danceability</td>\n",
       "      <td>Danceability describes how suitable a track is for dancing based on a combination of musical elements including tempo rhythm stability beat strength and overall regularity. A value of 0.0 is least danceable and 1.0 is most danceable.</td>\n",
       "    </tr>\n",
       "    <tr>\n",
       "      <th>10</th>\n",
       "      <td>duration_ms</td>\n",
       "      <td>Track duration(ms)</td>\n",
       "    </tr>\n",
       "    <tr>\n",
       "      <th>11</th>\n",
       "      <td>energy</td>\n",
       "      <td>Energy is a measure from 0.0 to 1.0 and represents a perceptual measure of intensity and activity. Typically energetic tracks feel fast loud and noisy.</td>\n",
       "    </tr>\n",
       "    <tr>\n",
       "      <th>12</th>\n",
       "      <td>instrumentalness</td>\n",
       "      <td>Predicts whether a track contains no vocals. The closer the instrumentalness value is to 1.0 the greater likelihood the track contains no vocal content</td>\n",
       "    </tr>\n",
       "    <tr>\n",
       "      <th>13</th>\n",
       "      <td>liveness</td>\n",
       "      <td>Detects the presence of an audience in the recording. Higher liveness values represent an increased probability that the track was performed live.</td>\n",
       "    </tr>\n",
       "    <tr>\n",
       "      <th>14</th>\n",
       "      <td>loudness</td>\n",
       "      <td>The overall loudness of a track in decibels (dB).Loudness values are averaged across the entire track. Values typical range between -60 and 0 db.</td>\n",
       "    </tr>\n",
       "    <tr>\n",
       "      <th>15</th>\n",
       "      <td>speechiness</td>\n",
       "      <td>Speechiness detects the presence of spoken words in a track. The more exclusively speech-like the recording (e.g. talk show audio book poetry) the closer to 1.0 the attribute value.</td>\n",
       "    </tr>\n",
       "    <tr>\n",
       "      <th>16</th>\n",
       "      <td>tempo</td>\n",
       "      <td>The overall estimated tempo of a track in beats per minute (BPM). In musical terminology tempo is the speed or pace of a given piece and derives directly from the average beat duration.</td>\n",
       "    </tr>\n",
       "    <tr>\n",
       "      <th>17</th>\n",
       "      <td>time_signature</td>\n",
       "      <td>Specify how many beats (pulses) are contained in each measure (bar), and which note value is equivalent to a beat.</td>\n",
       "    </tr>\n",
       "    <tr>\n",
       "      <th>18</th>\n",
       "      <td>valence</td>\n",
       "      <td>A measure from 0.0 to 1.0 describing the musical positiveness conveyed by a track. Tracks with high valence sound more positive (e.g. happy cheerful euphoric) while tracks with low valence sound more negative (e.g. sad depressed angry).</td>\n",
       "    </tr>\n",
       "    <tr>\n",
       "      <th>19</th>\n",
       "      <td>lyrics</td>\n",
       "      <td>Lyrics of track</td>\n",
       "    </tr>\n",
       "  </tbody>\n",
       "</table>\n",
       "</div>"
      ],
      "text/plain": [
       "          Properties                                                                                                                                                                                                                                       Meaning\n",
       "0               rank                                                                                                                                                                                                                        Rank on the year chart\n",
       "1               name                                                                                                                                                                                                                                 Name of track\n",
       "2             artist                                                                                                                                                                                                               Name the performer of the song \n",
       "3               year                                                                                                                                                                                                       Year of the song chart reached the rank\n",
       "4         pop_artist                                                     The popularity of the artist. The value will be between 0 and 100, with 100 being the most popular. The artist's popularity is calculated from the popularity of all the artist's tracks.\n",
       "5   artist_followers                                                                                                                                                                                                                           Number of followers\n",
       "6   available_market                                                                                                                                                                                              Number of countries that have released the track\n",
       "7          pop_track                                                                                                                                            The popularity of the track. The value will be between 0 and 100, with 100 being the most popular.\n",
       "8       acousticness                                                                                                                                                                                   A measure from 0.0 to 1.0 of whether the track is acoustic.\n",
       "9       danceability     Danceability describes how suitable a track is for dancing based on a combination of musical elements including tempo rhythm stability beat strength and overall regularity. A value of 0.0 is least danceable and 1.0 is most danceable.\n",
       "10       duration_ms                                                                                                                                                                                                                            Track duration(ms)\n",
       "11            energy                                                                                       Energy is a measure from 0.0 to 1.0 and represents a perceptual measure of intensity and activity. Typically energetic tracks feel fast loud and noisy.\n",
       "12  instrumentalness                                                                                       Predicts whether a track contains no vocals. The closer the instrumentalness value is to 1.0 the greater likelihood the track contains no vocal content\n",
       "13          liveness                                                                                            Detects the presence of an audience in the recording. Higher liveness values represent an increased probability that the track was performed live.\n",
       "14          loudness                                                                                             The overall loudness of a track in decibels (dB).Loudness values are averaged across the entire track. Values typical range between -60 and 0 db.\n",
       "15       speechiness                                                         Speechiness detects the presence of spoken words in a track. The more exclusively speech-like the recording (e.g. talk show audio book poetry) the closer to 1.0 the attribute value.\n",
       "16             tempo                                                     The overall estimated tempo of a track in beats per minute (BPM). In musical terminology tempo is the speed or pace of a given piece and derives directly from the average beat duration.\n",
       "17    time_signature                                                                                                                            Specify how many beats (pulses) are contained in each measure (bar), and which note value is equivalent to a beat.\n",
       "18           valence  A measure from 0.0 to 1.0 describing the musical positiveness conveyed by a track. Tracks with high valence sound more positive (e.g. happy cheerful euphoric) while tracks with low valence sound more negative (e.g. sad depressed angry).\n",
       "19            lyrics                                                                                                                                                                                                                               Lyrics of track"
      ]
     },
     "execution_count": 15,
     "metadata": {},
     "output_type": "execute_result"
    }
   ],
   "source": [
    "try:\n",
    "  df_meaning = pd.read_csv('data/summary.csv')\n",
    "except:\n",
    "  df_meaning = pd.read_csv('/content/drive/MyDrive/KHTN/intro2ds/data/summary.csv')\n",
    "df_meaning"
   ]
  },
  {
   "cell_type": "markdown",
   "metadata": {
    "id": "4sRRkh3nW-ep"
   },
   "source": [
    "## Đưa ra câu hỏi cần trả lời"
   ]
  },
  {
   "cell_type": "markdown",
   "metadata": {
    "id": "pO4j2XSEXB25"
   },
   "source": [
    "Từ bước trên, ta có thể thấy được trong bộ dữ liệu đầu vào sẽ có các thông tin về nghệ sĩ, về audio của bài hát cũng như lời bài hát.\n",
    "\n",
    "Từ những thông tin liên quan đến bài hát này nhóm muốn trả lời câu hỏi rằng: **\"Bài hát nào đáng nghe nhất?\"**. Và nhóm giả định rằng bài hát đáng nghe sẽ là bài hát thuộc top 35 trong số 100 bài hát nằm trong bảng xếp hạng Billboard Yead-end Hot 100. \n",
    "\n",
    "Như vậy, câu hỏi cần trả lời sẽ là:\n",
    "\n",
    "*Output - đáng nghe/không đáng nghe* ~ được tính từ *input - thông tin bài hát (thông tin audio, nghệ sĩ, lời bài hát)* ~ theo công thức nào?\n",
    "\n",
    "Sau khi trả lời được câu hỏi này, đặt vào trường hợp người dùng là những người bận rộn, không có nhiều thời gian rảnh rỗi. Vậy từ những thông tin về audio, nghệ sĩ cũng như lời bài hát ta mong đợi rằng có thể dự đoán được rằng liệu bài hát đó có đáng để nghe theo như tiêu chí đặt ra ban đầu của nhóm hay không? (nằm trong top 35 bảng xếp hạng cuối năm)\n",
    "\n",
    "Vì trong bộ dữ liệu chưa có cột output nên ta sẽ xây dựng cột output, đặt tên là `hit` được tính từ cột `rank`."
   ]
  },
  {
   "cell_type": "code",
   "execution_count": 16,
   "metadata": {
    "id": "gv5hXDYRmCih"
   },
   "outputs": [],
   "source": [
    "pd.reset_option('display')"
   ]
  },
  {
   "cell_type": "code",
   "execution_count": 17,
   "metadata": {
    "colab": {
     "base_uri": "https://localhost:8080/",
     "height": 1000
    },
    "id": "xa1nzjU2lfFM",
    "outputId": "c268dbd9-8d89-45b1-e960-cc2bd90253df"
   },
   "outputs": [
    {
     "data": {
      "text/html": [
       "<div>\n",
       "<style scoped>\n",
       "    .dataframe tbody tr th:only-of-type {\n",
       "        vertical-align: middle;\n",
       "    }\n",
       "\n",
       "    .dataframe tbody tr th {\n",
       "        vertical-align: top;\n",
       "    }\n",
       "\n",
       "    .dataframe thead th {\n",
       "        text-align: right;\n",
       "    }\n",
       "</style>\n",
       "<table border=\"1\" class=\"dataframe\">\n",
       "  <thead>\n",
       "    <tr style=\"text-align: right;\">\n",
       "      <th></th>\n",
       "      <th>rank</th>\n",
       "      <th>name</th>\n",
       "      <th>artist</th>\n",
       "      <th>year</th>\n",
       "      <th>pop_artist</th>\n",
       "      <th>artist_followers</th>\n",
       "      <th>available_market</th>\n",
       "      <th>pop_track</th>\n",
       "      <th>acousticness</th>\n",
       "      <th>danceability</th>\n",
       "      <th>duration_ms</th>\n",
       "      <th>energy</th>\n",
       "      <th>instrumentalness</th>\n",
       "      <th>liveness</th>\n",
       "      <th>loudness</th>\n",
       "      <th>speechiness</th>\n",
       "      <th>tempo</th>\n",
       "      <th>time_signature</th>\n",
       "      <th>valence</th>\n",
       "      <th>lyrics</th>\n",
       "      <th>hit</th>\n",
       "    </tr>\n",
       "  </thead>\n",
       "  <tbody>\n",
       "    <tr>\n",
       "      <th>0</th>\n",
       "      <td>1</td>\n",
       "      <td>We Belong Together</td>\n",
       "      <td>Mariah Carey</td>\n",
       "      <td>2005</td>\n",
       "      <td>78.0</td>\n",
       "      <td>6995024.0</td>\n",
       "      <td>3.0</td>\n",
       "      <td>69.0</td>\n",
       "      <td>0.03390</td>\n",
       "      <td>0.837</td>\n",
       "      <td>201400.0</td>\n",
       "      <td>0.462</td>\n",
       "      <td>0.000000</td>\n",
       "      <td>0.0900</td>\n",
       "      <td>-7.890</td>\n",
       "      <td>0.0601</td>\n",
       "      <td>139.986</td>\n",
       "      <td>4.0</td>\n",
       "      <td>0.762</td>\n",
       "      <td>Sweet love, yeah  I didn't mean it when I said...</td>\n",
       "      <td>1</td>\n",
       "    </tr>\n",
       "    <tr>\n",
       "      <th>1</th>\n",
       "      <td>2</td>\n",
       "      <td>Hollaback Girl</td>\n",
       "      <td>Gwen Stefani</td>\n",
       "      <td>2005</td>\n",
       "      <td>75.0</td>\n",
       "      <td>4859586.0</td>\n",
       "      <td>165.0</td>\n",
       "      <td>68.0</td>\n",
       "      <td>0.35000</td>\n",
       "      <td>0.926</td>\n",
       "      <td>199853.0</td>\n",
       "      <td>0.916</td>\n",
       "      <td>0.000006</td>\n",
       "      <td>0.0234</td>\n",
       "      <td>-2.221</td>\n",
       "      <td>0.0929</td>\n",
       "      <td>110.007</td>\n",
       "      <td>4.0</td>\n",
       "      <td>0.904</td>\n",
       "      <td>Uh-huh, this my shit All the girls, stomp your...</td>\n",
       "      <td>1</td>\n",
       "    </tr>\n",
       "    <tr>\n",
       "      <th>2</th>\n",
       "      <td>3</td>\n",
       "      <td>Let Me Love You</td>\n",
       "      <td>Mario</td>\n",
       "      <td>2005</td>\n",
       "      <td>67.0</td>\n",
       "      <td>2367100.0</td>\n",
       "      <td>143.0</td>\n",
       "      <td>72.0</td>\n",
       "      <td>0.23500</td>\n",
       "      <td>0.656</td>\n",
       "      <td>256733.0</td>\n",
       "      <td>0.578</td>\n",
       "      <td>0.000000</td>\n",
       "      <td>0.1180</td>\n",
       "      <td>-8.970</td>\n",
       "      <td>0.0922</td>\n",
       "      <td>94.514</td>\n",
       "      <td>4.0</td>\n",
       "      <td>0.556</td>\n",
       "      <td>Mmmm, ah Mmmm, yeah Mmmm Yeah, yeah, yeah Mmmm...</td>\n",
       "      <td>1</td>\n",
       "    </tr>\n",
       "    <tr>\n",
       "      <th>3</th>\n",
       "      <td>4</td>\n",
       "      <td>Since U Been Gone</td>\n",
       "      <td>Kelly Clarkson</td>\n",
       "      <td>2005</td>\n",
       "      <td>75.0</td>\n",
       "      <td>7955803.0</td>\n",
       "      <td>178.0</td>\n",
       "      <td>70.0</td>\n",
       "      <td>0.00165</td>\n",
       "      <td>0.662</td>\n",
       "      <td>188960.0</td>\n",
       "      <td>0.741</td>\n",
       "      <td>0.030300</td>\n",
       "      <td>0.1140</td>\n",
       "      <td>-5.406</td>\n",
       "      <td>0.0334</td>\n",
       "      <td>131.000</td>\n",
       "      <td>4.0</td>\n",
       "      <td>0.404</td>\n",
       "      <td>Here's the thing, we started out friends It wa...</td>\n",
       "      <td>1</td>\n",
       "    </tr>\n",
       "    <tr>\n",
       "      <th>4</th>\n",
       "      <td>5</td>\n",
       "      <td>1, 2 Step</td>\n",
       "      <td>Ciara featuring Missy Elliott</td>\n",
       "      <td>2005</td>\n",
       "      <td>72.0</td>\n",
       "      <td>5209750.0</td>\n",
       "      <td>178.0</td>\n",
       "      <td>73.0</td>\n",
       "      <td>0.04200</td>\n",
       "      <td>0.944</td>\n",
       "      <td>203787.0</td>\n",
       "      <td>0.511</td>\n",
       "      <td>0.001070</td>\n",
       "      <td>0.0379</td>\n",
       "      <td>-10.960</td>\n",
       "      <td>0.1610</td>\n",
       "      <td>113.046</td>\n",
       "      <td>4.0</td>\n",
       "      <td>0.842</td>\n",
       "      <td>Ladies and Gentlemen Ladies and Gentlemen This...</td>\n",
       "      <td>1</td>\n",
       "    </tr>\n",
       "    <tr>\n",
       "      <th>...</th>\n",
       "      <td>...</td>\n",
       "      <td>...</td>\n",
       "      <td>...</td>\n",
       "      <td>...</td>\n",
       "      <td>...</td>\n",
       "      <td>...</td>\n",
       "      <td>...</td>\n",
       "      <td>...</td>\n",
       "      <td>...</td>\n",
       "      <td>...</td>\n",
       "      <td>...</td>\n",
       "      <td>...</td>\n",
       "      <td>...</td>\n",
       "      <td>...</td>\n",
       "      <td>...</td>\n",
       "      <td>...</td>\n",
       "      <td>...</td>\n",
       "      <td>...</td>\n",
       "      <td>...</td>\n",
       "      <td>...</td>\n",
       "      <td>...</td>\n",
       "    </tr>\n",
       "    <tr>\n",
       "      <th>1595</th>\n",
       "      <td>96</td>\n",
       "      <td>More Than My Hometown</td>\n",
       "      <td>Morgan Wallen</td>\n",
       "      <td>2020</td>\n",
       "      <td>83.0</td>\n",
       "      <td>2238350.0</td>\n",
       "      <td>178.0</td>\n",
       "      <td>74.0</td>\n",
       "      <td>0.61500</td>\n",
       "      <td>0.620</td>\n",
       "      <td>216573.0</td>\n",
       "      <td>0.869</td>\n",
       "      <td>0.000000</td>\n",
       "      <td>0.1310</td>\n",
       "      <td>-5.479</td>\n",
       "      <td>0.0462</td>\n",
       "      <td>126.019</td>\n",
       "      <td>4.0</td>\n",
       "      <td>0.597</td>\n",
       "      <td>Girl, our mamas are best friends and so are we...</td>\n",
       "      <td>0</td>\n",
       "    </tr>\n",
       "    <tr>\n",
       "      <th>1596</th>\n",
       "      <td>97</td>\n",
       "      <td>Lovin' on You</td>\n",
       "      <td>Luke Combs</td>\n",
       "      <td>2020</td>\n",
       "      <td>82.0</td>\n",
       "      <td>5474485.0</td>\n",
       "      <td>178.0</td>\n",
       "      <td>69.0</td>\n",
       "      <td>0.00165</td>\n",
       "      <td>0.572</td>\n",
       "      <td>194867.0</td>\n",
       "      <td>0.949</td>\n",
       "      <td>0.000195</td>\n",
       "      <td>0.1630</td>\n",
       "      <td>-4.865</td>\n",
       "      <td>0.0600</td>\n",
       "      <td>118.974</td>\n",
       "      <td>4.0</td>\n",
       "      <td>0.530</td>\n",
       "      <td>Don't get me wrong I like a bobber on the wate...</td>\n",
       "      <td>0</td>\n",
       "    </tr>\n",
       "    <tr>\n",
       "      <th>1597</th>\n",
       "      <td>98</td>\n",
       "      <td>Said Sum</td>\n",
       "      <td>Moneybagg Yo</td>\n",
       "      <td>2020</td>\n",
       "      <td>80.0</td>\n",
       "      <td>2307788.0</td>\n",
       "      <td>178.0</td>\n",
       "      <td>69.0</td>\n",
       "      <td>0.01850</td>\n",
       "      <td>0.929</td>\n",
       "      <td>155168.0</td>\n",
       "      <td>0.667</td>\n",
       "      <td>0.000000</td>\n",
       "      <td>0.1000</td>\n",
       "      <td>-6.789</td>\n",
       "      <td>0.3530</td>\n",
       "      <td>126.998</td>\n",
       "      <td>4.0</td>\n",
       "      <td>0.274</td>\n",
       "      <td>Turn me up, YC  Huh? What? Ah, I thought a bro...</td>\n",
       "      <td>0</td>\n",
       "    </tr>\n",
       "    <tr>\n",
       "      <th>1598</th>\n",
       "      <td>99</td>\n",
       "      <td>Slide</td>\n",
       "      <td>H.E.R. featuring YG</td>\n",
       "      <td>2020</td>\n",
       "      <td>79.0</td>\n",
       "      <td>4240318.0</td>\n",
       "      <td>177.0</td>\n",
       "      <td>67.0</td>\n",
       "      <td>0.08070</td>\n",
       "      <td>0.832</td>\n",
       "      <td>238321.0</td>\n",
       "      <td>0.469</td>\n",
       "      <td>0.000008</td>\n",
       "      <td>0.2070</td>\n",
       "      <td>-9.141</td>\n",
       "      <td>0.3390</td>\n",
       "      <td>97.023</td>\n",
       "      <td>4.0</td>\n",
       "      <td>0.197</td>\n",
       "      <td>You always wearin' them glasses You don't wann...</td>\n",
       "      <td>0</td>\n",
       "    </tr>\n",
       "    <tr>\n",
       "      <th>1599</th>\n",
       "      <td>100</td>\n",
       "      <td>Walk Em Down</td>\n",
       "      <td>NLE Choppa featuring Roddy Ricch</td>\n",
       "      <td>2020</td>\n",
       "      <td>84.0</td>\n",
       "      <td>6751879.0</td>\n",
       "      <td>178.0</td>\n",
       "      <td>72.0</td>\n",
       "      <td>0.26800</td>\n",
       "      <td>0.867</td>\n",
       "      <td>173288.0</td>\n",
       "      <td>0.744</td>\n",
       "      <td>0.000000</td>\n",
       "      <td>0.0713</td>\n",
       "      <td>-5.171</td>\n",
       "      <td>0.2270</td>\n",
       "      <td>84.005</td>\n",
       "      <td>4.0</td>\n",
       "      <td>0.645</td>\n",
       "      <td>CashMoneyAP Ooh, ooh, no, no NLE the Top Shott...</td>\n",
       "      <td>0</td>\n",
       "    </tr>\n",
       "  </tbody>\n",
       "</table>\n",
       "<p>1439 rows × 21 columns</p>\n",
       "</div>"
      ],
      "text/plain": [
       "      rank  ... hit\n",
       "0        1  ...   1\n",
       "1        2  ...   1\n",
       "2        3  ...   1\n",
       "3        4  ...   1\n",
       "4        5  ...   1\n",
       "...    ...  ...  ..\n",
       "1595    96  ...   0\n",
       "1596    97  ...   0\n",
       "1597    98  ...   0\n",
       "1598    99  ...   0\n",
       "1599   100  ...   0\n",
       "\n",
       "[1439 rows x 21 columns]"
      ]
     },
     "execution_count": 17,
     "metadata": {},
     "output_type": "execute_result"
    }
   ],
   "source": [
    "data_df['hit'] = np.where(data_df['rank'] <= 35, 1, 0)\n",
    "data_df"
   ]
  },
  {
   "cell_type": "markdown",
   "metadata": {
    "id": "1OJdfNx3duFf"
   },
   "source": [
    "## Tiếp tục khám phá dữ liệu để tách các tập"
   ]
  },
  {
   "cell_type": "markdown",
   "metadata": {
    "id": "DkjTUowVnhYw"
   },
   "source": [
    "Cột *Ouput* là cột do nhóm xây dựng, tuy nhiên ta vẫn sẽ khám phá lại cột *Output* này để kiểm tra lại 1 lần nữa:\n",
    "- Cột thuộc kiểu dữ liệu gì?\n",
    "- Cột này có dữ liệu thiếu không?\n",
    "- Tỉ lệ các lớp trong cột này là bao nhiêu?"
   ]
  },
  {
   "cell_type": "code",
   "execution_count": 18,
   "metadata": {
    "colab": {
     "base_uri": "https://localhost:8080/"
    },
    "id": "vedfyHAEVa23",
    "outputId": "d9ac6ee2-0c15-4269-ed4b-0fb5f35d0edd"
   },
   "outputs": [
    {
     "data": {
      "text/plain": [
       "dtype('int64')"
      ]
     },
     "execution_count": 18,
     "metadata": {},
     "output_type": "execute_result"
    }
   ],
   "source": [
    "# Kiểu dữ liệu cột output - hit\n",
    "data_df['hit'].dtype"
   ]
  },
  {
   "cell_type": "code",
   "execution_count": 19,
   "metadata": {
    "colab": {
     "base_uri": "https://localhost:8080/"
    },
    "id": "jZh6b35WSZEj",
    "outputId": "bce81c90-3dd3-4d8f-f08f-e8099fbe5d33"
   },
   "outputs": [
    {
     "data": {
      "text/plain": [
       "0"
      ]
     },
     "execution_count": 19,
     "metadata": {},
     "output_type": "execute_result"
    }
   ],
   "source": [
    "# Kiểm tra xem có dữ thiệt thiếu không?\n",
    "data_df['hit'].isna().sum()"
   ]
  },
  {
   "cell_type": "code",
   "execution_count": 20,
   "metadata": {
    "colab": {
     "base_uri": "https://localhost:8080/"
    },
    "id": "ku3FJpHZSctE",
    "outputId": "5434dd2b-13d8-491d-d75e-efc0a3ae09c3"
   },
   "outputs": [
    {
     "data": {
      "text/plain": [
       "0    64.697707\n",
       "1    35.302293\n",
       "Name: hit, dtype: float64"
      ]
     },
     "execution_count": 20,
     "metadata": {},
     "output_type": "execute_result"
    }
   ],
   "source": [
    "# Tỉ lệ của các lớp trong cột\n",
    "data_df['hit'].value_counts(normalize = True) * 100"
   ]
  },
  {
   "cell_type": "code",
   "execution_count": 21,
   "metadata": {
    "colab": {
     "base_uri": "https://localhost:8080/",
     "height": 248
    },
    "id": "DaujRQ5Go8Jd",
    "outputId": "99176f22-de63-4e64-ba7c-3507200ebe75"
   },
   "outputs": [
    {
     "data": {
      "image/png": "[encoded data removed]",
      "text/plain": [
       "<Figure size 432x288 with 1 Axes>"
      ]
     },
     "metadata": {},
     "output_type": "display_data"
    }
   ],
   "source": [
    "data_df['hit'].value_counts().plot.pie();"
   ]
  },
  {
   "cell_type": "markdown",
   "metadata": {
    "id": "8HsKGMhPPDiQ"
   },
   "source": [
    "## Tách các tập"
   ]
  },
  {
   "cell_type": "markdown",
   "metadata": {
    "id": "jOst67oNVsCC"
   },
   "source": [
    "Ở đây, vì dữ liệu không có nhiều, nên nhóm dự định sẽ sử dụng phương pháp k-fold cross validation để cải thiện hiệu quả trong việc huấn luyện.\n",
    "\n",
    "Nhóm sẽ tách dữ liệu ban đầu thành 2 tập: (train + validation) và test"
   ]
  },
  {
   "cell_type": "code",
   "execution_count": 22,
   "metadata": {
    "id": "0oY4mwpsPMgD"
   },
   "outputs": [],
   "source": [
    "y_sr = data_df['hit']\n",
    "X_df = data_df.drop('hit', axis = 1)"
   ]
  },
  {
   "cell_type": "code",
   "execution_count": 23,
   "metadata": {
    "id": "qPqBVwMqXTF7"
   },
   "outputs": [],
   "source": [
    "# Tách tập (train + validation) và tập test theo tỉ lệ 85%:15%\n",
    "train_X_df, test_X_df, train_y_sr, test_y_sr = \\\n",
    "                              train_test_split(X_df, y_sr, \n",
    "                                               test_size=0.15, \n",
    "                                               stratify=y_sr, \n",
    "                                               random_state=0)"
   ]
  },
  {
   "cell_type": "code",
   "execution_count": 24,
   "metadata": {
    "colab": {
     "base_uri": "https://localhost:8080/"
    },
    "id": "wW5zI0CwlAT_",
    "outputId": "4684c12a-4dcc-4ffa-a263-0a5b05d4cf61"
   },
   "outputs": [
    {
     "data": {
      "text/plain": [
       "(1223, 20)"
      ]
     },
     "execution_count": 24,
     "metadata": {},
     "output_type": "execute_result"
    }
   ],
   "source": [
    "train_X_df.shape"
   ]
  },
  {
   "cell_type": "code",
   "execution_count": 25,
   "metadata": {
    "colab": {
     "base_uri": "https://localhost:8080/"
    },
    "id": "3DI0QA78lCEH",
    "outputId": "d40cf94e-0a5d-42e4-ff39-d9096e0cdd47"
   },
   "outputs": [
    {
     "data": {
      "text/plain": [
       "(1223,)"
      ]
     },
     "execution_count": 25,
     "metadata": {},
     "output_type": "execute_result"
    }
   ],
   "source": [
    "train_y_sr.shape"
   ]
  },
  {
   "cell_type": "code",
   "execution_count": 26,
   "metadata": {
    "colab": {
     "base_uri": "https://localhost:8080/"
    },
    "id": "pM4JJuHdlKT-",
    "outputId": "6cbe71a7-cea5-4406-9e0b-a41efa9f4464"
   },
   "outputs": [
    {
     "data": {
      "text/plain": [
       "(216, 20)"
      ]
     },
     "execution_count": 26,
     "metadata": {},
     "output_type": "execute_result"
    }
   ],
   "source": [
    "test_X_df.shape"
   ]
  },
  {
   "cell_type": "code",
   "execution_count": 27,
   "metadata": {
    "colab": {
     "base_uri": "https://localhost:8080/"
    },
    "id": "HmqrWrszlMck",
    "outputId": "180922e5-adfd-4f30-a708-ce8314e50a2b"
   },
   "outputs": [
    {
     "data": {
      "text/plain": [
       "(216,)"
      ]
     },
     "execution_count": 27,
     "metadata": {},
     "output_type": "execute_result"
    }
   ],
   "source": [
    "test_y_sr.shape"
   ]
  },
  {
   "cell_type": "markdown",
   "metadata": {
    "id": "_2f4ohjJlOvM"
   },
   "source": [
    "Hiện tại, ở bước này ta đã chia dữ liệu thành 2 tập (train + valid)/test với tỉ lệ 85%, 15%. Tiếp sau, ta sẽ tiếp tục khám phá dữ liệu trên tập huấn luyện, sau đó tiến hành các bước tiền xử lý và mô hình hóa."
   ]
  },
  {
   "cell_type": "markdown",
   "metadata": {
    "id": "lDuVM2JJPK42"
   },
   "source": [
    "## Khám phá dữ liệu trên tập huấn luyện"
   ]
  },
  {
   "cell_type": "markdown",
   "metadata": {
    "id": "Y-1MN0y_PNPt"
   },
   "source": [
    "### Các cột input đang có kiểu dữ liệu gì?"
   ]
  },
  {
   "cell_type": "code",
   "execution_count": 28,
   "metadata": {
    "colab": {
     "base_uri": "https://localhost:8080/"
    },
    "id": "gSHXd6kCs04x",
    "outputId": "e3c30f55-b57f-4174-ed19-87e026d0354f"
   },
   "outputs": [
    {
     "data": {
      "text/plain": [
       "rank                  int64\n",
       "name                 object\n",
       "artist               object\n",
       "year                  int64\n",
       "pop_artist          float64\n",
       "artist_followers    float64\n",
       "available_market    float64\n",
       "pop_track           float64\n",
       "acousticness        float64\n",
       "danceability        float64\n",
       "duration_ms         float64\n",
       "energy              float64\n",
       "instrumentalness    float64\n",
       "liveness            float64\n",
       "loudness            float64\n",
       "speechiness         float64\n",
       "tempo               float64\n",
       "time_signature      float64\n",
       "valence             float64\n",
       "lyrics               object\n",
       "dtype: object"
      ]
     },
     "execution_count": 28,
     "metadata": {},
     "output_type": "execute_result"
    }
   ],
   "source": [
    "train_X_df.dtypes"
   ]
  },
  {
   "cell_type": "markdown",
   "metadata": {
    "id": "h0qv-btGvnNc"
   },
   "source": [
    "Ở bước này, ta thấy có vẻ các cột đều có kiểu dữ liệu phù hợp."
   ]
  },
  {
   "cell_type": "markdown",
   "metadata": {
    "id": "LoEY3mXAv_kN"
   },
   "source": [
    "### Với những cột input có kiểu dữ liệu dạng số, dữ liệu được phân bổ như thế nào?"
   ]
  },
  {
   "cell_type": "markdown",
   "metadata": {
    "id": "OBCahlSEwdfR"
   },
   "source": [
    "Trong tập dữ liệu huấn luyện `train_X_df` có 17/20 cột không phải là object, tuy nhiên 3 cột `rank`, `year` và `time_signature` thì thật ra là dạng categorical."
   ]
  },
  {
   "cell_type": "code",
   "execution_count": 29,
   "metadata": {
    "colab": {
     "base_uri": "https://localhost:8080/"
    },
    "id": "fYhkd-VYs4DT",
    "outputId": "cd42717e-faef-47a7-bde1-b79e7353946c"
   },
   "outputs": [
    {
     "data": {
      "text/plain": [
       "rank                  int64\n",
       "year                  int64\n",
       "pop_artist          float64\n",
       "artist_followers    float64\n",
       "available_market    float64\n",
       "pop_track           float64\n",
       "acousticness        float64\n",
       "danceability        float64\n",
       "duration_ms         float64\n",
       "energy              float64\n",
       "instrumentalness    float64\n",
       "liveness            float64\n",
       "loudness            float64\n",
       "speechiness         float64\n",
       "tempo               float64\n",
       "time_signature      float64\n",
       "valence             float64\n",
       "dtype: object"
      ]
     },
     "execution_count": 29,
     "metadata": {},
     "output_type": "execute_result"
    }
   ],
   "source": [
    "train_X_df.dtypes[train_X_df.dtypes != object]"
   ]
  },
  {
   "cell_type": "markdown",
   "metadata": {
    "id": "Bnz8Wu1Cw1Qr"
   },
   "source": [
    "Ta sẽ xem các cột này có dữ liệu phân bố như thế nào"
   ]
  },
  {
   "cell_type": "code",
   "execution_count": 30,
   "metadata": {
    "colab": {
     "base_uri": "https://localhost:8080/"
    },
    "id": "xUqLSIkHuqNn",
    "outputId": "51a9917a-660a-49c9-833e-99b19ae8ddf7"
   },
   "outputs": [
    {
     "data": {
      "text/plain": [
       "['pop_artist',\n",
       " 'artist_followers',\n",
       " 'available_market',\n",
       " 'pop_track',\n",
       " 'acousticness',\n",
       " 'danceability',\n",
       " 'duration_ms',\n",
       " 'energy',\n",
       " 'instrumentalness',\n",
       " 'liveness',\n",
       " 'loudness',\n",
       " 'speechiness',\n",
       " 'tempo',\n",
       " 'valence']"
      ]
     },
     "execution_count": 30,
     "metadata": {},
     "output_type": "execute_result"
    }
   ],
   "source": [
    "ignore = ['rank', 'year', 'time_signature']\n",
    "num_cols = train_X_df.dtypes[train_X_df.dtypes != object].index.to_list()\n",
    "num_cols = [x for x in num_cols if x not in ignore]\n",
    "num_cols"
   ]
  },
  {
   "cell_type": "code",
   "execution_count": 31,
   "metadata": {
    "colab": {
     "base_uri": "https://localhost:8080/",
     "height": 193
    },
    "id": "ACG8lu1Nwc0i",
    "outputId": "e326da0f-b802-4d53-a7a3-f8157a7703c1"
   },
   "outputs": [
    {
     "data": {
      "text/html": [
       "<div>\n",
       "<style scoped>\n",
       "    .dataframe tbody tr th:only-of-type {\n",
       "        vertical-align: middle;\n",
       "    }\n",
       "\n",
       "    .dataframe tbody tr th {\n",
       "        vertical-align: top;\n",
       "    }\n",
       "\n",
       "    .dataframe thead th {\n",
       "        text-align: right;\n",
       "    }\n",
       "</style>\n",
       "<table border=\"1\" class=\"dataframe\">\n",
       "  <thead>\n",
       "    <tr style=\"text-align: right;\">\n",
       "      <th></th>\n",
       "      <th>pop_artist</th>\n",
       "      <th>artist_followers</th>\n",
       "      <th>available_market</th>\n",
       "      <th>pop_track</th>\n",
       "      <th>acousticness</th>\n",
       "      <th>danceability</th>\n",
       "      <th>duration_ms</th>\n",
       "      <th>energy</th>\n",
       "      <th>instrumentalness</th>\n",
       "      <th>liveness</th>\n",
       "      <th>loudness</th>\n",
       "      <th>speechiness</th>\n",
       "      <th>tempo</th>\n",
       "      <th>valence</th>\n",
       "    </tr>\n",
       "  </thead>\n",
       "  <tbody>\n",
       "    <tr>\n",
       "      <th>missing_percentage</th>\n",
       "      <td>0.2</td>\n",
       "      <td>0.2</td>\n",
       "      <td>0.2</td>\n",
       "      <td>0.2</td>\n",
       "      <td>0.200000</td>\n",
       "      <td>0.200</td>\n",
       "      <td>0.2</td>\n",
       "      <td>0.2000</td>\n",
       "      <td>0.200</td>\n",
       "      <td>0.200</td>\n",
       "      <td>0.200</td>\n",
       "      <td>0.2000</td>\n",
       "      <td>0.200</td>\n",
       "      <td>0.2000</td>\n",
       "    </tr>\n",
       "    <tr>\n",
       "      <th>min</th>\n",
       "      <td>4.0</td>\n",
       "      <td>96.0</td>\n",
       "      <td>1.0</td>\n",
       "      <td>0.0</td>\n",
       "      <td>0.000024</td>\n",
       "      <td>0.162</td>\n",
       "      <td>113000.0</td>\n",
       "      <td>0.0565</td>\n",
       "      <td>0.000</td>\n",
       "      <td>0.021</td>\n",
       "      <td>-21.402</td>\n",
       "      <td>0.0232</td>\n",
       "      <td>53.863</td>\n",
       "      <td>0.0383</td>\n",
       "    </tr>\n",
       "    <tr>\n",
       "      <th>median</th>\n",
       "      <td>80.0</td>\n",
       "      <td>6347305.5</td>\n",
       "      <td>176.0</td>\n",
       "      <td>68.0</td>\n",
       "      <td>0.100000</td>\n",
       "      <td>0.700</td>\n",
       "      <td>222300.0</td>\n",
       "      <td>0.7000</td>\n",
       "      <td>0.000</td>\n",
       "      <td>0.100</td>\n",
       "      <td>-5.400</td>\n",
       "      <td>0.1000</td>\n",
       "      <td>120.100</td>\n",
       "      <td>0.5000</td>\n",
       "    </tr>\n",
       "    <tr>\n",
       "      <th>max</th>\n",
       "      <td>100.0</td>\n",
       "      <td>84544667.0</td>\n",
       "      <td>178.0</td>\n",
       "      <td>91.0</td>\n",
       "      <td>0.978000</td>\n",
       "      <td>0.975</td>\n",
       "      <td>688453.0</td>\n",
       "      <td>0.9830</td>\n",
       "      <td>0.918</td>\n",
       "      <td>0.888</td>\n",
       "      <td>-1.190</td>\n",
       "      <td>0.5880</td>\n",
       "      <td>210.857</td>\n",
       "      <td>0.9740</td>\n",
       "    </tr>\n",
       "  </tbody>\n",
       "</table>\n",
       "</div>"
      ],
      "text/plain": [
       "                    pop_artist  artist_followers  ...    tempo  valence\n",
       "missing_percentage         0.2               0.2  ...    0.200   0.2000\n",
       "min                        4.0              96.0  ...   53.863   0.0383\n",
       "median                    80.0         6347305.5  ...  120.100   0.5000\n",
       "max                      100.0        84544667.0  ...  210.857   0.9740\n",
       "\n",
       "[4 rows x 14 columns]"
      ]
     },
     "execution_count": 31,
     "metadata": {},
     "output_type": "execute_result"
    }
   ],
   "source": [
    "df = train_X_df[num_cols]\n",
    "def missing_percentage(c):\n",
    "    return (c.isna().mean() * 100).round(1)\n",
    "def median(c):\n",
    "    return c.quantile(0.5).round(1)\n",
    "df.agg([missing_percentage, 'min', median, 'max'])"
   ]
  },
  {
   "cell_type": "code",
   "execution_count": 32,
   "metadata": {
    "colab": {
     "base_uri": "https://localhost:8080/",
     "height": 879
    },
    "id": "zFPSBF64d2v8",
    "outputId": "8ad2568b-a1fe-4713-bd34-22a183f9e852"
   },
   "outputs": [
    {
     "data": {
      "image/png": "[encoded data removed]",
      "text/plain": [
       "<Figure size 1440x1080 with 16 Axes>"
      ]
     },
     "metadata": {
      "needs_background": "light"
     },
     "output_type": "display_data"
    }
   ],
   "source": [
    "df.hist(bins=50, figsize=(20, 15))\n",
    "plt.show()"
   ]
  },
  {
   "cell_type": "markdown",
   "metadata": {
    "id": "0Kfj-R4r19ZH"
   },
   "source": [
    "Qua đây ta có một số nhận xét: \n",
    "- Ta thấy có 1 cột phân cực quá mạnh `instrumentalness`. Phân cực quá mạnh cho thấy ít nói lên được điều gì về bài hát. Điều này có thể dẫn đến do:\n",
    "    - `instrumentaless` là thuộc tính mà Spotify dự đoán khả năng bản nhạc không tồn tại giọng hát (vocal). Chỉ số này càng gần về 1, thì có khả năng cao rằng bài hát này \"không bao gồm giọng hát\".\n",
    "    - Tuy nhiên, trong bảng xếp hạng hot 100 thì có thể nói tất cả các bài hát lọt vào bảng xếp hàng thì là những bản gốc (original) \"có bao gồm giọng hát\" của bài hát chứ không phải là những bản beat, karaoke version...\n",
    "    - Nên, đã dẫn tới thuộc tính `instrumentaless` gần như luôn bằng 0.\n",
    "- Và các thuộc tính đều có những khoảng giá trị khác nhau."
   ]
  },
  {
   "cell_type": "markdown",
   "metadata": {
    "id": "Id1XOQtPwJlu"
   },
   "source": [
    "### Với những cột input có kiểu dữ liệu không phải dạng số, dữ liệu được phân bổ như thế nào?"
   ]
  },
  {
   "cell_type": "code",
   "execution_count": null,
   "metadata": {
    "colab": {
     "base_uri": "https://localhost:8080/",
     "height": 161
    },
    "id": "F07TH-NmwRW1",
    "outputId": "77918d60-aa41-4d46-b9b1-88ac6896b984"
   },
   "outputs": [
    {
     "data": {
      "text/html": [
       "<div>\n",
       "<style scoped>\n",
       "    .dataframe tbody tr th:only-of-type {\n",
       "        vertical-align: middle;\n",
       "    }\n",
       "\n",
       "    .dataframe tbody tr th {\n",
       "        vertical-align: top;\n",
       "    }\n",
       "\n",
       "    .dataframe thead th {\n",
       "        text-align: right;\n",
       "    }\n",
       "</style>\n",
       "<table border=\"1\" class=\"dataframe\">\n",
       "  <thead>\n",
       "    <tr style=\"text-align: right;\">\n",
       "      <th></th>\n",
       "      <th>rank</th>\n",
       "      <th>year</th>\n",
       "      <th>name</th>\n",
       "      <th>artist</th>\n",
       "      <th>time_signature</th>\n",
       "      <th>lyrics</th>\n",
       "    </tr>\n",
       "  </thead>\n",
       "  <tbody>\n",
       "    <tr>\n",
       "      <th>missing_percentage</th>\n",
       "      <td>0</td>\n",
       "      <td>0</td>\n",
       "      <td>0</td>\n",
       "      <td>0</td>\n",
       "      <td>0.2</td>\n",
       "      <td>0</td>\n",
       "    </tr>\n",
       "    <tr>\n",
       "      <th>num_values</th>\n",
       "      <td>100</td>\n",
       "      <td>16</td>\n",
       "      <td>1193</td>\n",
       "      <td>793</td>\n",
       "      <td>4</td>\n",
       "      <td>1223</td>\n",
       "    </tr>\n",
       "    <tr>\n",
       "      <th>value_percentages</th>\n",
       "      <td>{76: 1.3, 37: 1.3, 50: 1.2, 51: 1.2, 1: 1.2, 9...</td>\n",
       "      <td>{2005: 7.0, 2012: 6.6, 2020: 6.5, 2019: 6.4, 2...</td>\n",
       "      <td>{'Mercy': 0.2, 'Say Something': 0.2, 'Rockstar...</td>\n",
       "      <td>{'Taylor Swift': 1.3, 'Rihanna': 1.3, 'Drake':...</td>\n",
       "      <td>{4.0: 95.3, 3.0: 2.5, 5.0: 2.0, 1.0: 0.1}</td>\n",
       "      <td>{'Ah-ha, hey-hey Ah-ha, ah-ha Ah-ha, hey-hey A...</td>\n",
       "    </tr>\n",
       "  </tbody>\n",
       "</table>\n",
       "</div>"
      ],
      "text/plain": [
       "                                                                 rank  ...                                             lyrics\n",
       "missing_percentage                                                  0  ...                                                  0\n",
       "num_values                                                        100  ...                                               1223\n",
       "value_percentages   {76: 1.3, 37: 1.3, 50: 1.2, 51: 1.2, 1: 1.2, 9...  ...  {'Ah-ha, hey-hey Ah-ha, ah-ha Ah-ha, hey-hey A...\n",
       "\n",
       "[3 rows x 6 columns]"
      ]
     },
     "execution_count": 34,
     "metadata": {},
     "output_type": "execute_result"
    }
   ],
   "source": [
    "cate_cols = ['rank', 'year', 'name', 'artist', 'time_signature', 'lyrics']\n",
    "df = train_X_df[cate_cols]\n",
    "def num_values(df):\n",
    "    return df.nunique()\n",
    "def value_percentages(c):\n",
    "    return dict((c.value_counts(normalize=True) * 100).round(1))\n",
    "df.agg([missing_percentage, num_values, value_percentages])"
   ]
  },
  {
   "cell_type": "markdown",
   "metadata": {
    "id": "NKlB82321yRA"
   },
   "source": [
    "Ta thấy một số dữ liệu không phải dạng số bao gồm tên bài hát, tên nghệ sĩ cũng như lời bài hát phân lớp rất mạnh..."
   ]
  },
  {
   "cell_type": "markdown",
   "metadata": {
    "id": "LSUuvCnXvw7-"
   },
   "source": [
    "## Tạo Pipeline để tiền xử lý"
   ]
  },
  {
   "cell_type": "markdown",
   "metadata": {
    "id": "CLICah9R0GKh"
   },
   "source": [
    "Cùng với những khám phá trên cũng như ý nghĩa của từng cột dữ liệu, ta sẽ quyết định thêm và bỏ một số cột sau:\n",
    "- Bỏ cột `name`, `artist` vì phân lớp quá nhiều.\n",
    "\n",
    "- Bỏ cột `rank` và `year` vì trên thực tế sẽ không có thông tin thứ hạng của bài hát hay năm phát hành sẽ không xét đến.\n",
    "\n",
    "- Bỏ cột `instrumentalness`, `liveness` vì sau khi thu thập dữ liệu nhóm đã kiểm tra lại sơ bộ toàn bộ dữ liệu bằng mắt nên có thể nói toàn bộ dữ liệu được xét đến là những bản nhạc gốc (original) chứ không phải những bản instrumental, live, ...\n",
    "    -  `instrumentalness` theo định nghĩa, đây là thuộc tính mà Spotify dự đoán xem bản nhạc xét đến có phải là bản instrumental (không bao gồm giọng hát) hay không.\n",
    "    - `liveness` theo định nghĩa, đây là thuộc tính mà Spotify dự đoán xem bản nhạc xét đến có phải là bản live (thu trực tiếp) hay không.\n",
    "\n",
    "- Bỏ cột `pop_track`: vì theo định nghĩa đây là thuộc tính mà Spotify tính điểm về độ phổ biến của bản nhạc, đặt vào trường hợp thực tế khi người dùng muốn xem thử một bài hát mới phát hành có đáng nghe không, thì cột này không hợp lý.\n",
    "\n",
    "- Từ cột `lyrics` sẽ sử dụng thư viện `nltk`, mô hình `VADER` để rút trích ra một số đặc trưng từ cột dữ liệu này.\n",
    "    - `neg`: tiêu cực\n",
    "    - `neu`: trung lập\n",
    "    - `pos`: tích cực\n",
    "    - `compound`: là tổng của 3 chỉ số `neg`, `neu`, `pos` sau đó được chuẩn hóa (normalized) về khoảng từ -1 (tiêu cực nhất) đến 1 (tích cực nhất).\n",
    "    - Sau đó, ta sẽ tiến hành bỏ cột `compound` vì đặc trưng này có thể được tính từ 3 chỉ số còn lại.\n",
    "\n",
    "- Cũng từ cột `lyrics` này ta sẽ rút trích ra những \"từ\" xuất hiện nhiều nhất trong toàn bộ dữ liệu huấn luyện, sau đó kiểm tra xem liệu trong từng bài hát có sự xuất hiện của những từ này hay không. Để thực hiện bước này ta sẽ thực hiện các bước sau để tiền xử lý dữ liệu lời bài hát: \n",
    "    - Trong phương thức `fit`\n",
    "        1. Ta sẽ tiến hành tách từ (word tokenizer)\n",
    "        2. Sau đó, lọc những từ dừng (stop words)\n",
    "        3. Sau đó, ta sẽ sử dụng phương pháp `Bag Of Words` để tính toán số lần xuất hiện của từng từ trong lời bài hát.\n",
    "        4. Tính toán để xem từ nào xuất hiện nhiều nhất, xếp theo thứ tự, lưu vào `self.top_words` \n",
    "    - Trong phương thức `transform`:\n",
    "        - Thực hiện tương tự phương thức `fit` từ bước 1 đến bước 3.\n",
    "        - Sau đó, ta sẽ dựa vào `self.num_words` để chọn ra *n* từ xuất hiện nhiều nhất trong bộ dữ liệu huấn luyện và tìm xem trong bài hát xét đến các từ này xuất hiện bao nhiêu lần. (~ Tương tự phương pháp `Bag Of Words`)"
   ]
  },
  {
   "cell_type": "code",
   "execution_count": 33,
   "metadata": {
    "id": "kFWPNs7yTgyl"
   },
   "outputs": [],
   "source": [
    "def filter_words(words):\n",
    "    filtered_sent=[]\n",
    "    for w in words:\n",
    "        if w not in stop_words and w.isalpha():\n",
    "            filtered_sent.append(w)\n",
    "        \n",
    "    ps = PorterStemmer()\n",
    "\n",
    "    stemmed_words=[]\n",
    "    for w in filtered_sent:\n",
    "        stemmed_words.append(ps.stem(w))\n",
    "\n",
    "    return stemmed_words\n",
    "\n",
    "def get_tops(fdist, num):\n",
    "    top_ = []\n",
    "    for w in sorted(fdist, key=fdist.get, reverse=True):\n",
    "        top_.append((w, fdist[w]))\n",
    "        if len(top_) == num:\n",
    "            return top_\n",
    "    return top_\n",
    "\n",
    "def create_marked_df(X_df, top_words):\n",
    "    Y_df = X_df.copy()\n",
    "    for word in top_words:\n",
    "        Y_df[word[0]] = np.where(Y_df['lyrics'].apply(lambda x: word[0] in x.keys()), Y_df['lyrics'].apply(lambda x: x[word[0]]), 0)\n",
    "    return Y_df"
   ]
  },
  {
   "cell_type": "code",
   "execution_count": 34,
   "metadata": {
    "id": "Myu1QHyYTkHa"
   },
   "outputs": [],
   "source": [
    "class dropExtractLyrics(BaseEstimator, TransformerMixin):\n",
    "    def __init__(self, num_words = 10):\n",
    "        self.num_words = num_words\n",
    "    def fit(self, X_df, y=None):\n",
    "        words = X_df['lyrics'].apply(word_tokenize)\n",
    "        words = words.apply(filter_words)\n",
    "        freq_dist = words.apply(FreqDist)\n",
    "        freq_list = pd.DataFrame(freq_dist.to_list())\n",
    "        sums = {key:freq_list[key].sum() for key in freq_list.columns}\n",
    "        self.top_words = get_tops(sums, self.num_words)\n",
    "        return self\n",
    "\n",
    "    def transform(self, X_df, y=None):\n",
    "        Y_df = X_df.copy()\n",
    "\n",
    "        Y_df.drop(['name', 'artist', 'rank', 'year', 'instrumentalness', 'liveness', 'pop_track'], axis = 1, inplace = True)\n",
    "        Y_df['scores'] = Y_df['lyrics'].apply(lambda lyric: sid.polarity_scores(lyric))\n",
    "\n",
    "        words = Y_df['lyrics'].apply(word_tokenize)\n",
    "        words = words.apply(filter_words)\n",
    "        freq_dist = words.apply(FreqDist)\n",
    "        \n",
    "        Y_df = pd.concat([Y_df.drop('lyrics', axis = 1), freq_dist], axis = 1)\n",
    "        Y_df = create_marked_df(Y_df, self.top_words)\n",
    "        Y_df = pd.concat([Y_df.drop(['lyrics', 'scores'], axis = 1), Y_df['scores'].apply(pd.Series)], axis = 1)\n",
    "        Y_df.drop('compound', axis = 1, inplace = True)\n",
    "        return Y_df"
   ]
  },
  {
   "cell_type": "code",
   "execution_count": 35,
   "metadata": {
    "colab": {
     "base_uri": "https://localhost:8080/",
     "height": 439
    },
    "id": "3U7VvE9y1cBX",
    "outputId": "99f58e53-7c60-4017-9c60-b1be8a04a625"
   },
   "outputs": [
    {
     "data": {
      "text/html": [
       "<div>\n",
       "<style scoped>\n",
       "    .dataframe tbody tr th:only-of-type {\n",
       "        vertical-align: middle;\n",
       "    }\n",
       "\n",
       "    .dataframe tbody tr th {\n",
       "        vertical-align: top;\n",
       "    }\n",
       "\n",
       "    .dataframe thead th {\n",
       "        text-align: right;\n",
       "    }\n",
       "</style>\n",
       "<table border=\"1\" class=\"dataframe\">\n",
       "  <thead>\n",
       "    <tr style=\"text-align: right;\">\n",
       "      <th></th>\n",
       "      <th>pop_artist</th>\n",
       "      <th>artist_followers</th>\n",
       "      <th>available_market</th>\n",
       "      <th>acousticness</th>\n",
       "      <th>danceability</th>\n",
       "      <th>duration_ms</th>\n",
       "      <th>energy</th>\n",
       "      <th>loudness</th>\n",
       "      <th>speechiness</th>\n",
       "      <th>tempo</th>\n",
       "      <th>time_signature</th>\n",
       "      <th>valence</th>\n",
       "      <th>I</th>\n",
       "      <th>like</th>\n",
       "      <th>yeah</th>\n",
       "      <th>got</th>\n",
       "      <th>know</th>\n",
       "      <th>and</th>\n",
       "      <th>love</th>\n",
       "      <th>you</th>\n",
       "      <th>na</th>\n",
       "      <th>get</th>\n",
       "      <th>babi</th>\n",
       "      <th>go</th>\n",
       "      <th>let</th>\n",
       "      <th>girl</th>\n",
       "      <th>wan</th>\n",
       "      <th>neg</th>\n",
       "      <th>neu</th>\n",
       "      <th>pos</th>\n",
       "    </tr>\n",
       "  </thead>\n",
       "  <tbody>\n",
       "    <tr>\n",
       "      <th>140</th>\n",
       "      <td>80.0</td>\n",
       "      <td>3403136.0</td>\n",
       "      <td>178.0</td>\n",
       "      <td>0.00542</td>\n",
       "      <td>0.739</td>\n",
       "      <td>239413.0</td>\n",
       "      <td>0.368</td>\n",
       "      <td>-10.233</td>\n",
       "      <td>0.0845</td>\n",
       "      <td>144.992</td>\n",
       "      <td>4.0</td>\n",
       "      <td>0.467</td>\n",
       "      <td>53</td>\n",
       "      <td>0</td>\n",
       "      <td>6</td>\n",
       "      <td>6</td>\n",
       "      <td>9</td>\n",
       "      <td>1</td>\n",
       "      <td>23</td>\n",
       "      <td>2</td>\n",
       "      <td>0</td>\n",
       "      <td>2</td>\n",
       "      <td>0</td>\n",
       "      <td>0</td>\n",
       "      <td>0</td>\n",
       "      <td>13</td>\n",
       "      <td>0</td>\n",
       "      <td>0.037</td>\n",
       "      <td>0.791</td>\n",
       "      <td>0.172</td>\n",
       "    </tr>\n",
       "    <tr>\n",
       "      <th>522</th>\n",
       "      <td>64.0</td>\n",
       "      <td>316281.0</td>\n",
       "      <td>114.0</td>\n",
       "      <td>0.29700</td>\n",
       "      <td>0.633</td>\n",
       "      <td>211160.0</td>\n",
       "      <td>0.673</td>\n",
       "      <td>-6.403</td>\n",
       "      <td>0.2580</td>\n",
       "      <td>86.776</td>\n",
       "      <td>4.0</td>\n",
       "      <td>0.659</td>\n",
       "      <td>36</td>\n",
       "      <td>2</td>\n",
       "      <td>10</td>\n",
       "      <td>0</td>\n",
       "      <td>2</td>\n",
       "      <td>6</td>\n",
       "      <td>1</td>\n",
       "      <td>1</td>\n",
       "      <td>5</td>\n",
       "      <td>1</td>\n",
       "      <td>1</td>\n",
       "      <td>2</td>\n",
       "      <td>2</td>\n",
       "      <td>0</td>\n",
       "      <td>5</td>\n",
       "      <td>0.074</td>\n",
       "      <td>0.771</td>\n",
       "      <td>0.156</td>\n",
       "    </tr>\n",
       "    <tr>\n",
       "      <th>142</th>\n",
       "      <td>63.0</td>\n",
       "      <td>519372.0</td>\n",
       "      <td>178.0</td>\n",
       "      <td>0.26200</td>\n",
       "      <td>0.684</td>\n",
       "      <td>231867.0</td>\n",
       "      <td>0.819</td>\n",
       "      <td>-3.309</td>\n",
       "      <td>0.2380</td>\n",
       "      <td>179.999</td>\n",
       "      <td>4.0</td>\n",
       "      <td>0.250</td>\n",
       "      <td>31</td>\n",
       "      <td>10</td>\n",
       "      <td>0</td>\n",
       "      <td>1</td>\n",
       "      <td>5</td>\n",
       "      <td>2</td>\n",
       "      <td>0</td>\n",
       "      <td>2</td>\n",
       "      <td>1</td>\n",
       "      <td>1</td>\n",
       "      <td>0</td>\n",
       "      <td>9</td>\n",
       "      <td>0</td>\n",
       "      <td>0</td>\n",
       "      <td>1</td>\n",
       "      <td>0.138</td>\n",
       "      <td>0.736</td>\n",
       "      <td>0.126</td>\n",
       "    </tr>\n",
       "    <tr>\n",
       "      <th>337</th>\n",
       "      <td>66.0</td>\n",
       "      <td>1387751.0</td>\n",
       "      <td>173.0</td>\n",
       "      <td>0.15400</td>\n",
       "      <td>0.648</td>\n",
       "      <td>240760.0</td>\n",
       "      <td>0.801</td>\n",
       "      <td>-7.240</td>\n",
       "      <td>0.1670</td>\n",
       "      <td>78.946</td>\n",
       "      <td>4.0</td>\n",
       "      <td>0.807</td>\n",
       "      <td>17</td>\n",
       "      <td>3</td>\n",
       "      <td>6</td>\n",
       "      <td>9</td>\n",
       "      <td>18</td>\n",
       "      <td>1</td>\n",
       "      <td>7</td>\n",
       "      <td>1</td>\n",
       "      <td>3</td>\n",
       "      <td>5</td>\n",
       "      <td>13</td>\n",
       "      <td>1</td>\n",
       "      <td>4</td>\n",
       "      <td>1</td>\n",
       "      <td>2</td>\n",
       "      <td>0.045</td>\n",
       "      <td>0.753</td>\n",
       "      <td>0.202</td>\n",
       "    </tr>\n",
       "    <tr>\n",
       "      <th>896</th>\n",
       "      <td>74.0</td>\n",
       "      <td>2832667.0</td>\n",
       "      <td>3.0</td>\n",
       "      <td>0.36500</td>\n",
       "      <td>0.479</td>\n",
       "      <td>252733.0</td>\n",
       "      <td>0.545</td>\n",
       "      <td>-7.346</td>\n",
       "      <td>0.0688</td>\n",
       "      <td>74.897</td>\n",
       "      <td>4.0</td>\n",
       "      <td>0.243</td>\n",
       "      <td>0</td>\n",
       "      <td>0</td>\n",
       "      <td>0</td>\n",
       "      <td>0</td>\n",
       "      <td>15</td>\n",
       "      <td>4</td>\n",
       "      <td>12</td>\n",
       "      <td>1</td>\n",
       "      <td>0</td>\n",
       "      <td>0</td>\n",
       "      <td>0</td>\n",
       "      <td>16</td>\n",
       "      <td>15</td>\n",
       "      <td>0</td>\n",
       "      <td>0</td>\n",
       "      <td>0.122</td>\n",
       "      <td>0.724</td>\n",
       "      <td>0.154</td>\n",
       "    </tr>\n",
       "    <tr>\n",
       "      <th>...</th>\n",
       "      <td>...</td>\n",
       "      <td>...</td>\n",
       "      <td>...</td>\n",
       "      <td>...</td>\n",
       "      <td>...</td>\n",
       "      <td>...</td>\n",
       "      <td>...</td>\n",
       "      <td>...</td>\n",
       "      <td>...</td>\n",
       "      <td>...</td>\n",
       "      <td>...</td>\n",
       "      <td>...</td>\n",
       "      <td>...</td>\n",
       "      <td>...</td>\n",
       "      <td>...</td>\n",
       "      <td>...</td>\n",
       "      <td>...</td>\n",
       "      <td>...</td>\n",
       "      <td>...</td>\n",
       "      <td>...</td>\n",
       "      <td>...</td>\n",
       "      <td>...</td>\n",
       "      <td>...</td>\n",
       "      <td>...</td>\n",
       "      <td>...</td>\n",
       "      <td>...</td>\n",
       "      <td>...</td>\n",
       "      <td>...</td>\n",
       "      <td>...</td>\n",
       "      <td>...</td>\n",
       "    </tr>\n",
       "    <tr>\n",
       "      <th>576</th>\n",
       "      <td>71.0</td>\n",
       "      <td>6804348.0</td>\n",
       "      <td>167.0</td>\n",
       "      <td>0.01850</td>\n",
       "      <td>0.605</td>\n",
       "      <td>202587.0</td>\n",
       "      <td>0.902</td>\n",
       "      <td>-5.406</td>\n",
       "      <td>0.0511</td>\n",
       "      <td>132.612</td>\n",
       "      <td>4.0</td>\n",
       "      <td>0.875</td>\n",
       "      <td>7</td>\n",
       "      <td>0</td>\n",
       "      <td>1</td>\n",
       "      <td>0</td>\n",
       "      <td>7</td>\n",
       "      <td>8</td>\n",
       "      <td>3</td>\n",
       "      <td>7</td>\n",
       "      <td>0</td>\n",
       "      <td>0</td>\n",
       "      <td>5</td>\n",
       "      <td>0</td>\n",
       "      <td>0</td>\n",
       "      <td>0</td>\n",
       "      <td>0</td>\n",
       "      <td>0.005</td>\n",
       "      <td>0.902</td>\n",
       "      <td>0.093</td>\n",
       "    </tr>\n",
       "    <tr>\n",
       "      <th>1037</th>\n",
       "      <td>70.0</td>\n",
       "      <td>7549193.0</td>\n",
       "      <td>177.0</td>\n",
       "      <td>0.01300</td>\n",
       "      <td>0.700</td>\n",
       "      <td>223107.0</td>\n",
       "      <td>0.701</td>\n",
       "      <td>-3.834</td>\n",
       "      <td>0.1610</td>\n",
       "      <td>93.012</td>\n",
       "      <td>4.0</td>\n",
       "      <td>0.380</td>\n",
       "      <td>32</td>\n",
       "      <td>1</td>\n",
       "      <td>1</td>\n",
       "      <td>0</td>\n",
       "      <td>2</td>\n",
       "      <td>9</td>\n",
       "      <td>1</td>\n",
       "      <td>4</td>\n",
       "      <td>0</td>\n",
       "      <td>16</td>\n",
       "      <td>0</td>\n",
       "      <td>0</td>\n",
       "      <td>0</td>\n",
       "      <td>1</td>\n",
       "      <td>0</td>\n",
       "      <td>0.255</td>\n",
       "      <td>0.579</td>\n",
       "      <td>0.167</td>\n",
       "    </tr>\n",
       "    <tr>\n",
       "      <th>43</th>\n",
       "      <td>81.0</td>\n",
       "      <td>2844592.0</td>\n",
       "      <td>2.0</td>\n",
       "      <td>0.35100</td>\n",
       "      <td>0.632</td>\n",
       "      <td>235800.0</td>\n",
       "      <td>0.533</td>\n",
       "      <td>-7.873</td>\n",
       "      <td>0.0338</td>\n",
       "      <td>90.064</td>\n",
       "      <td>4.0</td>\n",
       "      <td>0.595</td>\n",
       "      <td>64</td>\n",
       "      <td>2</td>\n",
       "      <td>1</td>\n",
       "      <td>1</td>\n",
       "      <td>1</td>\n",
       "      <td>5</td>\n",
       "      <td>0</td>\n",
       "      <td>2</td>\n",
       "      <td>1</td>\n",
       "      <td>1</td>\n",
       "      <td>4</td>\n",
       "      <td>1</td>\n",
       "      <td>1</td>\n",
       "      <td>17</td>\n",
       "      <td>1</td>\n",
       "      <td>0.291</td>\n",
       "      <td>0.679</td>\n",
       "      <td>0.030</td>\n",
       "    </tr>\n",
       "    <tr>\n",
       "      <th>1185</th>\n",
       "      <td>87.0</td>\n",
       "      <td>34287435.0</td>\n",
       "      <td>178.0</td>\n",
       "      <td>0.10200</td>\n",
       "      <td>0.687</td>\n",
       "      <td>223853.0</td>\n",
       "      <td>0.761</td>\n",
       "      <td>-4.582</td>\n",
       "      <td>0.0876</td>\n",
       "      <td>113.939</td>\n",
       "      <td>4.0</td>\n",
       "      <td>0.743</td>\n",
       "      <td>94</td>\n",
       "      <td>0</td>\n",
       "      <td>2</td>\n",
       "      <td>0</td>\n",
       "      <td>86</td>\n",
       "      <td>0</td>\n",
       "      <td>1</td>\n",
       "      <td>1</td>\n",
       "      <td>5</td>\n",
       "      <td>0</td>\n",
       "      <td>0</td>\n",
       "      <td>9</td>\n",
       "      <td>9</td>\n",
       "      <td>0</td>\n",
       "      <td>2</td>\n",
       "      <td>0.076</td>\n",
       "      <td>0.886</td>\n",
       "      <td>0.039</td>\n",
       "    </tr>\n",
       "    <tr>\n",
       "      <th>1409</th>\n",
       "      <td>81.0</td>\n",
       "      <td>5508963.0</td>\n",
       "      <td>178.0</td>\n",
       "      <td>0.04270</td>\n",
       "      <td>0.842</td>\n",
       "      <td>181027.0</td>\n",
       "      <td>0.734</td>\n",
       "      <td>-5.065</td>\n",
       "      <td>0.0588</td>\n",
       "      <td>137.958</td>\n",
       "      <td>4.0</td>\n",
       "      <td>0.952</td>\n",
       "      <td>27</td>\n",
       "      <td>0</td>\n",
       "      <td>11</td>\n",
       "      <td>0</td>\n",
       "      <td>11</td>\n",
       "      <td>6</td>\n",
       "      <td>0</td>\n",
       "      <td>5</td>\n",
       "      <td>0</td>\n",
       "      <td>3</td>\n",
       "      <td>3</td>\n",
       "      <td>4</td>\n",
       "      <td>0</td>\n",
       "      <td>0</td>\n",
       "      <td>0</td>\n",
       "      <td>0.158</td>\n",
       "      <td>0.757</td>\n",
       "      <td>0.085</td>\n",
       "    </tr>\n",
       "  </tbody>\n",
       "</table>\n",
       "<p>1223 rows × 30 columns</p>\n",
       "</div>"
      ],
      "text/plain": [
       "      pop_artist  artist_followers  available_market  ...    neg    neu    pos\n",
       "140         80.0         3403136.0             178.0  ...  0.037  0.791  0.172\n",
       "522         64.0          316281.0             114.0  ...  0.074  0.771  0.156\n",
       "142         63.0          519372.0             178.0  ...  0.138  0.736  0.126\n",
       "337         66.0         1387751.0             173.0  ...  0.045  0.753  0.202\n",
       "896         74.0         2832667.0               3.0  ...  0.122  0.724  0.154\n",
       "...          ...               ...               ...  ...    ...    ...    ...\n",
       "576         71.0         6804348.0             167.0  ...  0.005  0.902  0.093\n",
       "1037        70.0         7549193.0             177.0  ...  0.255  0.579  0.167\n",
       "43          81.0         2844592.0               2.0  ...  0.291  0.679  0.030\n",
       "1185        87.0        34287435.0             178.0  ...  0.076  0.886  0.039\n",
       "1409        81.0         5508963.0             178.0  ...  0.158  0.757  0.085\n",
       "\n",
       "[1223 rows x 30 columns]"
      ]
     },
     "execution_count": 35,
     "metadata": {},
     "output_type": "execute_result"
    }
   ],
   "source": [
    "columns_add_drop = dropExtractLyrics(num_words = 15)\n",
    "columns_add_drop.fit_transform(train_X_df)"
   ]
  },
  {
   "cell_type": "code",
   "execution_count": 36,
   "metadata": {
    "colab": {
     "base_uri": "https://localhost:8080/"
    },
    "id": "0uiUzEZR8OjC",
    "outputId": "6a2e555b-5b64-48ab-d8fa-ae9b45aca4ae"
   },
   "outputs": [
    {
     "data": {
      "text/plain": [
       "[('I', 31090.0),\n",
       " ('like', 5279.0),\n",
       " ('yeah', 4755.0),\n",
       " ('got', 4504.0),\n",
       " ('know', 4378.0),\n",
       " ('and', 4207.0),\n",
       " ('love', 3910.0),\n",
       " ('you', 3784.0),\n",
       " ('na', 3629.0),\n",
       " ('get', 3298.0),\n",
       " ('babi', 2839.0),\n",
       " ('go', 2730.0),\n",
       " ('let', 2524.0),\n",
       " ('girl', 2313.0),\n",
       " ('wan', 2186.0)]"
      ]
     },
     "execution_count": 36,
     "metadata": {},
     "output_type": "execute_result"
    }
   ],
   "source": [
    "columns_add_drop.top_words"
   ]
  },
  {
   "cell_type": "code",
   "execution_count": 49,
   "metadata": {
    "colab": {
     "base_uri": "https://localhost:8080/",
     "height": 442
    },
    "id": "YvVjCZ6lXD6g",
    "outputId": "352cb608-ed98-4432-c289-e21cd1260283"
   },
   "outputs": [
    {
     "data": {
      "image/png": "[encoded data removed]",
      "text/plain": [
       "<Figure size 1080x504 with 1 Axes>"
      ]
     },
     "metadata": {
      "needs_background": "light"
     },
     "output_type": "display_data"
    }
   ],
   "source": [
    "names = []\n",
    "for i in zip(*columns_add_drop.top_words):\n",
    "    names.append(i)\n",
    "\n",
    "plt.figure(figsize = (15, 7))\n",
    "plt.bar(names[0], names[1])\n",
    "plt.xlabel('Words')\n",
    "plt.ylabel('Times');"
   ]
  },
  {
   "cell_type": "markdown",
   "metadata": {
    "id": "29pvzXh1Xvpe"
   },
   "source": [
    "Biểu đồ trên cho thấy sự phân bố của một số từ xuất hiện nhiều nhất trong tập huấn luyện. Khi siêu tham số `num_words = 15`"
   ]
  },
  {
   "cell_type": "markdown",
   "metadata": {
    "id": "PJqTk8ANRXLA"
   },
   "source": [
    "Sau khi thực hiện các bước trên, thì hiện tại tất cả các cột đều ở dạng số (numerical) ngoại trừ cột `time_signature` thuộc dạng categorical.\n",
    "\n",
    "Ta sẽ tiếp tục thực hiện một vài các bước tiền xử lý. Mặc dù, trong dữ liệu thu thập được không có giá trị thiếu, tuy nhiên ta vẫn sẽ chuẩn bị cho dữ liệu thực tế khi các trường này có thể có trường hợp thiếu dữ liệu.\n",
    "- Với các thuộc dạng số, ta sẽ điền giá trị thiếu bằng giá trị mean (giá trị trung bình) của cột. Sử dụng `SimpleImputer`.\n",
    "- Với cột thuộc dạng categorical, ta sẽ điền giá trị thiếu bằng giá trị mode (giá trị xuất hiện nhiều nhất của cột). Sử dụng `SimpleImputer`\n",
    "- Sau cùng, khi không còn các giá trị thiếu và tất cả đều ở dạng số thì ta sẽ tiến hành chuẩn hóa bằng cách trừ đi mean và chia cho độ lệch chuẩn của cột để giúp cho các thuật toán cực tiểu hóa như Gradient Descent, LBFGS, ... hội tụ nhanh hơn.\n"
   ]
  },
  {
   "cell_type": "code",
   "execution_count": 37,
   "metadata": {
    "colab": {
     "base_uri": "https://localhost:8080/",
     "height": 196
    },
    "id": "90a5T9U_nnZL",
    "outputId": "a4586ae9-0ee5-474f-f9ed-b4eb66435160"
   },
   "outputs": [
    {
     "data": {
      "text/html": [
       "<style>#sk-02046017-4dc4-401d-8b3c-16c3304bfeeb {color: black;background-color: white;}#sk-02046017-4dc4-401d-8b3c-16c3304bfeeb pre{padding: 0;}#sk-02046017-4dc4-401d-8b3c-16c3304bfeeb div.sk-toggleable {background-color: white;}#sk-02046017-4dc4-401d-8b3c-16c3304bfeeb label.sk-toggleable__label {cursor: pointer;display: block;width: 100%;margin-bottom: 0;padding: 0.2em 0.3em;box-sizing: border-box;text-align: center;}#sk-02046017-4dc4-401d-8b3c-16c3304bfeeb div.sk-toggleable__content {max-height: 0;max-width: 0;overflow: hidden;text-align: left;background-color: #f0f8ff;}#sk-02046017-4dc4-401d-8b3c-16c3304bfeeb div.sk-toggleable__content pre {margin: 0.2em;color: black;border-radius: 0.25em;background-color: #f0f8ff;}#sk-02046017-4dc4-401d-8b3c-16c3304bfeeb input.sk-toggleable__control:checked~div.sk-toggleable__content {max-height: 200px;max-width: 100%;overflow: auto;}#sk-02046017-4dc4-401d-8b3c-16c3304bfeeb div.sk-estimator input.sk-toggleable__control:checked~label.sk-toggleable__label {background-color: #d4ebff;}#sk-02046017-4dc4-401d-8b3c-16c3304bfeeb div.sk-label input.sk-toggleable__control:checked~label.sk-toggleable__label {background-color: #d4ebff;}#sk-02046017-4dc4-401d-8b3c-16c3304bfeeb input.sk-hidden--visually {border: 0;clip: rect(1px 1px 1px 1px);clip: rect(1px, 1px, 1px, 1px);height: 1px;margin: -1px;overflow: hidden;padding: 0;position: absolute;width: 1px;}#sk-02046017-4dc4-401d-8b3c-16c3304bfeeb div.sk-estimator {font-family: monospace;background-color: #f0f8ff;margin: 0.25em 0.25em;border: 1px dotted black;border-radius: 0.25em;box-sizing: border-box;}#sk-02046017-4dc4-401d-8b3c-16c3304bfeeb div.sk-estimator:hover {background-color: #d4ebff;}#sk-02046017-4dc4-401d-8b3c-16c3304bfeeb div.sk-parallel-item::after {content: \"\";width: 100%;border-bottom: 1px solid gray;flex-grow: 1;}#sk-02046017-4dc4-401d-8b3c-16c3304bfeeb div.sk-label:hover label.sk-toggleable__label {background-color: #d4ebff;}#sk-02046017-4dc4-401d-8b3c-16c3304bfeeb div.sk-serial::before {content: \"\";position: absolute;border-left: 1px solid gray;box-sizing: border-box;top: 2em;bottom: 0;left: 50%;}#sk-02046017-4dc4-401d-8b3c-16c3304bfeeb div.sk-serial {display: flex;flex-direction: column;align-items: center;background-color: white;}#sk-02046017-4dc4-401d-8b3c-16c3304bfeeb div.sk-item {z-index: 1;}#sk-02046017-4dc4-401d-8b3c-16c3304bfeeb div.sk-parallel {display: flex;align-items: stretch;justify-content: center;background-color: white;}#sk-02046017-4dc4-401d-8b3c-16c3304bfeeb div.sk-parallel-item {display: flex;flex-direction: column;position: relative;background-color: white;}#sk-02046017-4dc4-401d-8b3c-16c3304bfeeb div.sk-parallel-item:first-child::after {align-self: flex-end;width: 50%;}#sk-02046017-4dc4-401d-8b3c-16c3304bfeeb div.sk-parallel-item:last-child::after {align-self: flex-start;width: 50%;}#sk-02046017-4dc4-401d-8b3c-16c3304bfeeb div.sk-parallel-item:only-child::after {width: 0;}#sk-02046017-4dc4-401d-8b3c-16c3304bfeeb div.sk-dashed-wrapped {border: 1px dashed gray;margin: 0.2em;box-sizing: border-box;padding-bottom: 0.1em;background-color: white;position: relative;}#sk-02046017-4dc4-401d-8b3c-16c3304bfeeb div.sk-label label {font-family: monospace;font-weight: bold;background-color: white;display: inline-block;line-height: 1.2em;}#sk-02046017-4dc4-401d-8b3c-16c3304bfeeb div.sk-label-container {position: relative;z-index: 2;text-align: center;}#sk-02046017-4dc4-401d-8b3c-16c3304bfeeb div.sk-container {display: inline-block;position: relative;}</style><div id=\"sk-02046017-4dc4-401d-8b3c-16c3304bfeeb\" class\"sk-top-container\"><div class=\"sk-container\"><div class=\"sk-item sk-dashed-wrapped\"><div class=\"sk-label-container\"><div class=\"sk-label sk-toggleable\"><input class=\"sk-toggleable__control sk-hidden--visually\" id=\"a90f9ea7-d3ca-4bcc-8c15-0e56ce4b184e\" type=\"checkbox\" ><label class=\"sk-toggleable__label\" for=\"a90f9ea7-d3ca-4bcc-8c15-0e56ce4b184e\">Pipeline</label><div class=\"sk-toggleable__content\"><pre>Pipeline(steps=[('dropextractlyrics', dropExtractLyrics()),\n",
       "                ('columntransformer',\n",
       "                 ColumnTransformer(remainder=SimpleImputer(),\n",
       "                                   transformers=[('simpleimputer',\n",
       "                                                  SimpleImputer(strategy='most_frequent'),\n",
       "                                                  ['time_signature'])])),\n",
       "                ('standardscaler', StandardScaler())])</pre></div></div></div><div class=\"sk-serial\"><div class=\"sk-item\"><div class=\"sk-estimator sk-toggleable\"><input class=\"sk-toggleable__control sk-hidden--visually\" id=\"60bda714-9b6b-4ac1-8b55-ef0122bb83c1\" type=\"checkbox\" ><label class=\"sk-toggleable__label\" for=\"60bda714-9b6b-4ac1-8b55-ef0122bb83c1\">dropExtractLyrics</label><div class=\"sk-toggleable__content\"><pre>dropExtractLyrics()</pre></div></div></div><div class=\"sk-item sk-dashed-wrapped\"><div class=\"sk-label-container\"><div class=\"sk-label sk-toggleable\"><input class=\"sk-toggleable__control sk-hidden--visually\" id=\"961a643c-a3fa-49bd-8624-2303818f50e9\" type=\"checkbox\" ><label class=\"sk-toggleable__label\" for=\"961a643c-a3fa-49bd-8624-2303818f50e9\">columntransformer: ColumnTransformer</label><div class=\"sk-toggleable__content\"><pre>ColumnTransformer(remainder=SimpleImputer(),\n",
       "                  transformers=[('simpleimputer',\n",
       "                                 SimpleImputer(strategy='most_frequent'),\n",
       "                                 ['time_signature'])])</pre></div></div></div><div class=\"sk-parallel\"><div class=\"sk-parallel-item\"><div class=\"sk-item\"><div class=\"sk-label-container\"><div class=\"sk-label sk-toggleable\"><input class=\"sk-toggleable__control sk-hidden--visually\" id=\"3c346429-8c92-4c2c-893c-3b2e3dbffda7\" type=\"checkbox\" ><label class=\"sk-toggleable__label\" for=\"3c346429-8c92-4c2c-893c-3b2e3dbffda7\">simpleimputer</label><div class=\"sk-toggleable__content\"><pre>['time_signature']</pre></div></div></div><div class=\"sk-serial\"><div class=\"sk-item\"><div class=\"sk-estimator sk-toggleable\"><input class=\"sk-toggleable__control sk-hidden--visually\" id=\"9628fb1b-ce99-485b-b8bf-eaceffc9b2e5\" type=\"checkbox\" ><label class=\"sk-toggleable__label\" for=\"9628fb1b-ce99-485b-b8bf-eaceffc9b2e5\">SimpleImputer</label><div class=\"sk-toggleable__content\"><pre>SimpleImputer(strategy='most_frequent')</pre></div></div></div></div></div></div><div class=\"sk-parallel-item\"><div class=\"sk-item\"><div class=\"sk-label-container\"><div class=\"sk-label sk-toggleable\"><input class=\"sk-toggleable__control sk-hidden--visually\" id=\"1d83e5dd-aa65-43dd-826e-0c2129736eb6\" type=\"checkbox\" ><label class=\"sk-toggleable__label\" for=\"1d83e5dd-aa65-43dd-826e-0c2129736eb6\">remainder</label><div class=\"sk-toggleable__content\"><pre></pre></div></div></div><div class=\"sk-serial\"><div class=\"sk-item\"><div class=\"sk-estimator sk-toggleable\"><input class=\"sk-toggleable__control sk-hidden--visually\" id=\"336db85d-7dc5-4a9d-8399-7d0d71d93564\" type=\"checkbox\" ><label class=\"sk-toggleable__label\" for=\"336db85d-7dc5-4a9d-8399-7d0d71d93564\">SimpleImputer</label><div class=\"sk-toggleable__content\"><pre>SimpleImputer()</pre></div></div></div></div></div></div></div></div><div class=\"sk-item\"><div class=\"sk-estimator sk-toggleable\"><input class=\"sk-toggleable__control sk-hidden--visually\" id=\"9cb62ad5-68ec-4faf-aefe-24e91f6d4127\" type=\"checkbox\" ><label class=\"sk-toggleable__label\" for=\"9cb62ad5-68ec-4faf-aefe-24e91f6d4127\">StandardScaler</label><div class=\"sk-toggleable__content\"><pre>StandardScaler()</pre></div></div></div></div></div></div></div>"
      ],
      "text/plain": [
       "Pipeline(steps=[('dropextractlyrics', dropExtractLyrics()),\n",
       "                ('columntransformer',\n",
       "                 ColumnTransformer(remainder=SimpleImputer(),\n",
       "                                   transformers=[('simpleimputer',\n",
       "                                                  SimpleImputer(strategy='most_frequent'),\n",
       "                                                  ['time_signature'])])),\n",
       "                ('standardscaler', StandardScaler())])"
      ]
     },
     "execution_count": 37,
     "metadata": {},
     "output_type": "execute_result"
    }
   ],
   "source": [
    "columns_trans = make_column_transformer(\n",
    "            (SimpleImputer(missing_values = np.nan, strategy = 'most_frequent'), ['time_signature']),\n",
    "            remainder = SimpleImputer(missing_values = np.nan, strategy = 'mean')\n",
    "        )\n",
    "\n",
    "preprocess_pipeline = make_pipeline(dropExtractLyrics(), columns_trans, StandardScaler())\n",
    "preprocess_pipeline"
   ]
  },
  {
   "cell_type": "markdown",
   "metadata": {
    "id": "jaPoqvqU3l4B"
   },
   "source": [
    "## Tiền xử lý + mô hình hóa"
   ]
  },
  {
   "cell_type": "markdown",
   "metadata": {
    "id": "3uPyNj6MbaRv"
   },
   "source": [
    "Ở đây chúng ta sẽ tiến hành thử nghiệm trên 4 mô hình phổ biến trong việc thực hiện classification. \n",
    "1. Mô hình MLP Classifier\n",
    "2. Mô hình Logistic Regression\n",
    "3. Mô hình Random Forest\n",
    "4. Mô hình K-NN\n",
    "\n",
    "Khi tiến hành thử nghiệm trên các mô hình này, vì dữ liệu của nhóm khá ít nên nhóm sẽ sử dụng phương pháp k-fold cross validation với k = 5.\n",
    "\n",
    "Cũng như ta sẽ tiến hành thử nghiệm xem khi thay đổi siêu tham số `num_words` sẽ có tác động gì đến mô hình. Ta sẽ thử nghiệm với các giá trị [5, 10, 20, 30, 50]"
   ]
  },
  {
   "cell_type": "markdown",
   "metadata": {
    "id": "Qol8SKUeY8xQ"
   },
   "source": [
    "### Mô hình MLP Classifier"
   ]
  },
  {
   "cell_type": "code",
   "execution_count": null,
   "metadata": {
    "id": "gZwWc7g1xGdD"
   },
   "outputs": [],
   "source": [
    "trainvalid_errors = []\n",
    "test_errors = []"
   ]
  },
  {
   "cell_type": "markdown",
   "metadata": {
    "id": "ouuzAH43nm9j"
   },
   "source": [
    "Ở đây ta sẽ sử dụng mô hình MLP (với các siêu tham số `hidden_layer_sizes = (20), activation = tanh, solver =lbfgs, max_iter = 2500, random_state = 0` ) cũng như phương pháp k-fold cross validation để huấn luyện mô hình. \n"
   ]
  },
  {
   "cell_type": "code",
   "execution_count": null,
   "metadata": {
    "colab": {
     "base_uri": "https://localhost:8080/",
     "height": 253
    },
    "id": "3a5BkYeF3owB",
    "outputId": "6f110581-3782-40cb-90af-55ec0afe4e2b"
   },
   "outputs": [
    {
     "data": {
      "text/html": [
       "<style>#sk-8b650610-9f04-4353-b8af-f9a574c6fe7c {color: black;background-color: white;}#sk-8b650610-9f04-4353-b8af-f9a574c6fe7c pre{padding: 0;}#sk-8b650610-9f04-4353-b8af-f9a574c6fe7c div.sk-toggleable {background-color: white;}#sk-8b650610-9f04-4353-b8af-f9a574c6fe7c label.sk-toggleable__label {cursor: pointer;display: block;width: 100%;margin-bottom: 0;padding: 0.2em 0.3em;box-sizing: border-box;text-align: center;}#sk-8b650610-9f04-4353-b8af-f9a574c6fe7c div.sk-toggleable__content {max-height: 0;max-width: 0;overflow: hidden;text-align: left;background-color: #f0f8ff;}#sk-8b650610-9f04-4353-b8af-f9a574c6fe7c div.sk-toggleable__content pre {margin: 0.2em;color: black;border-radius: 0.25em;background-color: #f0f8ff;}#sk-8b650610-9f04-4353-b8af-f9a574c6fe7c input.sk-toggleable__control:checked~div.sk-toggleable__content {max-height: 200px;max-width: 100%;overflow: auto;}#sk-8b650610-9f04-4353-b8af-f9a574c6fe7c div.sk-estimator input.sk-toggleable__control:checked~label.sk-toggleable__label {background-color: #d4ebff;}#sk-8b650610-9f04-4353-b8af-f9a574c6fe7c div.sk-label input.sk-toggleable__control:checked~label.sk-toggleable__label {background-color: #d4ebff;}#sk-8b650610-9f04-4353-b8af-f9a574c6fe7c input.sk-hidden--visually {border: 0;clip: rect(1px 1px 1px 1px);clip: rect(1px, 1px, 1px, 1px);height: 1px;margin: -1px;overflow: hidden;padding: 0;position: absolute;width: 1px;}#sk-8b650610-9f04-4353-b8af-f9a574c6fe7c div.sk-estimator {font-family: monospace;background-color: #f0f8ff;margin: 0.25em 0.25em;border: 1px dotted black;border-radius: 0.25em;box-sizing: border-box;}#sk-8b650610-9f04-4353-b8af-f9a574c6fe7c div.sk-estimator:hover {background-color: #d4ebff;}#sk-8b650610-9f04-4353-b8af-f9a574c6fe7c div.sk-parallel-item::after {content: \"\";width: 100%;border-bottom: 1px solid gray;flex-grow: 1;}#sk-8b650610-9f04-4353-b8af-f9a574c6fe7c div.sk-label:hover label.sk-toggleable__label {background-color: #d4ebff;}#sk-8b650610-9f04-4353-b8af-f9a574c6fe7c div.sk-serial::before {content: \"\";position: absolute;border-left: 1px solid gray;box-sizing: border-box;top: 2em;bottom: 0;left: 50%;}#sk-8b650610-9f04-4353-b8af-f9a574c6fe7c div.sk-serial {display: flex;flex-direction: column;align-items: center;background-color: white;}#sk-8b650610-9f04-4353-b8af-f9a574c6fe7c div.sk-item {z-index: 1;}#sk-8b650610-9f04-4353-b8af-f9a574c6fe7c div.sk-parallel {display: flex;align-items: stretch;justify-content: center;background-color: white;}#sk-8b650610-9f04-4353-b8af-f9a574c6fe7c div.sk-parallel-item {display: flex;flex-direction: column;position: relative;background-color: white;}#sk-8b650610-9f04-4353-b8af-f9a574c6fe7c div.sk-parallel-item:first-child::after {align-self: flex-end;width: 50%;}#sk-8b650610-9f04-4353-b8af-f9a574c6fe7c div.sk-parallel-item:last-child::after {align-self: flex-start;width: 50%;}#sk-8b650610-9f04-4353-b8af-f9a574c6fe7c div.sk-parallel-item:only-child::after {width: 0;}#sk-8b650610-9f04-4353-b8af-f9a574c6fe7c div.sk-dashed-wrapped {border: 1px dashed gray;margin: 0.2em;box-sizing: border-box;padding-bottom: 0.1em;background-color: white;position: relative;}#sk-8b650610-9f04-4353-b8af-f9a574c6fe7c div.sk-label label {font-family: monospace;font-weight: bold;background-color: white;display: inline-block;line-height: 1.2em;}#sk-8b650610-9f04-4353-b8af-f9a574c6fe7c div.sk-label-container {position: relative;z-index: 2;text-align: center;}#sk-8b650610-9f04-4353-b8af-f9a574c6fe7c div.sk-container {display: inline-block;position: relative;}</style><div id=\"sk-8b650610-9f04-4353-b8af-f9a574c6fe7c\" class\"sk-top-container\"><div class=\"sk-container\"><div class=\"sk-item sk-dashed-wrapped\"><div class=\"sk-label-container\"><div class=\"sk-label sk-toggleable\"><input class=\"sk-toggleable__control sk-hidden--visually\" id=\"eb704ad5-e879-4946-a825-a42eb611d6d0\" type=\"checkbox\" ><label class=\"sk-toggleable__label\" for=\"eb704ad5-e879-4946-a825-a42eb611d6d0\">Pipeline</label><div class=\"sk-toggleable__content\"><pre>Pipeline(steps=[('pipeline',\n",
       "                 Pipeline(steps=[('dropextractlyrics', dropExtractLyrics()),\n",
       "                                 ('columntransformer',\n",
       "                                  ColumnTransformer(remainder=SimpleImputer(),\n",
       "                                                    transformers=[('simpleimputer',\n",
       "                                                                   SimpleImputer(strategy='most_frequent'),\n",
       "                                                                   ['time_signature'])])),\n",
       "                                 ('standardscaler', StandardScaler())])),\n",
       "                ('mlpclassifier',\n",
       "                 MLPClassifier(hidden_layer_sizes=20, max_iter=2500,\n",
       "                               random_state=0, solver='lbfgs'))])</pre></div></div></div><div class=\"sk-serial\"><div class=\"sk-item\"><div class=\"sk-label-container\"><div class=\"sk-label sk-toggleable\"><input class=\"sk-toggleable__control sk-hidden--visually\" id=\"05021fab-996c-45be-b2dc-6f93975106a0\" type=\"checkbox\" ><label class=\"sk-toggleable__label\" for=\"05021fab-996c-45be-b2dc-6f93975106a0\">pipeline: Pipeline</label><div class=\"sk-toggleable__content\"><pre>Pipeline(steps=[('dropextractlyrics', dropExtractLyrics()),\n",
       "                ('columntransformer',\n",
       "                 ColumnTransformer(remainder=SimpleImputer(),\n",
       "                                   transformers=[('simpleimputer',\n",
       "                                                  SimpleImputer(strategy='most_frequent'),\n",
       "                                                  ['time_signature'])])),\n",
       "                ('standardscaler', StandardScaler())])</pre></div></div></div><div class=\"sk-serial\"><div class=\"sk-item\"><div class=\"sk-estimator sk-toggleable\"><input class=\"sk-toggleable__control sk-hidden--visually\" id=\"9da9ff9c-f9b9-4227-ae8d-347b80f2bed2\" type=\"checkbox\" ><label class=\"sk-toggleable__label\" for=\"9da9ff9c-f9b9-4227-ae8d-347b80f2bed2\">dropExtractLyrics</label><div class=\"sk-toggleable__content\"><pre>dropExtractLyrics()</pre></div></div></div><div class=\"sk-item sk-dashed-wrapped\"><div class=\"sk-label-container\"><div class=\"sk-label sk-toggleable\"><input class=\"sk-toggleable__control sk-hidden--visually\" id=\"725d8211-fb1f-4c6b-8cb6-debb82d662a0\" type=\"checkbox\" ><label class=\"sk-toggleable__label\" for=\"725d8211-fb1f-4c6b-8cb6-debb82d662a0\">columntransformer: ColumnTransformer</label><div class=\"sk-toggleable__content\"><pre>ColumnTransformer(remainder=SimpleImputer(),\n",
       "                  transformers=[('simpleimputer',\n",
       "                                 SimpleImputer(strategy='most_frequent'),\n",
       "                                 ['time_signature'])])</pre></div></div></div><div class=\"sk-parallel\"><div class=\"sk-parallel-item\"><div class=\"sk-item\"><div class=\"sk-label-container\"><div class=\"sk-label sk-toggleable\"><input class=\"sk-toggleable__control sk-hidden--visually\" id=\"0abde24e-bdee-4e15-94dc-117a950c15a1\" type=\"checkbox\" ><label class=\"sk-toggleable__label\" for=\"0abde24e-bdee-4e15-94dc-117a950c15a1\">simpleimputer</label><div class=\"sk-toggleable__content\"><pre>['time_signature']</pre></div></div></div><div class=\"sk-serial\"><div class=\"sk-item\"><div class=\"sk-estimator sk-toggleable\"><input class=\"sk-toggleable__control sk-hidden--visually\" id=\"49f8ec4f-9a1d-4ddd-a972-847b17b91424\" type=\"checkbox\" ><label class=\"sk-toggleable__label\" for=\"49f8ec4f-9a1d-4ddd-a972-847b17b91424\">SimpleImputer</label><div class=\"sk-toggleable__content\"><pre>SimpleImputer(strategy='most_frequent')</pre></div></div></div></div></div></div><div class=\"sk-parallel-item\"><div class=\"sk-item\"><div class=\"sk-label-container\"><div class=\"sk-label sk-toggleable\"><input class=\"sk-toggleable__control sk-hidden--visually\" id=\"69955fee-9792-4516-be1d-42fded3c9dfa\" type=\"checkbox\" ><label class=\"sk-toggleable__label\" for=\"69955fee-9792-4516-be1d-42fded3c9dfa\">remainder</label><div class=\"sk-toggleable__content\"><pre></pre></div></div></div><div class=\"sk-serial\"><div class=\"sk-item\"><div class=\"sk-estimator sk-toggleable\"><input class=\"sk-toggleable__control sk-hidden--visually\" id=\"582d427f-129e-4ea5-a10b-1c38c2135bb9\" type=\"checkbox\" ><label class=\"sk-toggleable__label\" for=\"582d427f-129e-4ea5-a10b-1c38c2135bb9\">SimpleImputer</label><div class=\"sk-toggleable__content\"><pre>SimpleImputer()</pre></div></div></div></div></div></div></div></div><div class=\"sk-item\"><div class=\"sk-estimator sk-toggleable\"><input class=\"sk-toggleable__control sk-hidden--visually\" id=\"2c592eea-c14c-44b6-a6fa-de30396764ac\" type=\"checkbox\" ><label class=\"sk-toggleable__label\" for=\"2c592eea-c14c-44b6-a6fa-de30396764ac\">StandardScaler</label><div class=\"sk-toggleable__content\"><pre>StandardScaler()</pre></div></div></div></div></div><div class=\"sk-item\"><div class=\"sk-estimator sk-toggleable\"><input class=\"sk-toggleable__control sk-hidden--visually\" id=\"365b1988-bbbc-4d27-87ee-c811a02b3e37\" type=\"checkbox\" ><label class=\"sk-toggleable__label\" for=\"365b1988-bbbc-4d27-87ee-c811a02b3e37\">MLPClassifier</label><div class=\"sk-toggleable__content\"><pre>MLPClassifier(hidden_layer_sizes=20, max_iter=2500, random_state=0,\n",
       "              solver='lbfgs')</pre></div></div></div></div></div></div></div>"
      ],
      "text/plain": [
       "Pipeline(steps=[('pipeline',\n",
       "                 Pipeline(steps=[('dropextractlyrics', dropExtractLyrics()),\n",
       "                                 ('columntransformer',\n",
       "                                  ColumnTransformer(remainder=SimpleImputer(),\n",
       "                                                    transformers=[('simpleimputer',\n",
       "                                                                   SimpleImputer(strategy='most_frequent'),\n",
       "                                                                   ['time_signature'])])),\n",
       "                                 ('standardscaler', StandardScaler())])),\n",
       "                ('mlpclassifier',\n",
       "                 MLPClassifier(hidden_layer_sizes=20, max_iter=2500,\n",
       "                               random_state=0, solver='lbfgs'))])"
      ]
     },
     "execution_count": 41,
     "metadata": {},
     "output_type": "execute_result"
    }
   ],
   "source": [
    "neural_net_model = MLPClassifier(hidden_layer_sizes = (20), \n",
    "                                 activation = 'relu',\n",
    "                                 solver = 'lbfgs', \n",
    "                                 max_iter = 2500,\n",
    "                                 random_state = 0)\n",
    "\n",
    "full_pipeline1 = make_pipeline(preprocess_pipeline, neural_net_model)\n",
    "full_pipeline1"
   ]
  },
  {
   "cell_type": "code",
   "execution_count": null,
   "metadata": {
    "colab": {
     "base_uri": "https://localhost:8080/"
    },
    "id": "OmTASX_HJLp6",
    "outputId": "038d3da8-d885-4066-db74-f37b0e4bd7ed"
   },
   "outputs": [
    {
     "name": "stderr",
     "output_type": "stream",
     "text": [
      "/usr/local/lib/python3.7/dist-packages/sklearn/neural_network/_multilayer_perceptron.py:500: ConvergenceWarning: lbfgs failed to converge (status=1):\n",
      "STOP: TOTAL NO. of ITERATIONS REACHED LIMIT.\n",
      "\n",
      "Increase the number of iterations (max_iter) or scale the data as shown in:\n",
      "    https://scikit-learn.org/stable/modules/preprocessing.html\n",
      "  self.n_iter_ = _check_optimize_result(\"lbfgs\", opt_res, self.max_iter)\n",
      "/usr/local/lib/python3.7/dist-packages/sklearn/neural_network/_multilayer_perceptron.py:500: ConvergenceWarning: lbfgs failed to converge (status=1):\n",
      "STOP: TOTAL NO. of ITERATIONS REACHED LIMIT.\n",
      "\n",
      "Increase the number of iterations (max_iter) or scale the data as shown in:\n",
      "    https://scikit-learn.org/stable/modules/preprocessing.html\n",
      "  self.n_iter_ = _check_optimize_result(\"lbfgs\", opt_res, self.max_iter)\n",
      "/usr/local/lib/python3.7/dist-packages/sklearn/neural_network/_multilayer_perceptron.py:500: ConvergenceWarning: lbfgs failed to converge (status=1):\n",
      "STOP: TOTAL NO. of ITERATIONS REACHED LIMIT.\n",
      "\n",
      "Increase the number of iterations (max_iter) or scale the data as shown in:\n",
      "    https://scikit-learn.org/stable/modules/preprocessing.html\n",
      "  self.n_iter_ = _check_optimize_result(\"lbfgs\", opt_res, self.max_iter)\n",
      "/usr/local/lib/python3.7/dist-packages/sklearn/neural_network/_multilayer_perceptron.py:500: ConvergenceWarning: lbfgs failed to converge (status=1):\n",
      "STOP: TOTAL NO. of ITERATIONS REACHED LIMIT.\n",
      "\n",
      "Increase the number of iterations (max_iter) or scale the data as shown in:\n",
      "    https://scikit-learn.org/stable/modules/preprocessing.html\n",
      "  self.n_iter_ = _check_optimize_result(\"lbfgs\", opt_res, self.max_iter)\n",
      "/usr/local/lib/python3.7/dist-packages/sklearn/neural_network/_multilayer_perceptron.py:500: ConvergenceWarning: lbfgs failed to converge (status=1):\n",
      "STOP: TOTAL NO. of ITERATIONS REACHED LIMIT.\n",
      "\n",
      "Increase the number of iterations (max_iter) or scale the data as shown in:\n",
      "    https://scikit-learn.org/stable/modules/preprocessing.html\n",
      "  self.n_iter_ = _check_optimize_result(\"lbfgs\", opt_res, self.max_iter)\n",
      "/usr/local/lib/python3.7/dist-packages/sklearn/neural_network/_multilayer_perceptron.py:500: ConvergenceWarning: lbfgs failed to converge (status=1):\n",
      "STOP: TOTAL NO. of ITERATIONS REACHED LIMIT.\n",
      "\n",
      "Increase the number of iterations (max_iter) or scale the data as shown in:\n",
      "    https://scikit-learn.org/stable/modules/preprocessing.html\n",
      "  self.n_iter_ = _check_optimize_result(\"lbfgs\", opt_res, self.max_iter)\n",
      "/usr/local/lib/python3.7/dist-packages/sklearn/neural_network/_multilayer_perceptron.py:500: ConvergenceWarning: lbfgs failed to converge (status=1):\n",
      "STOP: TOTAL NO. of ITERATIONS REACHED LIMIT.\n",
      "\n",
      "Increase the number of iterations (max_iter) or scale the data as shown in:\n",
      "    https://scikit-learn.org/stable/modules/preprocessing.html\n",
      "  self.n_iter_ = _check_optimize_result(\"lbfgs\", opt_res, self.max_iter)\n",
      "/usr/local/lib/python3.7/dist-packages/sklearn/neural_network/_multilayer_perceptron.py:500: ConvergenceWarning: lbfgs failed to converge (status=1):\n",
      "STOP: TOTAL NO. of ITERATIONS REACHED LIMIT.\n",
      "\n",
      "Increase the number of iterations (max_iter) or scale the data as shown in:\n",
      "    https://scikit-learn.org/stable/modules/preprocessing.html\n",
      "  self.n_iter_ = _check_optimize_result(\"lbfgs\", opt_res, self.max_iter)\n",
      "/usr/local/lib/python3.7/dist-packages/sklearn/neural_network/_multilayer_perceptron.py:500: ConvergenceWarning: lbfgs failed to converge (status=1):\n",
      "STOP: TOTAL NO. of ITERATIONS REACHED LIMIT.\n",
      "\n",
      "Increase the number of iterations (max_iter) or scale the data as shown in:\n",
      "    https://scikit-learn.org/stable/modules/preprocessing.html\n",
      "  self.n_iter_ = _check_optimize_result(\"lbfgs\", opt_res, self.max_iter)\n",
      "/usr/local/lib/python3.7/dist-packages/sklearn/neural_network/_multilayer_perceptron.py:500: ConvergenceWarning: lbfgs failed to converge (status=1):\n",
      "STOP: TOTAL NO. of ITERATIONS REACHED LIMIT.\n",
      "\n",
      "Increase the number of iterations (max_iter) or scale the data as shown in:\n",
      "    https://scikit-learn.org/stable/modules/preprocessing.html\n",
      "  self.n_iter_ = _check_optimize_result(\"lbfgs\", opt_res, self.max_iter)\n",
      "/usr/local/lib/python3.7/dist-packages/sklearn/neural_network/_multilayer_perceptron.py:500: ConvergenceWarning: lbfgs failed to converge (status=1):\n",
      "STOP: TOTAL NO. of ITERATIONS REACHED LIMIT.\n",
      "\n",
      "Increase the number of iterations (max_iter) or scale the data as shown in:\n",
      "    https://scikit-learn.org/stable/modules/preprocessing.html\n",
      "  self.n_iter_ = _check_optimize_result(\"lbfgs\", opt_res, self.max_iter)\n",
      "/usr/local/lib/python3.7/dist-packages/sklearn/neural_network/_multilayer_perceptron.py:500: ConvergenceWarning: lbfgs failed to converge (status=1):\n",
      "STOP: TOTAL NO. of ITERATIONS REACHED LIMIT.\n",
      "\n",
      "Increase the number of iterations (max_iter) or scale the data as shown in:\n",
      "    https://scikit-learn.org/stable/modules/preprocessing.html\n",
      "  self.n_iter_ = _check_optimize_result(\"lbfgs\", opt_res, self.max_iter)\n",
      "/usr/local/lib/python3.7/dist-packages/sklearn/neural_network/_multilayer_perceptron.py:500: ConvergenceWarning: lbfgs failed to converge (status=1):\n",
      "STOP: TOTAL NO. of ITERATIONS REACHED LIMIT.\n",
      "\n",
      "Increase the number of iterations (max_iter) or scale the data as shown in:\n",
      "    https://scikit-learn.org/stable/modules/preprocessing.html\n",
      "  self.n_iter_ = _check_optimize_result(\"lbfgs\", opt_res, self.max_iter)\n",
      "/usr/local/lib/python3.7/dist-packages/sklearn/neural_network/_multilayer_perceptron.py:500: ConvergenceWarning: lbfgs failed to converge (status=1):\n",
      "STOP: TOTAL NO. of ITERATIONS REACHED LIMIT.\n",
      "\n",
      "Increase the number of iterations (max_iter) or scale the data as shown in:\n",
      "    https://scikit-learn.org/stable/modules/preprocessing.html\n",
      "  self.n_iter_ = _check_optimize_result(\"lbfgs\", opt_res, self.max_iter)\n",
      "/usr/local/lib/python3.7/dist-packages/sklearn/neural_network/_multilayer_perceptron.py:500: ConvergenceWarning: lbfgs failed to converge (status=1):\n",
      "STOP: TOTAL NO. of ITERATIONS REACHED LIMIT.\n",
      "\n",
      "Increase the number of iterations (max_iter) or scale the data as shown in:\n",
      "    https://scikit-learn.org/stable/modules/preprocessing.html\n",
      "  self.n_iter_ = _check_optimize_result(\"lbfgs\", opt_res, self.max_iter)\n",
      "/usr/local/lib/python3.7/dist-packages/sklearn/neural_network/_multilayer_perceptron.py:500: ConvergenceWarning: lbfgs failed to converge (status=1):\n",
      "STOP: TOTAL NO. of ITERATIONS REACHED LIMIT.\n",
      "\n",
      "Increase the number of iterations (max_iter) or scale the data as shown in:\n",
      "    https://scikit-learn.org/stable/modules/preprocessing.html\n",
      "  self.n_iter_ = _check_optimize_result(\"lbfgs\", opt_res, self.max_iter)\n",
      "/usr/local/lib/python3.7/dist-packages/sklearn/neural_network/_multilayer_perceptron.py:500: ConvergenceWarning: lbfgs failed to converge (status=1):\n",
      "STOP: TOTAL NO. of ITERATIONS REACHED LIMIT.\n",
      "\n",
      "Increase the number of iterations (max_iter) or scale the data as shown in:\n",
      "    https://scikit-learn.org/stable/modules/preprocessing.html\n",
      "  self.n_iter_ = _check_optimize_result(\"lbfgs\", opt_res, self.max_iter)\n",
      "/usr/local/lib/python3.7/dist-packages/sklearn/neural_network/_multilayer_perceptron.py:500: ConvergenceWarning: lbfgs failed to converge (status=1):\n",
      "STOP: TOTAL NO. of ITERATIONS REACHED LIMIT.\n",
      "\n",
      "Increase the number of iterations (max_iter) or scale the data as shown in:\n",
      "    https://scikit-learn.org/stable/modules/preprocessing.html\n",
      "  self.n_iter_ = _check_optimize_result(\"lbfgs\", opt_res, self.max_iter)\n",
      "/usr/local/lib/python3.7/dist-packages/sklearn/neural_network/_multilayer_perceptron.py:500: ConvergenceWarning: lbfgs failed to converge (status=1):\n",
      "STOP: TOTAL NO. of ITERATIONS REACHED LIMIT.\n",
      "\n",
      "Increase the number of iterations (max_iter) or scale the data as shown in:\n",
      "    https://scikit-learn.org/stable/modules/preprocessing.html\n",
      "  self.n_iter_ = _check_optimize_result(\"lbfgs\", opt_res, self.max_iter)\n",
      "/usr/local/lib/python3.7/dist-packages/sklearn/neural_network/_multilayer_perceptron.py:500: ConvergenceWarning: lbfgs failed to converge (status=1):\n",
      "STOP: TOTAL NO. of ITERATIONS REACHED LIMIT.\n",
      "\n",
      "Increase the number of iterations (max_iter) or scale the data as shown in:\n",
      "    https://scikit-learn.org/stable/modules/preprocessing.html\n",
      "  self.n_iter_ = _check_optimize_result(\"lbfgs\", opt_res, self.max_iter)\n",
      "/usr/local/lib/python3.7/dist-packages/sklearn/neural_network/_multilayer_perceptron.py:500: ConvergenceWarning: lbfgs failed to converge (status=1):\n",
      "STOP: TOTAL NO. of ITERATIONS REACHED LIMIT.\n",
      "\n",
      "Increase the number of iterations (max_iter) or scale the data as shown in:\n",
      "    https://scikit-learn.org/stable/modules/preprocessing.html\n",
      "  self.n_iter_ = _check_optimize_result(\"lbfgs\", opt_res, self.max_iter)\n",
      "/usr/local/lib/python3.7/dist-packages/sklearn/neural_network/_multilayer_perceptron.py:500: ConvergenceWarning: lbfgs failed to converge (status=1):\n",
      "STOP: TOTAL NO. of ITERATIONS REACHED LIMIT.\n",
      "\n",
      "Increase the number of iterations (max_iter) or scale the data as shown in:\n",
      "    https://scikit-learn.org/stable/modules/preprocessing.html\n",
      "  self.n_iter_ = _check_optimize_result(\"lbfgs\", opt_res, self.max_iter)\n",
      "/usr/local/lib/python3.7/dist-packages/sklearn/neural_network/_multilayer_perceptron.py:500: ConvergenceWarning: lbfgs failed to converge (status=1):\n",
      "STOP: TOTAL NO. of ITERATIONS REACHED LIMIT.\n",
      "\n",
      "Increase the number of iterations (max_iter) or scale the data as shown in:\n",
      "    https://scikit-learn.org/stable/modules/preprocessing.html\n",
      "  self.n_iter_ = _check_optimize_result(\"lbfgs\", opt_res, self.max_iter)\n",
      "/usr/local/lib/python3.7/dist-packages/sklearn/neural_network/_multilayer_perceptron.py:500: ConvergenceWarning: lbfgs failed to converge (status=1):\n",
      "STOP: TOTAL NO. of ITERATIONS REACHED LIMIT.\n",
      "\n",
      "Increase the number of iterations (max_iter) or scale the data as shown in:\n",
      "    https://scikit-learn.org/stable/modules/preprocessing.html\n",
      "  self.n_iter_ = _check_optimize_result(\"lbfgs\", opt_res, self.max_iter)\n",
      "/usr/local/lib/python3.7/dist-packages/sklearn/neural_network/_multilayer_perceptron.py:500: ConvergenceWarning: lbfgs failed to converge (status=1):\n",
      "STOP: TOTAL NO. of ITERATIONS REACHED LIMIT.\n",
      "\n",
      "Increase the number of iterations (max_iter) or scale the data as shown in:\n",
      "    https://scikit-learn.org/stable/modules/preprocessing.html\n",
      "  self.n_iter_ = _check_optimize_result(\"lbfgs\", opt_res, self.max_iter)\n",
      "/usr/local/lib/python3.7/dist-packages/sklearn/neural_network/_multilayer_perceptron.py:500: ConvergenceWarning: lbfgs failed to converge (status=1):\n",
      "STOP: TOTAL NO. of ITERATIONS REACHED LIMIT.\n",
      "\n",
      "Increase the number of iterations (max_iter) or scale the data as shown in:\n",
      "    https://scikit-learn.org/stable/modules/preprocessing.html\n",
      "  self.n_iter_ = _check_optimize_result(\"lbfgs\", opt_res, self.max_iter)\n",
      "/usr/local/lib/python3.7/dist-packages/sklearn/neural_network/_multilayer_perceptron.py:500: ConvergenceWarning: lbfgs failed to converge (status=1):\n",
      "STOP: TOTAL NO. of ITERATIONS REACHED LIMIT.\n",
      "\n",
      "Increase the number of iterations (max_iter) or scale the data as shown in:\n",
      "    https://scikit-learn.org/stable/modules/preprocessing.html\n",
      "  self.n_iter_ = _check_optimize_result(\"lbfgs\", opt_res, self.max_iter)\n"
     ]
    },
    {
     "data": {
      "text/plain": [
       "[43.912010705921716,\n",
       " 41.620943459350954,\n",
       " 43.33456005352961,\n",
       " 42.926731348277016,\n",
       " 42.51957176313148,\n",
       " 43.012044161927065,\n",
       " 42.0294412847106,\n",
       " 43.74874539979926,\n",
       " 42.43693542990967,\n",
       " 43.416192706590834,\n",
       " 35.89862830378054,\n",
       " 37.61425225828036,\n",
       " 38.101706256273005,\n",
       " 37.77551020408163,\n",
       " 40.30879892940783,\n",
       " 35.322850451656066,\n",
       " 35.40448310471729,\n",
       " 35.240883238541315,\n",
       " 35.07661425225828,\n",
       " 35.15858146537303,\n",
       " 35.322850451656066,\n",
       " 35.322850451656066,\n",
       " 35.322850451656066,\n",
       " 35.322850451656066,\n",
       " 35.322850451656066]"
      ]
     },
     "execution_count": 42,
     "metadata": {},
     "output_type": "execute_result"
    }
   ],
   "source": [
    "scores = []\n",
    "alphas = [0.1, 1, 10, 100, 1000]\n",
    "num_words = [5, 10, 20, 30, 50]\n",
    "for alpha in alphas:\n",
    "    for num in num_words:\n",
    "        full_pipeline1.set_params(mlpclassifier__alpha = alpha, pipeline__dropextractlyrics__num_words = num)\n",
    "        scores.append(cross_val_score(full_pipeline1, train_X_df, train_y_sr, cv = 5))\n",
    "    \n",
    "errors = [(1-i)*100 for i in scores]\n",
    "errors = [i.mean() for i in errors]\n",
    "errors"
   ]
  },
  {
   "cell_type": "code",
   "execution_count": null,
   "metadata": {
    "colab": {
     "base_uri": "https://localhost:8080/",
     "height": 332
    },
    "id": "CaRYWTPrxYur",
    "outputId": "a0573290-7f66-48d8-8440-84e4320b4be0"
   },
   "outputs": [
    {
     "data": {
      "image/png": "[encoded data removed]",
      "text/plain": [
       "<Figure size 720x360 with 1 Axes>"
      ]
     },
     "metadata": {
      "needs_background": "light"
     },
     "output_type": "display_data"
    }
   ],
   "source": [
    "train_errs_df = pd.DataFrame(data=np.array(errors).reshape(len(alphas), -1),\n",
    "                             index=alphas, columns=num_words)\n",
    "plt.figure(figsize=(10, 5))\n",
    "plt.subplot(1, 2, 1)\n",
    "sns.heatmap(train_errs_df, square=True, \n",
    "            annot=True, cbar=False, fmt='.2f', cmap='Blues')\n",
    "plt.title('train & valid errors'); plt.xlabel('num_words'); plt.ylabel('alphas');"
   ]
  },
  {
   "cell_type": "markdown",
   "metadata": {
    "id": "pNgeQTTPwrRi"
   },
   "source": [
    "Qua dữ liệu trên tập train+valid ta thấy `alpha = 100` & `num_words` = 30 cho kết quả tốt nhất. Nên ta sẽ lựa chọn `alpha = 100` & `num_words = 30` để dự đoán trên tập test."
   ]
  },
  {
   "cell_type": "code",
   "execution_count": null,
   "metadata": {
    "colab": {
     "base_uri": "https://localhost:8080/"
    },
    "id": "hPkKiNUTKPP2",
    "outputId": "3a0dd591-83d9-4838-f98d-77a444120a89"
   },
   "outputs": [
    {
     "name": "stdout",
     "output_type": "stream",
     "text": [
      "36.111111111111114\n"
     ]
    }
   ],
   "source": [
    "trainvalid_errors.append(min(errors))\n",
    "\n",
    "alpha_best = alphas[np.argmin(errors) % 5]\n",
    "num_words_best = num_words[int(np.argmin(errors) / 5)]\n",
    "\n",
    "full_pipeline1.set_params(mlpclassifier__alpha = alpha_best, pipeline__dropextractlyrics__num_words = num_words_best)\n",
    "full_pipeline1.fit(train_X_df, train_y_sr)\n",
    "preds = full_pipeline1.predict(test_X_df)\n",
    "error = (1 - accuracy_score(test_y_sr, preds)) * 100\n",
    "test_errors.append(error)\n",
    "print(error)"
   ]
  },
  {
   "cell_type": "markdown",
   "metadata": {
    "id": "bOn7zVMdxA0j"
   },
   "source": [
    "Ta thấy mô hình có độ lỗi trên tập test là: ~36.1% tương tự như trên tập train+valid"
   ]
  },
  {
   "cell_type": "code",
   "execution_count": null,
   "metadata": {
    "colab": {
     "base_uri": "https://localhost:8080/"
    },
    "id": "RwZ1Xqh_cjW3",
    "outputId": "df84be7e-19f2-4d58-cfac-4583a334cf28"
   },
   "outputs": [
    {
     "name": "stdout",
     "output_type": "stream",
     "text": [
      "              precision    recall  f1-score   support\n",
      "\n",
      "     non-hit       0.65      0.96      0.78       140\n",
      "         hit       0.38      0.04      0.07        76\n",
      "\n",
      "    accuracy                           0.64       216\n",
      "   macro avg       0.51      0.50      0.42       216\n",
      "weighted avg       0.55      0.64      0.53       216\n",
      "\n"
     ]
    }
   ],
   "source": [
    "print(classification_report(test_y_sr, preds, target_names= ['non-hit', 'hit']))"
   ]
  },
  {
   "cell_type": "markdown",
   "metadata": {
    "id": "a0e6z_c2ZOWV"
   },
   "source": [
    "### Mô hình LogisticRegression"
   ]
  },
  {
   "cell_type": "markdown",
   "metadata": {
    "id": "sQkLjNSk1ARz"
   },
   "source": [
    "Tiếp theo ta sẽ thử nghiệm trên mô hình Logistic Regression với siêu tham số `max_iter = 2500` còn lại ta cho theo mặc định. Mô hình cũng được huấn luyện theo phương pháp k-fold cross validation (k=5)"
   ]
  },
  {
   "cell_type": "code",
   "execution_count": 38,
   "metadata": {
    "id": "PZ77fI62ZNzb"
   },
   "outputs": [],
   "source": [
    "num_words = [5, 10, 20, 30, 50]\n",
    "scores =[]\n",
    "full_pipeline2 = make_pipeline(preprocess_pipeline, LogisticRegression(max_iter = 2500))\n",
    "for num in num_words:\n",
    "    full_pipeline2.set_params(pipeline__dropextractlyrics__num_words = num)\n",
    "    scores.append(cross_val_score(full_pipeline2, train_X_df, train_y_sr, cv = 5))\n"
   ]
  },
  {
   "cell_type": "code",
   "execution_count": 39,
   "metadata": {
    "colab": {
     "base_uri": "https://localhost:8080/"
    },
    "id": "bHDPuoESQ6ee",
    "outputId": "411bbc72-f773-4d77-a0fb-5e1f3ec8c96c"
   },
   "outputs": [
    {
     "data": {
      "text/plain": [
       "[35.978253596520574,\n",
       " 34.99631983941117,\n",
       " 36.05955168952827,\n",
       " 35.405821344931425,\n",
       " 36.223820675811304]"
      ]
     },
     "execution_count": 39,
     "metadata": {},
     "output_type": "execute_result"
    }
   ],
   "source": [
    "errors = [(1-i)*100 for i in scores]\n",
    "errors = [i.mean() for i in errors]\n",
    "errors"
   ]
  },
  {
   "cell_type": "code",
   "execution_count": 42,
   "metadata": {
    "colab": {
     "base_uri": "https://localhost:8080/",
     "height": 279
    },
    "id": "vNnD5BSosWht",
    "outputId": "e55c89f8-985b-4215-b673-8b0576e9ba2d"
   },
   "outputs": [
    {
     "data": {
      "image/png": "[encoded data removed]",
      "text/plain": [
       "<Figure size 432x288 with 1 Axes>"
      ]
     },
     "metadata": {
      "needs_background": "light"
     },
     "output_type": "display_data"
    }
   ],
   "source": [
    "errors_df = pd.Series(errors, index = num_words).plot.barh()\n",
    "plt.xlabel('Errors')\n",
    "plt.ylabel('num_words')\n",
    "plt.show();"
   ]
  },
  {
   "cell_type": "markdown",
   "metadata": {
    "id": "bL4bzWi01X1p"
   },
   "source": [
    "Ta thấy, mô hình cho độ lỗi thấp nhất: ~35% trên tập train + valid với siêu tham số `num_words = 10`, ta tiếp tục cho mô hình dự đoán tập test."
   ]
  },
  {
   "cell_type": "code",
   "execution_count": null,
   "metadata": {
    "colab": {
     "base_uri": "https://localhost:8080/"
    },
    "id": "eqEAhw79d37Q",
    "outputId": "2e5078cc-2f62-441f-8fda-f5070338fc67"
   },
   "outputs": [
    {
     "name": "stdout",
     "output_type": "stream",
     "text": [
      "37.03703703703704\n"
     ]
    }
   ],
   "source": [
    "trainvalid_errors.append(min(errors))\n",
    "num_words_best = num_words[np.argmin(errors)]\n",
    "full_pipeline2.set_params(pipeline__dropextractlyrics__num_words = num_words_best)\n",
    "full_pipeline2.fit(train_X_df, train_y_sr)\n",
    "preds = full_pipeline2.predict(test_X_df)\n",
    "error = (1 - accuracy_score(test_y_sr, preds)) * 100\n",
    "test_errors.append(error)\n",
    "print(error)"
   ]
  },
  {
   "cell_type": "markdown",
   "metadata": {
    "id": "apWC7OYC1hIc"
   },
   "source": [
    "Mô hình cho ra độ lỗi: 37% trên tập test"
   ]
  },
  {
   "cell_type": "code",
   "execution_count": null,
   "metadata": {
    "colab": {
     "base_uri": "https://localhost:8080/"
    },
    "id": "wb_zUn-ieRNt",
    "outputId": "5f052109-9cfa-4680-94da-4796e1e5c6d4"
   },
   "outputs": [
    {
     "name": "stdout",
     "output_type": "stream",
     "text": [
      "              precision    recall  f1-score   support\n",
      "\n",
      "     non-hit       0.65      0.91      0.76       140\n",
      "         hit       0.40      0.11      0.17        76\n",
      "\n",
      "    accuracy                           0.63       216\n",
      "   macro avg       0.53      0.51      0.46       216\n",
      "weighted avg       0.56      0.63      0.55       216\n",
      "\n"
     ]
    }
   ],
   "source": [
    "print(classification_report(test_y_sr, preds, target_names= ['non-hit', 'hit']))"
   ]
  },
  {
   "cell_type": "markdown",
   "metadata": {
    "id": "HljZinIQeuhX"
   },
   "source": [
    "### Mô hình Random Forest"
   ]
  },
  {
   "cell_type": "markdown",
   "metadata": {
    "id": "F7pCWPa634Vb"
   },
   "source": [
    "Với mô hình Random Forest ta sẽ thử nghiệm siêu tham số: `n_estimators` với các giá trị [100, 200, 300, 400, 500] cũng như phương pháp k-fold cross validation (k = 5)"
   ]
  },
  {
   "cell_type": "code",
   "execution_count": null,
   "metadata": {
    "colab": {
     "base_uri": "https://localhost:8080/",
     "height": 253
    },
    "id": "w50Ftl22ek4e",
    "outputId": "ac1780a1-0dca-4c53-ced4-a938155eede5"
   },
   "outputs": [
    {
     "data": {
      "text/html": [
       "<style>#sk-1f87f57d-11f9-47e3-99d3-538199b9258b {color: black;background-color: white;}#sk-1f87f57d-11f9-47e3-99d3-538199b9258b pre{padding: 0;}#sk-1f87f57d-11f9-47e3-99d3-538199b9258b div.sk-toggleable {background-color: white;}#sk-1f87f57d-11f9-47e3-99d3-538199b9258b label.sk-toggleable__label {cursor: pointer;display: block;width: 100%;margin-bottom: 0;padding: 0.2em 0.3em;box-sizing: border-box;text-align: center;}#sk-1f87f57d-11f9-47e3-99d3-538199b9258b div.sk-toggleable__content {max-height: 0;max-width: 0;overflow: hidden;text-align: left;background-color: #f0f8ff;}#sk-1f87f57d-11f9-47e3-99d3-538199b9258b div.sk-toggleable__content pre {margin: 0.2em;color: black;border-radius: 0.25em;background-color: #f0f8ff;}#sk-1f87f57d-11f9-47e3-99d3-538199b9258b input.sk-toggleable__control:checked~div.sk-toggleable__content {max-height: 200px;max-width: 100%;overflow: auto;}#sk-1f87f57d-11f9-47e3-99d3-538199b9258b div.sk-estimator input.sk-toggleable__control:checked~label.sk-toggleable__label {background-color: #d4ebff;}#sk-1f87f57d-11f9-47e3-99d3-538199b9258b div.sk-label input.sk-toggleable__control:checked~label.sk-toggleable__label {background-color: #d4ebff;}#sk-1f87f57d-11f9-47e3-99d3-538199b9258b input.sk-hidden--visually {border: 0;clip: rect(1px 1px 1px 1px);clip: rect(1px, 1px, 1px, 1px);height: 1px;margin: -1px;overflow: hidden;padding: 0;position: absolute;width: 1px;}#sk-1f87f57d-11f9-47e3-99d3-538199b9258b div.sk-estimator {font-family: monospace;background-color: #f0f8ff;margin: 0.25em 0.25em;border: 1px dotted black;border-radius: 0.25em;box-sizing: border-box;}#sk-1f87f57d-11f9-47e3-99d3-538199b9258b div.sk-estimator:hover {background-color: #d4ebff;}#sk-1f87f57d-11f9-47e3-99d3-538199b9258b div.sk-parallel-item::after {content: \"\";width: 100%;border-bottom: 1px solid gray;flex-grow: 1;}#sk-1f87f57d-11f9-47e3-99d3-538199b9258b div.sk-label:hover label.sk-toggleable__label {background-color: #d4ebff;}#sk-1f87f57d-11f9-47e3-99d3-538199b9258b div.sk-serial::before {content: \"\";position: absolute;border-left: 1px solid gray;box-sizing: border-box;top: 2em;bottom: 0;left: 50%;}#sk-1f87f57d-11f9-47e3-99d3-538199b9258b div.sk-serial {display: flex;flex-direction: column;align-items: center;background-color: white;}#sk-1f87f57d-11f9-47e3-99d3-538199b9258b div.sk-item {z-index: 1;}#sk-1f87f57d-11f9-47e3-99d3-538199b9258b div.sk-parallel {display: flex;align-items: stretch;justify-content: center;background-color: white;}#sk-1f87f57d-11f9-47e3-99d3-538199b9258b div.sk-parallel-item {display: flex;flex-direction: column;position: relative;background-color: white;}#sk-1f87f57d-11f9-47e3-99d3-538199b9258b div.sk-parallel-item:first-child::after {align-self: flex-end;width: 50%;}#sk-1f87f57d-11f9-47e3-99d3-538199b9258b div.sk-parallel-item:last-child::after {align-self: flex-start;width: 50%;}#sk-1f87f57d-11f9-47e3-99d3-538199b9258b div.sk-parallel-item:only-child::after {width: 0;}#sk-1f87f57d-11f9-47e3-99d3-538199b9258b div.sk-dashed-wrapped {border: 1px dashed gray;margin: 0.2em;box-sizing: border-box;padding-bottom: 0.1em;background-color: white;position: relative;}#sk-1f87f57d-11f9-47e3-99d3-538199b9258b div.sk-label label {font-family: monospace;font-weight: bold;background-color: white;display: inline-block;line-height: 1.2em;}#sk-1f87f57d-11f9-47e3-99d3-538199b9258b div.sk-label-container {position: relative;z-index: 2;text-align: center;}#sk-1f87f57d-11f9-47e3-99d3-538199b9258b div.sk-container {display: inline-block;position: relative;}</style><div id=\"sk-1f87f57d-11f9-47e3-99d3-538199b9258b\" class\"sk-top-container\"><div class=\"sk-container\"><div class=\"sk-item sk-dashed-wrapped\"><div class=\"sk-label-container\"><div class=\"sk-label sk-toggleable\"><input class=\"sk-toggleable__control sk-hidden--visually\" id=\"7918b69b-1825-4b39-a03a-9684c36aab0c\" type=\"checkbox\" ><label class=\"sk-toggleable__label\" for=\"7918b69b-1825-4b39-a03a-9684c36aab0c\">Pipeline</label><div class=\"sk-toggleable__content\"><pre>Pipeline(steps=[('pipeline',\n",
       "                 Pipeline(steps=[('dropextractlyrics', dropExtractLyrics()),\n",
       "                                 ('columntransformer',\n",
       "                                  ColumnTransformer(remainder=SimpleImputer(),\n",
       "                                                    transformers=[('simpleimputer',\n",
       "                                                                   SimpleImputer(strategy='most_frequent'),\n",
       "                                                                   ['time_signature'])])),\n",
       "                                 ('standardscaler', StandardScaler())])),\n",
       "                ('randomforestclassifier',\n",
       "                 RandomForestClassifier(max_depth=5, random_state=0))])</pre></div></div></div><div class=\"sk-serial\"><div class=\"sk-item\"><div class=\"sk-label-container\"><div class=\"sk-label sk-toggleable\"><input class=\"sk-toggleable__control sk-hidden--visually\" id=\"f3b37022-62bf-4b7f-8c0b-9c221728a41a\" type=\"checkbox\" ><label class=\"sk-toggleable__label\" for=\"f3b37022-62bf-4b7f-8c0b-9c221728a41a\">pipeline: Pipeline</label><div class=\"sk-toggleable__content\"><pre>Pipeline(steps=[('dropextractlyrics', dropExtractLyrics()),\n",
       "                ('columntransformer',\n",
       "                 ColumnTransformer(remainder=SimpleImputer(),\n",
       "                                   transformers=[('simpleimputer',\n",
       "                                                  SimpleImputer(strategy='most_frequent'),\n",
       "                                                  ['time_signature'])])),\n",
       "                ('standardscaler', StandardScaler())])</pre></div></div></div><div class=\"sk-serial\"><div class=\"sk-item\"><div class=\"sk-estimator sk-toggleable\"><input class=\"sk-toggleable__control sk-hidden--visually\" id=\"99792ebb-b337-4d2e-b59a-c4e0009aaae1\" type=\"checkbox\" ><label class=\"sk-toggleable__label\" for=\"99792ebb-b337-4d2e-b59a-c4e0009aaae1\">dropExtractLyrics</label><div class=\"sk-toggleable__content\"><pre>dropExtractLyrics()</pre></div></div></div><div class=\"sk-item sk-dashed-wrapped\"><div class=\"sk-label-container\"><div class=\"sk-label sk-toggleable\"><input class=\"sk-toggleable__control sk-hidden--visually\" id=\"360a83e8-496f-4e8e-9585-996e24c9f29d\" type=\"checkbox\" ><label class=\"sk-toggleable__label\" for=\"360a83e8-496f-4e8e-9585-996e24c9f29d\">columntransformer: ColumnTransformer</label><div class=\"sk-toggleable__content\"><pre>ColumnTransformer(remainder=SimpleImputer(),\n",
       "                  transformers=[('simpleimputer',\n",
       "                                 SimpleImputer(strategy='most_frequent'),\n",
       "                                 ['time_signature'])])</pre></div></div></div><div class=\"sk-parallel\"><div class=\"sk-parallel-item\"><div class=\"sk-item\"><div class=\"sk-label-container\"><div class=\"sk-label sk-toggleable\"><input class=\"sk-toggleable__control sk-hidden--visually\" id=\"6898a31c-1344-4f6e-901b-5e25cedb5e53\" type=\"checkbox\" ><label class=\"sk-toggleable__label\" for=\"6898a31c-1344-4f6e-901b-5e25cedb5e53\">simpleimputer</label><div class=\"sk-toggleable__content\"><pre>['time_signature']</pre></div></div></div><div class=\"sk-serial\"><div class=\"sk-item\"><div class=\"sk-estimator sk-toggleable\"><input class=\"sk-toggleable__control sk-hidden--visually\" id=\"600a1d2f-e6a5-4915-8245-60fb21ea48e6\" type=\"checkbox\" ><label class=\"sk-toggleable__label\" for=\"600a1d2f-e6a5-4915-8245-60fb21ea48e6\">SimpleImputer</label><div class=\"sk-toggleable__content\"><pre>SimpleImputer(strategy='most_frequent')</pre></div></div></div></div></div></div><div class=\"sk-parallel-item\"><div class=\"sk-item\"><div class=\"sk-label-container\"><div class=\"sk-label sk-toggleable\"><input class=\"sk-toggleable__control sk-hidden--visually\" id=\"5b40e73d-2e37-45e0-a68a-0855a3bac4fa\" type=\"checkbox\" ><label class=\"sk-toggleable__label\" for=\"5b40e73d-2e37-45e0-a68a-0855a3bac4fa\">remainder</label><div class=\"sk-toggleable__content\"><pre>['pop_artist', 'artist_followers', 'available_market', 'acousticness', 'danceability', 'duration_ms', 'energy', 'loudness', 'speechiness', 'tempo', 'valence', 'I', 'like', 'yeah', 'got', 'know', 'and', 'love', 'you', 'na', 'get', 'neg', 'neu', 'pos']</pre></div></div></div><div class=\"sk-serial\"><div class=\"sk-item\"><div class=\"sk-estimator sk-toggleable\"><input class=\"sk-toggleable__control sk-hidden--visually\" id=\"572ee7ba-1cd3-4df5-8aeb-ea11f53dd4e5\" type=\"checkbox\" ><label class=\"sk-toggleable__label\" for=\"572ee7ba-1cd3-4df5-8aeb-ea11f53dd4e5\">SimpleImputer</label><div class=\"sk-toggleable__content\"><pre>SimpleImputer()</pre></div></div></div></div></div></div></div></div><div class=\"sk-item\"><div class=\"sk-estimator sk-toggleable\"><input class=\"sk-toggleable__control sk-hidden--visually\" id=\"f56f462e-7bef-4856-8cce-94b494301729\" type=\"checkbox\" ><label class=\"sk-toggleable__label\" for=\"f56f462e-7bef-4856-8cce-94b494301729\">StandardScaler</label><div class=\"sk-toggleable__content\"><pre>StandardScaler()</pre></div></div></div></div></div><div class=\"sk-item\"><div class=\"sk-estimator sk-toggleable\"><input class=\"sk-toggleable__control sk-hidden--visually\" id=\"10d6379f-1a6e-4309-8583-c4f3308aa5aa\" type=\"checkbox\" ><label class=\"sk-toggleable__label\" for=\"10d6379f-1a6e-4309-8583-c4f3308aa5aa\">RandomForestClassifier</label><div class=\"sk-toggleable__content\"><pre>RandomForestClassifier(max_depth=5, random_state=0)</pre></div></div></div></div></div></div></div>"
      ],
      "text/plain": [
       "Pipeline(steps=[('pipeline',\n",
       "                 Pipeline(steps=[('dropextractlyrics', dropExtractLyrics()),\n",
       "                                 ('columntransformer',\n",
       "                                  ColumnTransformer(remainder=SimpleImputer(),\n",
       "                                                    transformers=[('simpleimputer',\n",
       "                                                                   SimpleImputer(strategy='most_frequent'),\n",
       "                                                                   ['time_signature'])])),\n",
       "                                 ('standardscaler', StandardScaler())])),\n",
       "                ('randomforestclassifier',\n",
       "                 RandomForestClassifier(max_depth=5, random_state=0))])"
      ]
     },
     "execution_count": 71,
     "metadata": {},
     "output_type": "execute_result"
    }
   ],
   "source": [
    "full_pipeline3 = make_pipeline(preprocess_pipeline, RandomForestClassifier(n_estimators = 100,max_depth=5, random_state=0))\n",
    "full_pipeline3"
   ]
  },
  {
   "cell_type": "code",
   "execution_count": null,
   "metadata": {
    "id": "ksTNlp-G3FuM"
   },
   "outputs": [],
   "source": [
    "scores = []\n",
    "n_estimators = [100,200,300,400,500]\n",
    "num_words = [5, 10, 20, 30, 50]\n",
    "for i in n_estimators:\n",
    "  for num in num_words:\n",
    "    full_pipeline3.set_params(randomforestclassifier__n_estimators = i, pipeline__dropextractlyrics__num_words = num)\n",
    "    scores.append(cross_val_score(full_pipeline3, train_X_df, train_y_sr, cv = 5))"
   ]
  },
  {
   "cell_type": "code",
   "execution_count": null,
   "metadata": {
    "colab": {
     "base_uri": "https://localhost:8080/"
    },
    "id": "HSfXVil9lPy5",
    "outputId": "d05a3284-b475-445c-ade7-20ed86538eac"
   },
   "outputs": [
    {
     "data": {
      "text/plain": [
       "[34.6701237872198,\n",
       " 35.076614252258274,\n",
       " 33.11575777852124,\n",
       " 34.50485112077618,\n",
       " 34.996988959518234,\n",
       " 34.669120107059214,\n",
       " 34.91301438608231,\n",
       " 34.01505520240883,\n",
       " 33.93174974907996,\n",
       " 34.995650719304116,\n",
       " 34.9966543994647,\n",
       " 34.58614921378387,\n",
       " 34.097691535630645,\n",
       " 34.34058213449315,\n",
       " 35.15991970558715,\n",
       " 34.66878554700569,\n",
       " 34.25894948143191,\n",
       " 34.09702241552359,\n",
       " 34.50485112077619,\n",
       " 34.99598527935764,\n",
       " 34.75175644028103,\n",
       " 33.768484442957515,\n",
       " 33.60588825694212,\n",
       " 34.42288390766143,\n",
       " 34.995316159250585]"
      ]
     },
     "execution_count": 74,
     "metadata": {},
     "output_type": "execute_result"
    }
   ],
   "source": [
    "errors = [(1-i)*100 for i in scores]\n",
    "errors = [i.mean() for i in errors]\n",
    "errors"
   ]
  },
  {
   "cell_type": "code",
   "execution_count": null,
   "metadata": {
    "colab": {
     "base_uri": "https://localhost:8080/",
     "height": 350
    },
    "id": "YnplPaUQ-57F",
    "outputId": "ce0133ed-994f-4a9e-b2b0-58f250207ed9"
   },
   "outputs": [
    {
     "data": {
      "text/plain": [
       "Text(69.0, 0.5, 'n_estimators')"
      ]
     },
     "execution_count": 75,
     "metadata": {},
     "output_type": "execute_result"
    },
    {
     "data": {
      "image/png": "[encoded data removed]",
      "text/plain": [
       "<Figure size 720x360 with 1 Axes>"
      ]
     },
     "metadata": {
      "needs_background": "light"
     },
     "output_type": "display_data"
    }
   ],
   "source": [
    "train_errs_df = pd.DataFrame(data=np.array(errors).reshape(len(n_estimators), -1),\n",
    "                             index=n_estimators, columns=num_words)\n",
    "plt.figure(figsize=(10, 5))\n",
    "plt.subplot(1, 2, 1)\n",
    "sns.heatmap(train_errs_df, square=True, \n",
    "            annot=True, cbar=False, fmt='.2f', cmap='Blues')\n",
    "plt.title('train & valid errors'); plt.xlabel('num_words'); plt.ylabel('n_estimators')"
   ]
  },
  {
   "cell_type": "markdown",
   "metadata": {
    "id": "6z2gFVXw4kRN"
   },
   "source": [
    "Ta thấy, mô hình cho độ lỗi nhỏ nhất trên tập train&valid khi siêu tham số: `n_estimators = 100` và `num_words = 20`. Ta sẽ tiến hành cho mô hình dự đoán trên tập test với 2 siêu tham số này."
   ]
  },
  {
   "cell_type": "code",
   "execution_count": null,
   "metadata": {
    "id": "loheacFBEjoB"
   },
   "outputs": [],
   "source": [
    "trainvalid_errors.append(min(errors))"
   ]
  },
  {
   "cell_type": "code",
   "execution_count": null,
   "metadata": {
    "id": "MM1Ptyj-M1e6"
   },
   "outputs": [],
   "source": [
    "num_words_best = max_depth[np.argmin(errors) % 5]\n",
    "n_estimators_best = n_estimators[int(np.argmin(errors) / 5)]"
   ]
  },
  {
   "cell_type": "code",
   "execution_count": null,
   "metadata": {
    "colab": {
     "base_uri": "https://localhost:8080/",
     "height": 253
    },
    "id": "_KolyNyp6tK7",
    "outputId": "63196fd4-e8c4-4500-f1e5-3e9c6b6eda86"
   },
   "outputs": [
    {
     "data": {
      "text/html": [
       "<style>#sk-abd8ef83-ae19-4270-a0ce-9b403183c364 {color: black;background-color: white;}#sk-abd8ef83-ae19-4270-a0ce-9b403183c364 pre{padding: 0;}#sk-abd8ef83-ae19-4270-a0ce-9b403183c364 div.sk-toggleable {background-color: white;}#sk-abd8ef83-ae19-4270-a0ce-9b403183c364 label.sk-toggleable__label {cursor: pointer;display: block;width: 100%;margin-bottom: 0;padding: 0.2em 0.3em;box-sizing: border-box;text-align: center;}#sk-abd8ef83-ae19-4270-a0ce-9b403183c364 div.sk-toggleable__content {max-height: 0;max-width: 0;overflow: hidden;text-align: left;background-color: #f0f8ff;}#sk-abd8ef83-ae19-4270-a0ce-9b403183c364 div.sk-toggleable__content pre {margin: 0.2em;color: black;border-radius: 0.25em;background-color: #f0f8ff;}#sk-abd8ef83-ae19-4270-a0ce-9b403183c364 input.sk-toggleable__control:checked~div.sk-toggleable__content {max-height: 200px;max-width: 100%;overflow: auto;}#sk-abd8ef83-ae19-4270-a0ce-9b403183c364 div.sk-estimator input.sk-toggleable__control:checked~label.sk-toggleable__label {background-color: #d4ebff;}#sk-abd8ef83-ae19-4270-a0ce-9b403183c364 div.sk-label input.sk-toggleable__control:checked~label.sk-toggleable__label {background-color: #d4ebff;}#sk-abd8ef83-ae19-4270-a0ce-9b403183c364 input.sk-hidden--visually {border: 0;clip: rect(1px 1px 1px 1px);clip: rect(1px, 1px, 1px, 1px);height: 1px;margin: -1px;overflow: hidden;padding: 0;position: absolute;width: 1px;}#sk-abd8ef83-ae19-4270-a0ce-9b403183c364 div.sk-estimator {font-family: monospace;background-color: #f0f8ff;margin: 0.25em 0.25em;border: 1px dotted black;border-radius: 0.25em;box-sizing: border-box;}#sk-abd8ef83-ae19-4270-a0ce-9b403183c364 div.sk-estimator:hover {background-color: #d4ebff;}#sk-abd8ef83-ae19-4270-a0ce-9b403183c364 div.sk-parallel-item::after {content: \"\";width: 100%;border-bottom: 1px solid gray;flex-grow: 1;}#sk-abd8ef83-ae19-4270-a0ce-9b403183c364 div.sk-label:hover label.sk-toggleable__label {background-color: #d4ebff;}#sk-abd8ef83-ae19-4270-a0ce-9b403183c364 div.sk-serial::before {content: \"\";position: absolute;border-left: 1px solid gray;box-sizing: border-box;top: 2em;bottom: 0;left: 50%;}#sk-abd8ef83-ae19-4270-a0ce-9b403183c364 div.sk-serial {display: flex;flex-direction: column;align-items: center;background-color: white;}#sk-abd8ef83-ae19-4270-a0ce-9b403183c364 div.sk-item {z-index: 1;}#sk-abd8ef83-ae19-4270-a0ce-9b403183c364 div.sk-parallel {display: flex;align-items: stretch;justify-content: center;background-color: white;}#sk-abd8ef83-ae19-4270-a0ce-9b403183c364 div.sk-parallel-item {display: flex;flex-direction: column;position: relative;background-color: white;}#sk-abd8ef83-ae19-4270-a0ce-9b403183c364 div.sk-parallel-item:first-child::after {align-self: flex-end;width: 50%;}#sk-abd8ef83-ae19-4270-a0ce-9b403183c364 div.sk-parallel-item:last-child::after {align-self: flex-start;width: 50%;}#sk-abd8ef83-ae19-4270-a0ce-9b403183c364 div.sk-parallel-item:only-child::after {width: 0;}#sk-abd8ef83-ae19-4270-a0ce-9b403183c364 div.sk-dashed-wrapped {border: 1px dashed gray;margin: 0.2em;box-sizing: border-box;padding-bottom: 0.1em;background-color: white;position: relative;}#sk-abd8ef83-ae19-4270-a0ce-9b403183c364 div.sk-label label {font-family: monospace;font-weight: bold;background-color: white;display: inline-block;line-height: 1.2em;}#sk-abd8ef83-ae19-4270-a0ce-9b403183c364 div.sk-label-container {position: relative;z-index: 2;text-align: center;}#sk-abd8ef83-ae19-4270-a0ce-9b403183c364 div.sk-container {display: inline-block;position: relative;}</style><div id=\"sk-abd8ef83-ae19-4270-a0ce-9b403183c364\" class\"sk-top-container\"><div class=\"sk-container\"><div class=\"sk-item sk-dashed-wrapped\"><div class=\"sk-label-container\"><div class=\"sk-label sk-toggleable\"><input class=\"sk-toggleable__control sk-hidden--visually\" id=\"54b38799-f246-4f6b-bac7-9ab591276482\" type=\"checkbox\" ><label class=\"sk-toggleable__label\" for=\"54b38799-f246-4f6b-bac7-9ab591276482\">Pipeline</label><div class=\"sk-toggleable__content\"><pre>Pipeline(steps=[('pipeline',\n",
       "                 Pipeline(steps=[('dropextractlyrics',\n",
       "                                  dropExtractLyrics(num_words=8)),\n",
       "                                 ('columntransformer',\n",
       "                                  ColumnTransformer(remainder=SimpleImputer(),\n",
       "                                                    transformers=[('simpleimputer',\n",
       "                                                                   SimpleImputer(strategy='most_frequent'),\n",
       "                                                                   ['time_signature'])])),\n",
       "                                 ('standardscaler', StandardScaler())])),\n",
       "                ('randomforestclassifier',\n",
       "                 RandomForestClassifier(max_depth=6, n_estimators=400,\n",
       "                                        random_state=0))])</pre></div></div></div><div class=\"sk-serial\"><div class=\"sk-item\"><div class=\"sk-label-container\"><div class=\"sk-label sk-toggleable\"><input class=\"sk-toggleable__control sk-hidden--visually\" id=\"509db4a4-bc6a-44f4-a601-1db3153c5cb6\" type=\"checkbox\" ><label class=\"sk-toggleable__label\" for=\"509db4a4-bc6a-44f4-a601-1db3153c5cb6\">pipeline: Pipeline</label><div class=\"sk-toggleable__content\"><pre>Pipeline(steps=[('dropextractlyrics', dropExtractLyrics(num_words=8)),\n",
       "                ('columntransformer',\n",
       "                 ColumnTransformer(remainder=SimpleImputer(),\n",
       "                                   transformers=[('simpleimputer',\n",
       "                                                  SimpleImputer(strategy='most_frequent'),\n",
       "                                                  ['time_signature'])])),\n",
       "                ('standardscaler', StandardScaler())])</pre></div></div></div><div class=\"sk-serial\"><div class=\"sk-item\"><div class=\"sk-estimator sk-toggleable\"><input class=\"sk-toggleable__control sk-hidden--visually\" id=\"9fc83b4d-3c97-4014-9ad9-5dcae7a320d9\" type=\"checkbox\" ><label class=\"sk-toggleable__label\" for=\"9fc83b4d-3c97-4014-9ad9-5dcae7a320d9\">dropExtractLyrics</label><div class=\"sk-toggleable__content\"><pre>dropExtractLyrics(num_words=8)</pre></div></div></div><div class=\"sk-item sk-dashed-wrapped\"><div class=\"sk-label-container\"><div class=\"sk-label sk-toggleable\"><input class=\"sk-toggleable__control sk-hidden--visually\" id=\"fc2f3149-418b-4219-ad92-0a678d08ffd8\" type=\"checkbox\" ><label class=\"sk-toggleable__label\" for=\"fc2f3149-418b-4219-ad92-0a678d08ffd8\">columntransformer: ColumnTransformer</label><div class=\"sk-toggleable__content\"><pre>ColumnTransformer(remainder=SimpleImputer(),\n",
       "                  transformers=[('simpleimputer',\n",
       "                                 SimpleImputer(strategy='most_frequent'),\n",
       "                                 ['time_signature'])])</pre></div></div></div><div class=\"sk-parallel\"><div class=\"sk-parallel-item\"><div class=\"sk-item\"><div class=\"sk-label-container\"><div class=\"sk-label sk-toggleable\"><input class=\"sk-toggleable__control sk-hidden--visually\" id=\"065a7c27-853d-450f-87ea-650986917918\" type=\"checkbox\" ><label class=\"sk-toggleable__label\" for=\"065a7c27-853d-450f-87ea-650986917918\">simpleimputer</label><div class=\"sk-toggleable__content\"><pre>['time_signature']</pre></div></div></div><div class=\"sk-serial\"><div class=\"sk-item\"><div class=\"sk-estimator sk-toggleable\"><input class=\"sk-toggleable__control sk-hidden--visually\" id=\"2a172f19-b466-4631-9710-61888e1b1e9b\" type=\"checkbox\" ><label class=\"sk-toggleable__label\" for=\"2a172f19-b466-4631-9710-61888e1b1e9b\">SimpleImputer</label><div class=\"sk-toggleable__content\"><pre>SimpleImputer(strategy='most_frequent')</pre></div></div></div></div></div></div><div class=\"sk-parallel-item\"><div class=\"sk-item\"><div class=\"sk-label-container\"><div class=\"sk-label sk-toggleable\"><input class=\"sk-toggleable__control sk-hidden--visually\" id=\"c3301b26-845a-4b83-becd-99290af040e1\" type=\"checkbox\" ><label class=\"sk-toggleable__label\" for=\"c3301b26-845a-4b83-becd-99290af040e1\">remainder</label><div class=\"sk-toggleable__content\"><pre>['pop_artist', 'artist_followers', 'available_market', 'acousticness', 'danceability', 'duration_ms', 'energy', 'loudness', 'speechiness', 'tempo', 'valence', 'I', 'like', 'yeah', 'got', 'know', 'and', 'love', 'you', 'na', 'get', 'babi', 'go', 'let', 'girl', 'wan', 'want', 'one', 'make', 'oh', 'say', 'Oh', 'see', 'gon', 'come', 'but', 'take', 'back', 'time', 'ai', 'hey', 'feel', 'We', 'never', 'ca', 'right', 'It', 'way', 'need', 'ooh', 'So', 'nigga', 'Do', 'night', 'tell', 'she', 'look', 'could', 'bitch', 'keep', 'If', 'neg', 'neu', 'pos']</pre></div></div></div><div class=\"sk-serial\"><div class=\"sk-item\"><div class=\"sk-estimator sk-toggleable\"><input class=\"sk-toggleable__control sk-hidden--visually\" id=\"9526d1f7-11b2-43d4-b64d-998be2cde334\" type=\"checkbox\" ><label class=\"sk-toggleable__label\" for=\"9526d1f7-11b2-43d4-b64d-998be2cde334\">SimpleImputer</label><div class=\"sk-toggleable__content\"><pre>SimpleImputer()</pre></div></div></div></div></div></div></div></div><div class=\"sk-item\"><div class=\"sk-estimator sk-toggleable\"><input class=\"sk-toggleable__control sk-hidden--visually\" id=\"27a4ae03-0097-4855-8304-e24a6aad9605\" type=\"checkbox\" ><label class=\"sk-toggleable__label\" for=\"27a4ae03-0097-4855-8304-e24a6aad9605\">StandardScaler</label><div class=\"sk-toggleable__content\"><pre>StandardScaler()</pre></div></div></div></div></div><div class=\"sk-item\"><div class=\"sk-estimator sk-toggleable\"><input class=\"sk-toggleable__control sk-hidden--visually\" id=\"d6322eda-3c5a-45e9-b320-0c320c584637\" type=\"checkbox\" ><label class=\"sk-toggleable__label\" for=\"d6322eda-3c5a-45e9-b320-0c320c584637\">RandomForestClassifier</label><div class=\"sk-toggleable__content\"><pre>RandomForestClassifier(max_depth=6, n_estimators=400, random_state=0)</pre></div></div></div></div></div></div></div>"
      ],
      "text/plain": [
       "Pipeline(steps=[('pipeline',\n",
       "                 Pipeline(steps=[('dropextractlyrics',\n",
       "                                  dropExtractLyrics(num_words=8)),\n",
       "                                 ('columntransformer',\n",
       "                                  ColumnTransformer(remainder=SimpleImputer(),\n",
       "                                                    transformers=[('simpleimputer',\n",
       "                                                                   SimpleImputer(strategy='most_frequent'),\n",
       "                                                                   ['time_signature'])])),\n",
       "                                 ('standardscaler', StandardScaler())])),\n",
       "                ('randomforestclassifier',\n",
       "                 RandomForestClassifier(max_depth=6, n_estimators=400,\n",
       "                                        random_state=0))])"
      ]
     },
     "execution_count": 101,
     "metadata": {},
     "output_type": "execute_result"
    }
   ],
   "source": [
    "full_pipeline3.set_params(randomforestclassifier__n_estimators = n_estimators_best,pipeline__dropextractlyrics__num_words = num_words_best)"
   ]
  },
  {
   "cell_type": "code",
   "execution_count": null,
   "metadata": {
    "id": "PrR-OOkV3GGk"
   },
   "outputs": [],
   "source": [
    "full_pipeline3.fit(train_X_df, train_y_sr)\n",
    "preds = full_pipeline3.predict(test_X_df)"
   ]
  },
  {
   "cell_type": "code",
   "execution_count": null,
   "metadata": {
    "colab": {
     "base_uri": "https://localhost:8080/"
    },
    "id": "QMrmUPTlEtlQ",
    "outputId": "b494904f-7d03-44d1-d530-f18dea91ee5a"
   },
   "outputs": [
    {
     "name": "stdout",
     "output_type": "stream",
     "text": [
      "36.57407407407407\n"
     ]
    }
   ],
   "source": [
    "error = (1 - accuracy_score(test_y_sr, preds)) * 100\n",
    "test_errors.append(error)\n",
    "print(error)"
   ]
  },
  {
   "cell_type": "markdown",
   "metadata": {
    "id": "tIfGSr09ExwJ"
   },
   "source": [
    "Ta thấy, mô hình cho độ lỗi 36.57% trên tập test"
   ]
  },
  {
   "cell_type": "code",
   "execution_count": null,
   "metadata": {
    "colab": {
     "base_uri": "https://localhost:8080/"
    },
    "id": "saEtGMA-3H9q",
    "outputId": "642510c0-785c-4e44-8f7f-e031a967ad16"
   },
   "outputs": [
    {
     "name": "stdout",
     "output_type": "stream",
     "text": [
      "              precision    recall  f1-score   support\n",
      "\n",
      "     non-hit       0.64      0.96      0.77       140\n",
      "         hit       0.25      0.03      0.05        76\n",
      "\n",
      "    accuracy                           0.63       216\n",
      "   macro avg       0.45      0.49      0.41       216\n",
      "weighted avg       0.51      0.63      0.52       216\n",
      "\n"
     ]
    }
   ],
   "source": [
    "print(classification_report(test_y_sr, preds, target_names= ['non-hit', 'hit']))"
   ]
  },
  {
   "cell_type": "markdown",
   "metadata": {
    "id": "Kbl4QBQviSsZ"
   },
   "source": [
    "### Mô hình k-NN"
   ]
  },
  {
   "cell_type": "markdown",
   "metadata": {
    "id": "KVSt9r6yGFBj"
   },
   "source": [
    "Với mô hình k-NN ta sẽ tiến hành thử nghiệm với siêu tham số `n_neighbors` thuộc các giá trị [3, 9, 27, 81, 243] và tiếp tục huấn luyện với phương pháp k_fold cross validation (k = 5)"
   ]
  },
  {
   "cell_type": "code",
   "execution_count": null,
   "metadata": {
    "colab": {
     "base_uri": "https://localhost:8080/",
     "height": 253
    },
    "id": "NdoPymC3iUxG",
    "outputId": "8f69d7cb-0f44-4c1e-b6cb-5a5471c49958"
   },
   "outputs": [
    {
     "data": {
      "text/html": [
       "<style>#sk-3faae5dc-88d1-41d5-afd0-669d29915c2d {color: black;background-color: white;}#sk-3faae5dc-88d1-41d5-afd0-669d29915c2d pre{padding: 0;}#sk-3faae5dc-88d1-41d5-afd0-669d29915c2d div.sk-toggleable {background-color: white;}#sk-3faae5dc-88d1-41d5-afd0-669d29915c2d label.sk-toggleable__label {cursor: pointer;display: block;width: 100%;margin-bottom: 0;padding: 0.2em 0.3em;box-sizing: border-box;text-align: center;}#sk-3faae5dc-88d1-41d5-afd0-669d29915c2d div.sk-toggleable__content {max-height: 0;max-width: 0;overflow: hidden;text-align: left;background-color: #f0f8ff;}#sk-3faae5dc-88d1-41d5-afd0-669d29915c2d div.sk-toggleable__content pre {margin: 0.2em;color: black;border-radius: 0.25em;background-color: #f0f8ff;}#sk-3faae5dc-88d1-41d5-afd0-669d29915c2d input.sk-toggleable__control:checked~div.sk-toggleable__content {max-height: 200px;max-width: 100%;overflow: auto;}#sk-3faae5dc-88d1-41d5-afd0-669d29915c2d div.sk-estimator input.sk-toggleable__control:checked~label.sk-toggleable__label {background-color: #d4ebff;}#sk-3faae5dc-88d1-41d5-afd0-669d29915c2d div.sk-label input.sk-toggleable__control:checked~label.sk-toggleable__label {background-color: #d4ebff;}#sk-3faae5dc-88d1-41d5-afd0-669d29915c2d input.sk-hidden--visually {border: 0;clip: rect(1px 1px 1px 1px);clip: rect(1px, 1px, 1px, 1px);height: 1px;margin: -1px;overflow: hidden;padding: 0;position: absolute;width: 1px;}#sk-3faae5dc-88d1-41d5-afd0-669d29915c2d div.sk-estimator {font-family: monospace;background-color: #f0f8ff;margin: 0.25em 0.25em;border: 1px dotted black;border-radius: 0.25em;box-sizing: border-box;}#sk-3faae5dc-88d1-41d5-afd0-669d29915c2d div.sk-estimator:hover {background-color: #d4ebff;}#sk-3faae5dc-88d1-41d5-afd0-669d29915c2d div.sk-parallel-item::after {content: \"\";width: 100%;border-bottom: 1px solid gray;flex-grow: 1;}#sk-3faae5dc-88d1-41d5-afd0-669d29915c2d div.sk-label:hover label.sk-toggleable__label {background-color: #d4ebff;}#sk-3faae5dc-88d1-41d5-afd0-669d29915c2d div.sk-serial::before {content: \"\";position: absolute;border-left: 1px solid gray;box-sizing: border-box;top: 2em;bottom: 0;left: 50%;}#sk-3faae5dc-88d1-41d5-afd0-669d29915c2d div.sk-serial {display: flex;flex-direction: column;align-items: center;background-color: white;}#sk-3faae5dc-88d1-41d5-afd0-669d29915c2d div.sk-item {z-index: 1;}#sk-3faae5dc-88d1-41d5-afd0-669d29915c2d div.sk-parallel {display: flex;align-items: stretch;justify-content: center;background-color: white;}#sk-3faae5dc-88d1-41d5-afd0-669d29915c2d div.sk-parallel-item {display: flex;flex-direction: column;position: relative;background-color: white;}#sk-3faae5dc-88d1-41d5-afd0-669d29915c2d div.sk-parallel-item:first-child::after {align-self: flex-end;width: 50%;}#sk-3faae5dc-88d1-41d5-afd0-669d29915c2d div.sk-parallel-item:last-child::after {align-self: flex-start;width: 50%;}#sk-3faae5dc-88d1-41d5-afd0-669d29915c2d div.sk-parallel-item:only-child::after {width: 0;}#sk-3faae5dc-88d1-41d5-afd0-669d29915c2d div.sk-dashed-wrapped {border: 1px dashed gray;margin: 0.2em;box-sizing: border-box;padding-bottom: 0.1em;background-color: white;position: relative;}#sk-3faae5dc-88d1-41d5-afd0-669d29915c2d div.sk-label label {font-family: monospace;font-weight: bold;background-color: white;display: inline-block;line-height: 1.2em;}#sk-3faae5dc-88d1-41d5-afd0-669d29915c2d div.sk-label-container {position: relative;z-index: 2;text-align: center;}#sk-3faae5dc-88d1-41d5-afd0-669d29915c2d div.sk-container {display: inline-block;position: relative;}</style><div id=\"sk-3faae5dc-88d1-41d5-afd0-669d29915c2d\" class\"sk-top-container\"><div class=\"sk-container\"><div class=\"sk-item sk-dashed-wrapped\"><div class=\"sk-label-container\"><div class=\"sk-label sk-toggleable\"><input class=\"sk-toggleable__control sk-hidden--visually\" id=\"984723eb-e7f3-4f63-8c5a-13939fc1f6fe\" type=\"checkbox\" ><label class=\"sk-toggleable__label\" for=\"984723eb-e7f3-4f63-8c5a-13939fc1f6fe\">Pipeline</label><div class=\"sk-toggleable__content\"><pre>Pipeline(steps=[('pipeline',\n",
       "                 Pipeline(steps=[('dropextractlyrics',\n",
       "                                  dropExtractLyrics(num_words=50)),\n",
       "                                 ('columntransformer',\n",
       "                                  ColumnTransformer(remainder=SimpleImputer(),\n",
       "                                                    transformers=[('simpleimputer',\n",
       "                                                                   SimpleImputer(strategy='most_frequent'),\n",
       "                                                                   ['time_signature'])])),\n",
       "                                 ('standardscaler', StandardScaler())])),\n",
       "                ('kneighborsclassifier', KNeighborsClassifier())])</pre></div></div></div><div class=\"sk-serial\"><div class=\"sk-item\"><div class=\"sk-label-container\"><div class=\"sk-label sk-toggleable\"><input class=\"sk-toggleable__control sk-hidden--visually\" id=\"aadc5b33-06b9-4aa5-ba4b-dac52dea21ae\" type=\"checkbox\" ><label class=\"sk-toggleable__label\" for=\"aadc5b33-06b9-4aa5-ba4b-dac52dea21ae\">pipeline: Pipeline</label><div class=\"sk-toggleable__content\"><pre>Pipeline(steps=[('dropextractlyrics', dropExtractLyrics(num_words=50)),\n",
       "                ('columntransformer',\n",
       "                 ColumnTransformer(remainder=SimpleImputer(),\n",
       "                                   transformers=[('simpleimputer',\n",
       "                                                  SimpleImputer(strategy='most_frequent'),\n",
       "                                                  ['time_signature'])])),\n",
       "                ('standardscaler', StandardScaler())])</pre></div></div></div><div class=\"sk-serial\"><div class=\"sk-item\"><div class=\"sk-estimator sk-toggleable\"><input class=\"sk-toggleable__control sk-hidden--visually\" id=\"f00529c0-edac-44e0-9f66-790a7b8c548b\" type=\"checkbox\" ><label class=\"sk-toggleable__label\" for=\"f00529c0-edac-44e0-9f66-790a7b8c548b\">dropExtractLyrics</label><div class=\"sk-toggleable__content\"><pre>dropExtractLyrics(num_words=50)</pre></div></div></div><div class=\"sk-item sk-dashed-wrapped\"><div class=\"sk-label-container\"><div class=\"sk-label sk-toggleable\"><input class=\"sk-toggleable__control sk-hidden--visually\" id=\"3e3981cf-cd57-4dcf-a9cd-c1704f28c091\" type=\"checkbox\" ><label class=\"sk-toggleable__label\" for=\"3e3981cf-cd57-4dcf-a9cd-c1704f28c091\">columntransformer: ColumnTransformer</label><div class=\"sk-toggleable__content\"><pre>ColumnTransformer(remainder=SimpleImputer(),\n",
       "                  transformers=[('simpleimputer',\n",
       "                                 SimpleImputer(strategy='most_frequent'),\n",
       "                                 ['time_signature'])])</pre></div></div></div><div class=\"sk-parallel\"><div class=\"sk-parallel-item\"><div class=\"sk-item\"><div class=\"sk-label-container\"><div class=\"sk-label sk-toggleable\"><input class=\"sk-toggleable__control sk-hidden--visually\" id=\"5a39bfbe-bfa2-4337-8d9e-4ddd8e25bddc\" type=\"checkbox\" ><label class=\"sk-toggleable__label\" for=\"5a39bfbe-bfa2-4337-8d9e-4ddd8e25bddc\">simpleimputer</label><div class=\"sk-toggleable__content\"><pre>['time_signature']</pre></div></div></div><div class=\"sk-serial\"><div class=\"sk-item\"><div class=\"sk-estimator sk-toggleable\"><input class=\"sk-toggleable__control sk-hidden--visually\" id=\"c1bf833d-8721-4029-90ed-61f3a36bc6af\" type=\"checkbox\" ><label class=\"sk-toggleable__label\" for=\"c1bf833d-8721-4029-90ed-61f3a36bc6af\">SimpleImputer</label><div class=\"sk-toggleable__content\"><pre>SimpleImputer(strategy='most_frequent')</pre></div></div></div></div></div></div><div class=\"sk-parallel-item\"><div class=\"sk-item\"><div class=\"sk-label-container\"><div class=\"sk-label sk-toggleable\"><input class=\"sk-toggleable__control sk-hidden--visually\" id=\"abd70b32-7748-4175-ba73-d71754005b24\" type=\"checkbox\" ><label class=\"sk-toggleable__label\" for=\"abd70b32-7748-4175-ba73-d71754005b24\">remainder</label><div class=\"sk-toggleable__content\"><pre>['pop_artist', 'artist_followers', 'available_market', 'acousticness', 'danceability', 'duration_ms', 'energy', 'loudness', 'speechiness', 'tempo', 'valence', 'I', 'like', 'yeah', 'got', 'know', 'and', 'love', 'you', 'na', 'get', 'babi', 'go', 'let', 'girl', 'wan', 'want', 'one', 'make', 'oh', 'say', 'Oh', 'see', 'gon', 'come', 'but', 'take', 'back', 'time', 'ai', 'hey', 'feel', 'We', 'never', 'ca', 'right', 'It', 'way', 'need', 'ooh', 'So', 'nigga', 'Do', 'night', 'tell', 'she', 'look', 'could', 'bitch', 'keep', 'If', 'neg', 'neu', 'pos']</pre></div></div></div><div class=\"sk-serial\"><div class=\"sk-item\"><div class=\"sk-estimator sk-toggleable\"><input class=\"sk-toggleable__control sk-hidden--visually\" id=\"acda2e0b-22f5-49f3-9ba0-11dbfa843ae6\" type=\"checkbox\" ><label class=\"sk-toggleable__label\" for=\"acda2e0b-22f5-49f3-9ba0-11dbfa843ae6\">SimpleImputer</label><div class=\"sk-toggleable__content\"><pre>SimpleImputer()</pre></div></div></div></div></div></div></div></div><div class=\"sk-item\"><div class=\"sk-estimator sk-toggleable\"><input class=\"sk-toggleable__control sk-hidden--visually\" id=\"7c7ade7a-4c73-4e9b-bbfe-87f7f89d4294\" type=\"checkbox\" ><label class=\"sk-toggleable__label\" for=\"7c7ade7a-4c73-4e9b-bbfe-87f7f89d4294\">StandardScaler</label><div class=\"sk-toggleable__content\"><pre>StandardScaler()</pre></div></div></div></div></div><div class=\"sk-item\"><div class=\"sk-estimator sk-toggleable\"><input class=\"sk-toggleable__control sk-hidden--visually\" id=\"e12bdcb5-a99a-4b38-9c77-314d589f8011\" type=\"checkbox\" ><label class=\"sk-toggleable__label\" for=\"e12bdcb5-a99a-4b38-9c77-314d589f8011\">KNeighborsClassifier</label><div class=\"sk-toggleable__content\"><pre>KNeighborsClassifier()</pre></div></div></div></div></div></div></div>"
      ],
      "text/plain": [
       "Pipeline(steps=[('pipeline',\n",
       "                 Pipeline(steps=[('dropextractlyrics',\n",
       "                                  dropExtractLyrics(num_words=50)),\n",
       "                                 ('columntransformer',\n",
       "                                  ColumnTransformer(remainder=SimpleImputer(),\n",
       "                                                    transformers=[('simpleimputer',\n",
       "                                                                   SimpleImputer(strategy='most_frequent'),\n",
       "                                                                   ['time_signature'])])),\n",
       "                                 ('standardscaler', StandardScaler())])),\n",
       "                ('kneighborsclassifier', KNeighborsClassifier())])"
      ]
     },
     "execution_count": 82,
     "metadata": {},
     "output_type": "execute_result"
    }
   ],
   "source": [
    "full_pipeline5 = make_pipeline(preprocess_pipeline, KNeighborsClassifier())\n",
    "full_pipeline5"
   ]
  },
  {
   "cell_type": "code",
   "execution_count": null,
   "metadata": {
    "id": "UxTINq6Em0Tw"
   },
   "outputs": [],
   "source": [
    "scores = []\n",
    "num_neighbors = [3, 9, 27, 81, 243]\n",
    "num_words = [5, 10, 20, 30, 50]\n",
    "for num in num_neighbors:\n",
    "  for num_word in num_words:\n",
    "    full_pipeline5.set_params(kneighborsclassifier__n_neighbors = num, pipeline__dropextractlyrics__num_words = num_word)\n",
    "    scores.append(cross_val_score(full_pipeline5, train_X_df, train_y_sr, cv = 5))"
   ]
  },
  {
   "cell_type": "code",
   "execution_count": null,
   "metadata": {
    "colab": {
     "base_uri": "https://localhost:8080/",
     "height": 350
    },
    "id": "lVvx7Td4px0L",
    "outputId": "501d3644-204d-42d0-ab15-8de5d01460a6"
   },
   "outputs": [
    {
     "data": {
      "text/plain": [
       "Text(69.0, 0.5, 'num_neighbors')"
      ]
     },
     "execution_count": 95,
     "metadata": {},
     "output_type": "execute_result"
    },
    {
     "data": {
      "image/png": "[encoded data removed]",
      "text/plain": [
       "<Figure size 720x360 with 1 Axes>"
      ]
     },
     "metadata": {
      "needs_background": "light"
     },
     "output_type": "display_data"
    }
   ],
   "source": [
    "train_errs_df = pd.DataFrame(data=np.array(errors).reshape(len(num_neighbors), -1),\n",
    "                             index=num_neighbors, columns=num_words)\n",
    "plt.figure(figsize=(10, 5))\n",
    "plt.subplot(1, 2, 1)\n",
    "sns.heatmap(train_errs_df, square=True, \n",
    "            annot=True, cbar=False, fmt='.2f', cmap='Blues')\n",
    "plt.title('train & valid errors'); plt.xlabel('num_words'); plt.ylabel('num_neighbors')"
   ]
  },
  {
   "cell_type": "code",
   "execution_count": null,
   "metadata": {
    "colab": {
     "base_uri": "https://localhost:8080/"
    },
    "id": "kQ-6vntdiJZE",
    "outputId": "f72b1718-6d51-4729-a6f1-a217e392bfbc"
   },
   "outputs": [
    {
     "data": {
      "text/plain": [
       "[44.154232184677156,\n",
       " 44.15490130478421,\n",
       " 44.39946470391436,\n",
       " 44.23686851789896,\n",
       " 43.418534626965545,\n",
       " 39.00568752091,\n",
       " 38.02275008364001,\n",
       " 40.147875543660085,\n",
       " 41.37136165941787,\n",
       " 41.127467380394776,\n",
       " 35.160923385747736,\n",
       " 35.488792238206756,\n",
       " 36.71261291401807,\n",
       " 37.52960856473737,\n",
       " 36.13984610237537,\n",
       " 35.323185011709604,\n",
       " 35.814319170291064,\n",
       " 35.569086651053865,\n",
       " 35.159250585480095,\n",
       " 35.322850451656066,\n",
       " 35.322850451656066,\n",
       " 35.322850451656066,\n",
       " 35.322850451656066,\n",
       " 35.322850451656066,\n",
       " 35.322850451656066]"
      ]
     },
     "execution_count": 96,
     "metadata": {},
     "output_type": "execute_result"
    }
   ],
   "source": [
    "errors"
   ]
  },
  {
   "cell_type": "markdown",
   "metadata": {
    "id": "uMWkJPvGIrgo"
   },
   "source": [
    "Ta thấy mô hình cho độ lỗi nhỏ nhất là 35.16% với `n_neighbors = 81` và `num_words = 30`, ta sẽ sử dụng mô hình này để dự đoán trên tập test."
   ]
  },
  {
   "cell_type": "code",
   "execution_count": null,
   "metadata": {
    "colab": {
     "base_uri": "https://localhost:8080/",
     "height": 253
    },
    "id": "wvKVhhTYJhcz",
    "outputId": "bc2380ca-36bc-4ef7-8e85-0962899c3386"
   },
   "outputs": [
    {
     "data": {
      "text/html": [
       "<style>#sk-2d2280b4-c503-475d-bcc4-984978ba22a4 {color: black;background-color: white;}#sk-2d2280b4-c503-475d-bcc4-984978ba22a4 pre{padding: 0;}#sk-2d2280b4-c503-475d-bcc4-984978ba22a4 div.sk-toggleable {background-color: white;}#sk-2d2280b4-c503-475d-bcc4-984978ba22a4 label.sk-toggleable__label {cursor: pointer;display: block;width: 100%;margin-bottom: 0;padding: 0.2em 0.3em;box-sizing: border-box;text-align: center;}#sk-2d2280b4-c503-475d-bcc4-984978ba22a4 div.sk-toggleable__content {max-height: 0;max-width: 0;overflow: hidden;text-align: left;background-color: #f0f8ff;}#sk-2d2280b4-c503-475d-bcc4-984978ba22a4 div.sk-toggleable__content pre {margin: 0.2em;color: black;border-radius: 0.25em;background-color: #f0f8ff;}#sk-2d2280b4-c503-475d-bcc4-984978ba22a4 input.sk-toggleable__control:checked~div.sk-toggleable__content {max-height: 200px;max-width: 100%;overflow: auto;}#sk-2d2280b4-c503-475d-bcc4-984978ba22a4 div.sk-estimator input.sk-toggleable__control:checked~label.sk-toggleable__label {background-color: #d4ebff;}#sk-2d2280b4-c503-475d-bcc4-984978ba22a4 div.sk-label input.sk-toggleable__control:checked~label.sk-toggleable__label {background-color: #d4ebff;}#sk-2d2280b4-c503-475d-bcc4-984978ba22a4 input.sk-hidden--visually {border: 0;clip: rect(1px 1px 1px 1px);clip: rect(1px, 1px, 1px, 1px);height: 1px;margin: -1px;overflow: hidden;padding: 0;position: absolute;width: 1px;}#sk-2d2280b4-c503-475d-bcc4-984978ba22a4 div.sk-estimator {font-family: monospace;background-color: #f0f8ff;margin: 0.25em 0.25em;border: 1px dotted black;border-radius: 0.25em;box-sizing: border-box;}#sk-2d2280b4-c503-475d-bcc4-984978ba22a4 div.sk-estimator:hover {background-color: #d4ebff;}#sk-2d2280b4-c503-475d-bcc4-984978ba22a4 div.sk-parallel-item::after {content: \"\";width: 100%;border-bottom: 1px solid gray;flex-grow: 1;}#sk-2d2280b4-c503-475d-bcc4-984978ba22a4 div.sk-label:hover label.sk-toggleable__label {background-color: #d4ebff;}#sk-2d2280b4-c503-475d-bcc4-984978ba22a4 div.sk-serial::before {content: \"\";position: absolute;border-left: 1px solid gray;box-sizing: border-box;top: 2em;bottom: 0;left: 50%;}#sk-2d2280b4-c503-475d-bcc4-984978ba22a4 div.sk-serial {display: flex;flex-direction: column;align-items: center;background-color: white;}#sk-2d2280b4-c503-475d-bcc4-984978ba22a4 div.sk-item {z-index: 1;}#sk-2d2280b4-c503-475d-bcc4-984978ba22a4 div.sk-parallel {display: flex;align-items: stretch;justify-content: center;background-color: white;}#sk-2d2280b4-c503-475d-bcc4-984978ba22a4 div.sk-parallel-item {display: flex;flex-direction: column;position: relative;background-color: white;}#sk-2d2280b4-c503-475d-bcc4-984978ba22a4 div.sk-parallel-item:first-child::after {align-self: flex-end;width: 50%;}#sk-2d2280b4-c503-475d-bcc4-984978ba22a4 div.sk-parallel-item:last-child::after {align-self: flex-start;width: 50%;}#sk-2d2280b4-c503-475d-bcc4-984978ba22a4 div.sk-parallel-item:only-child::after {width: 0;}#sk-2d2280b4-c503-475d-bcc4-984978ba22a4 div.sk-dashed-wrapped {border: 1px dashed gray;margin: 0.2em;box-sizing: border-box;padding-bottom: 0.1em;background-color: white;position: relative;}#sk-2d2280b4-c503-475d-bcc4-984978ba22a4 div.sk-label label {font-family: monospace;font-weight: bold;background-color: white;display: inline-block;line-height: 1.2em;}#sk-2d2280b4-c503-475d-bcc4-984978ba22a4 div.sk-label-container {position: relative;z-index: 2;text-align: center;}#sk-2d2280b4-c503-475d-bcc4-984978ba22a4 div.sk-container {display: inline-block;position: relative;}</style><div id=\"sk-2d2280b4-c503-475d-bcc4-984978ba22a4\" class\"sk-top-container\"><div class=\"sk-container\"><div class=\"sk-item sk-dashed-wrapped\"><div class=\"sk-label-container\"><div class=\"sk-label sk-toggleable\"><input class=\"sk-toggleable__control sk-hidden--visually\" id=\"dc8e0c74-b1f2-4ac6-8f97-1697d3469594\" type=\"checkbox\" ><label class=\"sk-toggleable__label\" for=\"dc8e0c74-b1f2-4ac6-8f97-1697d3469594\">Pipeline</label><div class=\"sk-toggleable__content\"><pre>Pipeline(steps=[('pipeline',\n",
       "                 Pipeline(steps=[('dropextractlyrics',\n",
       "                                  dropExtractLyrics(num_words=30)),\n",
       "                                 ('columntransformer',\n",
       "                                  ColumnTransformer(remainder=SimpleImputer(),\n",
       "                                                    transformers=[('simpleimputer',\n",
       "                                                                   SimpleImputer(strategy='most_frequent'),\n",
       "                                                                   ['time_signature'])])),\n",
       "                                 ('standardscaler', StandardScaler())])),\n",
       "                ('kneighborsclassifier', KNeighborsClassifier(n_neighbors=81))])</pre></div></div></div><div class=\"sk-serial\"><div class=\"sk-item\"><div class=\"sk-label-container\"><div class=\"sk-label sk-toggleable\"><input class=\"sk-toggleable__control sk-hidden--visually\" id=\"9a4e273b-b930-4113-bf6e-0c3390517b6e\" type=\"checkbox\" ><label class=\"sk-toggleable__label\" for=\"9a4e273b-b930-4113-bf6e-0c3390517b6e\">pipeline: Pipeline</label><div class=\"sk-toggleable__content\"><pre>Pipeline(steps=[('dropextractlyrics', dropExtractLyrics(num_words=30)),\n",
       "                ('columntransformer',\n",
       "                 ColumnTransformer(remainder=SimpleImputer(),\n",
       "                                   transformers=[('simpleimputer',\n",
       "                                                  SimpleImputer(strategy='most_frequent'),\n",
       "                                                  ['time_signature'])])),\n",
       "                ('standardscaler', StandardScaler())])</pre></div></div></div><div class=\"sk-serial\"><div class=\"sk-item\"><div class=\"sk-estimator sk-toggleable\"><input class=\"sk-toggleable__control sk-hidden--visually\" id=\"be03af42-3bc4-4f66-bc90-0f1cd43e03ee\" type=\"checkbox\" ><label class=\"sk-toggleable__label\" for=\"be03af42-3bc4-4f66-bc90-0f1cd43e03ee\">dropExtractLyrics</label><div class=\"sk-toggleable__content\"><pre>dropExtractLyrics(num_words=30)</pre></div></div></div><div class=\"sk-item sk-dashed-wrapped\"><div class=\"sk-label-container\"><div class=\"sk-label sk-toggleable\"><input class=\"sk-toggleable__control sk-hidden--visually\" id=\"3038f720-bbd9-40d7-b5c5-964d9404f54d\" type=\"checkbox\" ><label class=\"sk-toggleable__label\" for=\"3038f720-bbd9-40d7-b5c5-964d9404f54d\">columntransformer: ColumnTransformer</label><div class=\"sk-toggleable__content\"><pre>ColumnTransformer(remainder=SimpleImputer(),\n",
       "                  transformers=[('simpleimputer',\n",
       "                                 SimpleImputer(strategy='most_frequent'),\n",
       "                                 ['time_signature'])])</pre></div></div></div><div class=\"sk-parallel\"><div class=\"sk-parallel-item\"><div class=\"sk-item\"><div class=\"sk-label-container\"><div class=\"sk-label sk-toggleable\"><input class=\"sk-toggleable__control sk-hidden--visually\" id=\"20e9047e-7a4d-41c0-88b6-ec57cb2334b8\" type=\"checkbox\" ><label class=\"sk-toggleable__label\" for=\"20e9047e-7a4d-41c0-88b6-ec57cb2334b8\">simpleimputer</label><div class=\"sk-toggleable__content\"><pre>['time_signature']</pre></div></div></div><div class=\"sk-serial\"><div class=\"sk-item\"><div class=\"sk-estimator sk-toggleable\"><input class=\"sk-toggleable__control sk-hidden--visually\" id=\"8f0a4760-110a-42af-8a82-05854a2fc42a\" type=\"checkbox\" ><label class=\"sk-toggleable__label\" for=\"8f0a4760-110a-42af-8a82-05854a2fc42a\">SimpleImputer</label><div class=\"sk-toggleable__content\"><pre>SimpleImputer(strategy='most_frequent')</pre></div></div></div></div></div></div><div class=\"sk-parallel-item\"><div class=\"sk-item\"><div class=\"sk-label-container\"><div class=\"sk-label sk-toggleable\"><input class=\"sk-toggleable__control sk-hidden--visually\" id=\"5ad9dc62-7064-40b6-9e0c-5af3ef1f48a1\" type=\"checkbox\" ><label class=\"sk-toggleable__label\" for=\"5ad9dc62-7064-40b6-9e0c-5af3ef1f48a1\">remainder</label><div class=\"sk-toggleable__content\"><pre>['pop_artist', 'artist_followers', 'available_market', 'acousticness', 'danceability', 'duration_ms', 'energy', 'loudness', 'speechiness', 'tempo', 'valence', 'I', 'like', 'yeah', 'got', 'know', 'and', 'love', 'you', 'neg', 'neu', 'pos']</pre></div></div></div><div class=\"sk-serial\"><div class=\"sk-item\"><div class=\"sk-estimator sk-toggleable\"><input class=\"sk-toggleable__control sk-hidden--visually\" id=\"245e4fa0-1de1-4b5e-86f8-66d73c36b653\" type=\"checkbox\" ><label class=\"sk-toggleable__label\" for=\"245e4fa0-1de1-4b5e-86f8-66d73c36b653\">SimpleImputer</label><div class=\"sk-toggleable__content\"><pre>SimpleImputer()</pre></div></div></div></div></div></div></div></div><div class=\"sk-item\"><div class=\"sk-estimator sk-toggleable\"><input class=\"sk-toggleable__control sk-hidden--visually\" id=\"9055f61e-2bbd-4ce8-8ab3-2aa6a24ab97b\" type=\"checkbox\" ><label class=\"sk-toggleable__label\" for=\"9055f61e-2bbd-4ce8-8ab3-2aa6a24ab97b\">StandardScaler</label><div class=\"sk-toggleable__content\"><pre>StandardScaler()</pre></div></div></div></div></div><div class=\"sk-item\"><div class=\"sk-estimator sk-toggleable\"><input class=\"sk-toggleable__control sk-hidden--visually\" id=\"95729ea0-dc9d-4e2e-b010-4e0430a4a16b\" type=\"checkbox\" ><label class=\"sk-toggleable__label\" for=\"95729ea0-dc9d-4e2e-b010-4e0430a4a16b\">KNeighborsClassifier</label><div class=\"sk-toggleable__content\"><pre>KNeighborsClassifier(n_neighbors=81)</pre></div></div></div></div></div></div></div>"
      ],
      "text/plain": [
       "Pipeline(steps=[('pipeline',\n",
       "                 Pipeline(steps=[('dropextractlyrics',\n",
       "                                  dropExtractLyrics(num_words=30)),\n",
       "                                 ('columntransformer',\n",
       "                                  ColumnTransformer(remainder=SimpleImputer(),\n",
       "                                                    transformers=[('simpleimputer',\n",
       "                                                                   SimpleImputer(strategy='most_frequent'),\n",
       "                                                                   ['time_signature'])])),\n",
       "                                 ('standardscaler', StandardScaler())])),\n",
       "                ('kneighborsclassifier', KNeighborsClassifier(n_neighbors=81))])"
      ]
     },
     "execution_count": 108,
     "metadata": {},
     "output_type": "execute_result"
    }
   ],
   "source": [
    "num_words_best = num_words[np.argmin(errors) % 5]\n",
    "num_neighbors_best = num_neighbors[int(np.argmin(errors) / 5)]\n",
    "full_pipeline5.set_params(kneighborsclassifier__n_neighbors = num_neighbors_best,pipeline__dropextractlyrics__num_words = num_words_best)"
   ]
  },
  {
   "cell_type": "code",
   "execution_count": null,
   "metadata": {
    "colab": {
     "base_uri": "https://localhost:8080/"
    },
    "id": "ZYNHXu6ZJzkP",
    "outputId": "b5ecc9d8-be47-478c-d12b-01b663792c68"
   },
   "outputs": [
    {
     "name": "stdout",
     "output_type": "stream",
     "text": [
      "35.18518518518518\n"
     ]
    }
   ],
   "source": [
    "full_pipeline5.fit(train_X_df, train_y_sr)\n",
    "preds = full_pipeline5.predict(test_X_df)\n",
    "error = (1 - accuracy_score(test_y_sr, preds)) * 100\n",
    "test_errors.append(error)\n",
    "print(error)"
   ]
  },
  {
   "cell_type": "markdown",
   "metadata": {
    "id": "vqopOCoDJHWC"
   },
   "source": [
    "Trên tập test, mô hình cũng cho độ lỗi tương tự: 35.19%"
   ]
  },
  {
   "cell_type": "code",
   "execution_count": null,
   "metadata": {
    "colab": {
     "base_uri": "https://localhost:8080/"
    },
    "id": "FS1vb4b-J0Aq",
    "outputId": "a357a22c-953d-4b3b-d0c3-73ec82306389"
   },
   "outputs": [
    {
     "name": "stdout",
     "output_type": "stream",
     "text": [
      "              precision    recall  f1-score   support\n",
      "\n",
      "     non-hit       0.65      1.00      0.79       140\n",
      "         hit       0.00      0.00      0.00        76\n",
      "\n",
      "    accuracy                           0.65       216\n",
      "   macro avg       0.32      0.50      0.39       216\n",
      "weighted avg       0.42      0.65      0.51       216\n",
      "\n"
     ]
    },
    {
     "name": "stderr",
     "output_type": "stream",
     "text": [
      "/usr/local/lib/python3.7/dist-packages/sklearn/metrics/_classification.py:1248: UndefinedMetricWarning: Precision and F-score are ill-defined and being set to 0.0 in labels with no predicted samples. Use `zero_division` parameter to control this behavior.\n",
      "  _warn_prf(average, modifier, msg_start, len(result))\n",
      "/usr/local/lib/python3.7/dist-packages/sklearn/metrics/_classification.py:1248: UndefinedMetricWarning: Precision and F-score are ill-defined and being set to 0.0 in labels with no predicted samples. Use `zero_division` parameter to control this behavior.\n",
      "  _warn_prf(average, modifier, msg_start, len(result))\n",
      "/usr/local/lib/python3.7/dist-packages/sklearn/metrics/_classification.py:1248: UndefinedMetricWarning: Precision and F-score are ill-defined and being set to 0.0 in labels with no predicted samples. Use `zero_division` parameter to control this behavior.\n",
      "  _warn_prf(average, modifier, msg_start, len(result))\n"
     ]
    }
   ],
   "source": [
    "print(classification_report(test_y_sr, preds, target_names= ['non-hit', 'hit']))"
   ]
  },
  {
   "cell_type": "markdown",
   "metadata": {
    "id": "O9pYw44yUiJY"
   },
   "source": [
    "Tuy nhiên, và đặc biệt ở mô hình này khi nhìn vào thông số `precision` và `recall` ở lớp dự đoán `hit ~ 1` thì đều có chỉ số bằng 0. Hay nói cách khác mô hình chỉ toàn dự đoán ra 0 mà không dự đoán được bài hát nào trên tập test là 1.\n",
    "\n",
    "Có thể, do quy mô dữ liệu huấn luyện quá nhỏ nên đã không phù hợp với mô hình k-nn."
   ]
  },
  {
   "cell_type": "markdown",
   "metadata": {
    "id": "wnL1X2jUvEc7"
   },
   "source": [
    "### Tổng kết"
   ]
  },
  {
   "cell_type": "code",
   "execution_count": null,
   "metadata": {
    "colab": {
     "base_uri": "https://localhost:8080/",
     "height": 458
    },
    "id": "AFtFWcj0vwJ5",
    "outputId": "48635a13-85db-4757-d570-a4b86a3d298b"
   },
   "outputs": [
    {
     "data": {
      "image/png": "[encoded data removed]",
      "text/plain": [
       "<Figure size 1440x504 with 2 Axes>"
      ]
     },
     "metadata": {
      "needs_background": "light"
     },
     "output_type": "display_data"
    }
   ],
   "source": [
    "fig, (axs1, axs2) = plt.subplots(1, 2, figsize=(20,7))\n",
    "models = ['MLPClassifier', 'LogisticRegression', 'Random Forest', 'k-NN']\n",
    "axs1.bar(models, trainvalid_errors, color = 'c')\n",
    "axs1.set_title('Train & Valid  Errors')\n",
    "axs1.set_xlabel('Models')\n",
    "axs1.set_ylabel('Errors')\n",
    "\n",
    "axs2.bar(models, test_errors, color = 'm')\n",
    "axs2.set_title('Test  Errors')\n",
    "axs2.set_xlabel('Models')\n",
    "axs2.set_ylabel('Errors');"
   ]
  },
  {
   "cell_type": "markdown",
   "metadata": {
    "id": "ErG_1QTUM4N3"
   },
   "source": [
    "Thông qua 2 biểu đồ trên, ta có thể thấy cả 4 mô hình đều không hoạt động tốt trên cả dữ liệu train và test. Có lẽ do lý do khách quan là dữ liệu huấn luyện vẫn còn khá ít. \n",
    "- Mô hình Random Forest cho ra độ lỗi nhỏ nhất trong cả 2 tập: (train+valid) và tập test.\n",
    "- Các mô hình còn lại cho ra độ lỗi khá tương tự nhau ~35 %"
   ]
  },
  {
   "cell_type": "markdown",
   "metadata": {
    "id": "Epdtbl7rcZf-"
   },
   "source": [
    "## Ý tưởng cải tiến"
   ]
  },
  {
   "cell_type": "markdown",
   "metadata": {
    "id": "xvfGuDXbcboO"
   },
   "source": [
    "Có thể thấy các mô hình cho ra kết quả khá thấp. Nếu nhóm có nhiều thời gian hơn, nhóm sẽ thực hiện các phương pháp sau để cải thiện mô hình:\n",
    "- Thu thập nhiều dữ liệu hơn: \n",
    "    - Mở rộng phạm vi tìm kiếm dữ liệu, từ việc chỉ xét đến những bài hát xuất hiện trên bảng xếp hạng cuối năm Billboard Hot 100. Thì ta có thể mở ra \"toàn bộ\" (nhiều nhất có thể) những bài hát của năm đó và những bài hát xuất hiện ở trong bảng xếp hạng thì sẽ được xem là đáng nghe.\n",
    "    - Hiện tại, trong giai đoạn thu thập dữ liệu từ Spotify và Genius nhóm sử dụng thuần API từ 2 website này. Tuy nhiên, trong lúc sử dụng Search API để tìm kiếm bài hát trên 2 nền tảng này thì không phải lúc nào API cũng trả về kết quả như mong muốn. Do đó, khi mở rộng phạm vi tìm kiếm dữ liệu có lẽ nhóm sẽ chuyển sang sử dụng một số thư viện Python từ bên thứ 3 để hỗ trợ cho việc lấy dữ liệu: `spotipy` và `lyricsgenius`\n",
    "\n",
    "- Làm nhiều điều hơn với dữ liệu lời bài hát:\n",
    "    - Hiện tại, thì từ lời bài hát nhóm chỉ sử dụng những thông tin như: chỉ số tích cực/trung lập/tiêu cực, cũng như đếm số lần xuất hiện của một số từ `top_words` (những từ xuất hiện nhiều nhất) trong tập huấn luyện.\n",
    "    - Tuy nhiên, từ lời bài hát ta có thể làm được nhiều điều hơn như rút trích ra chủ đề chính của bài hát. Một bài hát xuất hiện trên bảng xếp hạng có thể do bài hát đó có chủ đề liên quan tới một trong những chủ đề nóng nhất của năm tương ứng??\n",
    "\n",
    "- Thử nghiệm với nhiều mô hình phức tạp hơn: DNN,..."
   ]
  }
 ],
 "metadata": {
  "colab": {
   "collapsed_sections": [],
   "name": "intro2ds - final project.ipynb",
   "provenance": [],
   "toc_visible": true
  },
  "kernelspec": {
   "display_name": "Python 3 (ipykernel)",
   "language": "python",
   "name": "python3"
  },
  "language_info": {
   "codemirror_mode": {
    "name": "ipython",
    "version": 3
   },
   "file_extension": ".py",
   "mimetype": "text/x-python",
   "name": "python",
   "nbconvert_exporter": "python",
   "pygments_lexer": "ipython3",
   "version": "3.8.8"
  }
 },
 "nbformat": 4,
 "nbformat_minor": 1
}
