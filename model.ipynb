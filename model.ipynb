{
 "cells": [
  {
   "cell_type": "markdown",
   "metadata": {
    "id": "MuQovCFx_fwn"
   },
   "source": [
    "# FINAL PROJECT - SONG'S WORTH TO LISTEN PREDICTION"
   ]
  },
  {
   "cell_type": "markdown",
   "metadata": {
    "id": "6-AsX8fkO4Vi"
   },
   "source": [
    "## Thư viện"
   ]
  },
  {
   "cell_type": "code",
   "execution_count": null,
   "metadata": {},
   "outputs": [],
   "source": [
    "#!conda install nltk\n",
    "#!pip instal nltk"
   ]
  },
  {
   "cell_type": "code",
   "execution_count": 4,
   "metadata": {
    "id": "FehfcwlJ5i6q"
   },
   "outputs": [],
   "source": [
    "import pandas as pd\n",
    "import numpy as np\n",
    "import nltk\n",
    "import matplotlib.pyplot as plt\n",
    "import seaborn as sns"
   ]
  },
  {
   "cell_type": "code",
   "execution_count": 5,
   "metadata": {
    "colab": {
     "base_uri": "https://localhost:8080/"
    },
    "id": "K9BTdbfXKMOY",
    "outputId": "4f4a3a07-2298-4d70-b1d4-559ea482d2cf"
   },
   "outputs": [
    {
     "name": "stdout",
     "output_type": "stream",
     "text": [
      "[nltk_data] Downloading package vader_lexicon to /root/nltk_data...\n",
      "[nltk_data] Downloading package punkt to /root/nltk_data...\n",
      "[nltk_data]   Unzipping tokenizers/punkt.zip.\n",
      "[nltk_data] Downloading package stopwords to /root/nltk_data...\n",
      "[nltk_data]   Unzipping corpora/stopwords.zip.\n"
     ]
    },
    {
     "name": "stderr",
     "output_type": "stream",
     "text": [
      "/usr/local/lib/python3.7/dist-packages/nltk/twitter/__init__.py:20: UserWarning: The twython library has not been installed. Some functionality from the twitter package will not be available.\n",
      "  warnings.warn(\"The twython library has not been installed. \"\n"
     ]
    }
   ],
   "source": [
    "nltk.download('vader_lexicon')\n",
    "nltk.download('punkt')\n",
    "nltk.download('stopwords')\n",
    "\n",
    "from nltk.sentiment.vader import SentimentIntensityAnalyzer\n",
    "from nltk.probability import FreqDist\n",
    "from nltk.corpus import stopwords\n",
    "from nltk.stem import PorterStemmer\n",
    "from nltk.tokenize import word_tokenize\n",
    "\n",
    "sid = SentimentIntensityAnalyzer()\n",
    "stop_words = set(stopwords.words(\"english\"))"
   ]
  },
  {
   "cell_type": "code",
   "execution_count": 6,
   "metadata": {
    "id": "ub3zkwnSbR6c"
   },
   "outputs": [],
   "source": [
    "from sklearn.model_selection import train_test_split, cross_val_score\n",
    "from sklearn import set_config\n",
    "from sklearn.preprocessing import FunctionTransformer, StandardScaler\n",
    "from sklearn.pipeline import Pipeline, make_pipeline\n",
    "from sklearn.compose import ColumnTransformer, make_column_transformer\n",
    "from sklearn.neural_network import MLPClassifier\n",
    "from sklearn.linear_model import LogisticRegression\n",
    "from sklearn.impute import SimpleImputer\n",
    "from sklearn.metrics import accuracy_score, classification_report\n",
    "from sklearn.ensemble import RandomForestClassifier\n",
    "from sklearn.naive_bayes import GaussianNB\n",
    "from sklearn.neighbors import KNeighborsClassifier\n",
    "from sklearn.base import BaseEstimator, TransformerMixin\n",
    "\n",
    "set_config(display='diagram') # Để trực quan hóa pipeline"
   ]
  },
  {
   "cell_type": "markdown",
   "metadata": {
    "id": "lDepMsNI3hbY"
   },
   "source": [
    "## Tải dữ liệu"
   ]
  },
  {
   "cell_type": "code",
   "execution_count": 7,
   "metadata": {
    "id": "5KqyptQM4jTZ"
   },
   "outputs": [],
   "source": [
    "! mkdir /content/data && cp -r /content/drive/MyDrive/KHTN/intro2ds/data/* /content/data/"
   ]
  },
  {
   "cell_type": "code",
   "execution_count": 8,
   "metadata": {
    "id": "67X65VKHerfQ"
   },
   "outputs": [],
   "source": [
    "data_df = pd.read_csv('/content/drive/MyDrive/KHTN/intro2ds/data/data.csv')"
   ]
  },
  {
   "cell_type": "code",
   "execution_count": 9,
   "metadata": {
    "id": "Pa88TnHT3j5M"
   },
   "outputs": [],
   "source": [
    "data_df = pd.read_csv('data/data.csv')"
   ]
  },
  {
   "cell_type": "markdown",
   "metadata": {
    "id": "BZ1Mc-tOxV1s"
   },
   "source": [
    "## Khám phá dữ liệu"
   ]
  },
  {
   "cell_type": "markdown",
   "metadata": {
    "id": "FOAg5C9UVGna"
   },
   "source": [
    "### Dữ liệu có bao nhiêu dòng, bao nhiêu cột?"
   ]
  },
  {
   "cell_type": "code",
   "execution_count": 10,
   "metadata": {
    "colab": {
     "base_uri": "https://localhost:8080/"
    },
    "id": "Ty15kvqaVM9U",
    "outputId": "a33a51a4-d3de-45af-9de4-868ce54db736"
   },
   "outputs": [
    {
     "data": {
      "text/plain": [
       "(1600, 20)"
      ]
     },
     "execution_count": 10,
     "metadata": {},
     "output_type": "execute_result"
    }
   ],
   "source": [
    "data_df.shape"
   ]
  },
  {
   "cell_type": "markdown",
   "metadata": {
    "id": "R37GEy69VnRI"
   },
   "source": [
    "### Mỗi dòng có ý nghĩa như thế nào?"
   ]
  },
  {
   "cell_type": "markdown",
   "metadata": {
    "id": "FA-r75ZGbQSn"
   },
   "source": [
    "Quan sát sơ bộ dữ liệu, ta thấy mỗi dòng dữ liệu sẽ có thông tin về một bài hát, và không có các dòng có ý nghĩa khác nhau."
   ]
  },
  {
   "cell_type": "markdown",
   "metadata": {
    "id": "EBVbcVjr-tQ9"
   },
   "source": [
    "### Kiểm tra xem có dòng dữ liệu nào bị lặp không (cùng tên bài hát - nghệ sĩ)?"
   ]
  },
  {
   "cell_type": "markdown",
   "metadata": {
    "id": "x9cBw17rVreg"
   },
   "source": [
    "Sở dĩ, ta chỉ kiểm tra xem các dòng dữ liệu có lặp 2 thuộc tính \"tên bài hát\" và \"tên nghệ sĩ\" hay không, mà không xét nguyên dòng dữ liệu là bởi vì trong dòng dữ liệu sẽ có thông tin về thứ hạng của bài hát cũng như năm tương ứng. \n",
    "\n",
    "Sẽ tồn tại những bài hát gặp trường hợp có mặt trên bảng xếp hạng của năm trước và vẫn tiếp tục xuất hiện trên bảng xếp hạng năm tiếp theo cùng với thứ hạng khác.\n",
    "\n",
    "Vậy nên khi kiểm tra dữ liệu lặp ta sẽ chỉ kiểm tra 2 thuộc tính \"tên bài hát\" và \"tên nghệ sĩ\"."
   ]
  },
  {
   "cell_type": "code",
   "execution_count": 11,
   "metadata": {
    "colab": {
     "base_uri": "https://localhost:8080/"
    },
    "id": "I52VPzESAFTt",
    "outputId": "ad7a2566-be89-4129-a26a-f395f0e3af27"
   },
   "outputs": [
    {
     "data": {
      "text/plain": [
       "161"
      ]
     },
     "execution_count": 11,
     "metadata": {},
     "output_type": "execute_result"
    }
   ],
   "source": [
    "#Check duplicated Song - Artist\n",
    "data_df['check'] = data_df['name'].str.lower() + data_df['artist'].str.lower()\n",
    "data_df['check'].duplicated().sum()"
   ]
  },
  {
   "cell_type": "code",
   "execution_count": 12,
   "metadata": {
    "id": "-Pxv-VViAQS6"
   },
   "outputs": [],
   "source": [
    "#Remove these duplicated songs\n",
    "data_df.drop_duplicates(['check'], inplace = True)"
   ]
  },
  {
   "cell_type": "code",
   "execution_count": 13,
   "metadata": {
    "colab": {
     "base_uri": "https://localhost:8080/"
    },
    "id": "QJYrTWjaD_U6",
    "outputId": "67e1858e-0970-4767-efb4-ab8f89cf9527"
   },
   "outputs": [
    {
     "data": {
      "text/plain": [
       "0"
      ]
     },
     "execution_count": 13,
     "metadata": {},
     "output_type": "execute_result"
    }
   ],
   "source": [
    "#Re-check the dataframe\n",
    "data_df['check'].duplicated().sum()"
   ]
  },
  {
   "cell_type": "code",
   "execution_count": 14,
   "metadata": {
    "colab": {
     "base_uri": "https://localhost:8080/",
     "height": 1000
    },
    "id": "QB2Qx-vNMXxO",
    "outputId": "04a3bb51-9a82-4a10-955c-4daec82af835"
   },
   "outputs": [
    {
     "data": {
      "text/html": [
       "<div>\n",
       "<style scoped>\n",
       "    .dataframe tbody tr th:only-of-type {\n",
       "        vertical-align: middle;\n",
       "    }\n",
       "\n",
       "    .dataframe tbody tr th {\n",
       "        vertical-align: top;\n",
       "    }\n",
       "\n",
       "    .dataframe thead th {\n",
       "        text-align: right;\n",
       "    }\n",
       "</style>\n",
       "<table border=\"1\" class=\"dataframe\">\n",
       "  <thead>\n",
       "    <tr style=\"text-align: right;\">\n",
       "      <th></th>\n",
       "      <th>rank</th>\n",
       "      <th>name</th>\n",
       "      <th>artist</th>\n",
       "      <th>year</th>\n",
       "      <th>pop_artist</th>\n",
       "      <th>artist_followers</th>\n",
       "      <th>available_market</th>\n",
       "      <th>pop_track</th>\n",
       "      <th>acousticness</th>\n",
       "      <th>danceability</th>\n",
       "      <th>duration_ms</th>\n",
       "      <th>energy</th>\n",
       "      <th>instrumentalness</th>\n",
       "      <th>liveness</th>\n",
       "      <th>loudness</th>\n",
       "      <th>speechiness</th>\n",
       "      <th>tempo</th>\n",
       "      <th>time_signature</th>\n",
       "      <th>valence</th>\n",
       "      <th>lyrics</th>\n",
       "    </tr>\n",
       "  </thead>\n",
       "  <tbody>\n",
       "    <tr>\n",
       "      <th>0</th>\n",
       "      <td>1</td>\n",
       "      <td>We Belong Together</td>\n",
       "      <td>Mariah Carey</td>\n",
       "      <td>2005</td>\n",
       "      <td>78.0</td>\n",
       "      <td>6995024.0</td>\n",
       "      <td>3.0</td>\n",
       "      <td>69.0</td>\n",
       "      <td>0.03390</td>\n",
       "      <td>0.837</td>\n",
       "      <td>201400.0</td>\n",
       "      <td>0.462</td>\n",
       "      <td>0.000000</td>\n",
       "      <td>0.0900</td>\n",
       "      <td>-7.890</td>\n",
       "      <td>0.0601</td>\n",
       "      <td>139.986</td>\n",
       "      <td>4.0</td>\n",
       "      <td>0.762</td>\n",
       "      <td>Sweet love, yeah  I didn't mean it when I said...</td>\n",
       "    </tr>\n",
       "    <tr>\n",
       "      <th>1</th>\n",
       "      <td>2</td>\n",
       "      <td>Hollaback Girl</td>\n",
       "      <td>Gwen Stefani</td>\n",
       "      <td>2005</td>\n",
       "      <td>75.0</td>\n",
       "      <td>4859586.0</td>\n",
       "      <td>165.0</td>\n",
       "      <td>68.0</td>\n",
       "      <td>0.35000</td>\n",
       "      <td>0.926</td>\n",
       "      <td>199853.0</td>\n",
       "      <td>0.916</td>\n",
       "      <td>0.000006</td>\n",
       "      <td>0.0234</td>\n",
       "      <td>-2.221</td>\n",
       "      <td>0.0929</td>\n",
       "      <td>110.007</td>\n",
       "      <td>4.0</td>\n",
       "      <td>0.904</td>\n",
       "      <td>Uh-huh, this my shit All the girls, stomp your...</td>\n",
       "    </tr>\n",
       "    <tr>\n",
       "      <th>2</th>\n",
       "      <td>3</td>\n",
       "      <td>Let Me Love You</td>\n",
       "      <td>Mario</td>\n",
       "      <td>2005</td>\n",
       "      <td>67.0</td>\n",
       "      <td>2367100.0</td>\n",
       "      <td>143.0</td>\n",
       "      <td>72.0</td>\n",
       "      <td>0.23500</td>\n",
       "      <td>0.656</td>\n",
       "      <td>256733.0</td>\n",
       "      <td>0.578</td>\n",
       "      <td>0.000000</td>\n",
       "      <td>0.1180</td>\n",
       "      <td>-8.970</td>\n",
       "      <td>0.0922</td>\n",
       "      <td>94.514</td>\n",
       "      <td>4.0</td>\n",
       "      <td>0.556</td>\n",
       "      <td>Mmmm, ah Mmmm, yeah Mmmm Yeah, yeah, yeah Mmmm...</td>\n",
       "    </tr>\n",
       "    <tr>\n",
       "      <th>3</th>\n",
       "      <td>4</td>\n",
       "      <td>Since U Been Gone</td>\n",
       "      <td>Kelly Clarkson</td>\n",
       "      <td>2005</td>\n",
       "      <td>75.0</td>\n",
       "      <td>7955803.0</td>\n",
       "      <td>178.0</td>\n",
       "      <td>70.0</td>\n",
       "      <td>0.00165</td>\n",
       "      <td>0.662</td>\n",
       "      <td>188960.0</td>\n",
       "      <td>0.741</td>\n",
       "      <td>0.030300</td>\n",
       "      <td>0.1140</td>\n",
       "      <td>-5.406</td>\n",
       "      <td>0.0334</td>\n",
       "      <td>131.000</td>\n",
       "      <td>4.0</td>\n",
       "      <td>0.404</td>\n",
       "      <td>Here's the thing, we started out friends It wa...</td>\n",
       "    </tr>\n",
       "    <tr>\n",
       "      <th>4</th>\n",
       "      <td>5</td>\n",
       "      <td>1, 2 Step</td>\n",
       "      <td>Ciara featuring Missy Elliott</td>\n",
       "      <td>2005</td>\n",
       "      <td>72.0</td>\n",
       "      <td>5209750.0</td>\n",
       "      <td>178.0</td>\n",
       "      <td>73.0</td>\n",
       "      <td>0.04200</td>\n",
       "      <td>0.944</td>\n",
       "      <td>203787.0</td>\n",
       "      <td>0.511</td>\n",
       "      <td>0.001070</td>\n",
       "      <td>0.0379</td>\n",
       "      <td>-10.960</td>\n",
       "      <td>0.1610</td>\n",
       "      <td>113.046</td>\n",
       "      <td>4.0</td>\n",
       "      <td>0.842</td>\n",
       "      <td>Ladies and Gentlemen Ladies and Gentlemen This...</td>\n",
       "    </tr>\n",
       "    <tr>\n",
       "      <th>...</th>\n",
       "      <td>...</td>\n",
       "      <td>...</td>\n",
       "      <td>...</td>\n",
       "      <td>...</td>\n",
       "      <td>...</td>\n",
       "      <td>...</td>\n",
       "      <td>...</td>\n",
       "      <td>...</td>\n",
       "      <td>...</td>\n",
       "      <td>...</td>\n",
       "      <td>...</td>\n",
       "      <td>...</td>\n",
       "      <td>...</td>\n",
       "      <td>...</td>\n",
       "      <td>...</td>\n",
       "      <td>...</td>\n",
       "      <td>...</td>\n",
       "      <td>...</td>\n",
       "      <td>...</td>\n",
       "      <td>...</td>\n",
       "    </tr>\n",
       "    <tr>\n",
       "      <th>1595</th>\n",
       "      <td>96</td>\n",
       "      <td>More Than My Hometown</td>\n",
       "      <td>Morgan Wallen</td>\n",
       "      <td>2020</td>\n",
       "      <td>83.0</td>\n",
       "      <td>2238350.0</td>\n",
       "      <td>178.0</td>\n",
       "      <td>74.0</td>\n",
       "      <td>0.61500</td>\n",
       "      <td>0.620</td>\n",
       "      <td>216573.0</td>\n",
       "      <td>0.869</td>\n",
       "      <td>0.000000</td>\n",
       "      <td>0.1310</td>\n",
       "      <td>-5.479</td>\n",
       "      <td>0.0462</td>\n",
       "      <td>126.019</td>\n",
       "      <td>4.0</td>\n",
       "      <td>0.597</td>\n",
       "      <td>Girl, our mamas are best friends and so are we...</td>\n",
       "    </tr>\n",
       "    <tr>\n",
       "      <th>1596</th>\n",
       "      <td>97</td>\n",
       "      <td>Lovin' on You</td>\n",
       "      <td>Luke Combs</td>\n",
       "      <td>2020</td>\n",
       "      <td>82.0</td>\n",
       "      <td>5474485.0</td>\n",
       "      <td>178.0</td>\n",
       "      <td>69.0</td>\n",
       "      <td>0.00165</td>\n",
       "      <td>0.572</td>\n",
       "      <td>194867.0</td>\n",
       "      <td>0.949</td>\n",
       "      <td>0.000195</td>\n",
       "      <td>0.1630</td>\n",
       "      <td>-4.865</td>\n",
       "      <td>0.0600</td>\n",
       "      <td>118.974</td>\n",
       "      <td>4.0</td>\n",
       "      <td>0.530</td>\n",
       "      <td>Don't get me wrong I like a bobber on the wate...</td>\n",
       "    </tr>\n",
       "    <tr>\n",
       "      <th>1597</th>\n",
       "      <td>98</td>\n",
       "      <td>Said Sum</td>\n",
       "      <td>Moneybagg Yo</td>\n",
       "      <td>2020</td>\n",
       "      <td>80.0</td>\n",
       "      <td>2307788.0</td>\n",
       "      <td>178.0</td>\n",
       "      <td>69.0</td>\n",
       "      <td>0.01850</td>\n",
       "      <td>0.929</td>\n",
       "      <td>155168.0</td>\n",
       "      <td>0.667</td>\n",
       "      <td>0.000000</td>\n",
       "      <td>0.1000</td>\n",
       "      <td>-6.789</td>\n",
       "      <td>0.3530</td>\n",
       "      <td>126.998</td>\n",
       "      <td>4.0</td>\n",
       "      <td>0.274</td>\n",
       "      <td>Turn me up, YC  Huh? What? Ah, I thought a bro...</td>\n",
       "    </tr>\n",
       "    <tr>\n",
       "      <th>1598</th>\n",
       "      <td>99</td>\n",
       "      <td>Slide</td>\n",
       "      <td>H.E.R. featuring YG</td>\n",
       "      <td>2020</td>\n",
       "      <td>79.0</td>\n",
       "      <td>4240318.0</td>\n",
       "      <td>177.0</td>\n",
       "      <td>67.0</td>\n",
       "      <td>0.08070</td>\n",
       "      <td>0.832</td>\n",
       "      <td>238321.0</td>\n",
       "      <td>0.469</td>\n",
       "      <td>0.000008</td>\n",
       "      <td>0.2070</td>\n",
       "      <td>-9.141</td>\n",
       "      <td>0.3390</td>\n",
       "      <td>97.023</td>\n",
       "      <td>4.0</td>\n",
       "      <td>0.197</td>\n",
       "      <td>You always wearin' them glasses You don't wann...</td>\n",
       "    </tr>\n",
       "    <tr>\n",
       "      <th>1599</th>\n",
       "      <td>100</td>\n",
       "      <td>Walk Em Down</td>\n",
       "      <td>NLE Choppa featuring Roddy Ricch</td>\n",
       "      <td>2020</td>\n",
       "      <td>84.0</td>\n",
       "      <td>6751879.0</td>\n",
       "      <td>178.0</td>\n",
       "      <td>72.0</td>\n",
       "      <td>0.26800</td>\n",
       "      <td>0.867</td>\n",
       "      <td>173288.0</td>\n",
       "      <td>0.744</td>\n",
       "      <td>0.000000</td>\n",
       "      <td>0.0713</td>\n",
       "      <td>-5.171</td>\n",
       "      <td>0.2270</td>\n",
       "      <td>84.005</td>\n",
       "      <td>4.0</td>\n",
       "      <td>0.645</td>\n",
       "      <td>CashMoneyAP Ooh, ooh, no, no NLE the Top Shott...</td>\n",
       "    </tr>\n",
       "  </tbody>\n",
       "</table>\n",
       "<p>1439 rows × 20 columns</p>\n",
       "</div>"
      ],
      "text/plain": [
       "      rank  ...                                             lyrics\n",
       "0        1  ...  Sweet love, yeah  I didn't mean it when I said...\n",
       "1        2  ...  Uh-huh, this my shit All the girls, stomp your...\n",
       "2        3  ...  Mmmm, ah Mmmm, yeah Mmmm Yeah, yeah, yeah Mmmm...\n",
       "3        4  ...  Here's the thing, we started out friends It wa...\n",
       "4        5  ...  Ladies and Gentlemen Ladies and Gentlemen This...\n",
       "...    ...  ...                                                ...\n",
       "1595    96  ...  Girl, our mamas are best friends and so are we...\n",
       "1596    97  ...  Don't get me wrong I like a bobber on the wate...\n",
       "1597    98  ...  Turn me up, YC  Huh? What? Ah, I thought a bro...\n",
       "1598    99  ...  You always wearin' them glasses You don't wann...\n",
       "1599   100  ...  CashMoneyAP Ooh, ooh, no, no NLE the Top Shott...\n",
       "\n",
       "[1439 rows x 20 columns]"
      ]
     },
     "execution_count": 14,
     "metadata": {},
     "output_type": "execute_result"
    }
   ],
   "source": [
    "data_df.drop('check', axis = 1, inplace = True)\n",
    "data_df"
   ]
  },
  {
   "cell_type": "markdown",
   "metadata": {
    "id": "pBB_59h9VNnd"
   },
   "source": [
    "### Mỗi cột có ý nghĩa gì?"
   ]
  },
  {
   "cell_type": "markdown",
   "metadata": {
    "id": "JQcopsobVXr4"
   },
   "source": [
    "Đọc từ file `summary.csv`"
   ]
  },
  {
   "cell_type": "code",
   "execution_count": 15,
   "metadata": {
    "id": "JXqeLJmbeQv0"
   },
   "outputs": [],
   "source": [
    "pd.set_option('display.max_colwidth', None)"
   ]
  },
  {
   "cell_type": "code",
   "execution_count": 16,
   "metadata": {
    "colab": {
     "base_uri": "https://localhost:8080/",
     "height": 754
    },
    "id": "WFc5RVFcVUCu",
    "outputId": "26554508-11b0-489b-94a7-624bf22405ad"
   },
   "outputs": [
    {
     "data": {
      "text/html": [
       "<div>\n",
       "<style scoped>\n",
       "    .dataframe tbody tr th:only-of-type {\n",
       "        vertical-align: middle;\n",
       "    }\n",
       "\n",
       "    .dataframe tbody tr th {\n",
       "        vertical-align: top;\n",
       "    }\n",
       "\n",
       "    .dataframe thead th {\n",
       "        text-align: right;\n",
       "    }\n",
       "</style>\n",
       "<table border=\"1\" class=\"dataframe\">\n",
       "  <thead>\n",
       "    <tr style=\"text-align: right;\">\n",
       "      <th></th>\n",
       "      <th>Properties</th>\n",
       "      <th>Meaning</th>\n",
       "    </tr>\n",
       "  </thead>\n",
       "  <tbody>\n",
       "    <tr>\n",
       "      <th>0</th>\n",
       "      <td>rank</td>\n",
       "      <td>Rank on the year chart</td>\n",
       "    </tr>\n",
       "    <tr>\n",
       "      <th>1</th>\n",
       "      <td>name</td>\n",
       "      <td>Name of track</td>\n",
       "    </tr>\n",
       "    <tr>\n",
       "      <th>2</th>\n",
       "      <td>artist</td>\n",
       "      <td>Name the performer of the song</td>\n",
       "    </tr>\n",
       "    <tr>\n",
       "      <th>3</th>\n",
       "      <td>year</td>\n",
       "      <td>Year of the song chart reached the rank</td>\n",
       "    </tr>\n",
       "    <tr>\n",
       "      <th>4</th>\n",
       "      <td>pop_artist</td>\n",
       "      <td>The popularity of the artist. The value will be between 0 and 100, with 100 being the most popular. The artist's popularity is calculated from the popularity of all the artist's tracks.</td>\n",
       "    </tr>\n",
       "    <tr>\n",
       "      <th>5</th>\n",
       "      <td>artist_followers</td>\n",
       "      <td>Number of followers</td>\n",
       "    </tr>\n",
       "    <tr>\n",
       "      <th>6</th>\n",
       "      <td>available_market</td>\n",
       "      <td>Number of countries that have released the track</td>\n",
       "    </tr>\n",
       "    <tr>\n",
       "      <th>7</th>\n",
       "      <td>pop_track</td>\n",
       "      <td>The popularity of the track. The value will be between 0 and 100, with 100 being the most popular.</td>\n",
       "    </tr>\n",
       "    <tr>\n",
       "      <th>8</th>\n",
       "      <td>acousticness</td>\n",
       "      <td>A measure from 0.0 to 1.0 of whether the track is acoustic.</td>\n",
       "    </tr>\n",
       "    <tr>\n",
       "      <th>9</th>\n",
       "      <td>danceability</td>\n",
       "      <td>Danceability describes how suitable a track is for dancing based on a combination of musical elements including tempo rhythm stability beat strength and overall regularity. A value of 0.0 is least danceable and 1.0 is most danceable.</td>\n",
       "    </tr>\n",
       "    <tr>\n",
       "      <th>10</th>\n",
       "      <td>duration_ms</td>\n",
       "      <td>Track duration(ms)</td>\n",
       "    </tr>\n",
       "    <tr>\n",
       "      <th>11</th>\n",
       "      <td>energy</td>\n",
       "      <td>Energy is a measure from 0.0 to 1.0 and represents a perceptual measure of intensity and activity. Typically energetic tracks feel fast loud and noisy.</td>\n",
       "    </tr>\n",
       "    <tr>\n",
       "      <th>12</th>\n",
       "      <td>instrumentalness</td>\n",
       "      <td>Predicts whether a track contains no vocals. The closer the instrumentalness value is to 1.0 the greater likelihood the track contains no vocal content</td>\n",
       "    </tr>\n",
       "    <tr>\n",
       "      <th>13</th>\n",
       "      <td>liveness</td>\n",
       "      <td>Detects the presence of an audience in the recording. Higher liveness values represent an increased probability that the track was performed live.</td>\n",
       "    </tr>\n",
       "    <tr>\n",
       "      <th>14</th>\n",
       "      <td>loudness</td>\n",
       "      <td>The overall loudness of a track in decibels (dB).Loudness values are averaged across the entire track. Values typical range between -60 and 0 db.</td>\n",
       "    </tr>\n",
       "    <tr>\n",
       "      <th>15</th>\n",
       "      <td>speechiness</td>\n",
       "      <td>Speechiness detects the presence of spoken words in a track. The more exclusively speech-like the recording (e.g. talk show audio book poetry) the closer to 1.0 the attribute value.</td>\n",
       "    </tr>\n",
       "    <tr>\n",
       "      <th>16</th>\n",
       "      <td>tempo</td>\n",
       "      <td>The overall estimated tempo of a track in beats per minute (BPM). In musical terminology tempo is the speed or pace of a given piece and derives directly from the average beat duration.</td>\n",
       "    </tr>\n",
       "    <tr>\n",
       "      <th>17</th>\n",
       "      <td>time_signature</td>\n",
       "      <td>Specify how many beats (pulses) are contained in each measure (bar), and which note value is equivalent to a beat.</td>\n",
       "    </tr>\n",
       "    <tr>\n",
       "      <th>18</th>\n",
       "      <td>valence</td>\n",
       "      <td>A measure from 0.0 to 1.0 describing the musical positiveness conveyed by a track. Tracks with high valence sound more positive (e.g. happy cheerful euphoric) while tracks with low valence sound more negative (e.g. sad depressed angry).</td>\n",
       "    </tr>\n",
       "    <tr>\n",
       "      <th>19</th>\n",
       "      <td>lyrics</td>\n",
       "      <td>Lyrics of track</td>\n",
       "    </tr>\n",
       "  </tbody>\n",
       "</table>\n",
       "</div>"
      ],
      "text/plain": [
       "          Properties                                                                                                                                                                                                                                       Meaning\n",
       "0               rank                                                                                                                                                                                                                        Rank on the year chart\n",
       "1               name                                                                                                                                                                                                                                 Name of track\n",
       "2             artist                                                                                                                                                                                                               Name the performer of the song \n",
       "3               year                                                                                                                                                                                                       Year of the song chart reached the rank\n",
       "4         pop_artist                                                     The popularity of the artist. The value will be between 0 and 100, with 100 being the most popular. The artist's popularity is calculated from the popularity of all the artist's tracks.\n",
       "5   artist_followers                                                                                                                                                                                                                           Number of followers\n",
       "6   available_market                                                                                                                                                                                              Number of countries that have released the track\n",
       "7          pop_track                                                                                                                                            The popularity of the track. The value will be between 0 and 100, with 100 being the most popular.\n",
       "8       acousticness                                                                                                                                                                                   A measure from 0.0 to 1.0 of whether the track is acoustic.\n",
       "9       danceability     Danceability describes how suitable a track is for dancing based on a combination of musical elements including tempo rhythm stability beat strength and overall regularity. A value of 0.0 is least danceable and 1.0 is most danceable.\n",
       "10       duration_ms                                                                                                                                                                                                                            Track duration(ms)\n",
       "11            energy                                                                                       Energy is a measure from 0.0 to 1.0 and represents a perceptual measure of intensity and activity. Typically energetic tracks feel fast loud and noisy.\n",
       "12  instrumentalness                                                                                       Predicts whether a track contains no vocals. The closer the instrumentalness value is to 1.0 the greater likelihood the track contains no vocal content\n",
       "13          liveness                                                                                            Detects the presence of an audience in the recording. Higher liveness values represent an increased probability that the track was performed live.\n",
       "14          loudness                                                                                             The overall loudness of a track in decibels (dB).Loudness values are averaged across the entire track. Values typical range between -60 and 0 db.\n",
       "15       speechiness                                                         Speechiness detects the presence of spoken words in a track. The more exclusively speech-like the recording (e.g. talk show audio book poetry) the closer to 1.0 the attribute value.\n",
       "16             tempo                                                     The overall estimated tempo of a track in beats per minute (BPM). In musical terminology tempo is the speed or pace of a given piece and derives directly from the average beat duration.\n",
       "17    time_signature                                                                                                                            Specify how many beats (pulses) are contained in each measure (bar), and which note value is equivalent to a beat.\n",
       "18           valence  A measure from 0.0 to 1.0 describing the musical positiveness conveyed by a track. Tracks with high valence sound more positive (e.g. happy cheerful euphoric) while tracks with low valence sound more negative (e.g. sad depressed angry).\n",
       "19            lyrics                                                                                                                                                                                                                               Lyrics of track"
      ]
     },
     "execution_count": 16,
     "metadata": {},
     "output_type": "execute_result"
    }
   ],
   "source": [
    "df_meaning = pd.read_csv('data/summary.csv')\n",
    "df_meaning"
   ]
  },
  {
   "cell_type": "markdown",
   "metadata": {
    "id": "4sRRkh3nW-ep"
   },
   "source": [
    "## Đưa ra câu hỏi cần trả lời"
   ]
  },
  {
   "cell_type": "markdown",
   "metadata": {
    "id": "pO4j2XSEXB25"
   },
   "source": [
    "Từ bước trên, ta có thể thấy được trong bộ dữ liệu đầu vào sẽ có các thông tin về nghệ sĩ, về audio của bài hát cũng như lời bài hát.\n",
    "\n",
    "Từ những thông tin liên quan đến bài hát này nhóm muốn trả lời câu hỏi rằng: **\"Bài hát nào đáng nghe nhất?\"**. Và nhóm giả định rằng bài hát đáng nghe sẽ là bài hát thuộc top 35 trong số 100 bài hát nằm trong bảng xếp hạng Billboard Yead-end Hot 100. \n",
    "\n",
    "Như vậy, câu hỏi cần trả lời sẽ là:\n",
    "\n",
    "*Output - đáng nghe/không đáng nghe* ~ được tính từ *input - thông tin bài hát (thông tin audio, nghệ sĩ, lời bài hát)* ~ theo công thức nào?\n",
    "\n",
    "Sau khi trả lời được câu hỏi này, đặt vào trường hợp người dùng là những người bận rộn, không có nhiều thời gian rảnh rỗi. Vậy từ những thông tin về audio, nghệ sĩ cũng như lời bài hát ta mong đợi rằng có thể dự đoán được rằng liệu bài hát đó có đáng để nghe theo như tiêu chí đặt ra ban đầu của nhóm hay không? (nằm trong top 35 bảng xếp hạng cuối năm)\n",
    "\n",
    "Vì trong bộ dữ liệu chưa có cột output nên ta sẽ xây dựng cột output, đặt tên là `hit` được tính từ cột `rank`."
   ]
  },
  {
   "cell_type": "code",
   "execution_count": 17,
   "metadata": {
    "id": "gv5hXDYRmCih"
   },
   "outputs": [],
   "source": [
    "pd.reset_option('display')"
   ]
  },
  {
   "cell_type": "code",
   "execution_count": 18,
   "metadata": {
    "colab": {
     "base_uri": "https://localhost:8080/",
     "height": 1000
    },
    "id": "xa1nzjU2lfFM",
    "outputId": "682f2df9-f6eb-4506-d476-3c32ff4a6778"
   },
   "outputs": [
    {
     "data": {
      "text/html": [
       "<div>\n",
       "<style scoped>\n",
       "    .dataframe tbody tr th:only-of-type {\n",
       "        vertical-align: middle;\n",
       "    }\n",
       "\n",
       "    .dataframe tbody tr th {\n",
       "        vertical-align: top;\n",
       "    }\n",
       "\n",
       "    .dataframe thead th {\n",
       "        text-align: right;\n",
       "    }\n",
       "</style>\n",
       "<table border=\"1\" class=\"dataframe\">\n",
       "  <thead>\n",
       "    <tr style=\"text-align: right;\">\n",
       "      <th></th>\n",
       "      <th>rank</th>\n",
       "      <th>name</th>\n",
       "      <th>artist</th>\n",
       "      <th>year</th>\n",
       "      <th>pop_artist</th>\n",
       "      <th>artist_followers</th>\n",
       "      <th>available_market</th>\n",
       "      <th>pop_track</th>\n",
       "      <th>acousticness</th>\n",
       "      <th>danceability</th>\n",
       "      <th>duration_ms</th>\n",
       "      <th>energy</th>\n",
       "      <th>instrumentalness</th>\n",
       "      <th>liveness</th>\n",
       "      <th>loudness</th>\n",
       "      <th>speechiness</th>\n",
       "      <th>tempo</th>\n",
       "      <th>time_signature</th>\n",
       "      <th>valence</th>\n",
       "      <th>lyrics</th>\n",
       "      <th>hit</th>\n",
       "    </tr>\n",
       "  </thead>\n",
       "  <tbody>\n",
       "    <tr>\n",
       "      <th>0</th>\n",
       "      <td>1</td>\n",
       "      <td>We Belong Together</td>\n",
       "      <td>Mariah Carey</td>\n",
       "      <td>2005</td>\n",
       "      <td>78.0</td>\n",
       "      <td>6995024.0</td>\n",
       "      <td>3.0</td>\n",
       "      <td>69.0</td>\n",
       "      <td>0.03390</td>\n",
       "      <td>0.837</td>\n",
       "      <td>201400.0</td>\n",
       "      <td>0.462</td>\n",
       "      <td>0.000000</td>\n",
       "      <td>0.0900</td>\n",
       "      <td>-7.890</td>\n",
       "      <td>0.0601</td>\n",
       "      <td>139.986</td>\n",
       "      <td>4.0</td>\n",
       "      <td>0.762</td>\n",
       "      <td>Sweet love, yeah  I didn't mean it when I said...</td>\n",
       "      <td>1</td>\n",
       "    </tr>\n",
       "    <tr>\n",
       "      <th>1</th>\n",
       "      <td>2</td>\n",
       "      <td>Hollaback Girl</td>\n",
       "      <td>Gwen Stefani</td>\n",
       "      <td>2005</td>\n",
       "      <td>75.0</td>\n",
       "      <td>4859586.0</td>\n",
       "      <td>165.0</td>\n",
       "      <td>68.0</td>\n",
       "      <td>0.35000</td>\n",
       "      <td>0.926</td>\n",
       "      <td>199853.0</td>\n",
       "      <td>0.916</td>\n",
       "      <td>0.000006</td>\n",
       "      <td>0.0234</td>\n",
       "      <td>-2.221</td>\n",
       "      <td>0.0929</td>\n",
       "      <td>110.007</td>\n",
       "      <td>4.0</td>\n",
       "      <td>0.904</td>\n",
       "      <td>Uh-huh, this my shit All the girls, stomp your...</td>\n",
       "      <td>1</td>\n",
       "    </tr>\n",
       "    <tr>\n",
       "      <th>2</th>\n",
       "      <td>3</td>\n",
       "      <td>Let Me Love You</td>\n",
       "      <td>Mario</td>\n",
       "      <td>2005</td>\n",
       "      <td>67.0</td>\n",
       "      <td>2367100.0</td>\n",
       "      <td>143.0</td>\n",
       "      <td>72.0</td>\n",
       "      <td>0.23500</td>\n",
       "      <td>0.656</td>\n",
       "      <td>256733.0</td>\n",
       "      <td>0.578</td>\n",
       "      <td>0.000000</td>\n",
       "      <td>0.1180</td>\n",
       "      <td>-8.970</td>\n",
       "      <td>0.0922</td>\n",
       "      <td>94.514</td>\n",
       "      <td>4.0</td>\n",
       "      <td>0.556</td>\n",
       "      <td>Mmmm, ah Mmmm, yeah Mmmm Yeah, yeah, yeah Mmmm...</td>\n",
       "      <td>1</td>\n",
       "    </tr>\n",
       "    <tr>\n",
       "      <th>3</th>\n",
       "      <td>4</td>\n",
       "      <td>Since U Been Gone</td>\n",
       "      <td>Kelly Clarkson</td>\n",
       "      <td>2005</td>\n",
       "      <td>75.0</td>\n",
       "      <td>7955803.0</td>\n",
       "      <td>178.0</td>\n",
       "      <td>70.0</td>\n",
       "      <td>0.00165</td>\n",
       "      <td>0.662</td>\n",
       "      <td>188960.0</td>\n",
       "      <td>0.741</td>\n",
       "      <td>0.030300</td>\n",
       "      <td>0.1140</td>\n",
       "      <td>-5.406</td>\n",
       "      <td>0.0334</td>\n",
       "      <td>131.000</td>\n",
       "      <td>4.0</td>\n",
       "      <td>0.404</td>\n",
       "      <td>Here's the thing, we started out friends It wa...</td>\n",
       "      <td>1</td>\n",
       "    </tr>\n",
       "    <tr>\n",
       "      <th>4</th>\n",
       "      <td>5</td>\n",
       "      <td>1, 2 Step</td>\n",
       "      <td>Ciara featuring Missy Elliott</td>\n",
       "      <td>2005</td>\n",
       "      <td>72.0</td>\n",
       "      <td>5209750.0</td>\n",
       "      <td>178.0</td>\n",
       "      <td>73.0</td>\n",
       "      <td>0.04200</td>\n",
       "      <td>0.944</td>\n",
       "      <td>203787.0</td>\n",
       "      <td>0.511</td>\n",
       "      <td>0.001070</td>\n",
       "      <td>0.0379</td>\n",
       "      <td>-10.960</td>\n",
       "      <td>0.1610</td>\n",
       "      <td>113.046</td>\n",
       "      <td>4.0</td>\n",
       "      <td>0.842</td>\n",
       "      <td>Ladies and Gentlemen Ladies and Gentlemen This...</td>\n",
       "      <td>1</td>\n",
       "    </tr>\n",
       "    <tr>\n",
       "      <th>...</th>\n",
       "      <td>...</td>\n",
       "      <td>...</td>\n",
       "      <td>...</td>\n",
       "      <td>...</td>\n",
       "      <td>...</td>\n",
       "      <td>...</td>\n",
       "      <td>...</td>\n",
       "      <td>...</td>\n",
       "      <td>...</td>\n",
       "      <td>...</td>\n",
       "      <td>...</td>\n",
       "      <td>...</td>\n",
       "      <td>...</td>\n",
       "      <td>...</td>\n",
       "      <td>...</td>\n",
       "      <td>...</td>\n",
       "      <td>...</td>\n",
       "      <td>...</td>\n",
       "      <td>...</td>\n",
       "      <td>...</td>\n",
       "      <td>...</td>\n",
       "    </tr>\n",
       "    <tr>\n",
       "      <th>1595</th>\n",
       "      <td>96</td>\n",
       "      <td>More Than My Hometown</td>\n",
       "      <td>Morgan Wallen</td>\n",
       "      <td>2020</td>\n",
       "      <td>83.0</td>\n",
       "      <td>2238350.0</td>\n",
       "      <td>178.0</td>\n",
       "      <td>74.0</td>\n",
       "      <td>0.61500</td>\n",
       "      <td>0.620</td>\n",
       "      <td>216573.0</td>\n",
       "      <td>0.869</td>\n",
       "      <td>0.000000</td>\n",
       "      <td>0.1310</td>\n",
       "      <td>-5.479</td>\n",
       "      <td>0.0462</td>\n",
       "      <td>126.019</td>\n",
       "      <td>4.0</td>\n",
       "      <td>0.597</td>\n",
       "      <td>Girl, our mamas are best friends and so are we...</td>\n",
       "      <td>0</td>\n",
       "    </tr>\n",
       "    <tr>\n",
       "      <th>1596</th>\n",
       "      <td>97</td>\n",
       "      <td>Lovin' on You</td>\n",
       "      <td>Luke Combs</td>\n",
       "      <td>2020</td>\n",
       "      <td>82.0</td>\n",
       "      <td>5474485.0</td>\n",
       "      <td>178.0</td>\n",
       "      <td>69.0</td>\n",
       "      <td>0.00165</td>\n",
       "      <td>0.572</td>\n",
       "      <td>194867.0</td>\n",
       "      <td>0.949</td>\n",
       "      <td>0.000195</td>\n",
       "      <td>0.1630</td>\n",
       "      <td>-4.865</td>\n",
       "      <td>0.0600</td>\n",
       "      <td>118.974</td>\n",
       "      <td>4.0</td>\n",
       "      <td>0.530</td>\n",
       "      <td>Don't get me wrong I like a bobber on the wate...</td>\n",
       "      <td>0</td>\n",
       "    </tr>\n",
       "    <tr>\n",
       "      <th>1597</th>\n",
       "      <td>98</td>\n",
       "      <td>Said Sum</td>\n",
       "      <td>Moneybagg Yo</td>\n",
       "      <td>2020</td>\n",
       "      <td>80.0</td>\n",
       "      <td>2307788.0</td>\n",
       "      <td>178.0</td>\n",
       "      <td>69.0</td>\n",
       "      <td>0.01850</td>\n",
       "      <td>0.929</td>\n",
       "      <td>155168.0</td>\n",
       "      <td>0.667</td>\n",
       "      <td>0.000000</td>\n",
       "      <td>0.1000</td>\n",
       "      <td>-6.789</td>\n",
       "      <td>0.3530</td>\n",
       "      <td>126.998</td>\n",
       "      <td>4.0</td>\n",
       "      <td>0.274</td>\n",
       "      <td>Turn me up, YC  Huh? What? Ah, I thought a bro...</td>\n",
       "      <td>0</td>\n",
       "    </tr>\n",
       "    <tr>\n",
       "      <th>1598</th>\n",
       "      <td>99</td>\n",
       "      <td>Slide</td>\n",
       "      <td>H.E.R. featuring YG</td>\n",
       "      <td>2020</td>\n",
       "      <td>79.0</td>\n",
       "      <td>4240318.0</td>\n",
       "      <td>177.0</td>\n",
       "      <td>67.0</td>\n",
       "      <td>0.08070</td>\n",
       "      <td>0.832</td>\n",
       "      <td>238321.0</td>\n",
       "      <td>0.469</td>\n",
       "      <td>0.000008</td>\n",
       "      <td>0.2070</td>\n",
       "      <td>-9.141</td>\n",
       "      <td>0.3390</td>\n",
       "      <td>97.023</td>\n",
       "      <td>4.0</td>\n",
       "      <td>0.197</td>\n",
       "      <td>You always wearin' them glasses You don't wann...</td>\n",
       "      <td>0</td>\n",
       "    </tr>\n",
       "    <tr>\n",
       "      <th>1599</th>\n",
       "      <td>100</td>\n",
       "      <td>Walk Em Down</td>\n",
       "      <td>NLE Choppa featuring Roddy Ricch</td>\n",
       "      <td>2020</td>\n",
       "      <td>84.0</td>\n",
       "      <td>6751879.0</td>\n",
       "      <td>178.0</td>\n",
       "      <td>72.0</td>\n",
       "      <td>0.26800</td>\n",
       "      <td>0.867</td>\n",
       "      <td>173288.0</td>\n",
       "      <td>0.744</td>\n",
       "      <td>0.000000</td>\n",
       "      <td>0.0713</td>\n",
       "      <td>-5.171</td>\n",
       "      <td>0.2270</td>\n",
       "      <td>84.005</td>\n",
       "      <td>4.0</td>\n",
       "      <td>0.645</td>\n",
       "      <td>CashMoneyAP Ooh, ooh, no, no NLE the Top Shott...</td>\n",
       "      <td>0</td>\n",
       "    </tr>\n",
       "  </tbody>\n",
       "</table>\n",
       "<p>1439 rows × 21 columns</p>\n",
       "</div>"
      ],
      "text/plain": [
       "      rank  ... hit\n",
       "0        1  ...   1\n",
       "1        2  ...   1\n",
       "2        3  ...   1\n",
       "3        4  ...   1\n",
       "4        5  ...   1\n",
       "...    ...  ...  ..\n",
       "1595    96  ...   0\n",
       "1596    97  ...   0\n",
       "1597    98  ...   0\n",
       "1598    99  ...   0\n",
       "1599   100  ...   0\n",
       "\n",
       "[1439 rows x 21 columns]"
      ]
     },
     "execution_count": 18,
     "metadata": {},
     "output_type": "execute_result"
    }
   ],
   "source": [
    "data_df['hit'] = np.where(data_df['rank'] <= 35, 1, 0)\n",
    "data_df"
   ]
  },
  {
   "cell_type": "markdown",
   "metadata": {
    "id": "1OJdfNx3duFf"
   },
   "source": [
    "## Tiếp tục khám phá dữ liệu để tách các tập"
   ]
  },
  {
   "cell_type": "markdown",
   "metadata": {
    "id": "DkjTUowVnhYw"
   },
   "source": [
    "Cột *Ouput* là cột do nhóm xây dựng, tuy nhiên ta vẫn sẽ khám phá lại cột *Output* này để kiểm tra lại 1 lần nữa:\n",
    "- Cột thuộc kiểu dữ liệu gì?\n",
    "- Cột này có dữ liệu thiếu không?\n",
    "- Tỉ lệ các lớp trong cột này là bao nhiêu?"
   ]
  },
  {
   "cell_type": "code",
   "execution_count": 19,
   "metadata": {
    "colab": {
     "base_uri": "https://localhost:8080/"
    },
    "id": "vedfyHAEVa23",
    "outputId": "f22e801c-bbae-4be4-eed4-b94cea43226e"
   },
   "outputs": [
    {
     "data": {
      "text/plain": [
       "dtype('int64')"
      ]
     },
     "execution_count": 19,
     "metadata": {},
     "output_type": "execute_result"
    }
   ],
   "source": [
    "# Kiểu dữ liệu cột output - hit\n",
    "data_df['hit'].dtype"
   ]
  },
  {
   "cell_type": "code",
   "execution_count": 20,
   "metadata": {
    "colab": {
     "base_uri": "https://localhost:8080/"
    },
    "id": "jZh6b35WSZEj",
    "outputId": "3e043489-0969-4894-faad-6f9eb6f34411"
   },
   "outputs": [
    {
     "data": {
      "text/plain": [
       "0"
      ]
     },
     "execution_count": 20,
     "metadata": {},
     "output_type": "execute_result"
    }
   ],
   "source": [
    "# Kiểm tra xem có dữ thiệt thiếu không?\n",
    "data_df['hit'].isna().sum()"
   ]
  },
  {
   "cell_type": "code",
   "execution_count": 21,
   "metadata": {
    "colab": {
     "base_uri": "https://localhost:8080/"
    },
    "id": "ku3FJpHZSctE",
    "outputId": "ab29b21e-5594-4fb2-dbc5-3682505fb0c1"
   },
   "outputs": [
    {
     "data": {
      "text/plain": [
       "0    64.697707\n",
       "1    35.302293\n",
       "Name: hit, dtype: float64"
      ]
     },
     "execution_count": 21,
     "metadata": {},
     "output_type": "execute_result"
    }
   ],
   "source": [
    "# Tỉ lệ của các lớp trong cột\n",
    "data_df['hit'].value_counts(normalize = True) * 100"
   ]
  },
  {
   "cell_type": "code",
   "execution_count": 22,
   "metadata": {
    "colab": {
     "base_uri": "https://localhost:8080/",
     "height": 248
    },
    "id": "DaujRQ5Go8Jd",
    "outputId": "7f0cb1a0-284c-494b-c076-6797e08eb1d0"
   },
   "outputs": [
    {
     "data": {
      "image/png": "[encoded data removed]",
      "text/plain": [
       "<Figure size 432x288 with 1 Axes>"
      ]
     },
     "metadata": {},
     "output_type": "display_data"
    }
   ],
   "source": [
    "data_df['hit'].value_counts().plot.pie();"
   ]
  },
  {
   "cell_type": "markdown",
   "metadata": {
    "id": "8HsKGMhPPDiQ"
   },
   "source": [
    "## Tách các tập"
   ]
  },
  {
   "cell_type": "markdown",
   "metadata": {
    "id": "jOst67oNVsCC"
   },
   "source": [
    "Ở đây, vì dữ liệu không có nhiều, nên nhóm dự định sẽ sử dụng phương pháp k-fold cross validation để cải thiện hiệu quả trong việc huấn luyện.\n",
    "\n",
    "Nhóm sẽ tách dữ liệu ban đầu thành 2 tập: (train + validation) và test"
   ]
  },
  {
   "cell_type": "code",
   "execution_count": 23,
   "metadata": {
    "id": "0oY4mwpsPMgD"
   },
   "outputs": [],
   "source": [
    "y_sr = data_df['hit']\n",
    "X_df = data_df.drop('hit', axis = 1)"
   ]
  },
  {
   "cell_type": "code",
   "execution_count": 24,
   "metadata": {
    "id": "qPqBVwMqXTF7"
   },
   "outputs": [],
   "source": [
    "# Tách tập (train + validation) và tập test theo tỉ lệ 85%:15%\n",
    "train_X_df, test_X_df, train_y_sr, test_y_sr = \\\n",
    "                              train_test_split(X_df, y_sr, \n",
    "                                               test_size=0.15, \n",
    "                                               stratify=y_sr, \n",
    "                                               random_state=0)"
   ]
  },
  {
   "cell_type": "code",
   "execution_count": 25,
   "metadata": {
    "colab": {
     "base_uri": "https://localhost:8080/"
    },
    "id": "wW5zI0CwlAT_",
    "outputId": "7c85e1b4-f3f7-48ce-fdaa-8d01e012246f"
   },
   "outputs": [
    {
     "data": {
      "text/plain": [
       "(1223, 20)"
      ]
     },
     "execution_count": 25,
     "metadata": {},
     "output_type": "execute_result"
    }
   ],
   "source": [
    "train_X_df.shape"
   ]
  },
  {
   "cell_type": "code",
   "execution_count": 26,
   "metadata": {
    "colab": {
     "base_uri": "https://localhost:8080/"
    },
    "id": "3DI0QA78lCEH",
    "outputId": "c4479daa-a97b-4f45-8bff-580ae76c75b0"
   },
   "outputs": [
    {
     "data": {
      "text/plain": [
       "(1223,)"
      ]
     },
     "execution_count": 26,
     "metadata": {},
     "output_type": "execute_result"
    }
   ],
   "source": [
    "train_y_sr.shape"
   ]
  },
  {
   "cell_type": "code",
   "execution_count": 27,
   "metadata": {
    "colab": {
     "base_uri": "https://localhost:8080/"
    },
    "id": "pM4JJuHdlKT-",
    "outputId": "9a4918f7-7962-40c0-a393-5ad448dc6b24"
   },
   "outputs": [
    {
     "data": {
      "text/plain": [
       "(216, 20)"
      ]
     },
     "execution_count": 27,
     "metadata": {},
     "output_type": "execute_result"
    }
   ],
   "source": [
    "test_X_df.shape"
   ]
  },
  {
   "cell_type": "code",
   "execution_count": 28,
   "metadata": {
    "colab": {
     "base_uri": "https://localhost:8080/"
    },
    "id": "HmqrWrszlMck",
    "outputId": "7bf3c2f7-7d00-47ba-a226-3693af9e980b"
   },
   "outputs": [
    {
     "data": {
      "text/plain": [
       "(216,)"
      ]
     },
     "execution_count": 28,
     "metadata": {},
     "output_type": "execute_result"
    }
   ],
   "source": [
    "test_y_sr.shape"
   ]
  },
  {
   "cell_type": "markdown",
   "metadata": {
    "id": "_2f4ohjJlOvM"
   },
   "source": [
    "Hiện tại, ở bước này ta đã chia dữ liệu thành 2 tập (train + valid)/test với tỉ lệ 85%, 15%. Tiếp sau, ta sẽ tiếp tục khám phá dữ liệu trên tập huấn luyện, sau đó tiến hành các bước tiền xử lý và mô hình hóa."
   ]
  },
  {
   "cell_type": "markdown",
   "metadata": {
    "id": "lDuVM2JJPK42"
   },
   "source": [
    "## Khám phá dữ liệu trên tập huấn luyện"
   ]
  },
  {
   "cell_type": "markdown",
   "metadata": {
    "id": "Y-1MN0y_PNPt"
   },
   "source": [
    "### Các cột input đang có kiểu dữ liệu gì?"
   ]
  },
  {
   "cell_type": "code",
   "execution_count": 29,
   "metadata": {
    "colab": {
     "base_uri": "https://localhost:8080/"
    },
    "id": "gSHXd6kCs04x",
    "outputId": "0e38a491-264f-4f43-f9e7-14bd0cc21fcc"
   },
   "outputs": [
    {
     "data": {
      "text/plain": [
       "rank                  int64\n",
       "name                 object\n",
       "artist               object\n",
       "year                  int64\n",
       "pop_artist          float64\n",
       "artist_followers    float64\n",
       "available_market    float64\n",
       "pop_track           float64\n",
       "acousticness        float64\n",
       "danceability        float64\n",
       "duration_ms         float64\n",
       "energy              float64\n",
       "instrumentalness    float64\n",
       "liveness            float64\n",
       "loudness            float64\n",
       "speechiness         float64\n",
       "tempo               float64\n",
       "time_signature      float64\n",
       "valence             float64\n",
       "lyrics               object\n",
       "dtype: object"
      ]
     },
     "execution_count": 29,
     "metadata": {},
     "output_type": "execute_result"
    }
   ],
   "source": [
    "train_X_df.dtypes"
   ]
  },
  {
   "cell_type": "markdown",
   "metadata": {
    "id": "h0qv-btGvnNc"
   },
   "source": [
    "Ở bước này, ta thấy có vẻ các cột đều có kiểu dữ liệu phù hợp."
   ]
  },
  {
   "cell_type": "markdown",
   "metadata": {
    "id": "LoEY3mXAv_kN"
   },
   "source": [
    "### Với những cột input có kiểu dữ liệu dạng số, dữ liệu được phân bổ như thế nào?"
   ]
  },
  {
   "cell_type": "markdown",
   "metadata": {
    "id": "OBCahlSEwdfR"
   },
   "source": [
    "Trong tập dữ liệu huấn luyện `train_X_df` có 17/20 cột không phải là object, tuy nhiên 2 cột `rank` và `year` thì thật ra là dạng categorical."
   ]
  },
  {
   "cell_type": "code",
   "execution_count": 30,
   "metadata": {
    "colab": {
     "base_uri": "https://localhost:8080/"
    },
    "id": "fYhkd-VYs4DT",
    "outputId": "6bd498ad-30d9-4110-92cc-ab9276c925e8"
   },
   "outputs": [
    {
     "data": {
      "text/plain": [
       "rank                  int64\n",
       "year                  int64\n",
       "pop_artist          float64\n",
       "artist_followers    float64\n",
       "available_market    float64\n",
       "pop_track           float64\n",
       "acousticness        float64\n",
       "danceability        float64\n",
       "duration_ms         float64\n",
       "energy              float64\n",
       "instrumentalness    float64\n",
       "liveness            float64\n",
       "loudness            float64\n",
       "speechiness         float64\n",
       "tempo               float64\n",
       "time_signature      float64\n",
       "valence             float64\n",
       "dtype: object"
      ]
     },
     "execution_count": 30,
     "metadata": {},
     "output_type": "execute_result"
    }
   ],
   "source": [
    "train_X_df.dtypes[train_X_df.dtypes != object]"
   ]
  },
  {
   "cell_type": "markdown",
   "metadata": {
    "id": "Bnz8Wu1Cw1Qr"
   },
   "source": [
    "Ta sẽ xem các cột này có dữ liệu phân bố như thế nào"
   ]
  },
  {
   "cell_type": "code",
   "execution_count": 31,
   "metadata": {
    "colab": {
     "base_uri": "https://localhost:8080/"
    },
    "id": "xUqLSIkHuqNn",
    "outputId": "08fb928a-ec58-4f15-b810-a87046f21985"
   },
   "outputs": [
    {
     "data": {
      "text/plain": [
       "['pop_artist',\n",
       " 'artist_followers',\n",
       " 'available_market',\n",
       " 'pop_track',\n",
       " 'acousticness',\n",
       " 'danceability',\n",
       " 'duration_ms',\n",
       " 'energy',\n",
       " 'instrumentalness',\n",
       " 'liveness',\n",
       " 'loudness',\n",
       " 'speechiness',\n",
       " 'tempo',\n",
       " 'time_signature',\n",
       " 'valence']"
      ]
     },
     "execution_count": 31,
     "metadata": {},
     "output_type": "execute_result"
    }
   ],
   "source": [
    "ignore = ['rank', 'year']\n",
    "num_cols = train_X_df.dtypes[train_X_df.dtypes != object].index.to_list()\n",
    "num_cols = [x for x in num_cols if x not in ignore]\n",
    "num_cols"
   ]
  },
  {
   "cell_type": "code",
   "execution_count": 32,
   "metadata": {
    "colab": {
     "base_uri": "https://localhost:8080/",
     "height": 193
    },
    "id": "ACG8lu1Nwc0i",
    "outputId": "b2dd4a2a-21bf-4010-e3d8-6064e0152d4f"
   },
   "outputs": [
    {
     "data": {
      "text/html": [
       "<div>\n",
       "<style scoped>\n",
       "    .dataframe tbody tr th:only-of-type {\n",
       "        vertical-align: middle;\n",
       "    }\n",
       "\n",
       "    .dataframe tbody tr th {\n",
       "        vertical-align: top;\n",
       "    }\n",
       "\n",
       "    .dataframe thead th {\n",
       "        text-align: right;\n",
       "    }\n",
       "</style>\n",
       "<table border=\"1\" class=\"dataframe\">\n",
       "  <thead>\n",
       "    <tr style=\"text-align: right;\">\n",
       "      <th></th>\n",
       "      <th>pop_artist</th>\n",
       "      <th>artist_followers</th>\n",
       "      <th>available_market</th>\n",
       "      <th>pop_track</th>\n",
       "      <th>acousticness</th>\n",
       "      <th>danceability</th>\n",
       "      <th>duration_ms</th>\n",
       "      <th>energy</th>\n",
       "      <th>instrumentalness</th>\n",
       "      <th>liveness</th>\n",
       "      <th>loudness</th>\n",
       "      <th>speechiness</th>\n",
       "      <th>tempo</th>\n",
       "      <th>time_signature</th>\n",
       "      <th>valence</th>\n",
       "    </tr>\n",
       "  </thead>\n",
       "  <tbody>\n",
       "    <tr>\n",
       "      <th>missing_percentage</th>\n",
       "      <td>0.2</td>\n",
       "      <td>0.2</td>\n",
       "      <td>0.2</td>\n",
       "      <td>0.2</td>\n",
       "      <td>0.200000</td>\n",
       "      <td>0.200</td>\n",
       "      <td>0.2</td>\n",
       "      <td>0.2000</td>\n",
       "      <td>0.200</td>\n",
       "      <td>0.200</td>\n",
       "      <td>0.200</td>\n",
       "      <td>0.2000</td>\n",
       "      <td>0.200</td>\n",
       "      <td>0.2</td>\n",
       "      <td>0.2000</td>\n",
       "    </tr>\n",
       "    <tr>\n",
       "      <th>min</th>\n",
       "      <td>4.0</td>\n",
       "      <td>96.0</td>\n",
       "      <td>1.0</td>\n",
       "      <td>0.0</td>\n",
       "      <td>0.000024</td>\n",
       "      <td>0.162</td>\n",
       "      <td>113000.0</td>\n",
       "      <td>0.0565</td>\n",
       "      <td>0.000</td>\n",
       "      <td>0.021</td>\n",
       "      <td>-21.402</td>\n",
       "      <td>0.0232</td>\n",
       "      <td>53.863</td>\n",
       "      <td>1.0</td>\n",
       "      <td>0.0383</td>\n",
       "    </tr>\n",
       "    <tr>\n",
       "      <th>median</th>\n",
       "      <td>80.0</td>\n",
       "      <td>6347305.5</td>\n",
       "      <td>176.0</td>\n",
       "      <td>68.0</td>\n",
       "      <td>0.100000</td>\n",
       "      <td>0.700</td>\n",
       "      <td>222300.0</td>\n",
       "      <td>0.7000</td>\n",
       "      <td>0.000</td>\n",
       "      <td>0.100</td>\n",
       "      <td>-5.400</td>\n",
       "      <td>0.1000</td>\n",
       "      <td>120.100</td>\n",
       "      <td>4.0</td>\n",
       "      <td>0.5000</td>\n",
       "    </tr>\n",
       "    <tr>\n",
       "      <th>max</th>\n",
       "      <td>100.0</td>\n",
       "      <td>84544667.0</td>\n",
       "      <td>178.0</td>\n",
       "      <td>91.0</td>\n",
       "      <td>0.978000</td>\n",
       "      <td>0.975</td>\n",
       "      <td>688453.0</td>\n",
       "      <td>0.9830</td>\n",
       "      <td>0.918</td>\n",
       "      <td>0.888</td>\n",
       "      <td>-1.190</td>\n",
       "      <td>0.5880</td>\n",
       "      <td>210.857</td>\n",
       "      <td>5.0</td>\n",
       "      <td>0.9740</td>\n",
       "    </tr>\n",
       "  </tbody>\n",
       "</table>\n",
       "</div>"
      ],
      "text/plain": [
       "                    pop_artist  artist_followers  ...  time_signature  valence\n",
       "missing_percentage         0.2               0.2  ...             0.2   0.2000\n",
       "min                        4.0              96.0  ...             1.0   0.0383\n",
       "median                    80.0         6347305.5  ...             4.0   0.5000\n",
       "max                      100.0        84544667.0  ...             5.0   0.9740\n",
       "\n",
       "[4 rows x 15 columns]"
      ]
     },
     "execution_count": 32,
     "metadata": {},
     "output_type": "execute_result"
    }
   ],
   "source": [
    "df = train_X_df[num_cols]\n",
    "def missing_percentage(c):\n",
    "    return (c.isna().mean() * 100).round(1)\n",
    "def median(c):\n",
    "    return c.quantile(0.5).round(1)\n",
    "df.agg([missing_percentage, 'min', median, 'max'])"
   ]
  },
  {
   "cell_type": "code",
   "execution_count": 33,
   "metadata": {
    "colab": {
     "base_uri": "https://localhost:8080/",
     "height": 879
    },
    "id": "zFPSBF64d2v8",
    "outputId": "60f13c30-9799-4a34-f657-3f5a1e5569c3"
   },
   "outputs": [
    {
     "data": {
      "image/png": "[encoded data removed]",
      "text/plain": [
       "<Figure size 1440x1080 with 16 Axes>"
      ]
     },
     "metadata": {
      "needs_background": "light"
     },
     "output_type": "display_data"
    }
   ],
   "source": [
    "df.hist(bins=50, figsize=(20, 15))\n",
    "plt.show()"
   ]
  },
  {
   "cell_type": "markdown",
   "metadata": {
    "id": "0Kfj-R4r19ZH"
   },
   "source": [
    "Qua đây ta có một số nhận xét: \n",
    "- Ta thấy có 2 cột phân cực quá mạnh như cột: `instrumentalness` và cột `time_signature`. Phân cực quá mạnh cho thấy ít nói lên được điều gì về bài hát.\n",
    "- Và các thuộc tính đều có những khoảng giá trị khác nhau."
   ]
  },
  {
   "cell_type": "markdown",
   "metadata": {
    "id": "Id1XOQtPwJlu"
   },
   "source": [
    "### Với những cột input có kiểu dữ liệu không phải dạng số, dữ liệu được phân bổ như thế nào?"
   ]
  },
  {
   "cell_type": "code",
   "execution_count": 34,
   "metadata": {
    "colab": {
     "base_uri": "https://localhost:8080/",
     "height": 159
    },
    "id": "F07TH-NmwRW1",
    "outputId": "c7c71c64-56ae-4903-e0a5-7fd6ebccada6"
   },
   "outputs": [
    {
     "data": {
      "text/html": [
       "<div>\n",
       "<style scoped>\n",
       "    .dataframe tbody tr th:only-of-type {\n",
       "        vertical-align: middle;\n",
       "    }\n",
       "\n",
       "    .dataframe tbody tr th {\n",
       "        vertical-align: top;\n",
       "    }\n",
       "\n",
       "    .dataframe thead th {\n",
       "        text-align: right;\n",
       "    }\n",
       "</style>\n",
       "<table border=\"1\" class=\"dataframe\">\n",
       "  <thead>\n",
       "    <tr style=\"text-align: right;\">\n",
       "      <th></th>\n",
       "      <th>rank</th>\n",
       "      <th>year</th>\n",
       "      <th>name</th>\n",
       "      <th>artist</th>\n",
       "      <th>lyrics</th>\n",
       "    </tr>\n",
       "  </thead>\n",
       "  <tbody>\n",
       "    <tr>\n",
       "      <th>missing_percentage</th>\n",
       "      <td>0</td>\n",
       "      <td>0</td>\n",
       "      <td>0</td>\n",
       "      <td>0</td>\n",
       "      <td>0</td>\n",
       "    </tr>\n",
       "    <tr>\n",
       "      <th>num_values</th>\n",
       "      <td>100</td>\n",
       "      <td>16</td>\n",
       "      <td>1193</td>\n",
       "      <td>793</td>\n",
       "      <td>1223</td>\n",
       "    </tr>\n",
       "    <tr>\n",
       "      <th>value_percentages</th>\n",
       "      <td>{76: 1.3, 37: 1.3, 50: 1.2, 51: 1.2, 1: 1.2, 9...</td>\n",
       "      <td>{2005: 7.0, 2012: 6.6, 2020: 6.5, 2019: 6.4, 2...</td>\n",
       "      <td>{'Mercy': 0.2, 'Rockstar': 0.2, 'Let It Go': 0...</td>\n",
       "      <td>{'Rihanna': 1.3, 'Taylor Swift': 1.3, 'Drake':...</td>\n",
       "      <td>{'Yeah, uh-huh! Your boy Juicy J She bad, yeah...</td>\n",
       "    </tr>\n",
       "  </tbody>\n",
       "</table>\n",
       "</div>"
      ],
      "text/plain": [
       "                                                                 rank  ...                                             lyrics\n",
       "missing_percentage                                                  0  ...                                                  0\n",
       "num_values                                                        100  ...                                               1223\n",
       "value_percentages   {76: 1.3, 37: 1.3, 50: 1.2, 51: 1.2, 1: 1.2, 9...  ...  {'Yeah, uh-huh! Your boy Juicy J She bad, yeah...\n",
       "\n",
       "[3 rows x 5 columns]"
      ]
     },
     "execution_count": 34,
     "metadata": {},
     "output_type": "execute_result"
    }
   ],
   "source": [
    "cate_cols = ['rank', 'year', 'name', 'artist', 'lyrics']\n",
    "df = train_X_df[cate_cols]\n",
    "def num_values(df):\n",
    "    return df.nunique()\n",
    "def value_percentages(c):\n",
    "    return dict((c.value_counts(normalize=True) * 100).round(1))\n",
    "df.agg([missing_percentage, num_values, value_percentages])"
   ]
  },
  {
   "cell_type": "markdown",
   "metadata": {
    "id": "NKlB82321yRA"
   },
   "source": [
    "Ta thấy những dữ liệu không phải dạng số bao gồm tên bài hát, tên nghệ sĩ cũng như lời bài hát phân lớp rất mạnh..."
   ]
  },
  {
   "cell_type": "markdown",
   "metadata": {
    "id": "LSUuvCnXvw7-"
   },
   "source": [
    "## Tạo Pipeline để tiền xử lý"
   ]
  },
  {
   "cell_type": "markdown",
   "metadata": {
    "id": "CLICah9R0GKh"
   },
   "source": [
    "Cùng với những khám phá trên cũng như ý nghĩa của từng cột dữ liệu, ta sẽ quyết định thêm và bỏ một số cột sau:\n",
    "- Bỏ cột `name`, `artist` vì phân lớp quá nhiều.\n",
    "\n",
    "- Bỏ cột `rank` và `year` vì trên thực tế sẽ không có thông tin thứ hạng của bài hát hay năm phát hành sẽ không xét đến.\n",
    "\n",
    "- Bỏ cột `instrumentalness`, `liveness` vì sau khi thu thập dữ liệu nhóm đã kiểm tra lại sơ bộ toàn bộ dữ liệu bằng mắt nên có thể nói toàn bộ dữ liệu được xét đến là những bản nhạc gốc (original) chứ không phải những bản instrumental, live, ...\n",
    "    -  `instrumentalness` theo định nghĩa, đây là thuộc tính mà Spotify dự đoán xem bản nhạc xét đến có phải là bản instrumental (không bao gồm giọng hát) hay không.\n",
    "    - `liveness` theo định nghĩa, đây là thuộc tính mà Spotify dự đoán xem bản nhạc xét đến có phải là bản live (thu trực tiếp) hay không.\n",
    "\n",
    "- Bỏ cột `pop_track`: vì theo định nghĩa đây là thuộc tính mà Spotify tính điểm về độ phổ biến của bản nhạc, đặt vào trường hợp thực tế khi người dùng muốn xem thử một bài hát mới phát hành có đáng nghe không, thì cột này không hợp lý.\n",
    "\n",
    "- Từ cột `lyrics` sẽ sử dụng thư viện `nltk`, mô hình `VADER` để rút trích ra một số đặc trưng từ cột dữ liệu này.\n",
    "    - `neg`: tiêu cực\n",
    "    - `neu`: trung lập\n",
    "    - `pos`: tích cực\n",
    "    - `compound`: là tổng của 3 chỉ số `neg`, `neu`, `pos` sau đó được chuẩn hóa (normalized) về khoảng từ -1 (tiêu cực nhất) đến 1 (tích cực nhất).\n",
    "    - Sau đó, ta sẽ tiến hành bỏ cột `compound` vì đặc trưng này có thể được tính từ 3 chỉ số còn lại.\n",
    "\n",
    "- Cũng từ cột `lyrics` này ta sẽ rút trích ra những \"từ\" xuất hiện nhiều nhất trong toàn bộ dữ liệu huấn luyện, sau đó kiểm tra xem liệu trong từng bài hát có sự xuất hiện của những từ này hay không."
   ]
  },
  {
   "cell_type": "code",
   "execution_count": 35,
   "metadata": {
    "id": "kFWPNs7yTgyl"
   },
   "outputs": [],
   "source": [
    "def filter_words(words):\n",
    "    filtered_sent=[]\n",
    "    for w in words:\n",
    "        if w not in stop_words and w.isalpha():\n",
    "            filtered_sent.append(w)\n",
    "        \n",
    "    ps = PorterStemmer()\n",
    "\n",
    "    stemmed_words=[]\n",
    "    for w in filtered_sent:\n",
    "        stemmed_words.append(ps.stem(w))\n",
    "\n",
    "    return stemmed_words\n",
    "\n",
    "def get_tops(fdist):\n",
    "    top_ = []\n",
    "    for w in sorted(fdist, key=fdist.get, reverse=True):\n",
    "        top_.append(w)\n",
    "        if len(top_) == 20:\n",
    "            return top_\n",
    "    return top_\n",
    "\n",
    "def create_marked_df(X_df, top_words):\n",
    "    Y_df = X_df.copy()\n",
    "    for word in top_words:\n",
    "        Y_df[word] = np.where(Y_df['lyrics'].apply(lambda x: word in x), 1, 0)\n",
    "    return Y_df"
   ]
  },
  {
   "cell_type": "code",
   "execution_count": 36,
   "metadata": {
    "id": "Myu1QHyYTkHa"
   },
   "outputs": [],
   "source": [
    "class dropExtractLyrics(BaseEstimator, TransformerMixin):\n",
    "    def __init__(self, num_words = 10):\n",
    "        self.num_words = num_words\n",
    "    def fit(self, X_df, y=None):\n",
    "        words = X_df['lyrics'].apply(word_tokenize)\n",
    "        words = words.apply(filter_words)\n",
    "        freq_dist = words.apply(FreqDist)\n",
    "        l_words = freq_dist.apply(get_tops)\n",
    "        self.top_words = l_words.explode().value_counts()[:self.num_words].index\n",
    "        return self\n",
    "\n",
    "    def transform(self, X_df, y=None):\n",
    "        Y_df = X_df.copy()\n",
    "\n",
    "\n",
    "        Y_df.drop(['name', 'artist', 'rank', 'year', 'instrumentalness', 'liveness', 'pop_track', 'time_signature'], axis = 1, inplace = True)\n",
    "        Y_df['scores'] = Y_df['lyrics'].apply(lambda lyric: sid.polarity_scores(lyric))\n",
    "        words = Y_df['lyrics'].apply(word_tokenize)\n",
    "        words = words.apply(filter_words)\n",
    "        freq_dist = words.apply(FreqDist)\n",
    "        l_words = freq_dist.apply(get_tops)\n",
    "        Y_df = pd.concat([Y_df.drop('lyrics', axis = 1), l_words], axis = 1)\n",
    "        Y_df = create_marked_df(Y_df, self.top_words)\n",
    "        Y_df = pd.concat([Y_df.drop(['lyrics', 'scores'], axis = 1), Y_df['scores'].apply(pd.Series)], axis = 1)\n",
    "        Y_df.drop('compound', axis = 1, inplace = True)\n",
    "        return Y_df"
   ]
  },
  {
   "cell_type": "code",
   "execution_count": 37,
   "metadata": {
    "colab": {
     "base_uri": "https://localhost:8080/",
     "height": 439
    },
    "id": "3U7VvE9y1cBX",
    "outputId": "653a4936-363d-4d90-c4d3-b406ec5f5d8a"
   },
   "outputs": [
    {
     "data": {
      "text/html": [
       "<div>\n",
       "<style scoped>\n",
       "    .dataframe tbody tr th:only-of-type {\n",
       "        vertical-align: middle;\n",
       "    }\n",
       "\n",
       "    .dataframe tbody tr th {\n",
       "        vertical-align: top;\n",
       "    }\n",
       "\n",
       "    .dataframe thead th {\n",
       "        text-align: right;\n",
       "    }\n",
       "</style>\n",
       "<table border=\"1\" class=\"dataframe\">\n",
       "  <thead>\n",
       "    <tr style=\"text-align: right;\">\n",
       "      <th></th>\n",
       "      <th>pop_artist</th>\n",
       "      <th>artist_followers</th>\n",
       "      <th>available_market</th>\n",
       "      <th>acousticness</th>\n",
       "      <th>danceability</th>\n",
       "      <th>duration_ms</th>\n",
       "      <th>energy</th>\n",
       "      <th>loudness</th>\n",
       "      <th>speechiness</th>\n",
       "      <th>tempo</th>\n",
       "      <th>valence</th>\n",
       "      <th>I</th>\n",
       "      <th>and</th>\n",
       "      <th>like</th>\n",
       "      <th>got</th>\n",
       "      <th>know</th>\n",
       "      <th>you</th>\n",
       "      <th>yeah</th>\n",
       "      <th>love</th>\n",
       "      <th>get</th>\n",
       "      <th>na</th>\n",
       "      <th>babi</th>\n",
       "      <th>go</th>\n",
       "      <th>let</th>\n",
       "      <th>wan</th>\n",
       "      <th>make</th>\n",
       "      <th>neg</th>\n",
       "      <th>neu</th>\n",
       "      <th>pos</th>\n",
       "    </tr>\n",
       "  </thead>\n",
       "  <tbody>\n",
       "    <tr>\n",
       "      <th>140</th>\n",
       "      <td>80.0</td>\n",
       "      <td>3403136.0</td>\n",
       "      <td>178.0</td>\n",
       "      <td>0.00542</td>\n",
       "      <td>0.739</td>\n",
       "      <td>239413.0</td>\n",
       "      <td>0.368</td>\n",
       "      <td>-10.233</td>\n",
       "      <td>0.0845</td>\n",
       "      <td>144.992</td>\n",
       "      <td>0.467</td>\n",
       "      <td>1</td>\n",
       "      <td>0</td>\n",
       "      <td>0</td>\n",
       "      <td>1</td>\n",
       "      <td>1</td>\n",
       "      <td>0</td>\n",
       "      <td>1</td>\n",
       "      <td>1</td>\n",
       "      <td>0</td>\n",
       "      <td>0</td>\n",
       "      <td>0</td>\n",
       "      <td>0</td>\n",
       "      <td>0</td>\n",
       "      <td>0</td>\n",
       "      <td>0</td>\n",
       "      <td>0.037</td>\n",
       "      <td>0.791</td>\n",
       "      <td>0.172</td>\n",
       "    </tr>\n",
       "    <tr>\n",
       "      <th>522</th>\n",
       "      <td>64.0</td>\n",
       "      <td>316281.0</td>\n",
       "      <td>114.0</td>\n",
       "      <td>0.29700</td>\n",
       "      <td>0.633</td>\n",
       "      <td>211160.0</td>\n",
       "      <td>0.673</td>\n",
       "      <td>-6.403</td>\n",
       "      <td>0.2580</td>\n",
       "      <td>86.776</td>\n",
       "      <td>0.659</td>\n",
       "      <td>1</td>\n",
       "      <td>1</td>\n",
       "      <td>0</td>\n",
       "      <td>0</td>\n",
       "      <td>0</td>\n",
       "      <td>0</td>\n",
       "      <td>1</td>\n",
       "      <td>0</td>\n",
       "      <td>0</td>\n",
       "      <td>1</td>\n",
       "      <td>0</td>\n",
       "      <td>0</td>\n",
       "      <td>0</td>\n",
       "      <td>1</td>\n",
       "      <td>0</td>\n",
       "      <td>0.074</td>\n",
       "      <td>0.771</td>\n",
       "      <td>0.156</td>\n",
       "    </tr>\n",
       "    <tr>\n",
       "      <th>142</th>\n",
       "      <td>63.0</td>\n",
       "      <td>519372.0</td>\n",
       "      <td>178.0</td>\n",
       "      <td>0.26200</td>\n",
       "      <td>0.684</td>\n",
       "      <td>231867.0</td>\n",
       "      <td>0.819</td>\n",
       "      <td>-3.309</td>\n",
       "      <td>0.2380</td>\n",
       "      <td>179.999</td>\n",
       "      <td>0.250</td>\n",
       "      <td>1</td>\n",
       "      <td>0</td>\n",
       "      <td>1</td>\n",
       "      <td>0</td>\n",
       "      <td>1</td>\n",
       "      <td>0</td>\n",
       "      <td>0</td>\n",
       "      <td>0</td>\n",
       "      <td>0</td>\n",
       "      <td>0</td>\n",
       "      <td>0</td>\n",
       "      <td>1</td>\n",
       "      <td>0</td>\n",
       "      <td>0</td>\n",
       "      <td>0</td>\n",
       "      <td>0.138</td>\n",
       "      <td>0.736</td>\n",
       "      <td>0.126</td>\n",
       "    </tr>\n",
       "    <tr>\n",
       "      <th>337</th>\n",
       "      <td>66.0</td>\n",
       "      <td>1387751.0</td>\n",
       "      <td>173.0</td>\n",
       "      <td>0.15400</td>\n",
       "      <td>0.648</td>\n",
       "      <td>240760.0</td>\n",
       "      <td>0.801</td>\n",
       "      <td>-7.240</td>\n",
       "      <td>0.1670</td>\n",
       "      <td>78.946</td>\n",
       "      <td>0.807</td>\n",
       "      <td>1</td>\n",
       "      <td>0</td>\n",
       "      <td>0</td>\n",
       "      <td>1</td>\n",
       "      <td>1</td>\n",
       "      <td>0</td>\n",
       "      <td>1</td>\n",
       "      <td>1</td>\n",
       "      <td>1</td>\n",
       "      <td>0</td>\n",
       "      <td>1</td>\n",
       "      <td>0</td>\n",
       "      <td>1</td>\n",
       "      <td>0</td>\n",
       "      <td>0</td>\n",
       "      <td>0.045</td>\n",
       "      <td>0.753</td>\n",
       "      <td>0.202</td>\n",
       "    </tr>\n",
       "    <tr>\n",
       "      <th>896</th>\n",
       "      <td>74.0</td>\n",
       "      <td>2832667.0</td>\n",
       "      <td>3.0</td>\n",
       "      <td>0.36500</td>\n",
       "      <td>0.479</td>\n",
       "      <td>252733.0</td>\n",
       "      <td>0.545</td>\n",
       "      <td>-7.346</td>\n",
       "      <td>0.0688</td>\n",
       "      <td>74.897</td>\n",
       "      <td>0.243</td>\n",
       "      <td>0</td>\n",
       "      <td>1</td>\n",
       "      <td>0</td>\n",
       "      <td>0</td>\n",
       "      <td>1</td>\n",
       "      <td>0</td>\n",
       "      <td>0</td>\n",
       "      <td>1</td>\n",
       "      <td>0</td>\n",
       "      <td>0</td>\n",
       "      <td>0</td>\n",
       "      <td>1</td>\n",
       "      <td>1</td>\n",
       "      <td>0</td>\n",
       "      <td>0</td>\n",
       "      <td>0.122</td>\n",
       "      <td>0.724</td>\n",
       "      <td>0.154</td>\n",
       "    </tr>\n",
       "    <tr>\n",
       "      <th>...</th>\n",
       "      <td>...</td>\n",
       "      <td>...</td>\n",
       "      <td>...</td>\n",
       "      <td>...</td>\n",
       "      <td>...</td>\n",
       "      <td>...</td>\n",
       "      <td>...</td>\n",
       "      <td>...</td>\n",
       "      <td>...</td>\n",
       "      <td>...</td>\n",
       "      <td>...</td>\n",
       "      <td>...</td>\n",
       "      <td>...</td>\n",
       "      <td>...</td>\n",
       "      <td>...</td>\n",
       "      <td>...</td>\n",
       "      <td>...</td>\n",
       "      <td>...</td>\n",
       "      <td>...</td>\n",
       "      <td>...</td>\n",
       "      <td>...</td>\n",
       "      <td>...</td>\n",
       "      <td>...</td>\n",
       "      <td>...</td>\n",
       "      <td>...</td>\n",
       "      <td>...</td>\n",
       "      <td>...</td>\n",
       "      <td>...</td>\n",
       "      <td>...</td>\n",
       "    </tr>\n",
       "    <tr>\n",
       "      <th>576</th>\n",
       "      <td>71.0</td>\n",
       "      <td>6804348.0</td>\n",
       "      <td>167.0</td>\n",
       "      <td>0.01850</td>\n",
       "      <td>0.605</td>\n",
       "      <td>202587.0</td>\n",
       "      <td>0.902</td>\n",
       "      <td>-5.406</td>\n",
       "      <td>0.0511</td>\n",
       "      <td>132.612</td>\n",
       "      <td>0.875</td>\n",
       "      <td>1</td>\n",
       "      <td>1</td>\n",
       "      <td>0</td>\n",
       "      <td>0</td>\n",
       "      <td>1</td>\n",
       "      <td>1</td>\n",
       "      <td>0</td>\n",
       "      <td>1</td>\n",
       "      <td>0</td>\n",
       "      <td>0</td>\n",
       "      <td>1</td>\n",
       "      <td>0</td>\n",
       "      <td>0</td>\n",
       "      <td>0</td>\n",
       "      <td>0</td>\n",
       "      <td>0.005</td>\n",
       "      <td>0.902</td>\n",
       "      <td>0.093</td>\n",
       "    </tr>\n",
       "    <tr>\n",
       "      <th>1037</th>\n",
       "      <td>70.0</td>\n",
       "      <td>7549193.0</td>\n",
       "      <td>177.0</td>\n",
       "      <td>0.01300</td>\n",
       "      <td>0.700</td>\n",
       "      <td>223107.0</td>\n",
       "      <td>0.701</td>\n",
       "      <td>-3.834</td>\n",
       "      <td>0.1610</td>\n",
       "      <td>93.012</td>\n",
       "      <td>0.380</td>\n",
       "      <td>1</td>\n",
       "      <td>1</td>\n",
       "      <td>0</td>\n",
       "      <td>0</td>\n",
       "      <td>0</td>\n",
       "      <td>1</td>\n",
       "      <td>0</td>\n",
       "      <td>0</td>\n",
       "      <td>1</td>\n",
       "      <td>0</td>\n",
       "      <td>0</td>\n",
       "      <td>0</td>\n",
       "      <td>0</td>\n",
       "      <td>0</td>\n",
       "      <td>0</td>\n",
       "      <td>0.255</td>\n",
       "      <td>0.579</td>\n",
       "      <td>0.167</td>\n",
       "    </tr>\n",
       "    <tr>\n",
       "      <th>43</th>\n",
       "      <td>81.0</td>\n",
       "      <td>2844592.0</td>\n",
       "      <td>2.0</td>\n",
       "      <td>0.35100</td>\n",
       "      <td>0.632</td>\n",
       "      <td>235800.0</td>\n",
       "      <td>0.533</td>\n",
       "      <td>-7.873</td>\n",
       "      <td>0.0338</td>\n",
       "      <td>90.064</td>\n",
       "      <td>0.595</td>\n",
       "      <td>1</td>\n",
       "      <td>1</td>\n",
       "      <td>0</td>\n",
       "      <td>0</td>\n",
       "      <td>0</td>\n",
       "      <td>1</td>\n",
       "      <td>0</td>\n",
       "      <td>0</td>\n",
       "      <td>0</td>\n",
       "      <td>0</td>\n",
       "      <td>1</td>\n",
       "      <td>0</td>\n",
       "      <td>0</td>\n",
       "      <td>0</td>\n",
       "      <td>0</td>\n",
       "      <td>0.291</td>\n",
       "      <td>0.679</td>\n",
       "      <td>0.030</td>\n",
       "    </tr>\n",
       "    <tr>\n",
       "      <th>1185</th>\n",
       "      <td>87.0</td>\n",
       "      <td>34287435.0</td>\n",
       "      <td>178.0</td>\n",
       "      <td>0.10200</td>\n",
       "      <td>0.687</td>\n",
       "      <td>223853.0</td>\n",
       "      <td>0.761</td>\n",
       "      <td>-4.582</td>\n",
       "      <td>0.0876</td>\n",
       "      <td>113.939</td>\n",
       "      <td>0.743</td>\n",
       "      <td>1</td>\n",
       "      <td>0</td>\n",
       "      <td>0</td>\n",
       "      <td>0</td>\n",
       "      <td>1</td>\n",
       "      <td>0</td>\n",
       "      <td>0</td>\n",
       "      <td>0</td>\n",
       "      <td>0</td>\n",
       "      <td>1</td>\n",
       "      <td>0</td>\n",
       "      <td>1</td>\n",
       "      <td>1</td>\n",
       "      <td>0</td>\n",
       "      <td>0</td>\n",
       "      <td>0.076</td>\n",
       "      <td>0.886</td>\n",
       "      <td>0.039</td>\n",
       "    </tr>\n",
       "    <tr>\n",
       "      <th>1409</th>\n",
       "      <td>81.0</td>\n",
       "      <td>5508963.0</td>\n",
       "      <td>178.0</td>\n",
       "      <td>0.04270</td>\n",
       "      <td>0.842</td>\n",
       "      <td>181027.0</td>\n",
       "      <td>0.734</td>\n",
       "      <td>-5.065</td>\n",
       "      <td>0.0588</td>\n",
       "      <td>137.958</td>\n",
       "      <td>0.952</td>\n",
       "      <td>1</td>\n",
       "      <td>1</td>\n",
       "      <td>0</td>\n",
       "      <td>0</td>\n",
       "      <td>1</td>\n",
       "      <td>1</td>\n",
       "      <td>1</td>\n",
       "      <td>0</td>\n",
       "      <td>1</td>\n",
       "      <td>0</td>\n",
       "      <td>0</td>\n",
       "      <td>1</td>\n",
       "      <td>0</td>\n",
       "      <td>0</td>\n",
       "      <td>0</td>\n",
       "      <td>0.158</td>\n",
       "      <td>0.757</td>\n",
       "      <td>0.085</td>\n",
       "    </tr>\n",
       "  </tbody>\n",
       "</table>\n",
       "<p>1223 rows × 29 columns</p>\n",
       "</div>"
      ],
      "text/plain": [
       "      pop_artist  artist_followers  available_market  ...    neg    neu    pos\n",
       "140         80.0         3403136.0             178.0  ...  0.037  0.791  0.172\n",
       "522         64.0          316281.0             114.0  ...  0.074  0.771  0.156\n",
       "142         63.0          519372.0             178.0  ...  0.138  0.736  0.126\n",
       "337         66.0         1387751.0             173.0  ...  0.045  0.753  0.202\n",
       "896         74.0         2832667.0               3.0  ...  0.122  0.724  0.154\n",
       "...          ...               ...               ...  ...    ...    ...    ...\n",
       "576         71.0         6804348.0             167.0  ...  0.005  0.902  0.093\n",
       "1037        70.0         7549193.0             177.0  ...  0.255  0.579  0.167\n",
       "43          81.0         2844592.0               2.0  ...  0.291  0.679  0.030\n",
       "1185        87.0        34287435.0             178.0  ...  0.076  0.886  0.039\n",
       "1409        81.0         5508963.0             178.0  ...  0.158  0.757  0.085\n",
       "\n",
       "[1223 rows x 29 columns]"
      ]
     },
     "execution_count": 37,
     "metadata": {},
     "output_type": "execute_result"
    }
   ],
   "source": [
    "columns_add_drop = dropExtractLyrics(num_words = 15)\n",
    "columns_add_drop.fit_transform(train_X_df)"
   ]
  },
  {
   "cell_type": "markdown",
   "metadata": {
    "id": "PJqTk8ANRXLA"
   },
   "source": [
    "Sau khi thực hiện các bước trên, thì hiện tại tất cả các cột đều ở dạng số (numerical).\n",
    "\n",
    "Ta sẽ tiếp tục thực hiện một vài các bước tiền xử lý. Mặc dù, trong dữ liệu thu thập được không có giá trị thiếu, tuy nhiên ta vẫn sẽ chuẩn bị cho dữ liệu thực tế khi các trường này có thể có trường hợp thiếu dữ liệu.\n",
    "- Với các thuộc dạng số, ta sẽ điền giá trị thiếu bằng giá trị mean (giá trị trung bình) của cột. Sử dụng `SimpleImputer`.\n",
    "- Sau cùng, khi không còn các giá trị thiếu và tất cả đều ở dạng số thì ta sẽ tiến hành chuẩn hóa bằng cách trừ đi mean và chia cho độ lệch chuẩn của cột để giúp cho các thuật toán cực tiểu hóa như Gradient Descent, LBFGS, ... hội tụ nhanh hơn.\n"
   ]
  },
  {
   "cell_type": "code",
   "execution_count": 38,
   "metadata": {
    "colab": {
     "base_uri": "https://localhost:8080/",
     "height": 142
    },
    "id": "90a5T9U_nnZL",
    "outputId": "d6e855af-47cc-4179-a2d9-3995c8e2b133"
   },
   "outputs": [
    {
     "data": {
      "text/html": [
       "<style>#sk-61eacede-88e4-4dbd-a3a5-8eb5527b25d0 {color: black;background-color: white;}#sk-61eacede-88e4-4dbd-a3a5-8eb5527b25d0 pre{padding: 0;}#sk-61eacede-88e4-4dbd-a3a5-8eb5527b25d0 div.sk-toggleable {background-color: white;}#sk-61eacede-88e4-4dbd-a3a5-8eb5527b25d0 label.sk-toggleable__label {cursor: pointer;display: block;width: 100%;margin-bottom: 0;padding: 0.2em 0.3em;box-sizing: border-box;text-align: center;}#sk-61eacede-88e4-4dbd-a3a5-8eb5527b25d0 div.sk-toggleable__content {max-height: 0;max-width: 0;overflow: hidden;text-align: left;background-color: #f0f8ff;}#sk-61eacede-88e4-4dbd-a3a5-8eb5527b25d0 div.sk-toggleable__content pre {margin: 0.2em;color: black;border-radius: 0.25em;background-color: #f0f8ff;}#sk-61eacede-88e4-4dbd-a3a5-8eb5527b25d0 input.sk-toggleable__control:checked~div.sk-toggleable__content {max-height: 200px;max-width: 100%;overflow: auto;}#sk-61eacede-88e4-4dbd-a3a5-8eb5527b25d0 div.sk-estimator input.sk-toggleable__control:checked~label.sk-toggleable__label {background-color: #d4ebff;}#sk-61eacede-88e4-4dbd-a3a5-8eb5527b25d0 div.sk-label input.sk-toggleable__control:checked~label.sk-toggleable__label {background-color: #d4ebff;}#sk-61eacede-88e4-4dbd-a3a5-8eb5527b25d0 input.sk-hidden--visually {border: 0;clip: rect(1px 1px 1px 1px);clip: rect(1px, 1px, 1px, 1px);height: 1px;margin: -1px;overflow: hidden;padding: 0;position: absolute;width: 1px;}#sk-61eacede-88e4-4dbd-a3a5-8eb5527b25d0 div.sk-estimator {font-family: monospace;background-color: #f0f8ff;margin: 0.25em 0.25em;border: 1px dotted black;border-radius: 0.25em;box-sizing: border-box;}#sk-61eacede-88e4-4dbd-a3a5-8eb5527b25d0 div.sk-estimator:hover {background-color: #d4ebff;}#sk-61eacede-88e4-4dbd-a3a5-8eb5527b25d0 div.sk-parallel-item::after {content: \"\";width: 100%;border-bottom: 1px solid gray;flex-grow: 1;}#sk-61eacede-88e4-4dbd-a3a5-8eb5527b25d0 div.sk-label:hover label.sk-toggleable__label {background-color: #d4ebff;}#sk-61eacede-88e4-4dbd-a3a5-8eb5527b25d0 div.sk-serial::before {content: \"\";position: absolute;border-left: 1px solid gray;box-sizing: border-box;top: 2em;bottom: 0;left: 50%;}#sk-61eacede-88e4-4dbd-a3a5-8eb5527b25d0 div.sk-serial {display: flex;flex-direction: column;align-items: center;background-color: white;}#sk-61eacede-88e4-4dbd-a3a5-8eb5527b25d0 div.sk-item {z-index: 1;}#sk-61eacede-88e4-4dbd-a3a5-8eb5527b25d0 div.sk-parallel {display: flex;align-items: stretch;justify-content: center;background-color: white;}#sk-61eacede-88e4-4dbd-a3a5-8eb5527b25d0 div.sk-parallel-item {display: flex;flex-direction: column;position: relative;background-color: white;}#sk-61eacede-88e4-4dbd-a3a5-8eb5527b25d0 div.sk-parallel-item:first-child::after {align-self: flex-end;width: 50%;}#sk-61eacede-88e4-4dbd-a3a5-8eb5527b25d0 div.sk-parallel-item:last-child::after {align-self: flex-start;width: 50%;}#sk-61eacede-88e4-4dbd-a3a5-8eb5527b25d0 div.sk-parallel-item:only-child::after {width: 0;}#sk-61eacede-88e4-4dbd-a3a5-8eb5527b25d0 div.sk-dashed-wrapped {border: 1px dashed gray;margin: 0.2em;box-sizing: border-box;padding-bottom: 0.1em;background-color: white;position: relative;}#sk-61eacede-88e4-4dbd-a3a5-8eb5527b25d0 div.sk-label label {font-family: monospace;font-weight: bold;background-color: white;display: inline-block;line-height: 1.2em;}#sk-61eacede-88e4-4dbd-a3a5-8eb5527b25d0 div.sk-label-container {position: relative;z-index: 2;text-align: center;}#sk-61eacede-88e4-4dbd-a3a5-8eb5527b25d0 div.sk-container {display: inline-block;position: relative;}</style><div id=\"sk-61eacede-88e4-4dbd-a3a5-8eb5527b25d0\" class\"sk-top-container\"><div class=\"sk-container\"><div class=\"sk-item sk-dashed-wrapped\"><div class=\"sk-label-container\"><div class=\"sk-label sk-toggleable\"><input class=\"sk-toggleable__control sk-hidden--visually\" id=\"767a663b-9458-4b6b-a657-010daebb56ff\" type=\"checkbox\" ><label class=\"sk-toggleable__label\" for=\"767a663b-9458-4b6b-a657-010daebb56ff\">Pipeline</label><div class=\"sk-toggleable__content\"><pre>Pipeline(steps=[('dropextractlyrics', dropExtractLyrics()),\n",
       "                ('simpleimputer', SimpleImputer()),\n",
       "                ('standardscaler', StandardScaler())])</pre></div></div></div><div class=\"sk-serial\"><div class=\"sk-item\"><div class=\"sk-estimator sk-toggleable\"><input class=\"sk-toggleable__control sk-hidden--visually\" id=\"f53b4492-01af-4907-b397-0a1bf5a6ee59\" type=\"checkbox\" ><label class=\"sk-toggleable__label\" for=\"f53b4492-01af-4907-b397-0a1bf5a6ee59\">dropExtractLyrics</label><div class=\"sk-toggleable__content\"><pre>dropExtractLyrics()</pre></div></div></div><div class=\"sk-item\"><div class=\"sk-estimator sk-toggleable\"><input class=\"sk-toggleable__control sk-hidden--visually\" id=\"5b4b978c-88f6-4d1a-b36f-d8a5ac49c7a1\" type=\"checkbox\" ><label class=\"sk-toggleable__label\" for=\"5b4b978c-88f6-4d1a-b36f-d8a5ac49c7a1\">SimpleImputer</label><div class=\"sk-toggleable__content\"><pre>SimpleImputer()</pre></div></div></div><div class=\"sk-item\"><div class=\"sk-estimator sk-toggleable\"><input class=\"sk-toggleable__control sk-hidden--visually\" id=\"13627a2e-48e4-472d-8c8f-a43be12d786e\" type=\"checkbox\" ><label class=\"sk-toggleable__label\" for=\"13627a2e-48e4-472d-8c8f-a43be12d786e\">StandardScaler</label><div class=\"sk-toggleable__content\"><pre>StandardScaler()</pre></div></div></div></div></div></div></div>"
      ],
      "text/plain": [
       "Pipeline(steps=[('dropextractlyrics', dropExtractLyrics()),\n",
       "                ('simpleimputer', SimpleImputer()),\n",
       "                ('standardscaler', StandardScaler())])"
      ]
     },
     "execution_count": 38,
     "metadata": {},
     "output_type": "execute_result"
    }
   ],
   "source": [
    "preprocess_pipeline = make_pipeline(dropExtractLyrics(), SimpleImputer(missing_values = np.nan, strategy = 'mean'), StandardScaler())\n",
    "preprocess_pipeline"
   ]
  },
  {
   "cell_type": "markdown",
   "metadata": {
    "id": "jaPoqvqU3l4B"
   },
   "source": [
    "## Tiền xử lý + mô hình hóa"
   ]
  },
  {
   "cell_type": "markdown",
   "metadata": {
    "id": "3uPyNj6MbaRv"
   },
   "source": [
    "Ở đây chúng ta sẽ tiến hành thử nghiệm trên 5 mô hình phổ biến trong việc thực hiện classification. \n",
    "1. Mô hình MLP Classifier\n",
    "2. Mô hình Logistic Regression\n",
    "3. Mô hình Random Forest\n",
    "4. Mô hình Naive Bayes\n",
    "5. Mô hình K-NN\n",
    "\n",
    "Khi tiến hành thử nghiệm trên các mô hình này, vì dữ liệu của nhóm khá ít nên nhóm sẽ sử dụng phương pháp k-fold cross validation với k = 5."
   ]
  },
  {
   "cell_type": "markdown",
   "metadata": {
    "id": "Qol8SKUeY8xQ"
   },
   "source": [
    "### Mô hình MLP Classifier"
   ]
  },
  {
   "cell_type": "code",
   "execution_count": 39,
   "metadata": {
    "id": "gZwWc7g1xGdD"
   },
   "outputs": [],
   "source": [
    "trainvalid_errors = []\n",
    "test_errors = []"
   ]
  },
  {
   "cell_type": "markdown",
   "metadata": {
    "id": "ouuzAH43nm9j"
   },
   "source": [
    "Ở đây ta sẽ sử dụng mô hình MLP (với các siêu tham số `hidden_layer_sizes = (20), activation = tanh, solver =lbfgs, max_iter = 2500, random_state = 0` ) cũng như phương pháp k-fold cross validation để huấn luyện mô hình. \n"
   ]
  },
  {
   "cell_type": "code",
   "execution_count": 40,
   "metadata": {
    "colab": {
     "base_uri": "https://localhost:8080/",
     "height": 196
    },
    "id": "3a5BkYeF3owB",
    "outputId": "ea48a2e7-0a33-4162-dae9-496f593b28b6"
   },
   "outputs": [
    {
     "data": {
      "text/html": [
       "<style>#sk-0620c99c-018a-48c3-ad1f-001c369ad6eb {color: black;background-color: white;}#sk-0620c99c-018a-48c3-ad1f-001c369ad6eb pre{padding: 0;}#sk-0620c99c-018a-48c3-ad1f-001c369ad6eb div.sk-toggleable {background-color: white;}#sk-0620c99c-018a-48c3-ad1f-001c369ad6eb label.sk-toggleable__label {cursor: pointer;display: block;width: 100%;margin-bottom: 0;padding: 0.2em 0.3em;box-sizing: border-box;text-align: center;}#sk-0620c99c-018a-48c3-ad1f-001c369ad6eb div.sk-toggleable__content {max-height: 0;max-width: 0;overflow: hidden;text-align: left;background-color: #f0f8ff;}#sk-0620c99c-018a-48c3-ad1f-001c369ad6eb div.sk-toggleable__content pre {margin: 0.2em;color: black;border-radius: 0.25em;background-color: #f0f8ff;}#sk-0620c99c-018a-48c3-ad1f-001c369ad6eb input.sk-toggleable__control:checked~div.sk-toggleable__content {max-height: 200px;max-width: 100%;overflow: auto;}#sk-0620c99c-018a-48c3-ad1f-001c369ad6eb div.sk-estimator input.sk-toggleable__control:checked~label.sk-toggleable__label {background-color: #d4ebff;}#sk-0620c99c-018a-48c3-ad1f-001c369ad6eb div.sk-label input.sk-toggleable__control:checked~label.sk-toggleable__label {background-color: #d4ebff;}#sk-0620c99c-018a-48c3-ad1f-001c369ad6eb input.sk-hidden--visually {border: 0;clip: rect(1px 1px 1px 1px);clip: rect(1px, 1px, 1px, 1px);height: 1px;margin: -1px;overflow: hidden;padding: 0;position: absolute;width: 1px;}#sk-0620c99c-018a-48c3-ad1f-001c369ad6eb div.sk-estimator {font-family: monospace;background-color: #f0f8ff;margin: 0.25em 0.25em;border: 1px dotted black;border-radius: 0.25em;box-sizing: border-box;}#sk-0620c99c-018a-48c3-ad1f-001c369ad6eb div.sk-estimator:hover {background-color: #d4ebff;}#sk-0620c99c-018a-48c3-ad1f-001c369ad6eb div.sk-parallel-item::after {content: \"\";width: 100%;border-bottom: 1px solid gray;flex-grow: 1;}#sk-0620c99c-018a-48c3-ad1f-001c369ad6eb div.sk-label:hover label.sk-toggleable__label {background-color: #d4ebff;}#sk-0620c99c-018a-48c3-ad1f-001c369ad6eb div.sk-serial::before {content: \"\";position: absolute;border-left: 1px solid gray;box-sizing: border-box;top: 2em;bottom: 0;left: 50%;}#sk-0620c99c-018a-48c3-ad1f-001c369ad6eb div.sk-serial {display: flex;flex-direction: column;align-items: center;background-color: white;}#sk-0620c99c-018a-48c3-ad1f-001c369ad6eb div.sk-item {z-index: 1;}#sk-0620c99c-018a-48c3-ad1f-001c369ad6eb div.sk-parallel {display: flex;align-items: stretch;justify-content: center;background-color: white;}#sk-0620c99c-018a-48c3-ad1f-001c369ad6eb div.sk-parallel-item {display: flex;flex-direction: column;position: relative;background-color: white;}#sk-0620c99c-018a-48c3-ad1f-001c369ad6eb div.sk-parallel-item:first-child::after {align-self: flex-end;width: 50%;}#sk-0620c99c-018a-48c3-ad1f-001c369ad6eb div.sk-parallel-item:last-child::after {align-self: flex-start;width: 50%;}#sk-0620c99c-018a-48c3-ad1f-001c369ad6eb div.sk-parallel-item:only-child::after {width: 0;}#sk-0620c99c-018a-48c3-ad1f-001c369ad6eb div.sk-dashed-wrapped {border: 1px dashed gray;margin: 0.2em;box-sizing: border-box;padding-bottom: 0.1em;background-color: white;position: relative;}#sk-0620c99c-018a-48c3-ad1f-001c369ad6eb div.sk-label label {font-family: monospace;font-weight: bold;background-color: white;display: inline-block;line-height: 1.2em;}#sk-0620c99c-018a-48c3-ad1f-001c369ad6eb div.sk-label-container {position: relative;z-index: 2;text-align: center;}#sk-0620c99c-018a-48c3-ad1f-001c369ad6eb div.sk-container {display: inline-block;position: relative;}</style><div id=\"sk-0620c99c-018a-48c3-ad1f-001c369ad6eb\" class\"sk-top-container\"><div class=\"sk-container\"><div class=\"sk-item sk-dashed-wrapped\"><div class=\"sk-label-container\"><div class=\"sk-label sk-toggleable\"><input class=\"sk-toggleable__control sk-hidden--visually\" id=\"50e8b74b-df1b-4dcc-96d5-b599ee61ed7f\" type=\"checkbox\" ><label class=\"sk-toggleable__label\" for=\"50e8b74b-df1b-4dcc-96d5-b599ee61ed7f\">Pipeline</label><div class=\"sk-toggleable__content\"><pre>Pipeline(steps=[('pipeline',\n",
       "                 Pipeline(steps=[('dropextractlyrics', dropExtractLyrics()),\n",
       "                                 ('simpleimputer', SimpleImputer()),\n",
       "                                 ('standardscaler', StandardScaler())])),\n",
       "                ('mlpclassifier',\n",
       "                 MLPClassifier(activation='tanh', hidden_layer_sizes=20,\n",
       "                               max_iter=2500, random_state=0,\n",
       "                               solver='lbfgs'))])</pre></div></div></div><div class=\"sk-serial\"><div class=\"sk-item\"><div class=\"sk-label-container\"><div class=\"sk-label sk-toggleable\"><input class=\"sk-toggleable__control sk-hidden--visually\" id=\"8c104b4f-eb5f-4271-8fc6-77af48e52169\" type=\"checkbox\" ><label class=\"sk-toggleable__label\" for=\"8c104b4f-eb5f-4271-8fc6-77af48e52169\">pipeline: Pipeline</label><div class=\"sk-toggleable__content\"><pre>Pipeline(steps=[('dropextractlyrics', dropExtractLyrics()),\n",
       "                ('simpleimputer', SimpleImputer()),\n",
       "                ('standardscaler', StandardScaler())])</pre></div></div></div><div class=\"sk-serial\"><div class=\"sk-item\"><div class=\"sk-estimator sk-toggleable\"><input class=\"sk-toggleable__control sk-hidden--visually\" id=\"fa1796b7-46d8-49d1-a755-85be73044025\" type=\"checkbox\" ><label class=\"sk-toggleable__label\" for=\"fa1796b7-46d8-49d1-a755-85be73044025\">dropExtractLyrics</label><div class=\"sk-toggleable__content\"><pre>dropExtractLyrics()</pre></div></div></div><div class=\"sk-item\"><div class=\"sk-estimator sk-toggleable\"><input class=\"sk-toggleable__control sk-hidden--visually\" id=\"48b28983-f5bd-41f6-8ff4-4f519cfbc155\" type=\"checkbox\" ><label class=\"sk-toggleable__label\" for=\"48b28983-f5bd-41f6-8ff4-4f519cfbc155\">SimpleImputer</label><div class=\"sk-toggleable__content\"><pre>SimpleImputer()</pre></div></div></div><div class=\"sk-item\"><div class=\"sk-estimator sk-toggleable\"><input class=\"sk-toggleable__control sk-hidden--visually\" id=\"c6ccb990-09bc-4478-8706-5d6d5334af6a\" type=\"checkbox\" ><label class=\"sk-toggleable__label\" for=\"c6ccb990-09bc-4478-8706-5d6d5334af6a\">StandardScaler</label><div class=\"sk-toggleable__content\"><pre>StandardScaler()</pre></div></div></div></div></div><div class=\"sk-item\"><div class=\"sk-estimator sk-toggleable\"><input class=\"sk-toggleable__control sk-hidden--visually\" id=\"bb2bf0d6-83f5-422a-9a38-d3d4a9f4fa34\" type=\"checkbox\" ><label class=\"sk-toggleable__label\" for=\"bb2bf0d6-83f5-422a-9a38-d3d4a9f4fa34\">MLPClassifier</label><div class=\"sk-toggleable__content\"><pre>MLPClassifier(activation='tanh', hidden_layer_sizes=20, max_iter=2500,\n",
       "              random_state=0, solver='lbfgs')</pre></div></div></div></div></div></div></div>"
      ],
      "text/plain": [
       "Pipeline(steps=[('pipeline',\n",
       "                 Pipeline(steps=[('dropextractlyrics', dropExtractLyrics()),\n",
       "                                 ('simpleimputer', SimpleImputer()),\n",
       "                                 ('standardscaler', StandardScaler())])),\n",
       "                ('mlpclassifier',\n",
       "                 MLPClassifier(activation='tanh', hidden_layer_sizes=20,\n",
       "                               max_iter=2500, random_state=0,\n",
       "                               solver='lbfgs'))])"
      ]
     },
     "execution_count": 40,
     "metadata": {},
     "output_type": "execute_result"
    }
   ],
   "source": [
    "neural_net_model = MLPClassifier(hidden_layer_sizes = (20), \n",
    "                                 activation = 'tanh',\n",
    "                                 solver = 'lbfgs', \n",
    "                                 max_iter = 2500,\n",
    "                                 random_state = 0)\n",
    "\n",
    "full_pipeline1 = make_pipeline(preprocess_pipeline, neural_net_model)\n",
    "full_pipeline1"
   ]
  },
  {
   "cell_type": "code",
   "execution_count": 41,
   "metadata": {
    "colab": {
     "base_uri": "https://localhost:8080/",
     "height": 265
    },
    "id": "OmTASX_HJLp6",
    "outputId": "0bf20f6d-ac92-4fea-a70a-1e9da1985b37"
   },
   "outputs": [
    {
     "data": {
      "image/png": "[encoded data removed]",
      "text/plain": [
       "<Figure size 432x288 with 1 Axes>"
      ]
     },
     "metadata": {
      "needs_background": "light"
     },
     "output_type": "display_data"
    }
   ],
   "source": [
    "scores = []\n",
    "alphas = [0.1, 1, 10, 100, 1000]\n",
    "for alpha in alphas:\n",
    "    full_pipeline1.set_params(mlpclassifier__alpha = alpha)\n",
    "    scores.append(cross_val_score(full_pipeline1, train_X_df, train_y_sr, cv = 5))\n",
    "    \n",
    "errors = [(1-i)*100 for i in scores]\n",
    "errors = [i.mean() for i in errors]\n",
    "\n",
    "errors_df = pd.Series(errors, index = alphas).plot.barh();"
   ]
  },
  {
   "cell_type": "code",
   "execution_count": 42,
   "metadata": {
    "colab": {
     "base_uri": "https://localhost:8080/"
    },
    "id": "CaRYWTPrxYur",
    "outputId": "b04ae694-21ea-47b9-8531-30321243f976"
   },
   "outputs": [
    {
     "data": {
      "text/plain": [
       "[43.993643358982936,\n",
       " 44.64335898293744,\n",
       " 38.19003011040481,\n",
       " 35.240883238541315,\n",
       " 35.322850451656066]"
      ]
     },
     "execution_count": 42,
     "metadata": {},
     "output_type": "execute_result"
    }
   ],
   "source": [
    "errors"
   ]
  },
  {
   "cell_type": "markdown",
   "metadata": {
    "id": "pNgeQTTPwrRi"
   },
   "source": [
    "Qua dữ liệu trên tập train+valid ta thấy `alpha = 100` cho kết quả tốt nhất. Nên ta sẽ lựa chọn `alpha = 100` để dự đoán trên tập test."
   ]
  },
  {
   "cell_type": "code",
   "execution_count": 43,
   "metadata": {
    "colab": {
     "base_uri": "https://localhost:8080/"
    },
    "id": "hPkKiNUTKPP2",
    "outputId": "6ea62c10-76a8-4515-d6db-d618536929cf"
   },
   "outputs": [
    {
     "name": "stdout",
     "output_type": "stream",
     "text": [
      "35.64814814814815\n"
     ]
    }
   ],
   "source": [
    "trainvalid_errors.append(min(errors))\n",
    "\n",
    "full_pipeline1.set_params(mlpclassifier__alpha = 100)\n",
    "full_pipeline1.fit(train_X_df, train_y_sr)\n",
    "preds = full_pipeline1.predict(test_X_df)\n",
    "error = (1 - accuracy_score(test_y_sr, preds)) * 100\n",
    "test_errors.append(error)\n",
    "print(error)"
   ]
  },
  {
   "cell_type": "markdown",
   "metadata": {
    "id": "bOn7zVMdxA0j"
   },
   "source": [
    "Ta thấy mô hình có độ lỗi trên tập test là: ~35.6% tương tự như trên tập train+valid"
   ]
  },
  {
   "cell_type": "code",
   "execution_count": 44,
   "metadata": {
    "colab": {
     "base_uri": "https://localhost:8080/"
    },
    "id": "RwZ1Xqh_cjW3",
    "outputId": "df0bfe7b-4663-4853-ee22-0708da99a24a"
   },
   "outputs": [
    {
     "name": "stdout",
     "output_type": "stream",
     "text": [
      "              precision    recall  f1-score   support\n",
      "\n",
      "     non-hit       0.65      0.99      0.78       140\n",
      "         hit       0.00      0.00      0.00        76\n",
      "\n",
      "    accuracy                           0.64       216\n",
      "   macro avg       0.32      0.50      0.39       216\n",
      "weighted avg       0.42      0.64      0.51       216\n",
      "\n"
     ]
    }
   ],
   "source": [
    "print(classification_report(test_y_sr, preds, target_names= ['non-hit', 'hit']))"
   ]
  },
  {
   "cell_type": "markdown",
   "metadata": {
    "id": "a0e6z_c2ZOWV"
   },
   "source": [
    "### Mô hình LogisticRegression"
   ]
  },
  {
   "cell_type": "markdown",
   "metadata": {
    "id": "sQkLjNSk1ARz"
   },
   "source": [
    "Tiếp theo ta sẽ thử nghiệm trên mô hình Logistic Regression với siêu tham số `max_iter = 2500` còn lại ta cho theo mặc định."
   ]
  },
  {
   "cell_type": "code",
   "execution_count": 47,
   "metadata": {
    "colab": {
     "base_uri": "https://localhost:8080/",
     "height": 196
    },
    "id": "PZ77fI62ZNzb",
    "outputId": "cc79a98e-1dfa-4f60-a732-68f6cda22914"
   },
   "outputs": [
    {
     "data": {
      "text/html": [
       "<style>#sk-43b87362-33f3-4a6c-865d-153cbcab675f {color: black;background-color: white;}#sk-43b87362-33f3-4a6c-865d-153cbcab675f pre{padding: 0;}#sk-43b87362-33f3-4a6c-865d-153cbcab675f div.sk-toggleable {background-color: white;}#sk-43b87362-33f3-4a6c-865d-153cbcab675f label.sk-toggleable__label {cursor: pointer;display: block;width: 100%;margin-bottom: 0;padding: 0.2em 0.3em;box-sizing: border-box;text-align: center;}#sk-43b87362-33f3-4a6c-865d-153cbcab675f div.sk-toggleable__content {max-height: 0;max-width: 0;overflow: hidden;text-align: left;background-color: #f0f8ff;}#sk-43b87362-33f3-4a6c-865d-153cbcab675f div.sk-toggleable__content pre {margin: 0.2em;color: black;border-radius: 0.25em;background-color: #f0f8ff;}#sk-43b87362-33f3-4a6c-865d-153cbcab675f input.sk-toggleable__control:checked~div.sk-toggleable__content {max-height: 200px;max-width: 100%;overflow: auto;}#sk-43b87362-33f3-4a6c-865d-153cbcab675f div.sk-estimator input.sk-toggleable__control:checked~label.sk-toggleable__label {background-color: #d4ebff;}#sk-43b87362-33f3-4a6c-865d-153cbcab675f div.sk-label input.sk-toggleable__control:checked~label.sk-toggleable__label {background-color: #d4ebff;}#sk-43b87362-33f3-4a6c-865d-153cbcab675f input.sk-hidden--visually {border: 0;clip: rect(1px 1px 1px 1px);clip: rect(1px, 1px, 1px, 1px);height: 1px;margin: -1px;overflow: hidden;padding: 0;position: absolute;width: 1px;}#sk-43b87362-33f3-4a6c-865d-153cbcab675f div.sk-estimator {font-family: monospace;background-color: #f0f8ff;margin: 0.25em 0.25em;border: 1px dotted black;border-radius: 0.25em;box-sizing: border-box;}#sk-43b87362-33f3-4a6c-865d-153cbcab675f div.sk-estimator:hover {background-color: #d4ebff;}#sk-43b87362-33f3-4a6c-865d-153cbcab675f div.sk-parallel-item::after {content: \"\";width: 100%;border-bottom: 1px solid gray;flex-grow: 1;}#sk-43b87362-33f3-4a6c-865d-153cbcab675f div.sk-label:hover label.sk-toggleable__label {background-color: #d4ebff;}#sk-43b87362-33f3-4a6c-865d-153cbcab675f div.sk-serial::before {content: \"\";position: absolute;border-left: 1px solid gray;box-sizing: border-box;top: 2em;bottom: 0;left: 50%;}#sk-43b87362-33f3-4a6c-865d-153cbcab675f div.sk-serial {display: flex;flex-direction: column;align-items: center;background-color: white;}#sk-43b87362-33f3-4a6c-865d-153cbcab675f div.sk-item {z-index: 1;}#sk-43b87362-33f3-4a6c-865d-153cbcab675f div.sk-parallel {display: flex;align-items: stretch;justify-content: center;background-color: white;}#sk-43b87362-33f3-4a6c-865d-153cbcab675f div.sk-parallel-item {display: flex;flex-direction: column;position: relative;background-color: white;}#sk-43b87362-33f3-4a6c-865d-153cbcab675f div.sk-parallel-item:first-child::after {align-self: flex-end;width: 50%;}#sk-43b87362-33f3-4a6c-865d-153cbcab675f div.sk-parallel-item:last-child::after {align-self: flex-start;width: 50%;}#sk-43b87362-33f3-4a6c-865d-153cbcab675f div.sk-parallel-item:only-child::after {width: 0;}#sk-43b87362-33f3-4a6c-865d-153cbcab675f div.sk-dashed-wrapped {border: 1px dashed gray;margin: 0.2em;box-sizing: border-box;padding-bottom: 0.1em;background-color: white;position: relative;}#sk-43b87362-33f3-4a6c-865d-153cbcab675f div.sk-label label {font-family: monospace;font-weight: bold;background-color: white;display: inline-block;line-height: 1.2em;}#sk-43b87362-33f3-4a6c-865d-153cbcab675f div.sk-label-container {position: relative;z-index: 2;text-align: center;}#sk-43b87362-33f3-4a6c-865d-153cbcab675f div.sk-container {display: inline-block;position: relative;}</style><div id=\"sk-43b87362-33f3-4a6c-865d-153cbcab675f\" class\"sk-top-container\"><div class=\"sk-container\"><div class=\"sk-item sk-dashed-wrapped\"><div class=\"sk-label-container\"><div class=\"sk-label sk-toggleable\"><input class=\"sk-toggleable__control sk-hidden--visually\" id=\"36cc3cbe-92c5-4353-82f7-32dda7210c67\" type=\"checkbox\" ><label class=\"sk-toggleable__label\" for=\"36cc3cbe-92c5-4353-82f7-32dda7210c67\">Pipeline</label><div class=\"sk-toggleable__content\"><pre>Pipeline(steps=[('pipeline',\n",
       "                 Pipeline(steps=[('dropextractlyrics', dropExtractLyrics()),\n",
       "                                 ('simpleimputer', SimpleImputer()),\n",
       "                                 ('standardscaler', StandardScaler())])),\n",
       "                ('logisticregression', LogisticRegression(max_iter=2500))])</pre></div></div></div><div class=\"sk-serial\"><div class=\"sk-item\"><div class=\"sk-label-container\"><div class=\"sk-label sk-toggleable\"><input class=\"sk-toggleable__control sk-hidden--visually\" id=\"fb51ba64-1a02-4427-8ada-bc360bf16bc8\" type=\"checkbox\" ><label class=\"sk-toggleable__label\" for=\"fb51ba64-1a02-4427-8ada-bc360bf16bc8\">pipeline: Pipeline</label><div class=\"sk-toggleable__content\"><pre>Pipeline(steps=[('dropextractlyrics', dropExtractLyrics()),\n",
       "                ('simpleimputer', SimpleImputer()),\n",
       "                ('standardscaler', StandardScaler())])</pre></div></div></div><div class=\"sk-serial\"><div class=\"sk-item\"><div class=\"sk-estimator sk-toggleable\"><input class=\"sk-toggleable__control sk-hidden--visually\" id=\"1175eee9-6dd1-4ea5-907c-6fb93d0710bf\" type=\"checkbox\" ><label class=\"sk-toggleable__label\" for=\"1175eee9-6dd1-4ea5-907c-6fb93d0710bf\">dropExtractLyrics</label><div class=\"sk-toggleable__content\"><pre>dropExtractLyrics()</pre></div></div></div><div class=\"sk-item\"><div class=\"sk-estimator sk-toggleable\"><input class=\"sk-toggleable__control sk-hidden--visually\" id=\"6ca48eb0-3b22-48c9-be84-5d36d9569cd2\" type=\"checkbox\" ><label class=\"sk-toggleable__label\" for=\"6ca48eb0-3b22-48c9-be84-5d36d9569cd2\">SimpleImputer</label><div class=\"sk-toggleable__content\"><pre>SimpleImputer()</pre></div></div></div><div class=\"sk-item\"><div class=\"sk-estimator sk-toggleable\"><input class=\"sk-toggleable__control sk-hidden--visually\" id=\"10a754f6-4201-49c2-9350-3c64ed0eea7c\" type=\"checkbox\" ><label class=\"sk-toggleable__label\" for=\"10a754f6-4201-49c2-9350-3c64ed0eea7c\">StandardScaler</label><div class=\"sk-toggleable__content\"><pre>StandardScaler()</pre></div></div></div></div></div><div class=\"sk-item\"><div class=\"sk-estimator sk-toggleable\"><input class=\"sk-toggleable__control sk-hidden--visually\" id=\"32d9dcfc-fc6a-4d91-9d8f-e06787f44d0b\" type=\"checkbox\" ><label class=\"sk-toggleable__label\" for=\"32d9dcfc-fc6a-4d91-9d8f-e06787f44d0b\">LogisticRegression</label><div class=\"sk-toggleable__content\"><pre>LogisticRegression(max_iter=2500)</pre></div></div></div></div></div></div></div>"
      ],
      "text/plain": [
       "Pipeline(steps=[('pipeline',\n",
       "                 Pipeline(steps=[('dropextractlyrics', dropExtractLyrics()),\n",
       "                                 ('simpleimputer', SimpleImputer()),\n",
       "                                 ('standardscaler', StandardScaler())])),\n",
       "                ('logisticregression', LogisticRegression(max_iter=2500))])"
      ]
     },
     "execution_count": 47,
     "metadata": {},
     "output_type": "execute_result"
    }
   ],
   "source": [
    "full_pipeline2 = make_pipeline(preprocess_pipeline, LogisticRegression(max_iter = 2500))\n",
    "full_pipeline2"
   ]
  },
  {
   "cell_type": "code",
   "execution_count": 49,
   "metadata": {
    "colab": {
     "base_uri": "https://localhost:8080/"
    },
    "id": "bHDPuoESQ6ee",
    "outputId": "ce436092-c90b-4e92-ee74-1e9873a2c787"
   },
   "outputs": [
    {
     "name": "stdout",
     "output_type": "stream",
     "text": [
      "35.73369019739043\n"
     ]
    }
   ],
   "source": [
    "score = cross_val_score(full_pipeline2, train_X_df, train_y_sr, cv = 5).mean()\n",
    "error = (1 - score)*100\n",
    "trainvalid_errors.append(error)\n",
    "print(error)"
   ]
  },
  {
   "cell_type": "markdown",
   "metadata": {
    "id": "bL4bzWi01X1p"
   },
   "source": [
    "Ta thấy, mô hình cho độ lỗi: 35.73% trên tập train + valid, ta tiếp tục cho mô hình dự đoán tập test."
   ]
  },
  {
   "cell_type": "code",
   "execution_count": 58,
   "metadata": {
    "colab": {
     "base_uri": "https://localhost:8080/"
    },
    "id": "eqEAhw79d37Q",
    "outputId": "a79f92f5-d97f-4ebd-ab10-511cc9a72bda"
   },
   "outputs": [
    {
     "name": "stdout",
     "output_type": "stream",
     "text": [
      "37.96296296296296\n"
     ]
    }
   ],
   "source": [
    "full_pipeline2.fit(train_X_df, train_y_sr)\n",
    "preds = full_pipeline2.predict(test_X_df)\n",
    "error = (1 - accuracy_score(test_y_sr, preds)) * 100\n",
    "test_errors.append(error)\n",
    "print(error)"
   ]
  },
  {
   "cell_type": "markdown",
   "metadata": {
    "id": "apWC7OYC1hIc"
   },
   "source": [
    "Mô hình cho ra độ lỗi: 37.96% trên tập test"
   ]
  },
  {
   "cell_type": "code",
   "execution_count": 60,
   "metadata": {
    "colab": {
     "base_uri": "https://localhost:8080/"
    },
    "id": "wb_zUn-ieRNt",
    "outputId": "c47a667b-2733-48bb-bf07-45c34e50ed58"
   },
   "outputs": [
    {
     "name": "stdout",
     "output_type": "stream",
     "text": [
      "              precision    recall  f1-score   support\n",
      "\n",
      "     non-hit       0.65      0.90      0.75       140\n",
      "         hit       0.36      0.11      0.16        76\n",
      "\n",
      "    accuracy                           0.62       216\n",
      "   macro avg       0.51      0.50      0.46       216\n",
      "weighted avg       0.55      0.62      0.55       216\n",
      "\n"
     ]
    }
   ],
   "source": [
    "print(classification_report(test_y_sr, preds, target_names= ['non-hit', 'hit']))"
   ]
  },
  {
   "cell_type": "markdown",
   "metadata": {
    "id": "HljZinIQeuhX"
   },
   "source": [
    "### Mô hình Random Forest"
   ]
  },
  {
   "cell_type": "markdown",
   "metadata": {
    "id": "F7pCWPa634Vb"
   },
   "source": [
    "Với mô hình Random Forest ta sẽ thử nghiệm 2 siêu tham số:\n",
    "- `n_estimators` với các giá trị [100, 200, 300, 400, 500]\n",
    "- `max_depth` với các giá trị [2, 4, 6, 8, 10]"
   ]
  },
  {
   "cell_type": "code",
   "execution_count": 61,
   "metadata": {
    "colab": {
     "base_uri": "https://localhost:8080/",
     "height": 196
    },
    "id": "w50Ftl22ek4e",
    "outputId": "53387553-271e-4c34-8ca5-43a8c26dd98e"
   },
   "outputs": [
    {
     "data": {
      "text/html": [
       "<style>#sk-7c057e60-f5be-4536-b7f7-ed31100daa16 {color: black;background-color: white;}#sk-7c057e60-f5be-4536-b7f7-ed31100daa16 pre{padding: 0;}#sk-7c057e60-f5be-4536-b7f7-ed31100daa16 div.sk-toggleable {background-color: white;}#sk-7c057e60-f5be-4536-b7f7-ed31100daa16 label.sk-toggleable__label {cursor: pointer;display: block;width: 100%;margin-bottom: 0;padding: 0.2em 0.3em;box-sizing: border-box;text-align: center;}#sk-7c057e60-f5be-4536-b7f7-ed31100daa16 div.sk-toggleable__content {max-height: 0;max-width: 0;overflow: hidden;text-align: left;background-color: #f0f8ff;}#sk-7c057e60-f5be-4536-b7f7-ed31100daa16 div.sk-toggleable__content pre {margin: 0.2em;color: black;border-radius: 0.25em;background-color: #f0f8ff;}#sk-7c057e60-f5be-4536-b7f7-ed31100daa16 input.sk-toggleable__control:checked~div.sk-toggleable__content {max-height: 200px;max-width: 100%;overflow: auto;}#sk-7c057e60-f5be-4536-b7f7-ed31100daa16 div.sk-estimator input.sk-toggleable__control:checked~label.sk-toggleable__label {background-color: #d4ebff;}#sk-7c057e60-f5be-4536-b7f7-ed31100daa16 div.sk-label input.sk-toggleable__control:checked~label.sk-toggleable__label {background-color: #d4ebff;}#sk-7c057e60-f5be-4536-b7f7-ed31100daa16 input.sk-hidden--visually {border: 0;clip: rect(1px 1px 1px 1px);clip: rect(1px, 1px, 1px, 1px);height: 1px;margin: -1px;overflow: hidden;padding: 0;position: absolute;width: 1px;}#sk-7c057e60-f5be-4536-b7f7-ed31100daa16 div.sk-estimator {font-family: monospace;background-color: #f0f8ff;margin: 0.25em 0.25em;border: 1px dotted black;border-radius: 0.25em;box-sizing: border-box;}#sk-7c057e60-f5be-4536-b7f7-ed31100daa16 div.sk-estimator:hover {background-color: #d4ebff;}#sk-7c057e60-f5be-4536-b7f7-ed31100daa16 div.sk-parallel-item::after {content: \"\";width: 100%;border-bottom: 1px solid gray;flex-grow: 1;}#sk-7c057e60-f5be-4536-b7f7-ed31100daa16 div.sk-label:hover label.sk-toggleable__label {background-color: #d4ebff;}#sk-7c057e60-f5be-4536-b7f7-ed31100daa16 div.sk-serial::before {content: \"\";position: absolute;border-left: 1px solid gray;box-sizing: border-box;top: 2em;bottom: 0;left: 50%;}#sk-7c057e60-f5be-4536-b7f7-ed31100daa16 div.sk-serial {display: flex;flex-direction: column;align-items: center;background-color: white;}#sk-7c057e60-f5be-4536-b7f7-ed31100daa16 div.sk-item {z-index: 1;}#sk-7c057e60-f5be-4536-b7f7-ed31100daa16 div.sk-parallel {display: flex;align-items: stretch;justify-content: center;background-color: white;}#sk-7c057e60-f5be-4536-b7f7-ed31100daa16 div.sk-parallel-item {display: flex;flex-direction: column;position: relative;background-color: white;}#sk-7c057e60-f5be-4536-b7f7-ed31100daa16 div.sk-parallel-item:first-child::after {align-self: flex-end;width: 50%;}#sk-7c057e60-f5be-4536-b7f7-ed31100daa16 div.sk-parallel-item:last-child::after {align-self: flex-start;width: 50%;}#sk-7c057e60-f5be-4536-b7f7-ed31100daa16 div.sk-parallel-item:only-child::after {width: 0;}#sk-7c057e60-f5be-4536-b7f7-ed31100daa16 div.sk-dashed-wrapped {border: 1px dashed gray;margin: 0.2em;box-sizing: border-box;padding-bottom: 0.1em;background-color: white;position: relative;}#sk-7c057e60-f5be-4536-b7f7-ed31100daa16 div.sk-label label {font-family: monospace;font-weight: bold;background-color: white;display: inline-block;line-height: 1.2em;}#sk-7c057e60-f5be-4536-b7f7-ed31100daa16 div.sk-label-container {position: relative;z-index: 2;text-align: center;}#sk-7c057e60-f5be-4536-b7f7-ed31100daa16 div.sk-container {display: inline-block;position: relative;}</style><div id=\"sk-7c057e60-f5be-4536-b7f7-ed31100daa16\" class\"sk-top-container\"><div class=\"sk-container\"><div class=\"sk-item sk-dashed-wrapped\"><div class=\"sk-label-container\"><div class=\"sk-label sk-toggleable\"><input class=\"sk-toggleable__control sk-hidden--visually\" id=\"111d4886-937c-4c22-af5a-ba11a2acb73f\" type=\"checkbox\" ><label class=\"sk-toggleable__label\" for=\"111d4886-937c-4c22-af5a-ba11a2acb73f\">Pipeline</label><div class=\"sk-toggleable__content\"><pre>Pipeline(steps=[('pipeline',\n",
       "                 Pipeline(steps=[('dropextractlyrics', dropExtractLyrics()),\n",
       "                                 ('simpleimputer', SimpleImputer()),\n",
       "                                 ('standardscaler', StandardScaler())])),\n",
       "                ('randomforestclassifier',\n",
       "                 RandomForestClassifier(max_depth=5, random_state=0))])</pre></div></div></div><div class=\"sk-serial\"><div class=\"sk-item\"><div class=\"sk-label-container\"><div class=\"sk-label sk-toggleable\"><input class=\"sk-toggleable__control sk-hidden--visually\" id=\"06d7660c-35e8-4f9d-b68e-30802356160b\" type=\"checkbox\" ><label class=\"sk-toggleable__label\" for=\"06d7660c-35e8-4f9d-b68e-30802356160b\">pipeline: Pipeline</label><div class=\"sk-toggleable__content\"><pre>Pipeline(steps=[('dropextractlyrics', dropExtractLyrics()),\n",
       "                ('simpleimputer', SimpleImputer()),\n",
       "                ('standardscaler', StandardScaler())])</pre></div></div></div><div class=\"sk-serial\"><div class=\"sk-item\"><div class=\"sk-estimator sk-toggleable\"><input class=\"sk-toggleable__control sk-hidden--visually\" id=\"f351dfa5-aa83-4f47-9fc5-85fcbbc03d25\" type=\"checkbox\" ><label class=\"sk-toggleable__label\" for=\"f351dfa5-aa83-4f47-9fc5-85fcbbc03d25\">dropExtractLyrics</label><div class=\"sk-toggleable__content\"><pre>dropExtractLyrics()</pre></div></div></div><div class=\"sk-item\"><div class=\"sk-estimator sk-toggleable\"><input class=\"sk-toggleable__control sk-hidden--visually\" id=\"5b2086e4-dc06-4979-a7df-5cd4062610bd\" type=\"checkbox\" ><label class=\"sk-toggleable__label\" for=\"5b2086e4-dc06-4979-a7df-5cd4062610bd\">SimpleImputer</label><div class=\"sk-toggleable__content\"><pre>SimpleImputer()</pre></div></div></div><div class=\"sk-item\"><div class=\"sk-estimator sk-toggleable\"><input class=\"sk-toggleable__control sk-hidden--visually\" id=\"32bc587c-f5c8-47e8-8037-1555c9c7ea50\" type=\"checkbox\" ><label class=\"sk-toggleable__label\" for=\"32bc587c-f5c8-47e8-8037-1555c9c7ea50\">StandardScaler</label><div class=\"sk-toggleable__content\"><pre>StandardScaler()</pre></div></div></div></div></div><div class=\"sk-item\"><div class=\"sk-estimator sk-toggleable\"><input class=\"sk-toggleable__control sk-hidden--visually\" id=\"1d0754d1-65b4-4f5e-9a25-e88ef5306f39\" type=\"checkbox\" ><label class=\"sk-toggleable__label\" for=\"1d0754d1-65b4-4f5e-9a25-e88ef5306f39\">RandomForestClassifier</label><div class=\"sk-toggleable__content\"><pre>RandomForestClassifier(max_depth=5, random_state=0)</pre></div></div></div></div></div></div></div>"
      ],
      "text/plain": [
       "Pipeline(steps=[('pipeline',\n",
       "                 Pipeline(steps=[('dropextractlyrics', dropExtractLyrics()),\n",
       "                                 ('simpleimputer', SimpleImputer()),\n",
       "                                 ('standardscaler', StandardScaler())])),\n",
       "                ('randomforestclassifier',\n",
       "                 RandomForestClassifier(max_depth=5, random_state=0))])"
      ]
     },
     "execution_count": 61,
     "metadata": {},
     "output_type": "execute_result"
    }
   ],
   "source": [
    "full_pipeline3 = make_pipeline(preprocess_pipeline, RandomForestClassifier(n_estimators = 100,max_depth=5, random_state=0))\n",
    "full_pipeline3"
   ]
  },
  {
   "cell_type": "code",
   "execution_count": 62,
   "metadata": {
    "id": "ksTNlp-G3FuM"
   },
   "outputs": [],
   "source": [
    "scores = []\n",
    "n_estimators = [100,200,300,400,500]\n",
    "max_depth = [2,4,6,8,10]\n",
    "for i in n_estimators:\n",
    "  for j in max_depth:\n",
    "    full_pipeline3.set_params(randomforestclassifier__n_estimators = i, randomforestclassifier__max_depth = j)\n",
    "    scores.append(cross_val_score(full_pipeline3, train_X_df, train_y_sr, cv = 5))"
   ]
  },
  {
   "cell_type": "code",
   "execution_count": 63,
   "metadata": {
    "colab": {
     "base_uri": "https://localhost:8080/"
    },
    "id": "HSfXVil9lPy5",
    "outputId": "997cafae-d4a9-47f8-d376-9c4a57f3a3f0"
   },
   "outputs": [
    {
     "data": {
      "text/plain": [
       "[35.322850451656066,\n",
       " 34.50552024088324,\n",
       " 34.50518568082971,\n",
       " 35.15991970558715,\n",
       " 35.32519237203078,\n",
       " 35.40448310471729,\n",
       " 34.26028772164604,\n",
       " 34.50552024088324,\n",
       " 34.9966543994647,\n",
       " 35.07962529274005,\n",
       " 35.322850451656066,\n",
       " 34.341920374707264,\n",
       " 34.6677818668451,\n",
       " 34.83338909334226,\n",
       " 34.833723653395786,\n",
       " 35.322850451656066,\n",
       " 34.260287721646044,\n",
       " 34.668116426898635,\n",
       " 34.66978922716628,\n",
       " 35.07962529274005,\n",
       " 35.322850451656066,\n",
       " 34.260287721646044,\n",
       " 34.17798594847775,\n",
       " 34.833389093342255,\n",
       " 35.16058882569421]"
      ]
     },
     "execution_count": 63,
     "metadata": {},
     "output_type": "execute_result"
    }
   ],
   "source": [
    "errors = [(1-i)*100 for i in scores]\n",
    "errors = [i.mean() for i in errors]\n",
    "errors"
   ]
  },
  {
   "cell_type": "code",
   "execution_count": 64,
   "metadata": {
    "colab": {
     "base_uri": "https://localhost:8080/",
     "height": 349
    },
    "id": "YnplPaUQ-57F",
    "outputId": "82b6a9fb-346e-4536-9a21-d021a0d13f53"
   },
   "outputs": [
    {
     "data": {
      "text/plain": [
       "Text(69.0, 0.5, 'n_estimators')"
      ]
     },
     "execution_count": 64,
     "metadata": {},
     "output_type": "execute_result"
    },
    {
     "data": {
      "image/png": "[encoded data removed]",
      "text/plain": [
       "<Figure size 720x360 with 1 Axes>"
      ]
     },
     "metadata": {
      "needs_background": "light"
     },
     "output_type": "display_data"
    }
   ],
   "source": [
    "train_errs_df = pd.DataFrame(data=np.array(errors).reshape(len(n_estimators), -1),\n",
    "                             index=n_estimators, columns=max_depth)\n",
    "plt.figure(figsize=(10, 5))\n",
    "plt.subplot(1, 2, 1)\n",
    "sns.heatmap(train_errs_df, square=True, \n",
    "            annot=True, cbar=False, fmt='.2f', cmap='Blues')\n",
    "plt.title('train & valid errors'); plt.xlabel('max_depth'); plt.ylabel('n_estimators')"
   ]
  },
  {
   "cell_type": "markdown",
   "metadata": {
    "id": "6z2gFVXw4kRN"
   },
   "source": [
    "Ta thấy, mô hình cho độ lỗi nhỏ nhất trên tập train&valid khi siêu tham số: `n_estimators = 500` và `max_depth = 6`. Ta sẽ tiến hành cho mô hình dự đoán trên tập test với 2 siêu tham số này."
   ]
  },
  {
   "cell_type": "code",
   "execution_count": 68,
   "metadata": {
    "id": "loheacFBEjoB"
   },
   "outputs": [],
   "source": [
    "trainvalid_errors.append(min(errors))"
   ]
  },
  {
   "cell_type": "code",
   "execution_count": 65,
   "metadata": {
    "id": "MM1Ptyj-M1e6"
   },
   "outputs": [],
   "source": [
    "max_depth_best = max_depth[np.argmin(errors) % 5]\n",
    "n_estimators_best = n_estimators[int(np.argmin(errors) / 5)]"
   ]
  },
  {
   "cell_type": "code",
   "execution_count": 69,
   "metadata": {
    "colab": {
     "base_uri": "https://localhost:8080/",
     "height": 196
    },
    "id": "_KolyNyp6tK7",
    "outputId": "e5ccf578-0f4c-42b8-dec9-2a4a4e98adc5"
   },
   "outputs": [
    {
     "data": {
      "text/html": [
       "<style>#sk-d446121c-56d7-41ad-b237-d65b095f864c {color: black;background-color: white;}#sk-d446121c-56d7-41ad-b237-d65b095f864c pre{padding: 0;}#sk-d446121c-56d7-41ad-b237-d65b095f864c div.sk-toggleable {background-color: white;}#sk-d446121c-56d7-41ad-b237-d65b095f864c label.sk-toggleable__label {cursor: pointer;display: block;width: 100%;margin-bottom: 0;padding: 0.2em 0.3em;box-sizing: border-box;text-align: center;}#sk-d446121c-56d7-41ad-b237-d65b095f864c div.sk-toggleable__content {max-height: 0;max-width: 0;overflow: hidden;text-align: left;background-color: #f0f8ff;}#sk-d446121c-56d7-41ad-b237-d65b095f864c div.sk-toggleable__content pre {margin: 0.2em;color: black;border-radius: 0.25em;background-color: #f0f8ff;}#sk-d446121c-56d7-41ad-b237-d65b095f864c input.sk-toggleable__control:checked~div.sk-toggleable__content {max-height: 200px;max-width: 100%;overflow: auto;}#sk-d446121c-56d7-41ad-b237-d65b095f864c div.sk-estimator input.sk-toggleable__control:checked~label.sk-toggleable__label {background-color: #d4ebff;}#sk-d446121c-56d7-41ad-b237-d65b095f864c div.sk-label input.sk-toggleable__control:checked~label.sk-toggleable__label {background-color: #d4ebff;}#sk-d446121c-56d7-41ad-b237-d65b095f864c input.sk-hidden--visually {border: 0;clip: rect(1px 1px 1px 1px);clip: rect(1px, 1px, 1px, 1px);height: 1px;margin: -1px;overflow: hidden;padding: 0;position: absolute;width: 1px;}#sk-d446121c-56d7-41ad-b237-d65b095f864c div.sk-estimator {font-family: monospace;background-color: #f0f8ff;margin: 0.25em 0.25em;border: 1px dotted black;border-radius: 0.25em;box-sizing: border-box;}#sk-d446121c-56d7-41ad-b237-d65b095f864c div.sk-estimator:hover {background-color: #d4ebff;}#sk-d446121c-56d7-41ad-b237-d65b095f864c div.sk-parallel-item::after {content: \"\";width: 100%;border-bottom: 1px solid gray;flex-grow: 1;}#sk-d446121c-56d7-41ad-b237-d65b095f864c div.sk-label:hover label.sk-toggleable__label {background-color: #d4ebff;}#sk-d446121c-56d7-41ad-b237-d65b095f864c div.sk-serial::before {content: \"\";position: absolute;border-left: 1px solid gray;box-sizing: border-box;top: 2em;bottom: 0;left: 50%;}#sk-d446121c-56d7-41ad-b237-d65b095f864c div.sk-serial {display: flex;flex-direction: column;align-items: center;background-color: white;}#sk-d446121c-56d7-41ad-b237-d65b095f864c div.sk-item {z-index: 1;}#sk-d446121c-56d7-41ad-b237-d65b095f864c div.sk-parallel {display: flex;align-items: stretch;justify-content: center;background-color: white;}#sk-d446121c-56d7-41ad-b237-d65b095f864c div.sk-parallel-item {display: flex;flex-direction: column;position: relative;background-color: white;}#sk-d446121c-56d7-41ad-b237-d65b095f864c div.sk-parallel-item:first-child::after {align-self: flex-end;width: 50%;}#sk-d446121c-56d7-41ad-b237-d65b095f864c div.sk-parallel-item:last-child::after {align-self: flex-start;width: 50%;}#sk-d446121c-56d7-41ad-b237-d65b095f864c div.sk-parallel-item:only-child::after {width: 0;}#sk-d446121c-56d7-41ad-b237-d65b095f864c div.sk-dashed-wrapped {border: 1px dashed gray;margin: 0.2em;box-sizing: border-box;padding-bottom: 0.1em;background-color: white;position: relative;}#sk-d446121c-56d7-41ad-b237-d65b095f864c div.sk-label label {font-family: monospace;font-weight: bold;background-color: white;display: inline-block;line-height: 1.2em;}#sk-d446121c-56d7-41ad-b237-d65b095f864c div.sk-label-container {position: relative;z-index: 2;text-align: center;}#sk-d446121c-56d7-41ad-b237-d65b095f864c div.sk-container {display: inline-block;position: relative;}</style><div id=\"sk-d446121c-56d7-41ad-b237-d65b095f864c\" class\"sk-top-container\"><div class=\"sk-container\"><div class=\"sk-item sk-dashed-wrapped\"><div class=\"sk-label-container\"><div class=\"sk-label sk-toggleable\"><input class=\"sk-toggleable__control sk-hidden--visually\" id=\"19b7aa7b-5016-45a4-86fa-e2713b5d1b7c\" type=\"checkbox\" ><label class=\"sk-toggleable__label\" for=\"19b7aa7b-5016-45a4-86fa-e2713b5d1b7c\">Pipeline</label><div class=\"sk-toggleable__content\"><pre>Pipeline(steps=[('pipeline',\n",
       "                 Pipeline(steps=[('dropextractlyrics', dropExtractLyrics()),\n",
       "                                 ('simpleimputer', SimpleImputer()),\n",
       "                                 ('standardscaler', StandardScaler())])),\n",
       "                ('randomforestclassifier',\n",
       "                 RandomForestClassifier(max_depth=6, n_estimators=500,\n",
       "                                        random_state=0))])</pre></div></div></div><div class=\"sk-serial\"><div class=\"sk-item\"><div class=\"sk-label-container\"><div class=\"sk-label sk-toggleable\"><input class=\"sk-toggleable__control sk-hidden--visually\" id=\"02e0e9dd-839f-4308-9a2a-cc2de735950e\" type=\"checkbox\" ><label class=\"sk-toggleable__label\" for=\"02e0e9dd-839f-4308-9a2a-cc2de735950e\">pipeline: Pipeline</label><div class=\"sk-toggleable__content\"><pre>Pipeline(steps=[('dropextractlyrics', dropExtractLyrics()),\n",
       "                ('simpleimputer', SimpleImputer()),\n",
       "                ('standardscaler', StandardScaler())])</pre></div></div></div><div class=\"sk-serial\"><div class=\"sk-item\"><div class=\"sk-estimator sk-toggleable\"><input class=\"sk-toggleable__control sk-hidden--visually\" id=\"e199278a-f8b8-4499-a998-97e8f5454b97\" type=\"checkbox\" ><label class=\"sk-toggleable__label\" for=\"e199278a-f8b8-4499-a998-97e8f5454b97\">dropExtractLyrics</label><div class=\"sk-toggleable__content\"><pre>dropExtractLyrics()</pre></div></div></div><div class=\"sk-item\"><div class=\"sk-estimator sk-toggleable\"><input class=\"sk-toggleable__control sk-hidden--visually\" id=\"1e46526e-9918-434c-9100-8348fccc6b64\" type=\"checkbox\" ><label class=\"sk-toggleable__label\" for=\"1e46526e-9918-434c-9100-8348fccc6b64\">SimpleImputer</label><div class=\"sk-toggleable__content\"><pre>SimpleImputer()</pre></div></div></div><div class=\"sk-item\"><div class=\"sk-estimator sk-toggleable\"><input class=\"sk-toggleable__control sk-hidden--visually\" id=\"e5a972e1-434c-4018-8197-1ee44ca2f14b\" type=\"checkbox\" ><label class=\"sk-toggleable__label\" for=\"e5a972e1-434c-4018-8197-1ee44ca2f14b\">StandardScaler</label><div class=\"sk-toggleable__content\"><pre>StandardScaler()</pre></div></div></div></div></div><div class=\"sk-item\"><div class=\"sk-estimator sk-toggleable\"><input class=\"sk-toggleable__control sk-hidden--visually\" id=\"30cc54cb-e500-4459-8fed-717e24ab795d\" type=\"checkbox\" ><label class=\"sk-toggleable__label\" for=\"30cc54cb-e500-4459-8fed-717e24ab795d\">RandomForestClassifier</label><div class=\"sk-toggleable__content\"><pre>RandomForestClassifier(max_depth=6, n_estimators=500, random_state=0)</pre></div></div></div></div></div></div></div>"
      ],
      "text/plain": [
       "Pipeline(steps=[('pipeline',\n",
       "                 Pipeline(steps=[('dropextractlyrics', dropExtractLyrics()),\n",
       "                                 ('simpleimputer', SimpleImputer()),\n",
       "                                 ('standardscaler', StandardScaler())])),\n",
       "                ('randomforestclassifier',\n",
       "                 RandomForestClassifier(max_depth=6, n_estimators=500,\n",
       "                                        random_state=0))])"
      ]
     },
     "execution_count": 69,
     "metadata": {},
     "output_type": "execute_result"
    }
   ],
   "source": [
    "full_pipeline3.set_params(randomforestclassifier__n_estimators = n_estimators_best,randomforestclassifier__max_depth = max_depth_best)"
   ]
  },
  {
   "cell_type": "code",
   "execution_count": 70,
   "metadata": {
    "id": "PrR-OOkV3GGk"
   },
   "outputs": [],
   "source": [
    "full_pipeline3.fit(train_X_df, train_y_sr)\n",
    "preds = full_pipeline3.predict(test_X_df)"
   ]
  },
  {
   "cell_type": "code",
   "execution_count": 71,
   "metadata": {
    "colab": {
     "base_uri": "https://localhost:8080/"
    },
    "id": "QMrmUPTlEtlQ",
    "outputId": "d36c7666-4e95-4c6a-a679-3f888b3f45f4"
   },
   "outputs": [
    {
     "name": "stdout",
     "output_type": "stream",
     "text": [
      "35.18518518518518\n"
     ]
    }
   ],
   "source": [
    "error = (1 - accuracy_score(test_y_sr, preds)) * 100\n",
    "test_errors.append(error)\n",
    "print(error)"
   ]
  },
  {
   "cell_type": "markdown",
   "metadata": {
    "id": "tIfGSr09ExwJ"
   },
   "source": [
    "Ta thấy, mô hình cho độ lỗi 35.19% trên tập test"
   ]
  },
  {
   "cell_type": "code",
   "execution_count": 72,
   "metadata": {
    "colab": {
     "base_uri": "https://localhost:8080/"
    },
    "id": "saEtGMA-3H9q",
    "outputId": "dc597330-8659-4bdf-d4c9-1fa3dc68f9c3"
   },
   "outputs": [
    {
     "name": "stdout",
     "output_type": "stream",
     "text": [
      "              precision    recall  f1-score   support\n",
      "\n",
      "     non-hit       0.65      0.97      0.78       140\n",
      "         hit       0.50      0.05      0.10        76\n",
      "\n",
      "    accuracy                           0.65       216\n",
      "   macro avg       0.58      0.51      0.44       216\n",
      "weighted avg       0.60      0.65      0.54       216\n",
      "\n"
     ]
    }
   ],
   "source": [
    "print(classification_report(test_y_sr, preds, target_names= ['non-hit', 'hit']))"
   ]
  },
  {
   "cell_type": "markdown",
   "metadata": {
    "id": "mKlvtSffiObD"
   },
   "source": [
    "### Mô hình Naive Bayes"
   ]
  },
  {
   "cell_type": "markdown",
   "metadata": {
    "id": "QDfKlMKTFHQt"
   },
   "source": [
    "Tiếp tục, ta sẽ tiến hành thử nghiệm trên mô hình Naive Bayes với các siêu tham số mặc định"
   ]
  },
  {
   "cell_type": "code",
   "execution_count": 73,
   "metadata": {
    "colab": {
     "base_uri": "https://localhost:8080/",
     "height": 196
    },
    "id": "OduJO9e0iSUv",
    "outputId": "52a94e92-11f8-422d-e28d-cc336b882a8f"
   },
   "outputs": [
    {
     "data": {
      "text/html": [
       "<style>#sk-983866b3-cbdd-4940-9b0a-6fbb20139f2d {color: black;background-color: white;}#sk-983866b3-cbdd-4940-9b0a-6fbb20139f2d pre{padding: 0;}#sk-983866b3-cbdd-4940-9b0a-6fbb20139f2d div.sk-toggleable {background-color: white;}#sk-983866b3-cbdd-4940-9b0a-6fbb20139f2d label.sk-toggleable__label {cursor: pointer;display: block;width: 100%;margin-bottom: 0;padding: 0.2em 0.3em;box-sizing: border-box;text-align: center;}#sk-983866b3-cbdd-4940-9b0a-6fbb20139f2d div.sk-toggleable__content {max-height: 0;max-width: 0;overflow: hidden;text-align: left;background-color: #f0f8ff;}#sk-983866b3-cbdd-4940-9b0a-6fbb20139f2d div.sk-toggleable__content pre {margin: 0.2em;color: black;border-radius: 0.25em;background-color: #f0f8ff;}#sk-983866b3-cbdd-4940-9b0a-6fbb20139f2d input.sk-toggleable__control:checked~div.sk-toggleable__content {max-height: 200px;max-width: 100%;overflow: auto;}#sk-983866b3-cbdd-4940-9b0a-6fbb20139f2d div.sk-estimator input.sk-toggleable__control:checked~label.sk-toggleable__label {background-color: #d4ebff;}#sk-983866b3-cbdd-4940-9b0a-6fbb20139f2d div.sk-label input.sk-toggleable__control:checked~label.sk-toggleable__label {background-color: #d4ebff;}#sk-983866b3-cbdd-4940-9b0a-6fbb20139f2d input.sk-hidden--visually {border: 0;clip: rect(1px 1px 1px 1px);clip: rect(1px, 1px, 1px, 1px);height: 1px;margin: -1px;overflow: hidden;padding: 0;position: absolute;width: 1px;}#sk-983866b3-cbdd-4940-9b0a-6fbb20139f2d div.sk-estimator {font-family: monospace;background-color: #f0f8ff;margin: 0.25em 0.25em;border: 1px dotted black;border-radius: 0.25em;box-sizing: border-box;}#sk-983866b3-cbdd-4940-9b0a-6fbb20139f2d div.sk-estimator:hover {background-color: #d4ebff;}#sk-983866b3-cbdd-4940-9b0a-6fbb20139f2d div.sk-parallel-item::after {content: \"\";width: 100%;border-bottom: 1px solid gray;flex-grow: 1;}#sk-983866b3-cbdd-4940-9b0a-6fbb20139f2d div.sk-label:hover label.sk-toggleable__label {background-color: #d4ebff;}#sk-983866b3-cbdd-4940-9b0a-6fbb20139f2d div.sk-serial::before {content: \"\";position: absolute;border-left: 1px solid gray;box-sizing: border-box;top: 2em;bottom: 0;left: 50%;}#sk-983866b3-cbdd-4940-9b0a-6fbb20139f2d div.sk-serial {display: flex;flex-direction: column;align-items: center;background-color: white;}#sk-983866b3-cbdd-4940-9b0a-6fbb20139f2d div.sk-item {z-index: 1;}#sk-983866b3-cbdd-4940-9b0a-6fbb20139f2d div.sk-parallel {display: flex;align-items: stretch;justify-content: center;background-color: white;}#sk-983866b3-cbdd-4940-9b0a-6fbb20139f2d div.sk-parallel-item {display: flex;flex-direction: column;position: relative;background-color: white;}#sk-983866b3-cbdd-4940-9b0a-6fbb20139f2d div.sk-parallel-item:first-child::after {align-self: flex-end;width: 50%;}#sk-983866b3-cbdd-4940-9b0a-6fbb20139f2d div.sk-parallel-item:last-child::after {align-self: flex-start;width: 50%;}#sk-983866b3-cbdd-4940-9b0a-6fbb20139f2d div.sk-parallel-item:only-child::after {width: 0;}#sk-983866b3-cbdd-4940-9b0a-6fbb20139f2d div.sk-dashed-wrapped {border: 1px dashed gray;margin: 0.2em;box-sizing: border-box;padding-bottom: 0.1em;background-color: white;position: relative;}#sk-983866b3-cbdd-4940-9b0a-6fbb20139f2d div.sk-label label {font-family: monospace;font-weight: bold;background-color: white;display: inline-block;line-height: 1.2em;}#sk-983866b3-cbdd-4940-9b0a-6fbb20139f2d div.sk-label-container {position: relative;z-index: 2;text-align: center;}#sk-983866b3-cbdd-4940-9b0a-6fbb20139f2d div.sk-container {display: inline-block;position: relative;}</style><div id=\"sk-983866b3-cbdd-4940-9b0a-6fbb20139f2d\" class\"sk-top-container\"><div class=\"sk-container\"><div class=\"sk-item sk-dashed-wrapped\"><div class=\"sk-label-container\"><div class=\"sk-label sk-toggleable\"><input class=\"sk-toggleable__control sk-hidden--visually\" id=\"a73e5729-300c-4478-90ab-f1f03a0c3668\" type=\"checkbox\" ><label class=\"sk-toggleable__label\" for=\"a73e5729-300c-4478-90ab-f1f03a0c3668\">Pipeline</label><div class=\"sk-toggleable__content\"><pre>Pipeline(steps=[('pipeline',\n",
       "                 Pipeline(steps=[('dropextractlyrics', dropExtractLyrics()),\n",
       "                                 ('simpleimputer', SimpleImputer()),\n",
       "                                 ('standardscaler', StandardScaler())])),\n",
       "                ('gaussiannb', GaussianNB())])</pre></div></div></div><div class=\"sk-serial\"><div class=\"sk-item\"><div class=\"sk-label-container\"><div class=\"sk-label sk-toggleable\"><input class=\"sk-toggleable__control sk-hidden--visually\" id=\"0d27f05c-e778-4280-9508-20032f221156\" type=\"checkbox\" ><label class=\"sk-toggleable__label\" for=\"0d27f05c-e778-4280-9508-20032f221156\">pipeline: Pipeline</label><div class=\"sk-toggleable__content\"><pre>Pipeline(steps=[('dropextractlyrics', dropExtractLyrics()),\n",
       "                ('simpleimputer', SimpleImputer()),\n",
       "                ('standardscaler', StandardScaler())])</pre></div></div></div><div class=\"sk-serial\"><div class=\"sk-item\"><div class=\"sk-estimator sk-toggleable\"><input class=\"sk-toggleable__control sk-hidden--visually\" id=\"8496a5f9-c531-4ab5-a6e8-b113700d9384\" type=\"checkbox\" ><label class=\"sk-toggleable__label\" for=\"8496a5f9-c531-4ab5-a6e8-b113700d9384\">dropExtractLyrics</label><div class=\"sk-toggleable__content\"><pre>dropExtractLyrics()</pre></div></div></div><div class=\"sk-item\"><div class=\"sk-estimator sk-toggleable\"><input class=\"sk-toggleable__control sk-hidden--visually\" id=\"1ceef895-5974-4094-815b-3f0f41303030\" type=\"checkbox\" ><label class=\"sk-toggleable__label\" for=\"1ceef895-5974-4094-815b-3f0f41303030\">SimpleImputer</label><div class=\"sk-toggleable__content\"><pre>SimpleImputer()</pre></div></div></div><div class=\"sk-item\"><div class=\"sk-estimator sk-toggleable\"><input class=\"sk-toggleable__control sk-hidden--visually\" id=\"98e03cc7-7599-4434-8952-84ddf0328057\" type=\"checkbox\" ><label class=\"sk-toggleable__label\" for=\"98e03cc7-7599-4434-8952-84ddf0328057\">StandardScaler</label><div class=\"sk-toggleable__content\"><pre>StandardScaler()</pre></div></div></div></div></div><div class=\"sk-item\"><div class=\"sk-estimator sk-toggleable\"><input class=\"sk-toggleable__control sk-hidden--visually\" id=\"646accb3-0d4a-445f-b5e5-9004b200bfb4\" type=\"checkbox\" ><label class=\"sk-toggleable__label\" for=\"646accb3-0d4a-445f-b5e5-9004b200bfb4\">GaussianNB</label><div class=\"sk-toggleable__content\"><pre>GaussianNB()</pre></div></div></div></div></div></div></div>"
      ],
      "text/plain": [
       "Pipeline(steps=[('pipeline',\n",
       "                 Pipeline(steps=[('dropextractlyrics', dropExtractLyrics()),\n",
       "                                 ('simpleimputer', SimpleImputer()),\n",
       "                                 ('standardscaler', StandardScaler())])),\n",
       "                ('gaussiannb', GaussianNB())])"
      ]
     },
     "execution_count": 73,
     "metadata": {},
     "output_type": "execute_result"
    }
   ],
   "source": [
    "full_pipeline4 = make_pipeline(preprocess_pipeline, GaussianNB())\n",
    "full_pipeline4"
   ]
  },
  {
   "cell_type": "code",
   "execution_count": 75,
   "metadata": {
    "colab": {
     "base_uri": "https://localhost:8080/"
    },
    "id": "RIry3dgW3UAc",
    "outputId": "93f3367b-96ed-450f-9068-18cc93b22cfb"
   },
   "outputs": [
    {
     "name": "stdout",
     "output_type": "stream",
     "text": [
      "40.39846102375376\n"
     ]
    }
   ],
   "source": [
    "score = cross_val_score(full_pipeline4, train_X_df, train_y_sr, cv = 5).mean()\n",
    "error = (1 - score)*100\n",
    "trainvalid_errors.append(error)\n",
    "print(error)"
   ]
  },
  {
   "cell_type": "markdown",
   "metadata": {
    "id": "PwhWFZr3FUe4"
   },
   "source": [
    "Ta thấy, mô hình cho độ lỗi 40.4% trên tập train + valid. Ta sẽ tiếp tục thử nghiệm trên tập test"
   ]
  },
  {
   "cell_type": "code",
   "execution_count": 76,
   "metadata": {
    "id": "8ixIk5FQ3UMZ"
   },
   "outputs": [],
   "source": [
    "full_pipeline4.fit(train_X_df, train_y_sr)\n",
    "preds = full_pipeline4.predict(test_X_df)"
   ]
  },
  {
   "cell_type": "code",
   "execution_count": 77,
   "metadata": {
    "colab": {
     "base_uri": "https://localhost:8080/"
    },
    "id": "15iXrEWfF4iL",
    "outputId": "e5c8655b-b9a8-49d9-d5a4-1b895f07f2ef"
   },
   "outputs": [
    {
     "name": "stdout",
     "output_type": "stream",
     "text": [
      "40.27777777777778\n"
     ]
    }
   ],
   "source": [
    "error = (1 - accuracy_score(test_y_sr, preds)) * 100\n",
    "test_errors.append(error)\n",
    "print(error)"
   ]
  },
  {
   "cell_type": "markdown",
   "metadata": {
    "id": "pzQup9BRF-al"
   },
   "source": [
    "Trên tập test, mô hình cũng cho độ lỗi khoảng 40.28%"
   ]
  },
  {
   "cell_type": "code",
   "execution_count": 78,
   "metadata": {
    "colab": {
     "base_uri": "https://localhost:8080/"
    },
    "id": "ShYlkbfv3UXL",
    "outputId": "25d31ce0-5b09-431f-b73d-c595b0e6d60e"
   },
   "outputs": [
    {
     "name": "stdout",
     "output_type": "stream",
     "text": [
      "              precision    recall  f1-score   support\n",
      "\n",
      "     non-hit       0.68      0.71      0.70       140\n",
      "         hit       0.42      0.38      0.40        76\n",
      "\n",
      "    accuracy                           0.60       216\n",
      "   macro avg       0.55      0.55      0.55       216\n",
      "weighted avg       0.59      0.60      0.59       216\n",
      "\n"
     ]
    }
   ],
   "source": [
    "print(classification_report(test_y_sr, preds, target_names= ['non-hit', 'hit']))"
   ]
  },
  {
   "cell_type": "markdown",
   "metadata": {
    "id": "Kbl4QBQviSsZ"
   },
   "source": [
    "### Mô hình k-NN"
   ]
  },
  {
   "cell_type": "markdown",
   "metadata": {
    "id": "KVSt9r6yGFBj"
   },
   "source": [
    "Với mô hình k-NN ta sẽ tiến hành thử nghiệm với siêu tham số `n_neighbors` thuộc các giá trị [3, 9, 27, 81, 243]"
   ]
  },
  {
   "cell_type": "code",
   "execution_count": 79,
   "metadata": {
    "colab": {
     "base_uri": "https://localhost:8080/",
     "height": 196
    },
    "id": "NdoPymC3iUxG",
    "outputId": "717053b8-dc14-4741-ac12-55e0940ad5dd"
   },
   "outputs": [
    {
     "data": {
      "text/html": [
       "<style>#sk-7d63b0e4-f1a9-4bfb-8075-7e3ab9ff383a {color: black;background-color: white;}#sk-7d63b0e4-f1a9-4bfb-8075-7e3ab9ff383a pre{padding: 0;}#sk-7d63b0e4-f1a9-4bfb-8075-7e3ab9ff383a div.sk-toggleable {background-color: white;}#sk-7d63b0e4-f1a9-4bfb-8075-7e3ab9ff383a label.sk-toggleable__label {cursor: pointer;display: block;width: 100%;margin-bottom: 0;padding: 0.2em 0.3em;box-sizing: border-box;text-align: center;}#sk-7d63b0e4-f1a9-4bfb-8075-7e3ab9ff383a div.sk-toggleable__content {max-height: 0;max-width: 0;overflow: hidden;text-align: left;background-color: #f0f8ff;}#sk-7d63b0e4-f1a9-4bfb-8075-7e3ab9ff383a div.sk-toggleable__content pre {margin: 0.2em;color: black;border-radius: 0.25em;background-color: #f0f8ff;}#sk-7d63b0e4-f1a9-4bfb-8075-7e3ab9ff383a input.sk-toggleable__control:checked~div.sk-toggleable__content {max-height: 200px;max-width: 100%;overflow: auto;}#sk-7d63b0e4-f1a9-4bfb-8075-7e3ab9ff383a div.sk-estimator input.sk-toggleable__control:checked~label.sk-toggleable__label {background-color: #d4ebff;}#sk-7d63b0e4-f1a9-4bfb-8075-7e3ab9ff383a div.sk-label input.sk-toggleable__control:checked~label.sk-toggleable__label {background-color: #d4ebff;}#sk-7d63b0e4-f1a9-4bfb-8075-7e3ab9ff383a input.sk-hidden--visually {border: 0;clip: rect(1px 1px 1px 1px);clip: rect(1px, 1px, 1px, 1px);height: 1px;margin: -1px;overflow: hidden;padding: 0;position: absolute;width: 1px;}#sk-7d63b0e4-f1a9-4bfb-8075-7e3ab9ff383a div.sk-estimator {font-family: monospace;background-color: #f0f8ff;margin: 0.25em 0.25em;border: 1px dotted black;border-radius: 0.25em;box-sizing: border-box;}#sk-7d63b0e4-f1a9-4bfb-8075-7e3ab9ff383a div.sk-estimator:hover {background-color: #d4ebff;}#sk-7d63b0e4-f1a9-4bfb-8075-7e3ab9ff383a div.sk-parallel-item::after {content: \"\";width: 100%;border-bottom: 1px solid gray;flex-grow: 1;}#sk-7d63b0e4-f1a9-4bfb-8075-7e3ab9ff383a div.sk-label:hover label.sk-toggleable__label {background-color: #d4ebff;}#sk-7d63b0e4-f1a9-4bfb-8075-7e3ab9ff383a div.sk-serial::before {content: \"\";position: absolute;border-left: 1px solid gray;box-sizing: border-box;top: 2em;bottom: 0;left: 50%;}#sk-7d63b0e4-f1a9-4bfb-8075-7e3ab9ff383a div.sk-serial {display: flex;flex-direction: column;align-items: center;background-color: white;}#sk-7d63b0e4-f1a9-4bfb-8075-7e3ab9ff383a div.sk-item {z-index: 1;}#sk-7d63b0e4-f1a9-4bfb-8075-7e3ab9ff383a div.sk-parallel {display: flex;align-items: stretch;justify-content: center;background-color: white;}#sk-7d63b0e4-f1a9-4bfb-8075-7e3ab9ff383a div.sk-parallel-item {display: flex;flex-direction: column;position: relative;background-color: white;}#sk-7d63b0e4-f1a9-4bfb-8075-7e3ab9ff383a div.sk-parallel-item:first-child::after {align-self: flex-end;width: 50%;}#sk-7d63b0e4-f1a9-4bfb-8075-7e3ab9ff383a div.sk-parallel-item:last-child::after {align-self: flex-start;width: 50%;}#sk-7d63b0e4-f1a9-4bfb-8075-7e3ab9ff383a div.sk-parallel-item:only-child::after {width: 0;}#sk-7d63b0e4-f1a9-4bfb-8075-7e3ab9ff383a div.sk-dashed-wrapped {border: 1px dashed gray;margin: 0.2em;box-sizing: border-box;padding-bottom: 0.1em;background-color: white;position: relative;}#sk-7d63b0e4-f1a9-4bfb-8075-7e3ab9ff383a div.sk-label label {font-family: monospace;font-weight: bold;background-color: white;display: inline-block;line-height: 1.2em;}#sk-7d63b0e4-f1a9-4bfb-8075-7e3ab9ff383a div.sk-label-container {position: relative;z-index: 2;text-align: center;}#sk-7d63b0e4-f1a9-4bfb-8075-7e3ab9ff383a div.sk-container {display: inline-block;position: relative;}</style><div id=\"sk-7d63b0e4-f1a9-4bfb-8075-7e3ab9ff383a\" class\"sk-top-container\"><div class=\"sk-container\"><div class=\"sk-item sk-dashed-wrapped\"><div class=\"sk-label-container\"><div class=\"sk-label sk-toggleable\"><input class=\"sk-toggleable__control sk-hidden--visually\" id=\"70d2e71a-8b88-4b73-b772-c6f7f7db3b64\" type=\"checkbox\" ><label class=\"sk-toggleable__label\" for=\"70d2e71a-8b88-4b73-b772-c6f7f7db3b64\">Pipeline</label><div class=\"sk-toggleable__content\"><pre>Pipeline(steps=[('pipeline',\n",
       "                 Pipeline(steps=[('dropextractlyrics', dropExtractLyrics()),\n",
       "                                 ('simpleimputer', SimpleImputer()),\n",
       "                                 ('standardscaler', StandardScaler())])),\n",
       "                ('kneighborsclassifier', KNeighborsClassifier())])</pre></div></div></div><div class=\"sk-serial\"><div class=\"sk-item\"><div class=\"sk-label-container\"><div class=\"sk-label sk-toggleable\"><input class=\"sk-toggleable__control sk-hidden--visually\" id=\"52acf857-c92a-4bf2-b193-489c843df817\" type=\"checkbox\" ><label class=\"sk-toggleable__label\" for=\"52acf857-c92a-4bf2-b193-489c843df817\">pipeline: Pipeline</label><div class=\"sk-toggleable__content\"><pre>Pipeline(steps=[('dropextractlyrics', dropExtractLyrics()),\n",
       "                ('simpleimputer', SimpleImputer()),\n",
       "                ('standardscaler', StandardScaler())])</pre></div></div></div><div class=\"sk-serial\"><div class=\"sk-item\"><div class=\"sk-estimator sk-toggleable\"><input class=\"sk-toggleable__control sk-hidden--visually\" id=\"6ba929ac-94ba-47bf-961b-655ebbc71f31\" type=\"checkbox\" ><label class=\"sk-toggleable__label\" for=\"6ba929ac-94ba-47bf-961b-655ebbc71f31\">dropExtractLyrics</label><div class=\"sk-toggleable__content\"><pre>dropExtractLyrics()</pre></div></div></div><div class=\"sk-item\"><div class=\"sk-estimator sk-toggleable\"><input class=\"sk-toggleable__control sk-hidden--visually\" id=\"bc4af0d4-7ae3-4dd6-ab21-307aca57186d\" type=\"checkbox\" ><label class=\"sk-toggleable__label\" for=\"bc4af0d4-7ae3-4dd6-ab21-307aca57186d\">SimpleImputer</label><div class=\"sk-toggleable__content\"><pre>SimpleImputer()</pre></div></div></div><div class=\"sk-item\"><div class=\"sk-estimator sk-toggleable\"><input class=\"sk-toggleable__control sk-hidden--visually\" id=\"ab295c3e-b9dc-402a-b867-8a2db9ffa988\" type=\"checkbox\" ><label class=\"sk-toggleable__label\" for=\"ab295c3e-b9dc-402a-b867-8a2db9ffa988\">StandardScaler</label><div class=\"sk-toggleable__content\"><pre>StandardScaler()</pre></div></div></div></div></div><div class=\"sk-item\"><div class=\"sk-estimator sk-toggleable\"><input class=\"sk-toggleable__control sk-hidden--visually\" id=\"6fec8842-8c2f-4467-b2c7-94977cf9760a\" type=\"checkbox\" ><label class=\"sk-toggleable__label\" for=\"6fec8842-8c2f-4467-b2c7-94977cf9760a\">KNeighborsClassifier</label><div class=\"sk-toggleable__content\"><pre>KNeighborsClassifier()</pre></div></div></div></div></div></div></div>"
      ],
      "text/plain": [
       "Pipeline(steps=[('pipeline',\n",
       "                 Pipeline(steps=[('dropextractlyrics', dropExtractLyrics()),\n",
       "                                 ('simpleimputer', SimpleImputer()),\n",
       "                                 ('standardscaler', StandardScaler())])),\n",
       "                ('kneighborsclassifier', KNeighborsClassifier())])"
      ]
     },
     "execution_count": 79,
     "metadata": {},
     "output_type": "execute_result"
    }
   ],
   "source": [
    "full_pipeline5 = make_pipeline(preprocess_pipeline, KNeighborsClassifier())\n",
    "full_pipeline5"
   ]
  },
  {
   "cell_type": "code",
   "execution_count": 80,
   "metadata": {
    "id": "UxTINq6Em0Tw"
   },
   "outputs": [],
   "source": [
    "scores = []\n",
    "num_neighbors = [3, 9, 27, 81, 243]\n",
    "for num in num_neighbors:\n",
    "    full_pipeline5.set_params(kneighborsclassifier__n_neighbors = num)\n",
    "    scores.append(cross_val_score(full_pipeline5, train_X_df, train_y_sr, cv = 5))"
   ]
  },
  {
   "cell_type": "code",
   "execution_count": 81,
   "metadata": {
    "colab": {
     "base_uri": "https://localhost:8080/",
     "height": 265
    },
    "id": "lVvx7Td4px0L",
    "outputId": "616c4e80-76c8-4d15-b825-97dcf12b193c"
   },
   "outputs": [
    {
     "data": {
      "image/png": "[encoded data removed]",
      "text/plain": [
       "<Figure size 432x288 with 1 Axes>"
      ]
     },
     "metadata": {
      "needs_background": "light"
     },
     "output_type": "display_data"
    }
   ],
   "source": [
    "errors = [(1-i)*100 for i in scores]\n",
    "errors = [i.mean() for i in errors]\n",
    "errors_df = pd.Series(errors, index = num_neighbors).plot.barh();"
   ]
  },
  {
   "cell_type": "code",
   "execution_count": 82,
   "metadata": {
    "colab": {
     "base_uri": "https://localhost:8080/"
    },
    "id": "kQ-6vntdiJZE",
    "outputId": "4f42cfe0-75d3-4c7e-998a-35af12f6746c"
   },
   "outputs": [
    {
     "data": {
      "text/plain": [
       "[43.17530946804952,\n",
       " 37.942790230846434,\n",
       " 35.89929742388759,\n",
       " 35.1592505854801,\n",
       " 35.322850451656066]"
      ]
     },
     "execution_count": 82,
     "metadata": {},
     "output_type": "execute_result"
    }
   ],
   "source": [
    "errors"
   ]
  },
  {
   "cell_type": "markdown",
   "metadata": {
    "id": "uMWkJPvGIrgo"
   },
   "source": [
    "Ta thấy mô hình cho độ lỗi nhỏ nhất là 35.16% với `n_neighbors = 81`, ta sẽ sử dụng mô hình này để dự đoán trên tập test."
   ]
  },
  {
   "cell_type": "code",
   "execution_count": 84,
   "metadata": {
    "colab": {
     "base_uri": "https://localhost:8080/",
     "height": 196
    },
    "id": "wvKVhhTYJhcz",
    "outputId": "b13034d3-ddc1-47dd-9413-dd7445686826"
   },
   "outputs": [
    {
     "data": {
      "text/html": [
       "<style>#sk-01ceb115-c27e-45db-b4b8-bb4a2443b459 {color: black;background-color: white;}#sk-01ceb115-c27e-45db-b4b8-bb4a2443b459 pre{padding: 0;}#sk-01ceb115-c27e-45db-b4b8-bb4a2443b459 div.sk-toggleable {background-color: white;}#sk-01ceb115-c27e-45db-b4b8-bb4a2443b459 label.sk-toggleable__label {cursor: pointer;display: block;width: 100%;margin-bottom: 0;padding: 0.2em 0.3em;box-sizing: border-box;text-align: center;}#sk-01ceb115-c27e-45db-b4b8-bb4a2443b459 div.sk-toggleable__content {max-height: 0;max-width: 0;overflow: hidden;text-align: left;background-color: #f0f8ff;}#sk-01ceb115-c27e-45db-b4b8-bb4a2443b459 div.sk-toggleable__content pre {margin: 0.2em;color: black;border-radius: 0.25em;background-color: #f0f8ff;}#sk-01ceb115-c27e-45db-b4b8-bb4a2443b459 input.sk-toggleable__control:checked~div.sk-toggleable__content {max-height: 200px;max-width: 100%;overflow: auto;}#sk-01ceb115-c27e-45db-b4b8-bb4a2443b459 div.sk-estimator input.sk-toggleable__control:checked~label.sk-toggleable__label {background-color: #d4ebff;}#sk-01ceb115-c27e-45db-b4b8-bb4a2443b459 div.sk-label input.sk-toggleable__control:checked~label.sk-toggleable__label {background-color: #d4ebff;}#sk-01ceb115-c27e-45db-b4b8-bb4a2443b459 input.sk-hidden--visually {border: 0;clip: rect(1px 1px 1px 1px);clip: rect(1px, 1px, 1px, 1px);height: 1px;margin: -1px;overflow: hidden;padding: 0;position: absolute;width: 1px;}#sk-01ceb115-c27e-45db-b4b8-bb4a2443b459 div.sk-estimator {font-family: monospace;background-color: #f0f8ff;margin: 0.25em 0.25em;border: 1px dotted black;border-radius: 0.25em;box-sizing: border-box;}#sk-01ceb115-c27e-45db-b4b8-bb4a2443b459 div.sk-estimator:hover {background-color: #d4ebff;}#sk-01ceb115-c27e-45db-b4b8-bb4a2443b459 div.sk-parallel-item::after {content: \"\";width: 100%;border-bottom: 1px solid gray;flex-grow: 1;}#sk-01ceb115-c27e-45db-b4b8-bb4a2443b459 div.sk-label:hover label.sk-toggleable__label {background-color: #d4ebff;}#sk-01ceb115-c27e-45db-b4b8-bb4a2443b459 div.sk-serial::before {content: \"\";position: absolute;border-left: 1px solid gray;box-sizing: border-box;top: 2em;bottom: 0;left: 50%;}#sk-01ceb115-c27e-45db-b4b8-bb4a2443b459 div.sk-serial {display: flex;flex-direction: column;align-items: center;background-color: white;}#sk-01ceb115-c27e-45db-b4b8-bb4a2443b459 div.sk-item {z-index: 1;}#sk-01ceb115-c27e-45db-b4b8-bb4a2443b459 div.sk-parallel {display: flex;align-items: stretch;justify-content: center;background-color: white;}#sk-01ceb115-c27e-45db-b4b8-bb4a2443b459 div.sk-parallel-item {display: flex;flex-direction: column;position: relative;background-color: white;}#sk-01ceb115-c27e-45db-b4b8-bb4a2443b459 div.sk-parallel-item:first-child::after {align-self: flex-end;width: 50%;}#sk-01ceb115-c27e-45db-b4b8-bb4a2443b459 div.sk-parallel-item:last-child::after {align-self: flex-start;width: 50%;}#sk-01ceb115-c27e-45db-b4b8-bb4a2443b459 div.sk-parallel-item:only-child::after {width: 0;}#sk-01ceb115-c27e-45db-b4b8-bb4a2443b459 div.sk-dashed-wrapped {border: 1px dashed gray;margin: 0.2em;box-sizing: border-box;padding-bottom: 0.1em;background-color: white;position: relative;}#sk-01ceb115-c27e-45db-b4b8-bb4a2443b459 div.sk-label label {font-family: monospace;font-weight: bold;background-color: white;display: inline-block;line-height: 1.2em;}#sk-01ceb115-c27e-45db-b4b8-bb4a2443b459 div.sk-label-container {position: relative;z-index: 2;text-align: center;}#sk-01ceb115-c27e-45db-b4b8-bb4a2443b459 div.sk-container {display: inline-block;position: relative;}</style><div id=\"sk-01ceb115-c27e-45db-b4b8-bb4a2443b459\" class\"sk-top-container\"><div class=\"sk-container\"><div class=\"sk-item sk-dashed-wrapped\"><div class=\"sk-label-container\"><div class=\"sk-label sk-toggleable\"><input class=\"sk-toggleable__control sk-hidden--visually\" id=\"8db85cff-5fe1-4a98-9ec7-26429ec4b21c\" type=\"checkbox\" ><label class=\"sk-toggleable__label\" for=\"8db85cff-5fe1-4a98-9ec7-26429ec4b21c\">Pipeline</label><div class=\"sk-toggleable__content\"><pre>Pipeline(steps=[('pipeline',\n",
       "                 Pipeline(steps=[('dropextractlyrics', dropExtractLyrics()),\n",
       "                                 ('simpleimputer', SimpleImputer()),\n",
       "                                 ('standardscaler', StandardScaler())])),\n",
       "                ('kneighborsclassifier', KNeighborsClassifier(n_neighbors=81))])</pre></div></div></div><div class=\"sk-serial\"><div class=\"sk-item\"><div class=\"sk-label-container\"><div class=\"sk-label sk-toggleable\"><input class=\"sk-toggleable__control sk-hidden--visually\" id=\"b5a57e25-4297-436e-81f0-52c3a46b1fbf\" type=\"checkbox\" ><label class=\"sk-toggleable__label\" for=\"b5a57e25-4297-436e-81f0-52c3a46b1fbf\">pipeline: Pipeline</label><div class=\"sk-toggleable__content\"><pre>Pipeline(steps=[('dropextractlyrics', dropExtractLyrics()),\n",
       "                ('simpleimputer', SimpleImputer()),\n",
       "                ('standardscaler', StandardScaler())])</pre></div></div></div><div class=\"sk-serial\"><div class=\"sk-item\"><div class=\"sk-estimator sk-toggleable\"><input class=\"sk-toggleable__control sk-hidden--visually\" id=\"3ba8e430-3650-466d-bf0a-de280e066b55\" type=\"checkbox\" ><label class=\"sk-toggleable__label\" for=\"3ba8e430-3650-466d-bf0a-de280e066b55\">dropExtractLyrics</label><div class=\"sk-toggleable__content\"><pre>dropExtractLyrics()</pre></div></div></div><div class=\"sk-item\"><div class=\"sk-estimator sk-toggleable\"><input class=\"sk-toggleable__control sk-hidden--visually\" id=\"6d19ca4d-e572-4fe8-9c79-229ef21f952f\" type=\"checkbox\" ><label class=\"sk-toggleable__label\" for=\"6d19ca4d-e572-4fe8-9c79-229ef21f952f\">SimpleImputer</label><div class=\"sk-toggleable__content\"><pre>SimpleImputer()</pre></div></div></div><div class=\"sk-item\"><div class=\"sk-estimator sk-toggleable\"><input class=\"sk-toggleable__control sk-hidden--visually\" id=\"8bf4e7f9-baaf-40c3-baf2-68e0dceb083a\" type=\"checkbox\" ><label class=\"sk-toggleable__label\" for=\"8bf4e7f9-baaf-40c3-baf2-68e0dceb083a\">StandardScaler</label><div class=\"sk-toggleable__content\"><pre>StandardScaler()</pre></div></div></div></div></div><div class=\"sk-item\"><div class=\"sk-estimator sk-toggleable\"><input class=\"sk-toggleable__control sk-hidden--visually\" id=\"7202898d-8eb0-4cba-9a83-9120b63378ec\" type=\"checkbox\" ><label class=\"sk-toggleable__label\" for=\"7202898d-8eb0-4cba-9a83-9120b63378ec\">KNeighborsClassifier</label><div class=\"sk-toggleable__content\"><pre>KNeighborsClassifier(n_neighbors=81)</pre></div></div></div></div></div></div></div>"
      ],
      "text/plain": [
       "Pipeline(steps=[('pipeline',\n",
       "                 Pipeline(steps=[('dropextractlyrics', dropExtractLyrics()),\n",
       "                                 ('simpleimputer', SimpleImputer()),\n",
       "                                 ('standardscaler', StandardScaler())])),\n",
       "                ('kneighborsclassifier', KNeighborsClassifier(n_neighbors=81))])"
      ]
     },
     "execution_count": 84,
     "metadata": {},
     "output_type": "execute_result"
    }
   ],
   "source": [
    "trainvalid_errors.append(min(errors))\n",
    "n_neighbors_best = num_neighbors[np.argmin(errors)]\n",
    "full_pipeline5.set_params(kneighborsclassifier__n_neighbors = n_neighbors_best)"
   ]
  },
  {
   "cell_type": "code",
   "execution_count": 87,
   "metadata": {
    "colab": {
     "base_uri": "https://localhost:8080/"
    },
    "id": "ZYNHXu6ZJzkP",
    "outputId": "7cf486a1-83c7-41aa-e097-9ef2d2bc2fc3"
   },
   "outputs": [
    {
     "name": "stdout",
     "output_type": "stream",
     "text": [
      "35.64814814814815\n"
     ]
    }
   ],
   "source": [
    "full_pipeline5.fit(train_X_df, train_y_sr)\n",
    "preds = full_pipeline5.predict(test_X_df)\n",
    "error = (1 - accuracy_score(test_y_sr, preds)) * 100\n",
    "test_errors.append(error)\n",
    "print(error)"
   ]
  },
  {
   "cell_type": "markdown",
   "metadata": {
    "id": "vqopOCoDJHWC"
   },
   "source": [
    "Trên tập test, mô hình cũng cho độ lỗi tương tự: 35.65%"
   ]
  },
  {
   "cell_type": "code",
   "execution_count": 88,
   "metadata": {
    "colab": {
     "base_uri": "https://localhost:8080/"
    },
    "id": "FS1vb4b-J0Aq",
    "outputId": "12c71960-72e5-45b5-bbc4-915bd310c4d5"
   },
   "outputs": [
    {
     "name": "stdout",
     "output_type": "stream",
     "text": [
      "              precision    recall  f1-score   support\n",
      "\n",
      "     non-hit       0.65      0.99      0.78       140\n",
      "         hit       0.00      0.00      0.00        76\n",
      "\n",
      "    accuracy                           0.64       216\n",
      "   macro avg       0.32      0.50      0.39       216\n",
      "weighted avg       0.42      0.64      0.51       216\n",
      "\n"
     ]
    }
   ],
   "source": [
    "print(classification_report(test_y_sr, preds, target_names= ['non-hit', 'hit']))"
   ]
  },
  {
   "cell_type": "markdown",
   "metadata": {
    "id": "wnL1X2jUvEc7"
   },
   "source": [
    "### Tổng kết"
   ]
  },
  {
   "cell_type": "code",
   "execution_count": 109,
   "metadata": {
    "colab": {
     "base_uri": "https://localhost:8080/",
     "height": 458
    },
    "id": "AFtFWcj0vwJ5",
    "outputId": "738826b2-fdf2-44be-d872-97b8874ce710"
   },
   "outputs": [
    {
     "data": {
      "image/png": "[encoded data removed]",
      "text/plain": [
       "<Figure size 1440x504 with 2 Axes>"
      ]
     },
     "metadata": {
      "needs_background": "light"
     },
     "output_type": "display_data"
    }
   ],
   "source": [
    "fig, (axs1, axs2) = plt.subplots(1, 2, figsize=(20,7))\n",
    "models = ['MLPClassifier', 'LogisticRegression', 'Random Forest', 'Naive Bayes', 'k-NN']\n",
    "axs1.bar(models, trainvalid_errors, color = 'c')\n",
    "axs1.set_title('Train & Valid  Errors')\n",
    "axs1.set_xlabel('Models')\n",
    "axs1.set_ylabel('Errors')\n",
    "\n",
    "axs2.bar(models, test_errors, color = 'm')\n",
    "axs2.set_title('Test  Errors')\n",
    "axs2.set_xlabel('Models')\n",
    "axs2.set_ylabel('Errors');"
   ]
  },
  {
   "cell_type": "markdown",
   "metadata": {
    "id": "ErG_1QTUM4N3"
   },
   "source": [
    "Thông qua 2 biểu đồ trên, ta có thể thấy cả 5 mô hình đều không hoạt động tốt trên cả dữ liệu train và test. Có lẽ do lý do khách quan là dữ liệu huấn luyện vẫn còn khá ít. \n",
    "- Mô hình Naive Bayes cho ra độ lỗi lớn nhất trong cả 2 tập: (train+valid) và tập test.\n",
    "- Các mô hình còn lại cho ra độ lỗi khá tương tự nhau ~35 %"
   ]
  },
  {
   "cell_type": "markdown",
   "metadata": {
    "id": "Epdtbl7rcZf-"
   },
   "source": [
    "## Ý tưởng cải tiến"
   ]
  },
  {
   "cell_type": "markdown",
   "metadata": {
    "id": "xvfGuDXbcboO"
   },
   "source": [
    "Có thể thấy các mô hình cho ra kết quả khá thấp. Nếu nhóm có nhiều thời gian hơn, nhóm sẽ thực hiện các phương pháp sau để cải thiện mô hình:\n",
    "- Thu thập nhiều dữ liệu hơn: \n",
    "    - Mở rộng phạm vi tìm kiếm dữ liệu, từ việc chỉ xét đến những bài hát xuất hiện trên bảng xếp hạng cuối năm Billboard Hot 100. Thì ta có thể mở ra \"toàn bộ\" (nhiều nhất có thể) những bài hát của năm đó và những bài hát xuất hiện ở trong bảng xếp hạng thì sẽ được xem là đáng nghe.\n",
    "    - Hiện tại, trong giai đoạn thu thập dữ liệu từ Spotify và Genius nhóm sử dụng thuần API từ 2 website này. Tuy nhiên, trong lúc sử dụng Search API để tìm kiếm bài hát trên 2 nền tảng này thì không phải lúc nào API cũng trả về kết quả như mong muốn. Do đó, khi mở rộng phạm vi tìm kiếm dữ liệu có lẽ nhóm sẽ chuyển sang sử dụng một số thư viện Python từ bên thứ 3 để hỗ trợ cho việc lấy dữ liệu: `spotipy` và `lyricsgenius`\n",
    "\n",
    "- Làm nhiều điều hơn với dữ liệu lời bài hát:\n",
    "    - Hiện tại, thì từ lời bài hát nhóm chỉ sử dụng những thông tin như: chỉ số tích cực/trung lập/tiêu cực, cũng như sự xuất hiện của một số từ xuất hiện nhiều nhất trong tập huấn luyện.\n",
    "    - Tuy nhiên, từ lời bài hát ta có thể làm được nhiều điều hơn như rút trích ra chủ đề chính của bài hát. Một bài hát xuất hiện trên bảng xếp hạng có thể do bài hát đó có chủ đề liên quan tới một trong những chủ đề nóng nhất của năm tương ứng??\n",
    "\n",
    "- Thử nghiệm với nhiều mô hình phức tạp hơn: DNN,..."
   ]
  }
 ],
 "metadata": {
  "accelerator": "GPU",
  "colab": {
   "collapsed_sections": [],
   "name": "intro2ds - final project.ipynb",
   "provenance": [],
   "toc_visible": true
  },
  "kernelspec": {
   "display_name": "Python 3 (ipykernel)",
   "language": "python",
   "name": "python3"
  },
  "language_info": {
   "codemirror_mode": {
    "name": "ipython",
    "version": 3
   },
   "file_extension": ".py",
   "mimetype": "text/x-python",
   "name": "python",
   "nbconvert_exporter": "python",
   "pygments_lexer": "ipython3",
   "version": "3.8.8"
  }
 },
 "nbformat": 4,
 "nbformat_minor": 1
}
